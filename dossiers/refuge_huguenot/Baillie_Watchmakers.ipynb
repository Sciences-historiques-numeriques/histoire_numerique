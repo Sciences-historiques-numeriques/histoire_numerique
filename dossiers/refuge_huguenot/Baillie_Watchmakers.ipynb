{
 "cells": [
  {
   "cell_type": "code",
   "execution_count": null,
   "id": "departmental-swift",
   "metadata": {},
   "outputs": [],
   "source": []
  },
  {
   "cell_type": "markdown",
   "id": "noted-brighton",
   "metadata": {},
   "source": [
    "# Introduction\n",
    "Utiliser l'environnement par défaut Python 3 (pour FB:  py37text)"
   ]
  },
  {
   "cell_type": "markdown",
   "id": "opened-nurse",
   "metadata": {},
   "source": [
    "## Importer les librairies nécessaires"
   ]
  },
  {
   "cell_type": "code",
   "execution_count": 1,
   "id": "acting-survival",
   "metadata": {},
   "outputs": [],
   "source": [
    "import pprint, re, os\n",
    "#import xml.etree.ElementTree as ET\n",
    "from lxml import etree as etree\n",
    "#import docx"
   ]
  },
  {
   "cell_type": "code",
   "execution_count": 2,
   "id": "buried-sierra",
   "metadata": {},
   "outputs": [],
   "source": [
    "import pandas as pd\n",
    "import matplotlib as plt"
   ]
  },
  {
   "cell_type": "code",
   "execution_count": null,
   "id": "dedicated-mistress",
   "metadata": {},
   "outputs": [],
   "source": []
  },
  {
   "cell_type": "code",
   "execution_count": null,
   "id": "persistent-newcastle",
   "metadata": {},
   "outputs": [],
   "source": []
  },
  {
   "cell_type": "code",
   "execution_count": 134,
   "id": "corporate-vietnamese",
   "metadata": {},
   "outputs": [],
   "source": [
    "file_path = '/Volumes/Patientia/Documents_2/Reproductions/Zotero_pieces_jointes/Baillie_Watchmakers/only_watchmakers_fragment.xhtml'\n",
    "# file_path = '/Volumes/Patientia/Documents_2/Reproductions/Zotero_pieces_jointes/Baillie_Watchmakers/only_watchmakers.xhtml'"
   ]
  },
  {
   "cell_type": "code",
   "execution_count": 135,
   "id": "round-thomson",
   "metadata": {},
   "outputs": [],
   "source": [
    "file = etree.parse(file_path)\n",
    "# type(file)"
   ]
  },
  {
   "cell_type": "code",
   "execution_count": 136,
   "id": "weekly-thanksgiving",
   "metadata": {},
   "outputs": [],
   "source": [
    "paragraphs =  file.xpath('//p')"
   ]
  },
  {
   "cell_type": "code",
   "execution_count": 137,
   "id": "senior-gnome",
   "metadata": {},
   "outputs": [
    {
     "data": {
      "text/plain": [
       "39"
      ]
     },
     "execution_count": 137,
     "metadata": {},
     "output_type": "execute_result"
    }
   ],
   "source": [
    "len(paragraphs)"
   ]
  },
  {
   "cell_type": "code",
   "execution_count": 167,
   "id": "surrounded-catalog",
   "metadata": {},
   "outputs": [
    {
     "name": "stdout",
     "output_type": "stream",
     "text": [
      "Philip. a.1724.\n",
      "Peter. 1740.\n"
     ]
    }
   ],
   "source": [
    "name = ''\n",
    "place= ''\n",
    "result = []\n",
    "for p in paragraphs:  #[:1]:\n",
    "    line = []\n",
    "    output = ''\n",
    "    # print(dir(p))\n",
    "    if p.xpath('./b'):\n",
    "        name = p.xpath('./b/text()')\n",
    "        clean_name = ','.join([n.replace(',','').replace('.','').replace('—','') for n in name])\n",
    "    else:\n",
    "        pass\n",
    "    \n",
    "    \n",
    "    if p.xpath('./i'):\n",
    "        place = p.xpath('./i/text()')\n",
    "    else:\n",
    "        place = ''\n",
    "    \n",
    "    clean_text = ''.join([i.strip() for i in p.xpath('./text()')]).replace('..','.').replace('.,','.')\n",
    "    \n",
    "    if len(clean_text) > 1:        \n",
    "        output = clean_name\n",
    "        output += ' '\n",
    "        output += clean_text\n",
    "        # print(output)\n",
    "        line.append(output[:output.index(\".\")].strip())\n",
    "        line.append(output[output.index(\".\")+1:].strip())\n",
    "\n",
    "        #print(set(','.join([p.strip() for p in place]).split(',')))\n",
    "        line.append(list(set(','.join([p.strip() for p in place]).split(','))))\n",
    "        \n",
    "        try:\n",
    "            # print(re.search('[0-9]{4}', clean_text).group())\n",
    "            line.append(re.search('[0-9]{4}', clean_text).group())\n",
    "        except:\n",
    "            try:\n",
    "                #print(int(str(int((re.search('[0-9]{2}', clean_text).group()))-1)+'50'))\n",
    "                line.append(int(str(int((re.search('[0-9]{2}', clean_text).group()))-1)+'50'))\n",
    "            except:\n",
    "                pass\n",
    "        \n",
    "        \n",
    "        line.append(clean_name)\n",
    "        \n",
    "        try:\n",
    "            line.append(clean_text[:clean_text.index(\".\")].strip())  \n",
    "        except:\n",
    "            pass\n",
    "            \n",
    "        \n",
    "        try:\n",
    "            son_of = clean_text.split(\"son of \")[1].strip()\n",
    "            print(son_of)\n",
    "            try:\n",
    "                line.append(son_of.split(\".\")[0].strip())\n",
    "            except:\n",
    "                line.append(son_of)\n",
    "                    \n",
    "            \n",
    "        except:\n",
    "            line.append('')\n",
    "        \n",
    "        \n",
    "        \n",
    "    else:\n",
    "        pass\n",
    "\n",
    "    \n",
    "        \n",
    "        \n",
    "    if len(line) > 0:\n",
    "        result.append(line)\n",
    "        \n",
    "        \n",
    "        \n",
    "        # print(line)"
   ]
  },
  {
   "cell_type": "code",
   "execution_count": 168,
   "id": "intense-lounge",
   "metadata": {},
   "outputs": [
    {
     "data": {
      "text/plain": [
       "35"
      ]
     },
     "execution_count": 168,
     "metadata": {},
     "output_type": "execute_result"
    }
   ],
   "source": [
    "len(result)"
   ]
  },
  {
   "cell_type": "code",
   "execution_count": 169,
   "id": "normal-dating",
   "metadata": {},
   "outputs": [
    {
     "data": {
      "text/plain": [
       "[['ABBOTT Philip',\n",
       "  'a.1695, CC.1703-33. l.c. red lacquer clock Weth. coll.',\n",
       "  ['London'],\n",
       "  '1695',\n",
       "  'ABBOTT',\n",
       "  'Philip',\n",
       "  ''],\n",
       " ['ABBOTT Peter',\n",
       "  'a.1709, CC.1719.',\n",
       "  ['London'],\n",
       "  '1709',\n",
       "  'ABBOTT',\n",
       "  'Peter',\n",
       "  ''],\n",
       " ['ABBOTT John', '1703.', ['London'], '1703', 'ABBOTT', 'John', ''],\n",
       " ['ABBOTT William',\n",
       "  'Early 18c. l.c. clock.',\n",
       "  ['Sarson'],\n",
       "  1750,\n",
       "  'ABBOTT',\n",
       "  'William',\n",
       "  ''],\n",
       " ['ABBOTT Thomas',\n",
       "  'a.1718, CC.1740.',\n",
       "  ['London'],\n",
       "  '1718',\n",
       "  'ABBOTT',\n",
       "  'Thomas',\n",
       "  ''],\n",
       " ['ABBOTT John, son of Philip',\n",
       "  'a.1724.',\n",
       "  ['London'],\n",
       "  '1724',\n",
       "  'ABBOTT',\n",
       "  'John, son of Philip',\n",
       "  'Philip'],\n",
       " ['ABBOTT John, son of Peter',\n",
       "  '1740.',\n",
       "  ['London'],\n",
       "  '1740',\n",
       "  'ABBOTT',\n",
       "  'John, son of Peter',\n",
       "  'Peter'],\n",
       " ['ABBOTT John',\n",
       "  '1787. C. Arrested for making agreement to work in Petersburg.',\n",
       "  ['London'],\n",
       "  '1787',\n",
       "  'ABBOTT',\n",
       "  'John',\n",
       "  ''],\n",
       " ['ABBOTT John Q',\n",
       "  'CC.1788-1800. l.c. clocks.',\n",
       "  ['London'],\n",
       "  '1788',\n",
       "  'ABBOTT',\n",
       "  'John Q',\n",
       "  ''],\n",
       " ['ABBOTT William',\n",
       "  '1790-5. W.',\n",
       "  ['Prescot'],\n",
       "  '1790',\n",
       "  'ABBOTT',\n",
       "  'William',\n",
       "  ''],\n",
       " ['ABBOTT Thomas',\n",
       "  '1808-20. Watch mt.maker.',\n",
       "  ['London'],\n",
       "  '1808',\n",
       "  'ABBOTT',\n",
       "  'Thomas',\n",
       "  ''],\n",
       " ['ABBOTT John', '1813. W.', ['Manchester'], '1813', 'ABBOTT', 'John', ''],\n",
       " ['ABBOTT Francis',\n",
       "  '1825-40. Pub. book on management of public clocks.',\n",
       "  ['Manchester'],\n",
       "  '1825',\n",
       "  'ABBOTT',\n",
       "  'Francis',\n",
       "  ''],\n",
       " ['ABBY George', '1805-07. W.', ['Liverpool'], '1805', 'ABBY', 'George', ''],\n",
       " ['ABDY William', '1768-90.', ['London'], '1768', 'ABDY', 'William', ''],\n",
       " ['ABEL Peter Michael',\n",
       "  'm.1747.',\n",
       "  ['Copenhagen'],\n",
       "  '1747',\n",
       "  'ABEL',\n",
       "  'Peter Michael',\n",
       "  ''],\n",
       " ['ABEL Peter, son',\n",
       "  'a.1766.',\n",
       "  ['Copenhagen'],\n",
       "  '1766',\n",
       "  'ABEL',\n",
       "  'Peter, son',\n",
       "  ''],\n",
       " ['ABELING (ABELLING) William',\n",
       "  '1817-40. br. clock.',\n",
       "  ['London'],\n",
       "  '1817',\n",
       "  'ABELING (ABELLING)',\n",
       "  'William',\n",
       "  ''],\n",
       " ['ABERCROMBIE James',\n",
       "  '1730.',\n",
       "  ['Aberdeen'],\n",
       "  '1730',\n",
       "  'ABERCROMBIE',\n",
       "  'James',\n",
       "  ''],\n",
       " ['ÅBERG Daniel',\n",
       "  '1760. d.ca.1780. 2 watches, one Nord. M.',\n",
       "  ['Norrköping'],\n",
       "  '1760',\n",
       "  'ÅBERG',\n",
       "  'Daniel',\n",
       "  ''],\n",
       " ['ÅBERG Jonas',\n",
       "  'b.1760, d.1826.2 watches.',\n",
       "  ['Norrköping'],\n",
       "  '1760',\n",
       "  'ÅBERG',\n",
       "  'Jonas',\n",
       "  ''],\n",
       " ['ÅBERG Petter',\n",
       "  '1799. d.ca.1817. Watch.',\n",
       "  ['Linköping'],\n",
       "  '1799',\n",
       "  'ÅBERG',\n",
       "  'Petter',\n",
       "  ''],\n",
       " ['ABERLEY Joseph', 'a.1664.', ['London'], '1664', 'ABERLEY', 'Joseph', ''],\n",
       " ['ABILLAN Etienne', '1617-29.', ['Blois'], '1617', 'ABILLAN', 'Etienne', ''],\n",
       " ['ABLITT John', 'm.1819. Watch.', ['Ipswich'], '1819', 'ABLITT', 'John', '']]"
      ]
     },
     "execution_count": 169,
     "metadata": {},
     "output_type": "execute_result"
    }
   ],
   "source": [
    "result[10:100]"
   ]
  },
  {
   "cell_type": "code",
   "execution_count": null,
   "id": "floating-dance",
   "metadata": {},
   "outputs": [],
   "source": []
  },
  {
   "cell_type": "code",
   "execution_count": null,
   "id": "orange-happening",
   "metadata": {},
   "outputs": [],
   "source": []
  }
 ],
 "metadata": {
  "kernelspec": {
   "display_name": "py37text",
   "language": "python",
   "name": "py37text"
  },
  "language_info": {
   "codemirror_mode": {
    "name": "ipython",
    "version": 3
   },
   "file_extension": ".py",
   "mimetype": "text/x-python",
   "name": "python",
   "nbconvert_exporter": "python",
   "pygments_lexer": "ipython3",
   "version": "3.7.3"
  }
 },
 "nbformat": 4,
 "nbformat_minor": 5
}
