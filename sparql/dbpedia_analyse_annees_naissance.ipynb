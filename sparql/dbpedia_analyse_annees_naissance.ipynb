{
 "cells": [
  {
   "cell_type": "markdown",
   "id": "adapted-aerospace",
   "metadata": {},
   "source": [
    "# Analyse des années de naissance"
   ]
  },
  {
   "cell_type": "code",
   "execution_count": 1,
   "id": "intensive-position",
   "metadata": {},
   "outputs": [],
   "source": [
    "from SPARQLWrapper import SPARQLWrapper, SPARQLWrapper2, JSON, TURTLE, XML, RDFXML\n",
    "import pandas as pd\n",
    "import matplotlib.pyplot as plt"
   ]
  },
  {
   "cell_type": "code",
   "execution_count": 2,
   "id": "local-provision",
   "metadata": {},
   "outputs": [],
   "source": [
    "import pprint\n",
    "import csv\n",
    "import ast\n",
    "import re\n",
    "\n",
    "from collections import Counter\n",
    "from operator import itemgetter\n",
    "\n",
    "import sqlite3 as sql\n",
    "import time\n",
    "\n",
    "from importlib import reload\n",
    "from shutil import copyfile"
   ]
  },
  {
   "cell_type": "code",
   "execution_count": 3,
   "id": "informed-kernel",
   "metadata": {},
   "outputs": [],
   "source": [
    "### Importer un module de fonctions crée ad hoc\n",
    "## ATTENTION : le fichier 'sparql_functions.py' doit se trouver \n",
    "#   dans le même dossier que le présent carnet Jupyter afin que l'importation\n",
    "#   fonctionne correctement\n",
    "import sparql_functions as spqf"
   ]
  },
  {
   "cell_type": "code",
   "execution_count": 4,
   "id": "instrumental-blanket",
   "metadata": {},
   "outputs": [
    {
     "data": {
      "text/plain": [
       "<module 'sparql_functions' from '/Volumes/Patientia/python_notebooks/sciences_historiques_numeriques/histoire_numerique/sparql/sparql_functions.py'>"
      ]
     },
     "execution_count": 4,
     "metadata": {},
     "output_type": "execute_result"
    }
   ],
   "source": [
    "### Recharger le module après modification des fonctions dans le fichier du module\n",
    "# désactivé #  \n",
    "reload(spqf)"
   ]
  },
  {
   "cell_type": "code",
   "execution_count": null,
   "id": "tough-lawrence",
   "metadata": {},
   "outputs": [],
   "source": []
  },
  {
   "cell_type": "markdown",
   "id": "developing-greece",
   "metadata": {},
   "source": [
    "# Distribution dans le temps de la naissance des économistes de DBPedia"
   ]
  },
  {
   "cell_type": "markdown",
   "id": "moved-think",
   "metadata": {},
   "source": [
    "## Analyser les propriétés année ou date de naissance stockées dans la base SQLite\n",
    "\n",
    "\n",
    "La logique de regroupement: GROUP BY \n",
    "\n",
    "* https://www.sqlitetutorial.net/sqlite-group-by/\n",
    "* https://www.tutorialspoint.com/sqlite/sqlite_group_by.htm\n",
    "\n"
   ]
  },
  {
   "cell_type": "markdown",
   "id": "adequate-industry",
   "metadata": {},
   "source": [
    "### Récupérer les propriétés "
   ]
  },
  {
   "cell_type": "code",
   "execution_count": 4,
   "id": "split-registration",
   "metadata": {},
   "outputs": [],
   "source": [
    "db = 'data/sparql_queries.db'"
   ]
  },
  {
   "cell_type": "code",
   "execution_count": 19,
   "id": "regulation-prison",
   "metadata": {
    "scrolled": true,
    "tags": []
   },
   "outputs": [
    {
     "name": "stdout",
     "output_type": "stream",
     "text": [
      "3843\n"
     ]
    },
    {
     "data": {
      "text/plain": [
       "[(',1941-02-21,,1941-02-21',\n",
       "  'http://dbpedia.org/resource/Laurel_Lunt_Prussing',\n",
       "  4),\n",
       " ('1952-05-27,Tokyo Japan,1952-05-27,Tokyo Japan',\n",
       "  'http://dbpedia.org/resource/Makoto_Yano',\n",
       "  4),\n",
       " (',1940-09-03,,1940-09-03',\n",
       "  'http://dbpedia.org/resource/Robert_J._Gordon',\n",
       "  4),\n",
       " ('1899-01-17,1899,1899-01-17',\n",
       "  'http://dbpedia.org/resource/Abram_Lincoln_Harris',\n",
       "  3),\n",
       " ('1954-06-26,1954,1954-06-26',\n",
       "  'http://dbpedia.org/resource/Akpan_Hogan_Ekpo',\n",
       "  3)]"
      ]
     },
     "execution_count": 19,
     "metadata": {},
     "output_type": "execute_result"
    }
   ],
   "source": [
    "### Inspecter le résultat d'une requête après insertion, une fois l'insert ci-dessus effectué\n",
    "\n",
    "\n",
    "# noter la logique du regroupement : résultat souhaité = une ligne par personne (URI)\n",
    "\n",
    "query = \"\"\"\n",
    "SELECT GROUP_CONCAT(value), uri_entity, count(*) as eff\n",
    "FROM property p\n",
    "WHERE p.property LIKE '%birthD%' OR p.property LIKE '%birthY%'\n",
    "GROUP BY uri_entity\n",
    "ORDER BY eff DESC ;\n",
    "\n",
    "\"\"\"\n",
    "\n",
    "# connnexion à la base de données\n",
    "cn = sql.connect(db)\n",
    "c = cn.cursor()\n",
    "\n",
    "### exécuter la requëte sur la base de donées SQLite pour récupérer les valeurs que contient la ligne\n",
    "c.execute(query)\n",
    "result_q = []\n",
    "result_q = c.fetchall()\n",
    "\n",
    "# fermer la connexion\n",
    "cn.close()\n",
    "print(len(result_q))\n",
    "result_q[:5]"
   ]
  },
  {
   "cell_type": "code",
   "execution_count": null,
   "id": "olympic-steps",
   "metadata": {
    "scrolled": true,
    "tags": []
   },
   "outputs": [],
   "source": [
    "### inspecter le résultat\n",
    "ldn = [l[0] for l in result_q]\n",
    "print(len(ldn))\n",
    "ldn.sort()\n",
    "ldn[:50]"
   ]
  },
  {
   "cell_type": "markdown",
   "id": "palestinian-strength",
   "metadata": {},
   "source": [
    "### Expressions régulières (regex)\n",
    "\n",
    "###Documentation Python :\n",
    "* https://docs.python.org/3/library/re.html"
   ]
  },
  {
   "cell_type": "code",
   "execution_count": 20,
   "id": "virgin-guitar",
   "metadata": {},
   "outputs": [
    {
     "data": {
      "text/plain": [
       "3843"
      ]
     },
     "execution_count": 20,
     "metadata": {},
     "output_type": "execute_result"
    }
   ],
   "source": [
    "## extraire seulement les années\n",
    "listeDateNaiss = []\n",
    "annee = re.compile(r'\\d{4}')\n",
    "\n",
    "for l in result_q:\n",
    "    listeDateNaiss.append(annee.findall(l[0]))\n",
    "len(listeDateNaiss)"
   ]
  },
  {
   "cell_type": "code",
   "execution_count": 21,
   "id": "backed-occasion",
   "metadata": {},
   "outputs": [
    {
     "name": "stdout",
     "output_type": "stream",
     "text": [
      "3843\n",
      "3821\n"
     ]
    },
    {
     "data": {
      "text/plain": [
       "['0950', '1021', '1031', '1325', '1332']"
      ]
     },
     "execution_count": 21,
     "metadata": {},
     "output_type": "execute_result"
    }
   ],
   "source": [
    "print(len(listeDateNaiss))\n",
    "\n",
    "#choix de codage: si plusieurs années par personne, retenir la date inférieure\n",
    "anneeNaiss = [min(l) for l in listeDateNaiss if l]\n",
    "print(len(anneeNaiss))\n",
    "\n",
    "#trier\n",
    "anneeNaiss.sort()\n",
    "anneeNaiss[:5]"
   ]
  },
  {
   "cell_type": "code",
   "execution_count": 22,
   "id": "numerous-stability",
   "metadata": {},
   "outputs": [],
   "source": [
    "# codage: retenir seulement les dates supérieures à 1770, i.e. dès 1771\n",
    "listeAnnees = [int(a) for a in anneeNaiss if a > '1770']"
   ]
  },
  {
   "cell_type": "code",
   "execution_count": 23,
   "id": "fatal-oxygen",
   "metadata": {},
   "outputs": [
    {
     "name": "stdout",
     "output_type": "stream",
     "text": [
      "3752\n",
      "1771 1988\n"
     ]
    },
    {
     "data": {
      "text/plain": [
       "[1771, 1772, 1772, 1773, 1773]"
      ]
     },
     "execution_count": 23,
     "metadata": {},
     "output_type": "execute_result"
    }
   ],
   "source": [
    "### liste des années issues de la table 'property'\n",
    "listeAnnees.sort()\n",
    "print(len(listeAnnees))\n",
    "print(min(listeAnnees), max(listeAnnees))\n",
    "listeAnnees[:5]"
   ]
  },
  {
   "cell_type": "code",
   "execution_count": null,
   "id": "billion-branch",
   "metadata": {
    "scrolled": true,
    "tags": []
   },
   "outputs": [],
   "source": [
    "### Vérifier que la répétition de 1773 est bien correcte\n",
    "\n",
    "\n",
    "# ajout de la clause HAVING  qui travaille sur \n",
    "\n",
    "query = \"\"\"\n",
    "SELECT GROUP_CONCAT(value) valeur, uri_entity, count(*) as eff\n",
    "FROM property p\n",
    "WHERE p.property LIKE '%birthD%' OR p.property LIKE '%birthY%'\n",
    "GROUP BY uri_entity\n",
    "HAVING valeur like '%1773%'\n",
    "ORDER BY eff DESC ;\n",
    "\"\"\"\n",
    "\n",
    "# connnexion à la base de données\n",
    "cn = sql.connect(db)\n",
    "c = cn.cursor()\n",
    "\n",
    "### exécuter la requëte sur la base de donées SQLite pour récupérer les valeurs que contient la ligne\n",
    "c.execute(query)\n",
    "result_q = []\n",
    "result_q = c.fetchall()\n",
    "\n",
    "# fermer la connexion\n",
    "cn.close()\n",
    "print(len(result_q))\n",
    "result_q[:200]"
   ]
  },
  {
   "cell_type": "code",
   "execution_count": null,
   "id": "classified-crossing",
   "metadata": {},
   "outputs": [],
   "source": []
  },
  {
   "cell_type": "code",
   "execution_count": 24,
   "id": "official-mountain",
   "metadata": {},
   "outputs": [
    {
     "data": {
      "text/plain": [
       "0       1771\n",
       "1       1772\n",
       "2       1772\n",
       "3       1773\n",
       "4       1773\n",
       "        ... \n",
       "3747    1986\n",
       "3748    1987\n",
       "3749    1987\n",
       "3750    1987\n",
       "3751    1988\n",
       "Length: 3752, dtype: int64"
      ]
     },
     "execution_count": 24,
     "metadata": {},
     "output_type": "execute_result"
    }
   ],
   "source": [
    "seriesAnnees = pd.Series(listeAnnees)  # listeAnnees  listeAnneesSPARQL  int_lasp\n",
    "seriesAnnees"
   ]
  },
  {
   "cell_type": "code",
   "execution_count": 16,
   "id": "curious-wiring",
   "metadata": {},
   "outputs": [
    {
     "data": {
      "text/plain": [
       "count    3584.000000\n",
       "mean     1933.063337\n",
       "std        36.169295\n",
       "min      1771.000000\n",
       "25%      1922.000000\n",
       "50%      1944.000000\n",
       "75%      1956.000000\n",
       "max      1988.000000\n",
       "dtype: float64"
      ]
     },
     "execution_count": 16,
     "metadata": {},
     "output_type": "execute_result"
    }
   ],
   "source": [
    "### ATTENTION moyenne et écart type n'ont pas de sens dans ce contexte\n",
    "\n",
    "seriesAnnees.describe()"
   ]
  },
  {
   "cell_type": "code",
   "execution_count": 25,
   "id": "decent-sword",
   "metadata": {},
   "outputs": [
    {
     "data": {
      "text/html": [
       "<div>\n",
       "<style scoped>\n",
       "    .dataframe tbody tr th:only-of-type {\n",
       "        vertical-align: middle;\n",
       "    }\n",
       "\n",
       "    .dataframe tbody tr th {\n",
       "        vertical-align: top;\n",
       "    }\n",
       "\n",
       "    .dataframe thead th {\n",
       "        text-align: right;\n",
       "    }\n",
       "</style>\n",
       "<table border=\"1\" class=\"dataframe\">\n",
       "  <thead>\n",
       "    <tr style=\"text-align: right;\">\n",
       "      <th></th>\n",
       "      <th>annee</th>\n",
       "    </tr>\n",
       "  </thead>\n",
       "  <tbody>\n",
       "    <tr>\n",
       "      <th>0</th>\n",
       "      <td>1771</td>\n",
       "    </tr>\n",
       "    <tr>\n",
       "      <th>1</th>\n",
       "      <td>1772</td>\n",
       "    </tr>\n",
       "    <tr>\n",
       "      <th>2</th>\n",
       "      <td>1772</td>\n",
       "    </tr>\n",
       "    <tr>\n",
       "      <th>3</th>\n",
       "      <td>1773</td>\n",
       "    </tr>\n",
       "    <tr>\n",
       "      <th>4</th>\n",
       "      <td>1773</td>\n",
       "    </tr>\n",
       "    <tr>\n",
       "      <th>...</th>\n",
       "      <td>...</td>\n",
       "    </tr>\n",
       "    <tr>\n",
       "      <th>3747</th>\n",
       "      <td>1986</td>\n",
       "    </tr>\n",
       "    <tr>\n",
       "      <th>3748</th>\n",
       "      <td>1987</td>\n",
       "    </tr>\n",
       "    <tr>\n",
       "      <th>3749</th>\n",
       "      <td>1987</td>\n",
       "    </tr>\n",
       "    <tr>\n",
       "      <th>3750</th>\n",
       "      <td>1987</td>\n",
       "    </tr>\n",
       "    <tr>\n",
       "      <th>3751</th>\n",
       "      <td>1988</td>\n",
       "    </tr>\n",
       "  </tbody>\n",
       "</table>\n",
       "<p>3752 rows × 1 columns</p>\n",
       "</div>"
      ],
      "text/plain": [
       "      annee\n",
       "0      1771\n",
       "1      1772\n",
       "2      1772\n",
       "3      1773\n",
       "4      1773\n",
       "...     ...\n",
       "3747   1986\n",
       "3748   1987\n",
       "3749   1987\n",
       "3750   1987\n",
       "3751   1988\n",
       "\n",
       "[3752 rows x 1 columns]"
      ]
     },
     "execution_count": 25,
     "metadata": {},
     "output_type": "execute_result"
    }
   ],
   "source": [
    "df_annees = pd.DataFrame(seriesAnnees, columns = ['annee'])\n",
    "df_annees"
   ]
  },
  {
   "cell_type": "code",
   "execution_count": 26,
   "id": "hourly-spyware",
   "metadata": {},
   "outputs": [
    {
     "data": {
      "text/plain": [
       "<AxesSubplot:>"
      ]
     },
     "execution_count": 26,
     "metadata": {},
     "output_type": "execute_result"
    },
    {
     "data": {
      "image/png": "[encoded data removed]",
      "text/plain": [
       "<Figure size 1152x288 with 1 Axes>"
      ]
     },
     "metadata": {
      "needs_background": "light"
     },
     "output_type": "display_data"
    }
   ],
   "source": [
    "df_annees.boxplot(column=['annee'], vert=False, figsize=(16,4))"
   ]
  },
  {
   "cell_type": "code",
   "execution_count": null,
   "id": "invisible-exemption",
   "metadata": {},
   "outputs": [],
   "source": []
  },
  {
   "cell_type": "markdown",
   "id": "compact-dallas",
   "metadata": {},
   "source": [
    "## Tester le comportement des graphiques si les données sont lacunaires\n",
    "\n",
    "__Partie à finalité pédagogique à ne pas reproduire dans le carnet final !__"
   ]
  },
  {
   "cell_type": "code",
   "execution_count": 43,
   "id": "looking-atlantic",
   "metadata": {},
   "outputs": [
    {
     "data": {
      "text/plain": [
       "[1852, 1852, 1852, 1856, 1860, 1860, 1860, 1864, 1864, 1864]"
      ]
     },
     "execution_count": 43,
     "metadata": {},
     "output_type": "execute_result"
    }
   ],
   "source": [
    "### Grâce à l'opération modulo on ne retient que les années qui sont multiple de 4\n",
    "fakeList = [a for a in listeAnnees if a % 4 == 0]\n",
    "fakeList[10:20]"
   ]
  },
  {
   "cell_type": "code",
   "execution_count": 72,
   "id": "associate-bachelor",
   "metadata": {},
   "outputs": [
    {
     "data": {
      "text/plain": [
       "[(1808, 1),\n",
       " (1828, 1),\n",
       " (1840, 3),\n",
       " (1844, 3),\n",
       " (1848, 1),\n",
       " (1852, 4),\n",
       " (1856, 1),\n",
       " (1860, 3),\n",
       " (1864, 4),\n",
       " (1868, 3)]"
      ]
     },
     "execution_count": 72,
     "metadata": {},
     "output_type": "execute_result"
    }
   ],
   "source": [
    "# Compter les naissances par année, utilisation de la fonction Counter\n",
    "counterFakeListeAnnees = Counter(fakeList)\n",
    "groupedFakeListeAnnees = list(zip(counterFakeListeAnnees.keys(), counterFakeListeAnnees.values()))\n",
    "groupedFakeListeAnnees[:10]"
   ]
  },
  {
   "cell_type": "code",
   "execution_count": 45,
   "id": "presidential-shannon",
   "metadata": {},
   "outputs": [
    {
     "data": {
      "text/plain": [
       "[<matplotlib.lines.Line2D at 0x156c85a90>]"
      ]
     },
     "execution_count": 45,
     "metadata": {},
     "output_type": "execute_result"
    },
    {
     "data": {
      "image/png": "[encoded data removed]",
      "text/plain": [
       "<Figure size 1080x504 with 1 Axes>"
      ]
     },
     "metadata": {
      "needs_background": "light"
     },
     "output_type": "display_data"
    }
   ],
   "source": [
    "objects = [l[0] for l in groupedFakeListeAnnees]\n",
    "eff = [l[1] for l in groupedFakeListeAnnees]\n",
    "\n",
    "plt.figure(figsize=(15,7))\n",
    "plt.plot(objects, eff)"
   ]
  },
  {
   "cell_type": "code",
   "execution_count": 46,
   "id": "manufactured-monaco",
   "metadata": {},
   "outputs": [
    {
     "data": {
      "text/plain": [
       "<BarContainer object of 40 artists>"
      ]
     },
     "execution_count": 46,
     "metadata": {},
     "output_type": "execute_result"
    },
    {
     "data": {
      "image/png": "[encoded data removed]",
      "text/plain": [
       "<Figure size 1080x504 with 1 Axes>"
      ]
     },
     "metadata": {
      "needs_background": "light"
     },
     "output_type": "display_data"
    }
   ],
   "source": [
    "objects = [l[0] for l in groupedFakeListeAnnees]\n",
    "eff = [l[1] for l in groupedFakeListeAnnees]\n",
    "\n",
    "plt.figure(figsize=(15,7))\n",
    "plt.bar(objects, eff)"
   ]
  },
  {
   "cell_type": "code",
   "execution_count": 47,
   "id": "atmospheric-memphis",
   "metadata": {
    "scrolled": true
   },
   "outputs": [
    {
     "data": {
      "text/plain": [
       "[[1801, 0],\n",
       " [1802, 0],\n",
       " [1803, 0],\n",
       " [1804, 0],\n",
       " [1805, 0],\n",
       " [1806, 0],\n",
       " [1807, 0],\n",
       " [1808, 1],\n",
       " [1809, 0],\n",
       " [1810, 0],\n",
       " [1811, 0],\n",
       " [1812, 0],\n",
       " [1813, 0],\n",
       " [1814, 0],\n",
       " [1815, 0],\n",
       " [1816, 0],\n",
       " [1817, 0],\n",
       " [1818, 0],\n",
       " [1819, 0],\n",
       " [1820, 0],\n",
       " [1821, 0],\n",
       " [1822, 0],\n",
       " [1823, 0],\n",
       " [1824, 0],\n",
       " [1825, 0],\n",
       " [1826, 0],\n",
       " [1827, 0],\n",
       " [1828, 1],\n",
       " [1829, 0],\n",
       " [1830, 0],\n",
       " [1831, 0],\n",
       " [1832, 0],\n",
       " [1833, 0],\n",
       " [1834, 0],\n",
       " [1835, 0],\n",
       " [1836, 0],\n",
       " [1837, 0],\n",
       " [1838, 0],\n",
       " [1839, 0],\n",
       " [1840, 3]]"
      ]
     },
     "execution_count": 47,
     "metadata": {},
     "output_type": "execute_result"
    }
   ],
   "source": [
    "start = 1801\n",
    "end = 1992\n",
    "\n",
    "lYears = []\n",
    "year = start\n",
    "while year < end:\n",
    "    c = 0\n",
    "    for y in fakeList:\n",
    "        if y == year:\n",
    "            c += 1\n",
    "    lYears.append([year, c]) \n",
    "    year += 1\n",
    "lYears [:40]    "
   ]
  },
  {
   "cell_type": "code",
   "execution_count": 75,
   "id": "casual-mason",
   "metadata": {},
   "outputs": [
    {
     "data": {
      "text/plain": [
       "int"
      ]
     },
     "execution_count": 75,
     "metadata": {},
     "output_type": "execute_result"
    }
   ],
   "source": [
    "type(lYears[0][0])"
   ]
  },
  {
   "cell_type": "code",
   "execution_count": 41,
   "id": "occasional-chart",
   "metadata": {},
   "outputs": [
    {
     "data": {
      "text/plain": [
       "[1771, 1776, 1781, 1786, 1791, 1796, 1801, 1806, 1811, 1816]"
      ]
     },
     "execution_count": 41,
     "metadata": {},
     "output_type": "execute_result"
    }
   ],
   "source": [
    "l5Years = []\n",
    "start = 1771\n",
    "end = 1992\n",
    "\n",
    "l5Years = []\n",
    "year = start\n",
    "while year < end:\n",
    "    l5Years.append(year) \n",
    "    year += 5\n",
    "l5Years [:10]    "
   ]
  },
  {
   "cell_type": "code",
   "execution_count": 49,
   "id": "welcome-spectacular",
   "metadata": {},
   "outputs": [
    {
     "data": {
      "image/png": "[encoded data removed]",
      "text/plain": [
       "<Figure size 1152x576 with 1 Axes>"
      ]
     },
     "metadata": {
      "needs_background": "light"
     },
     "output_type": "display_data"
    }
   ],
   "source": [
    "# Distribution par année\n",
    "\n",
    "objects = [l[0] for l in lYears]\n",
    "eff = [l[1] for l in lYears]\n",
    "\n",
    "p1 = plt.bar(objects, eff)\n",
    "\n",
    "plt.xticks(l5Years)\n",
    "plt.ylabel('Effectif')\n",
    "plt.title('Naissances par année')\n",
    "plt.gcf().set_size_inches(16, 8)\n",
    "#plt.gca().axes.get_xaxis().set_visible(False)\n",
    "# supported formats: eps, pdf, pgf, png, ps, raw, rgba, svg, svgz\n",
    "#plt.savefig('exported_pictures/effectifs_naissances_par_annee.png', dpi=100, bbox_inches = \"tight\") #pdf, svg\n",
    "plt.xticks(rotation=45)\n",
    "plt.show()\n"
   ]
  },
  {
   "cell_type": "markdown",
   "id": "cutting-numbers",
   "metadata": {},
   "source": [
    "### Distribution des naissances par année et par période de 20 ans"
   ]
  },
  {
   "cell_type": "markdown",
   "id": "yellow-thumb",
   "metadata": {},
   "source": [
    "#### Regroupement des vraies valeurs par année"
   ]
  },
  {
   "cell_type": "code",
   "execution_count": 30,
   "id": "studied-planner",
   "metadata": {},
   "outputs": [],
   "source": [
    "# Compter les naissances par année\n",
    "counterListeAnnees = Counter(listeAnnees)\n",
    "groupedListeAnnees = list(zip(counterListeAnnees.keys(), counterListeAnnees.values()))"
   ]
  },
  {
   "cell_type": "code",
   "execution_count": 31,
   "id": "severe-silver",
   "metadata": {},
   "outputs": [
    {
     "data": {
      "text/plain": [
       "[(1861, 8),\n",
       " (1862, 6),\n",
       " (1863, 5),\n",
       " (1864, 5),\n",
       " (1865, 5),\n",
       " (1866, 8),\n",
       " (1867, 9),\n",
       " (1868, 4),\n",
       " (1869, 6),\n",
       " (1870, 7),\n",
       " (1871, 2),\n",
       " (1872, 6),\n",
       " (1873, 9),\n",
       " (1874, 11),\n",
       " (1875, 7)]"
      ]
     },
     "execution_count": 31,
     "metadata": {},
     "output_type": "execute_result"
    }
   ],
   "source": [
    "groupedListeAnnees[75:90]"
   ]
  },
  {
   "cell_type": "code",
   "execution_count": 32,
   "id": "faced-norway",
   "metadata": {},
   "outputs": [
    {
     "data": {
      "text/plain": [
       "[<matplotlib.lines.Line2D at 0x154b0ed90>]"
      ]
     },
     "execution_count": 32,
     "metadata": {},
     "output_type": "execute_result"
    },
    {
     "data": {
      "image/png": "[encoded data removed]",
      "text/plain": [
       "<Figure size 1080x504 with 1 Axes>"
      ]
     },
     "metadata": {
      "needs_background": "light"
     },
     "output_type": "display_data"
    }
   ],
   "source": [
    "objects = [l[0] for l in groupedListeAnnees]\n",
    "eff = [l[1] for l in groupedListeAnnees]\n",
    "\n",
    "plt.figure(figsize=(15,7))\n",
    "plt.plot(objects, eff)"
   ]
  },
  {
   "cell_type": "code",
   "execution_count": 42,
   "id": "coupled-casino",
   "metadata": {},
   "outputs": [
    {
     "data": {
      "image/png": "[encoded data removed]",
      "text/plain": [
       "<Figure size 1152x576 with 1 Axes>"
      ]
     },
     "metadata": {
      "needs_background": "light"
     },
     "output_type": "display_data"
    }
   ],
   "source": [
    "# Distribution par année\n",
    "\n",
    "objects = [l[0] for l in groupedListeAnnees]\n",
    "eff = [l[1] for l in groupedListeAnnees]\n",
    "\n",
    "p1 = plt.bar(objects, eff)\n",
    "\n",
    "plt.xticks(l5Years)\n",
    "plt.ylabel('Effectif')\n",
    "plt.title('Naissances par année')\n",
    "plt.gcf().set_size_inches(16, 8)\n",
    "#plt.gca().axes.get_xaxis().set_visible(False)\n",
    "# supported formats: eps, pdf, pgf, png, ps, raw, rgba, svg, svgz\n",
    "#plt.savefig('exported_pictures/effectifs_naissances_par_annee.png', dpi=100, bbox_inches = \"tight\") #pdf, svg\n",
    "plt.xticks(rotation=45)\n",
    "plt.show()\n"
   ]
  },
  {
   "cell_type": "markdown",
   "id": "nasty-albania",
   "metadata": {},
   "source": [
    "## Regroupement des valeurs par 20 ans - diagramme final"
   ]
  },
  {
   "cell_type": "code",
   "execution_count": 34,
   "id": "serious-routine",
   "metadata": {},
   "outputs": [],
   "source": [
    "### Créer la liste des périodes de 20 ans, i.e. la liste de la première année de chaque période\n",
    "d20List = []\n",
    "period = 20\n",
    "d_start = 1801\n",
    "i = 0\n",
    "d20List.append(d_start)\n",
    "\n",
    "while i < 10:\n",
    "    d_start = d_start + period\n",
    "    d20List.append(d_start)\n",
    "    i += 1"
   ]
  },
  {
   "cell_type": "code",
   "execution_count": 35,
   "id": "usual-utilization",
   "metadata": {},
   "outputs": [
    {
     "name": "stdout",
     "output_type": "stream",
     "text": [
      "[1801, 1821]\n"
     ]
    },
    {
     "data": {
      "text/plain": [
       "(1801, 2001)"
      ]
     },
     "execution_count": 35,
     "metadata": {},
     "output_type": "execute_result"
    }
   ],
   "source": [
    "print(d20List[:2])\n",
    "min(d20List), max(d20List)"
   ]
  },
  {
   "cell_type": "code",
   "execution_count": 36,
   "id": "casual-product",
   "metadata": {},
   "outputs": [],
   "source": [
    "# Regroupement par période de 20 ans\n",
    "i20List = []\n",
    "for i in d20List:\n",
    "    i_n = 0\n",
    "    for l in groupedListeAnnees:\n",
    "        if l[0] >= i and l[0] < (i + 20):\n",
    "            i_n = i_n + l[1]\n",
    "    i20List.append([i, i_n])        "
   ]
  },
  {
   "cell_type": "code",
   "execution_count": 37,
   "id": "surprised-significance",
   "metadata": {},
   "outputs": [
    {
     "data": {
      "text/plain": [
       "[1901, 339]"
      ]
     },
     "execution_count": 37,
     "metadata": {},
     "output_type": "execute_result"
    }
   ],
   "source": [
    "i20List[5]"
   ]
  },
  {
   "cell_type": "code",
   "execution_count": 38,
   "id": "early-diagram",
   "metadata": {},
   "outputs": [
    {
     "data": {
      "image/png": "[encoded data removed]",
      "text/plain": [
       "<Figure size 1152x576 with 1 Axes>"
      ]
     },
     "metadata": {
      "needs_background": "light"
     },
     "output_type": "display_data"
    },
    {
     "data": {
      "image/png": "[encoded data removed]",
      "text/plain": [
       "<Figure size 1152x288 with 1 Axes>"
      ]
     },
     "metadata": {
      "needs_background": "light"
     },
     "output_type": "display_data"
    }
   ],
   "source": [
    "# Distribution par période de 20 ans\n",
    "\n",
    "objects = [str(l[0]) for l in i20List]\n",
    "eff = [l[1] for l in i20List]\n",
    "\n",
    "p1 = plt.bar(objects, eff)\n",
    "\n",
    "plt.ylabel('Effectif')\n",
    "plt.title('Naissances par période de vingts ans')\n",
    "plt.gcf().set_size_inches(16, 8)\n",
    "# supported formats: eps, pdf, pgf, png, ps, raw, rgba, svg, svgz\n",
    "# plt.savefig('exported_pictures/effectifs_annees_reference_par_periode.png', dpi=100, bbox_inches = \"tight\") #pdf, svg\n",
    "plt.xticks(rotation=45)\n",
    "plt.show()\n",
    "\n",
    "pt = df_annees.boxplot(column=['annee'], vert=False, figsize=(16,4))\n",
    "### https://www.pythonprogramming.in/boxplot-adjust-bottom-and-left.html\n",
    "#ax = fig.add_subplot()\n",
    "plt.subplots_adjust(left=0.35) \n",
    "plt.show()"
   ]
  },
  {
   "cell_type": "code",
   "execution_count": null,
   "id": "collect-texas",
   "metadata": {},
   "outputs": [],
   "source": []
  },
  {
   "cell_type": "markdown",
   "id": "identical-reply",
   "metadata": {},
   "source": [
    "# Exploration interactive\n",
    "\n",
    "Partie exploratoire qui n'est pas partie du programme à réaliser par les étudiant-e-s"
   ]
  },
  {
   "cell_type": "code",
   "execution_count": 43,
   "id": "fresh-aging",
   "metadata": {
    "tags": []
   },
   "outputs": [
    {
     "data": {
      "text/plain": [
       "'    fixed,\\n    interactive, Button,\\n    HTML, Layout,GridspecLayout,\\n    Output, jslink,\\n     ColorPicker,\\n    Text, SelectionRangeSlider,\\n    FloatRangeSlider, SelectMultiple, Checkbox,\\n    VBox, HBox\\n'"
      ]
     },
     "execution_count": 43,
     "metadata": {},
     "output_type": "execute_result"
    }
   ],
   "source": [
    "### Instructions pour l'installation dans JupyterLab : \n",
    "# https://ipywidgets.readthedocs.io/en/latest/user_install.html#installing-in-jupyterlab-3-0\n",
    "# Utiliser idéalement JupyterLab 3.0\n",
    "\n",
    "from ipywidgets import (\n",
    "    interact, IntSlider,\n",
    "    interactive)\n",
    "\"\"\"    fixed,\n",
    "    interactive, Button,\n",
    "    HTML, Layout,GridspecLayout,\n",
    "    Output, jslink,\n",
    "     ColorPicker,\n",
    "    Text, SelectionRangeSlider,\n",
    "    FloatRangeSlider, SelectMultiple, Checkbox,\n",
    "    VBox, HBox\n",
    "\"\"\""
   ]
  },
  {
   "cell_type": "code",
   "execution_count": 44,
   "id": "composite-guitar",
   "metadata": {},
   "outputs": [],
   "source": [
    "### Create a list with intervals of 20 years, corresponding approximately to one generation.\n",
    "\n",
    "def create_years_list(period = 20, y_start = 1391, y_end = 1801):\n",
    "\n",
    "    y_list = []\n",
    "    y_list.append(y_start)\n",
    "\n",
    "    while y_start < y_end:\n",
    "        y_start += period\n",
    "        y_list.append(y_start)\n",
    "    return y_list    "
   ]
  },
  {
   "cell_type": "code",
   "execution_count": 45,
   "id": "humanitarian-income",
   "metadata": {},
   "outputs": [],
   "source": [
    "# Distribution by 10 years periods\n",
    "def interactive_periods(period=10):\n",
    "    \n",
    "    y_list = create_years_list(period = period, y_start = 1771, y_end = 2021)\n",
    "\n",
    "    i_list = []\n",
    "    for i in y_list:\n",
    "        i_n = 0\n",
    "        for y in listeAnnees:\n",
    "            if y >= i and y < (i + period):\n",
    "                i_n += 1\n",
    "        i_list.append([i, i_n]) \n",
    "\n",
    "    periods = [e[0] for e in i_list]\n",
    "    eff = [e[1] for e in i_list]\n",
    "\n",
    "    p1 = plt.bar(periods, eff, width= period - (period * 20 / 100))\n",
    "\n",
    "    plt.xticks([i - period / 2 for i in y_list])\n",
    "    plt.ylabel('Frequency')\n",
    "    plt.title('Births per '+ str(period) +' years')\n",
    "    plt.gcf().set_size_inches(14, 7)\n",
    "    #plt.gca().axes.get_xaxis().set_visible(False)\n",
    "    # supported formats: eps, pdf, pgf, png, ps, raw, rgba, svg, svgz\n",
    "    #plt.savefig('exported_pictures/effectifs_naissances_par_annee.png', dpi=100, bbox_inches = \"tight\") #pdf, svg\n",
    "    plt.xticks(rotation=45)\n",
    "    plt.show()\n"
   ]
  },
  {
   "cell_type": "code",
   "execution_count": 46,
   "id": "verbal-italy",
   "metadata": {},
   "outputs": [
    {
     "data": {
      "application/vnd.jupyter.widget-view+json": {
       "model_id": "74148a9bf012400b8224e3bb192fda3a",
       "version_major": 2,
       "version_minor": 0
      },
      "text/plain": [
       "interactive(children=(IntSlider(value=20, description='period', min=5, step=5), Output()), _dom_classes=('widg…"
      ]
     },
     "metadata": {},
     "output_type": "display_data"
    }
   ],
   "source": [
    "i = interact(interactive_periods, period=IntSlider(min=5, max=100, step=5, value=20))"
   ]
  },
  {
   "cell_type": "code",
   "execution_count": null,
   "id": "imposed-confusion",
   "metadata": {},
   "outputs": [],
   "source": []
  }
 ],
 "metadata": {
  "kernelspec": {
   "display_name": "Py 3.7 HN sparql",
   "language": "python",
   "name": "py37_hn_sparql"
  },
  "language_info": {
   "codemirror_mode": {
    "name": "ipython",
    "version": 3
   },
   "file_extension": ".py",
   "mimetype": "text/x-python",
   "name": "python",
   "nbconvert_exporter": "python",
   "pygments_lexer": "ipython3",
   "version": "3.7.10"
  }
 },
 "nbformat": 4,
 "nbformat_minor": 5
}
