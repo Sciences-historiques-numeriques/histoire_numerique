{
 "cells": [
  {
   "cell_type": "markdown",
   "id": "mobile-malta",
   "metadata": {},
   "source": [
    "# Analyse des lieux de naissance\n",
    "\n",
    "\n",
    "Les points à remarquer:\n",
    "* la part importante prise par le nettoyage des données (le codage présuppose un modèle)\n",
    "* les choix de la visualisation (le modèle produit par le logiciel de SIG)\n",
    "\n",
    "\n",
    "Les Systèmes d'Information Géographique (SIG):\n",
    "* [Système d'information géographique](https://fr.wikipedia.org/wiki/Syst%C3%A8me_d%27information_g%C3%A9ographique) (Wikipedia)\n",
    "* [Qu'est-ce qu'un SIG ?](https://www.unil.ch/gis/home/menuinst/introduction/quest-ce-quun-sig.html) (UNIL)\n",
    "* [Géoïde](https://fr.wikipedia.org/wiki/G%C3%A9o%C3%AFde) : la terre n'est pas sphérique\n",
    "* [WGS84](https://fr.wikipedia.org/wiki/WGS_84) : le système de coordonnées géographiques actuellement uilisé"
   ]
  },
  {
   "cell_type": "code",
   "execution_count": null,
   "id": "nutritional-orange",
   "metadata": {},
   "outputs": [],
   "source": []
  },
  {
   "cell_type": "code",
   "execution_count": 2,
   "id": "colonial-thirty",
   "metadata": {},
   "outputs": [],
   "source": [
    "from SPARQLWrapper import SPARQLWrapper, SPARQLWrapper2, JSON, TURTLE, XML, RDFXML\n",
    "import pandas as pd\n",
    "import matplotlib.pyplot as plt\n",
    "import numpy as np"
   ]
  },
  {
   "cell_type": "code",
   "execution_count": 3,
   "id": "abstract-spank",
   "metadata": {},
   "outputs": [],
   "source": [
    "import pprint\n",
    "import csv\n",
    "import ast\n",
    "import re\n",
    "\n",
    "from collections import Counter\n",
    "from operator import itemgetter\n",
    "\n",
    "import sqlite3 as sql\n",
    "import time\n",
    "\n",
    "from importlib import reload\n",
    "from shutil import copyfile\n",
    "\n",
    "import math"
   ]
  },
  {
   "cell_type": "code",
   "execution_count": 4,
   "id": "finite-lodge",
   "metadata": {},
   "outputs": [],
   "source": [
    "### Instructions pour l'installation dans JupyterLab : \n",
    "# https://ipywidgets.readthedocs.io/en/latest/user_install.html#installing-in-jupyterlab-3-0\n",
    "# Utiliser idéalement JupyterLab 3.0\n",
    "\n",
    "from ipywidgets import (\n",
    "    interact, IntSlider, Checkbox,\n",
    "    interactive, SelectMultiple,\n",
    "    SelectionRangeSlider, Layout,\n",
    "    jslink, fixed,\n",
    "    HTML, HBox)"
   ]
  },
  {
   "cell_type": "code",
   "execution_count": 5,
   "id": "chronic-think",
   "metadata": {},
   "outputs": [],
   "source": [
    "from ipyleaflet import (Map,\n",
    "                        Marker,\n",
    "                        basemap_to_tiles,\n",
    "                        basemaps,\n",
    "                        CircleMarker,\n",
    "                        MarkerCluster,\n",
    "                        LayerGroup, \n",
    "                        LayersControl,\n",
    "                        WidgetControl,\n",
    "                        Popup,\n",
    "                        ScaleControl\n",
    "                       )"
   ]
  },
  {
   "cell_type": "code",
   "execution_count": 6,
   "id": "subtle-factor",
   "metadata": {},
   "outputs": [],
   "source": [
    "### Importer un module de fonctions crée ad hoc\n",
    "## ATTENTION : le fichier 'sparql_functions.py' doit se trouver \n",
    "#   dans le même dossier que le présent carnet Jupyter afin que l'importation\n",
    "#   fonctionne correctement\n",
    "import sparql_functions as spqf"
   ]
  },
  {
   "cell_type": "code",
   "execution_count": 6,
   "id": "closing-blast",
   "metadata": {},
   "outputs": [
    {
     "data": {
      "text/plain": [
       "<module 'sparql_functions' from '/Volumes/Patientia/python_notebooks/sciences_historiques_numeriques/histoire_numerique/sparql/sparql_functions.py'>"
      ]
     },
     "execution_count": 6,
     "metadata": {},
     "output_type": "execute_result"
    }
   ],
   "source": [
    "### Recharger le module après modification des fonctions dans le fichier du module\n",
    "# désactivé #  \n",
    "reload(spqf)"
   ]
  },
  {
   "cell_type": "markdown",
   "id": "young-landscape",
   "metadata": {},
   "source": [
    "## Base de données"
   ]
  },
  {
   "cell_type": "code",
   "execution_count": 6,
   "id": "limiting-herald",
   "metadata": {},
   "outputs": [],
   "source": [
    "### Définir les adresses des fichiers, l'existant et celui à créer\n",
    "db = 'data/sparql_queries.db'"
   ]
  },
  {
   "cell_type": "code",
   "execution_count": 6,
   "id": "printable-arbor",
   "metadata": {},
   "outputs": [
    {
     "data": {
      "text/plain": [
       "'20210508_112546'"
      ]
     },
     "execution_count": 6,
     "metadata": {},
     "output_type": "execute_result"
    }
   ],
   "source": [
    "### Fonction qui récupère et met en forme le temps au moment de l'exécution\n",
    "\n",
    "# définition\n",
    "def timestamp_formatted_for_file_name():\n",
    "    is_now = time.strftime('%Y%m%d_%H%M%S')\n",
    "    return is_now\n",
    "\n",
    "# exécution\n",
    "timestamp_formatted_for_file_name()"
   ]
  },
  {
   "cell_type": "code",
   "execution_count": 8,
   "id": "damaged-wings",
   "metadata": {},
   "outputs": [],
   "source": [
    "##  Noter que la différence de suffixe, en soi totalement arbitraire, \n",
    "#  dépend du fait que dans la configuration de .gitignore, .sqlite est exclu du verisonnement GIT\n",
    "#  contrairement à .db qui est versionné\n",
    "timestamped_db_copy = 'data/sparql_queries_' + timestamp_formatted_for_file_name() + '.sqlite'"
   ]
  },
  {
   "cell_type": "code",
   "execution_count": 9,
   "id": "paperback-amazon",
   "metadata": {},
   "outputs": [
    {
     "data": {
      "text/plain": [
       "'data/sparql_queries_20210508_112559.sqlite'"
      ]
     },
     "execution_count": 9,
     "metadata": {},
     "output_type": "execute_result"
    }
   ],
   "source": [
    "### Créer une copie de sauvegarde avec timestamp du fichier (versionnement manuel)\n",
    "# ATTENTION : la base de données doit exister à l'endroit indiqué !\n",
    "## Cette requête n'est utile que si des modifications en écriture vont être apportées à la base de données,\n",
    "# afint de préserver le dernier état avant modification\n",
    "\n",
    "## Documentation:\n",
    "# https://docs.python.org/3/library/shutil.htmlcopied_db = copyfile(original_db, timestamped_db_copy)\n",
    "\n",
    "copied_db = copyfile(db, timestamped_db_copy)\n",
    "copied_db"
   ]
  },
  {
   "cell_type": "markdown",
   "id": "conventional-cathedral",
   "metadata": {},
   "source": [
    "# Explorer et coder les lieux de naissance\n",
    "\n",
    "\n",
    "Préparation des données (cf. le carnet dbpedia_production):\n",
    "\n",
    "* la requête 23 produit la liste des associations des économistes à leurs lieux de naissance (un ou plusieurs)\n",
    "* la requête 26 liste ces mêmes lieux de naissance dans une logique DISTINCT, c'est-à-dire une seule ligne par lieu et ajoute ces lieux en tant qu'entités\n",
    "* la requête 27 cherche les types de ces lieux de naissance afin de construire des filtres\n",
    "  * malheureusement les données DBPedia ne sont pas très propres, des types significatifs manquent, cf. query_1 qui montre que des types manquent, valeur 'None'\n",
    "  \n",
    "\n",
    "\n"
   ]
  },
  {
   "cell_type": "markdown",
   "id": "experimental-tribute",
   "metadata": {},
   "source": [
    "## Requêtes préliminaires\n",
    "\n",
    "* Inspecter, agréger, construire les données\n"
   ]
  },
  {
   "cell_type": "code",
   "execution_count": 7,
   "id": "ready-warehouse",
   "metadata": {},
   "outputs": [],
   "source": [
    "### Définir les adresses des fichiers, l'existant et celui à créer\n",
    "db = 'data/sparql_queries.db'"
   ]
  },
  {
   "cell_type": "code",
   "execution_count": 12,
   "id": "handmade-pierce",
   "metadata": {},
   "outputs": [],
   "source": [
    "### Vérifier si tous les lieux on un type\n",
    "query_1 =\"\"\"\n",
    "SELECT e.uri_entity, p.value \n",
    "FROM entity e LEFT JOIN property p ON p.uri_entity = e.uri_entity \n",
    "WHERE e.entity_class = 'https://dbpedia.org/ontology/Place';\n",
    "\"\"\""
   ]
  },
  {
   "cell_type": "code",
   "execution_count": 22,
   "id": "multiple-firewall",
   "metadata": {},
   "outputs": [],
   "source": [
    "### Combien de personnnes ont / n'ont pas un lieu de naissance renseigné : 3357 sur 6868 personnes ont un lieu de naissance\n",
    "query_2 =\"\"\"\n",
    "WITH TW1 AS (\n",
    "SELECT DISTINCT  e.uri_entity \n",
    "FROM entity e \n",
    "  LEFT JOIN property p ON p.uri_entity = e.uri_entity AND property LIKE '%BirthPlace%'\n",
    "WHERE e.entity_class = 'https://dbpedia.org/ontology/Person'\n",
    "AND p.value IS NOT NULL --IS NULL;\n",
    ")\n",
    "SELECT COUNT (*)\n",
    "FROM tw1;\n",
    "\"\"\""
   ]
  },
  {
   "cell_type": "markdown",
   "id": "supported-offering",
   "metadata": {},
   "source": [
    "## Explorer les types de lieux de naissance"
   ]
  },
  {
   "cell_type": "markdown",
   "id": "anonymous-truck",
   "metadata": {},
   "source": [
    "### Récupérer les données de la base de données"
   ]
  },
  {
   "cell_type": "code",
   "execution_count": 16,
   "id": "dependent-venice",
   "metadata": {},
   "outputs": [],
   "source": [
    "### Définir les adresses des fichiers, l'existant et celui à créer\n",
    "db = 'data/sparql_queries.db'"
   ]
  },
  {
   "cell_type": "code",
   "execution_count": 17,
   "id": "square-server",
   "metadata": {},
   "outputs": [],
   "source": [
    "### Liste des lieux avec types et coordonnées géographiques\n",
    "lieux = \"\"\"SELECT e.uri_entity, \n",
    "REPLACE(REPLACE(e.uri_entity, 'http://dbpedia.org/resource/', ''), '_', ' ') place_name, \n",
    "REPLACE(REPLACE(p.value, 'http://dbpedia.org/ontology/', ''), '_', ' ') place_type,\n",
    "p1.value longitude, p2.value latitude\n",
    "FROM entity e \n",
    "  LEFT JOIN property p ON p.uri_entity = e.uri_entity AND p.property LIKE '%type%'\n",
    "  LEFT JOIN property p1 ON p1.uri_entity = e.uri_entity AND p1.property LIKE '%long'\n",
    "  LEFT JOIN property p2 ON p2.uri_entity = e.uri_entity AND p2.property LIKE '%lat'\n",
    "WHERE e.entity_class = 'https://dbpedia.org/ontology/Place'\n",
    "--AND p.value IS NOT NULL   -- si décommmenté, élimine les lieux sans type\n",
    ";\"\"\""
   ]
  },
  {
   "cell_type": "code",
   "execution_count": 12,
   "id": "adjacent-supplement",
   "metadata": {
    "scrolled": true,
    "tags": []
   },
   "outputs": [
    {
     "name": "stdout",
     "output_type": "stream",
     "text": [
      "3179\n"
     ]
    },
    {
     "data": {
      "text/plain": [
       "[(\"http://dbpedia.org/resource/'s-Graveland\",\n",
       "  \"'s-Graveland\",\n",
       "  'Village',\n",
       "  '5.12111',\n",
       "  '52.2442'),\n",
       " ('http://dbpedia.org/resource/A_Coruña',\n",
       "  'A Coruña',\n",
       "  'City',\n",
       "  '-8.41',\n",
       "  '43.365'),\n",
       " ('http://dbpedia.org/resource/Aalen', 'Aalen', 'Town', '10.1', '48.8333'),\n",
       " ('http://dbpedia.org/resource/Aalsmeer',\n",
       "  'Aalsmeer',\n",
       "  'Town',\n",
       "  '4.75',\n",
       "  '52.2667')]"
      ]
     },
     "execution_count": 12,
     "metadata": {},
     "output_type": "execute_result"
    }
   ],
   "source": [
    "# connnexion à la base de données\n",
    "cn = sql.connect(db)\n",
    "c = cn.cursor()\n",
    "\n",
    "### exécuter la requëte sur la base de donées SQLite pour récupérer les valeurs que contient la ligne\n",
    "# attention au nom de la requête !\n",
    "c.execute(lieux)\n",
    "result_q = []\n",
    "result_q = c.fetchall()\n",
    "\n",
    "# fermer la connexion\n",
    "cn.close()\n",
    "print(len(result_q))\n",
    "result_q[:4]"
   ]
  },
  {
   "cell_type": "markdown",
   "id": "international-formula",
   "metadata": {},
   "source": [
    "### Types de lieux\n",
    "\n",
    "On remarque ci-dessous la diversité des types et l'incohérence dans les données renseignant avec des types différentes des lieux similaires.\n",
    "\n",
    "Cf. par ex. City et Town"
   ]
  },
  {
   "cell_type": "code",
   "execution_count": 13,
   "id": "surprising-closer",
   "metadata": {},
   "outputs": [
    {
     "data": {
      "text/html": [
       "<div>\n",
       "<style scoped>\n",
       "    .dataframe tbody tr th:only-of-type {\n",
       "        vertical-align: middle;\n",
       "    }\n",
       "\n",
       "    .dataframe tbody tr th {\n",
       "        vertical-align: top;\n",
       "    }\n",
       "\n",
       "    .dataframe thead th {\n",
       "        text-align: right;\n",
       "    }\n",
       "</style>\n",
       "<table border=\"1\" class=\"dataframe\">\n",
       "  <thead>\n",
       "    <tr style=\"text-align: right;\">\n",
       "      <th></th>\n",
       "      <th>uri</th>\n",
       "      <th>name</th>\n",
       "      <th>type</th>\n",
       "      <th>long</th>\n",
       "      <th>lat</th>\n",
       "    </tr>\n",
       "  </thead>\n",
       "  <tbody>\n",
       "    <tr>\n",
       "      <th>0</th>\n",
       "      <td>http://dbpedia.org/resource/'s-Graveland</td>\n",
       "      <td>'s-Graveland</td>\n",
       "      <td>Village</td>\n",
       "      <td>5.12111</td>\n",
       "      <td>52.2442</td>\n",
       "    </tr>\n",
       "    <tr>\n",
       "      <th>1</th>\n",
       "      <td>http://dbpedia.org/resource/A_Coruña</td>\n",
       "      <td>A Coruña</td>\n",
       "      <td>City</td>\n",
       "      <td>-8.41</td>\n",
       "      <td>43.365</td>\n",
       "    </tr>\n",
       "    <tr>\n",
       "      <th>2</th>\n",
       "      <td>http://dbpedia.org/resource/Aalen</td>\n",
       "      <td>Aalen</td>\n",
       "      <td>Town</td>\n",
       "      <td>10.1</td>\n",
       "      <td>48.8333</td>\n",
       "    </tr>\n",
       "    <tr>\n",
       "      <th>3</th>\n",
       "      <td>http://dbpedia.org/resource/Aalsmeer</td>\n",
       "      <td>Aalsmeer</td>\n",
       "      <td>Town</td>\n",
       "      <td>4.75</td>\n",
       "      <td>52.2667</td>\n",
       "    </tr>\n",
       "    <tr>\n",
       "      <th>4</th>\n",
       "      <td>http://dbpedia.org/resource/Aba,_Hungary</td>\n",
       "      <td>Aba, Hungary</td>\n",
       "      <td>Town</td>\n",
       "      <td>18.5233</td>\n",
       "      <td>47.0307</td>\n",
       "    </tr>\n",
       "    <tr>\n",
       "      <th>...</th>\n",
       "      <td>...</td>\n",
       "      <td>...</td>\n",
       "      <td>...</td>\n",
       "      <td>...</td>\n",
       "      <td>...</td>\n",
       "    </tr>\n",
       "    <tr>\n",
       "      <th>3174</th>\n",
       "      <td>http://dbpedia.org/resource/Šiauliai</td>\n",
       "      <td>Šiauliai</td>\n",
       "      <td>City</td>\n",
       "      <td>23.3167</td>\n",
       "      <td>55.9333</td>\n",
       "    </tr>\n",
       "    <tr>\n",
       "      <th>3175</th>\n",
       "      <td>http://dbpedia.org/resource/Šibenik</td>\n",
       "      <td>Šibenik</td>\n",
       "      <td>City</td>\n",
       "      <td>15.9167</td>\n",
       "      <td>43.7333</td>\n",
       "    </tr>\n",
       "    <tr>\n",
       "      <th>3176</th>\n",
       "      <td>http://dbpedia.org/resource/Šilutė_District_Mu...</td>\n",
       "      <td>Šilutė District Municipality</td>\n",
       "      <td>Town</td>\n",
       "      <td>21.4833</td>\n",
       "      <td>55.35</td>\n",
       "    </tr>\n",
       "    <tr>\n",
       "      <th>3177</th>\n",
       "      <td>http://dbpedia.org/resource/Štip</td>\n",
       "      <td>Štip</td>\n",
       "      <td>None</td>\n",
       "      <td>22.1936</td>\n",
       "      <td>41.7375</td>\n",
       "    </tr>\n",
       "    <tr>\n",
       "      <th>3178</th>\n",
       "      <td>http://dbpedia.org/resource/Żary</td>\n",
       "      <td>Żary</td>\n",
       "      <td>None</td>\n",
       "      <td>15.1333</td>\n",
       "      <td>51.6333</td>\n",
       "    </tr>\n",
       "  </tbody>\n",
       "</table>\n",
       "<p>3179 rows × 5 columns</p>\n",
       "</div>"
      ],
      "text/plain": [
       "                                                    uri  \\\n",
       "0              http://dbpedia.org/resource/'s-Graveland   \n",
       "1                  http://dbpedia.org/resource/A_Coruña   \n",
       "2                     http://dbpedia.org/resource/Aalen   \n",
       "3                  http://dbpedia.org/resource/Aalsmeer   \n",
       "4              http://dbpedia.org/resource/Aba,_Hungary   \n",
       "...                                                 ...   \n",
       "3174               http://dbpedia.org/resource/Šiauliai   \n",
       "3175                http://dbpedia.org/resource/Šibenik   \n",
       "3176  http://dbpedia.org/resource/Šilutė_District_Mu...   \n",
       "3177                   http://dbpedia.org/resource/Štip   \n",
       "3178                   http://dbpedia.org/resource/Żary   \n",
       "\n",
       "                              name     type     long      lat  \n",
       "0                     's-Graveland  Village  5.12111  52.2442  \n",
       "1                         A Coruña     City    -8.41   43.365  \n",
       "2                            Aalen     Town     10.1  48.8333  \n",
       "3                         Aalsmeer     Town     4.75  52.2667  \n",
       "4                     Aba, Hungary     Town  18.5233  47.0307  \n",
       "...                            ...      ...      ...      ...  \n",
       "3174                      Šiauliai     City  23.3167  55.9333  \n",
       "3175                       Šibenik     City  15.9167  43.7333  \n",
       "3176  Šilutė District Municipality     Town  21.4833    55.35  \n",
       "3177                          Štip     None  22.1936  41.7375  \n",
       "3178                          Żary     None  15.1333  51.6333  \n",
       "\n",
       "[3179 rows x 5 columns]"
      ]
     },
     "execution_count": 13,
     "metadata": {},
     "output_type": "execute_result"
    }
   ],
   "source": [
    "### Requête 'lieux' !!! \n",
    "# transformée en DataFrame\n",
    "df_lieux = pd.DataFrame(result_q, columns = ['uri', 'name', 'type', 'long', 'lat'])\n",
    "df_lieux"
   ]
  },
  {
   "cell_type": "code",
   "execution_count": 14,
   "id": "functioning-aquarium",
   "metadata": {},
   "outputs": [
    {
     "data": {
      "text/html": [
       "<div>\n",
       "<style scoped>\n",
       "    .dataframe tbody tr th:only-of-type {\n",
       "        vertical-align: middle;\n",
       "    }\n",
       "\n",
       "    .dataframe tbody tr th {\n",
       "        vertical-align: top;\n",
       "    }\n",
       "\n",
       "    .dataframe thead th {\n",
       "        text-align: right;\n",
       "    }\n",
       "</style>\n",
       "<table border=\"1\" class=\"dataframe\">\n",
       "  <thead>\n",
       "    <tr style=\"text-align: right;\">\n",
       "      <th></th>\n",
       "      <th>eff</th>\n",
       "    </tr>\n",
       "    <tr>\n",
       "      <th>type</th>\n",
       "      <th></th>\n",
       "    </tr>\n",
       "  </thead>\n",
       "  <tbody>\n",
       "    <tr>\n",
       "      <th>City</th>\n",
       "      <td>820</td>\n",
       "    </tr>\n",
       "    <tr>\n",
       "      <th>Country</th>\n",
       "      <td>473</td>\n",
       "    </tr>\n",
       "    <tr>\n",
       "      <th>AdministrativeRegion</th>\n",
       "      <td>309</td>\n",
       "    </tr>\n",
       "    <tr>\n",
       "      <th>Region</th>\n",
       "      <td>277</td>\n",
       "    </tr>\n",
       "    <tr>\n",
       "      <th>Town</th>\n",
       "      <td>257</td>\n",
       "    </tr>\n",
       "    <tr>\n",
       "      <th>Village</th>\n",
       "      <td>98</td>\n",
       "    </tr>\n",
       "    <tr>\n",
       "      <th>CityDistrict</th>\n",
       "      <td>17</td>\n",
       "    </tr>\n",
       "    <tr>\n",
       "      <th>SoccerClub</th>\n",
       "      <td>12</td>\n",
       "    </tr>\n",
       "    <tr>\n",
       "      <th>Island</th>\n",
       "      <td>8</td>\n",
       "    </tr>\n",
       "    <tr>\n",
       "      <th>ArchitecturalStructure</th>\n",
       "      <td>7</td>\n",
       "    </tr>\n",
       "    <tr>\n",
       "      <th>Infrastructure</th>\n",
       "      <td>3</td>\n",
       "    </tr>\n",
       "    <tr>\n",
       "      <th>MilitaryConflict</th>\n",
       "      <td>3</td>\n",
       "    </tr>\n",
       "    <tr>\n",
       "      <th>RouteOfTransportation</th>\n",
       "      <td>3</td>\n",
       "    </tr>\n",
       "    <tr>\n",
       "      <th>Road</th>\n",
       "      <td>3</td>\n",
       "    </tr>\n",
       "    <tr>\n",
       "      <th>Building</th>\n",
       "      <td>2</td>\n",
       "    </tr>\n",
       "    <tr>\n",
       "      <th>University</th>\n",
       "      <td>1</td>\n",
       "    </tr>\n",
       "    <tr>\n",
       "      <th>Organisation</th>\n",
       "      <td>1</td>\n",
       "    </tr>\n",
       "    <tr>\n",
       "      <th>PersonFunction</th>\n",
       "      <td>1</td>\n",
       "    </tr>\n",
       "    <tr>\n",
       "      <th>EducationalInstitution</th>\n",
       "      <td>1</td>\n",
       "    </tr>\n",
       "    <tr>\n",
       "      <th>Monument</th>\n",
       "      <td>1</td>\n",
       "    </tr>\n",
       "    <tr>\n",
       "      <th>MilitaryUnit</th>\n",
       "      <td>1</td>\n",
       "    </tr>\n",
       "    <tr>\n",
       "      <th>Agent</th>\n",
       "      <td>1</td>\n",
       "    </tr>\n",
       "    <tr>\n",
       "      <th>Hospital</th>\n",
       "      <td>1</td>\n",
       "    </tr>\n",
       "    <tr>\n",
       "      <th>MilitaryStructure</th>\n",
       "      <td>1</td>\n",
       "    </tr>\n",
       "  </tbody>\n",
       "</table>\n",
       "</div>"
      ],
      "text/plain": [
       "                        eff\n",
       "type                       \n",
       "City                    820\n",
       "Country                 473\n",
       "AdministrativeRegion    309\n",
       "Region                  277\n",
       "Town                    257\n",
       "Village                  98\n",
       "CityDistrict             17\n",
       "SoccerClub               12\n",
       "Island                    8\n",
       "ArchitecturalStructure    7\n",
       "Infrastructure            3\n",
       "MilitaryConflict          3\n",
       "RouteOfTransportation     3\n",
       "Road                      3\n",
       "Building                  2\n",
       "University                1\n",
       "Organisation              1\n",
       "PersonFunction            1\n",
       "EducationalInstitution    1\n",
       "Monument                  1\n",
       "MilitaryUnit              1\n",
       "Agent                     1\n",
       "Hospital                  1\n",
       "MilitaryStructure         1"
      ]
     },
     "execution_count": 14,
     "metadata": {},
     "output_type": "execute_result"
    }
   ],
   "source": [
    "### Regrouper par type de lieux et compter\n",
    "gb_lieux = pd.DataFrame(df_lieux.groupby('type').size())\n",
    "gb_lieux.columns = ['eff']\n",
    "gb_lieux.sort_values(by='eff', ascending=False)"
   ]
  },
  {
   "cell_type": "code",
   "execution_count": 420,
   "id": "affecting-laser",
   "metadata": {
    "scrolled": true,
    "tags": []
   },
   "outputs": [
    {
     "data": {
      "text/html": [
       "<div>\n",
       "<style scoped>\n",
       "    .dataframe tbody tr th:only-of-type {\n",
       "        vertical-align: middle;\n",
       "    }\n",
       "\n",
       "    .dataframe tbody tr th {\n",
       "        vertical-align: top;\n",
       "    }\n",
       "\n",
       "    .dataframe thead th {\n",
       "        text-align: right;\n",
       "    }\n",
       "</style>\n",
       "<table border=\"1\" class=\"dataframe\">\n",
       "  <thead>\n",
       "    <tr style=\"text-align: right;\">\n",
       "      <th></th>\n",
       "      <th>eff</th>\n",
       "    </tr>\n",
       "    <tr>\n",
       "      <th>type</th>\n",
       "      <th></th>\n",
       "    </tr>\n",
       "  </thead>\n",
       "  <tbody>\n",
       "    <tr>\n",
       "      <th></th>\n",
       "      <td>878</td>\n",
       "    </tr>\n",
       "    <tr>\n",
       "      <th>City</th>\n",
       "      <td>792</td>\n",
       "    </tr>\n",
       "    <tr>\n",
       "      <th>Country</th>\n",
       "      <td>395</td>\n",
       "    </tr>\n",
       "    <tr>\n",
       "      <th>Town</th>\n",
       "      <td>239</td>\n",
       "    </tr>\n",
       "    <tr>\n",
       "      <th>AdministrativeRegion,Region</th>\n",
       "      <td>198</td>\n",
       "    </tr>\n",
       "    <tr>\n",
       "      <th>Village</th>\n",
       "      <td>90</td>\n",
       "    </tr>\n",
       "    <tr>\n",
       "      <th>AdministrativeRegion,Country,Region</th>\n",
       "      <td>69</td>\n",
       "    </tr>\n",
       "    <tr>\n",
       "      <th>AdministrativeRegion</th>\n",
       "      <td>32</td>\n",
       "    </tr>\n",
       "    <tr>\n",
       "      <th>CityDistrict</th>\n",
       "      <td>15</td>\n",
       "    </tr>\n",
       "    <tr>\n",
       "      <th>City,Town</th>\n",
       "      <td>9</td>\n",
       "    </tr>\n",
       "  </tbody>\n",
       "</table>\n",
       "</div>"
      ],
      "text/plain": [
       "                                     eff\n",
       "type                                    \n",
       "                                     878\n",
       "City                                 792\n",
       "Country                              395\n",
       "Town                                 239\n",
       "AdministrativeRegion,Region          198\n",
       "Village                               90\n",
       "AdministrativeRegion,Country,Region   69\n",
       "AdministrativeRegion                  32\n",
       "CityDistrict                          15\n",
       "City,Town                              9"
      ]
     },
     "execution_count": 420,
     "metadata": {},
     "output_type": "execute_result"
    }
   ],
   "source": [
    "### Retrouper les types par lieux (plusieurs types pour un lieux) puis compter par groupe\n",
    "# inspecter les différentes typologies : laquelle retenir ?\n",
    "types_lieux = df_lieux.fillna(value='').groupby(['uri'])['type'].apply(','.join).reset_index()\n",
    "gb_types_lieux = pd.DataFrame(types_lieux.groupby('type').size())\n",
    "gb_types_lieux.columns = ['eff']\n",
    "gb_types_lieux.sort_values(by='eff', ascending=False).head(10)"
   ]
  },
  {
   "cell_type": "markdown",
   "id": "republican-graphics",
   "metadata": {},
   "source": [
    "## Obtenir un lieux par personne\n",
    "\n",
    "\n",
    "Afin de pouvoir représenter les lieux de naissance sur une carte, avec les effectifs des personnes, il est indispensable de nettoyer préalablement les données et de ne disposer, après nettoyage, que d'un lieu généférencé de naissance par personne.\n",
    "\n",
    "L'opération est assez délicate étant donné l'état incohérent des données produites automatiquement à partir de Wikipedia.\n",
    "\n"
   ]
  },
  {
   "cell_type": "code",
   "execution_count": 18,
   "id": "independent-despite",
   "metadata": {},
   "outputs": [],
   "source": [
    "### Liste complete: personne, lieu, type, coordonnées géo\n",
    "personnes_lieux_naissance = \"\"\"\n",
    "SELECT e.uri_entity, \n",
    "p4.value birth_year,\n",
    " REPLACE(REPLACE(p.value, 'http://dbpedia.org/resource/', ''), '_', ' ') place_name, \n",
    "REPLACE(p3.value, 'http://dbpedia.org/ontology/', '') place_type, \n",
    "p1.value longitude, p2.value latitude\n",
    "FROM entity e \n",
    "  LEFT JOIN property p ON p.uri_entity = e.uri_entity AND p.property LIKE '%BirthPlace%'\n",
    "  LEFT JOIN property p1 ON p1.uri_entity = p.value AND p1.property LIKE '%long'\n",
    "  LEFT JOIN property p2 ON p2.uri_entity = p.value AND p2.property LIKE '%lat'\n",
    "  LEFT JOIN property p3 ON p3.uri_entity = p.value AND p3.property LIKE '%type%'\n",
    "  LEFT JOIN property p4 ON p4.uri_entity = e.uri_entity AND p4.property LIKE '%irthYe%' AND p4.\"source\" LIKE '%8 mai 2021%'\n",
    "WHERE e.entity_class = 'https://dbpedia.org/ontology/Person'\n",
    "AND longitude IS NOT NULL;\n",
    "\"\"\""
   ]
  },
  {
   "cell_type": "code",
   "execution_count": 19,
   "id": "bright-retention",
   "metadata": {},
   "outputs": [
    {
     "data": {
      "text/html": [
       "<div>\n",
       "<style scoped>\n",
       "    .dataframe tbody tr th:only-of-type {\n",
       "        vertical-align: middle;\n",
       "    }\n",
       "\n",
       "    .dataframe tbody tr th {\n",
       "        vertical-align: top;\n",
       "    }\n",
       "\n",
       "    .dataframe thead th {\n",
       "        text-align: right;\n",
       "    }\n",
       "</style>\n",
       "<table border=\"1\" class=\"dataframe\">\n",
       "  <thead>\n",
       "    <tr style=\"text-align: right;\">\n",
       "      <th></th>\n",
       "      <th>uri_entity</th>\n",
       "      <th>birth_year</th>\n",
       "      <th>place_name</th>\n",
       "      <th>place_type</th>\n",
       "      <th>longitude</th>\n",
       "      <th>latitude</th>\n",
       "    </tr>\n",
       "  </thead>\n",
       "  <tbody>\n",
       "    <tr>\n",
       "      <th>0</th>\n",
       "      <td>http://dbpedia.org/resource/A._C._Cuza</td>\n",
       "      <td>1857</td>\n",
       "      <td>Iași</td>\n",
       "      <td>AdministrativeRegion</td>\n",
       "      <td>27.5903</td>\n",
       "      <td>47.1569</td>\n",
       "    </tr>\n",
       "    <tr>\n",
       "      <th>1</th>\n",
       "      <td>http://dbpedia.org/resource/A._C._Cuza</td>\n",
       "      <td>1857</td>\n",
       "      <td>Iași</td>\n",
       "      <td>Region</td>\n",
       "      <td>27.5903</td>\n",
       "      <td>47.1569</td>\n",
       "    </tr>\n",
       "    <tr>\n",
       "      <th>2</th>\n",
       "      <td>http://dbpedia.org/resource/A._K._Shiva_Kumar</td>\n",
       "      <td>1956</td>\n",
       "      <td>Chennai</td>\n",
       "      <td>City</td>\n",
       "      <td>80.275</td>\n",
       "      <td>13.0827</td>\n",
       "    </tr>\n",
       "    <tr>\n",
       "      <th>3</th>\n",
       "      <td>http://dbpedia.org/resource/A._K._Shiva_Kumar</td>\n",
       "      <td>1956</td>\n",
       "      <td>India</td>\n",
       "      <td>Country</td>\n",
       "      <td>77.2083</td>\n",
       "      <td>28.6139</td>\n",
       "    </tr>\n",
       "    <tr>\n",
       "      <th>4</th>\n",
       "      <td>http://dbpedia.org/resource/A._K._Shiva_Kumar</td>\n",
       "      <td>1956</td>\n",
       "      <td>Tamil Nadu</td>\n",
       "      <td></td>\n",
       "      <td>80.27</td>\n",
       "      <td>13.09</td>\n",
       "    </tr>\n",
       "  </tbody>\n",
       "</table>\n",
       "</div>"
      ],
      "text/plain": [
       "                                      uri_entity birth_year  place_name  \\\n",
       "0         http://dbpedia.org/resource/A._C._Cuza       1857        Iași   \n",
       "1         http://dbpedia.org/resource/A._C._Cuza       1857        Iași   \n",
       "2  http://dbpedia.org/resource/A._K._Shiva_Kumar       1956     Chennai   \n",
       "3  http://dbpedia.org/resource/A._K._Shiva_Kumar       1956       India   \n",
       "4  http://dbpedia.org/resource/A._K._Shiva_Kumar       1956  Tamil Nadu   \n",
       "\n",
       "             place_type longitude latitude  \n",
       "0  AdministrativeRegion   27.5903  47.1569  \n",
       "1                Region   27.5903  47.1569  \n",
       "2                  City    80.275  13.0827  \n",
       "3               Country   77.2083  28.6139  \n",
       "4                           80.27    13.09  "
      ]
     },
     "execution_count": 19,
     "metadata": {},
     "output_type": "execute_result"
    }
   ],
   "source": [
    "### Créer un DataFrame directement à partir d'une requête\n",
    "# Attention : requête-query 'personnes_lieux_naissance', cf. ci-dessus !\n",
    "\n",
    "cn = sql.connect(db)\n",
    "lieux_naissance = pd.read_sql_query(personnes_lieux_naissance, cn).fillna(value='')\n",
    "cn.close()\n",
    "lieux_naissance.head()"
   ]
  },
  {
   "cell_type": "code",
   "execution_count": 64,
   "id": "executive-simpson",
   "metadata": {},
   "outputs": [
    {
     "data": {
      "text/html": [
       "<div>\n",
       "<style scoped>\n",
       "    .dataframe tbody tr th:only-of-type {\n",
       "        vertical-align: middle;\n",
       "    }\n",
       "\n",
       "    .dataframe tbody tr th {\n",
       "        vertical-align: top;\n",
       "    }\n",
       "\n",
       "    .dataframe thead th {\n",
       "        text-align: right;\n",
       "    }\n",
       "</style>\n",
       "<table border=\"1\" class=\"dataframe\">\n",
       "  <thead>\n",
       "    <tr style=\"text-align: right;\">\n",
       "      <th></th>\n",
       "      <th>uri_entity</th>\n",
       "      <th>birth_year</th>\n",
       "      <th>place_name</th>\n",
       "      <th>place_type</th>\n",
       "      <th>longitude</th>\n",
       "      <th>latitude</th>\n",
       "      <th>place_list</th>\n",
       "    </tr>\n",
       "  </thead>\n",
       "  <tbody>\n",
       "    <tr>\n",
       "      <th>0</th>\n",
       "      <td>http://dbpedia.org/resource/A._C._Cuza</td>\n",
       "      <td>1857</td>\n",
       "      <td>Iași</td>\n",
       "      <td>AdministrativeRegion</td>\n",
       "      <td>27.5903</td>\n",
       "      <td>47.1569</td>\n",
       "      <td>[Iași, AdministrativeRegion, 27.5903, 47.1569]</td>\n",
       "    </tr>\n",
       "    <tr>\n",
       "      <th>1</th>\n",
       "      <td>http://dbpedia.org/resource/A._C._Cuza</td>\n",
       "      <td>1857</td>\n",
       "      <td>Iași</td>\n",
       "      <td>Region</td>\n",
       "      <td>27.5903</td>\n",
       "      <td>47.1569</td>\n",
       "      <td>[Iași, Region, 27.5903, 47.1569]</td>\n",
       "    </tr>\n",
       "    <tr>\n",
       "      <th>2</th>\n",
       "      <td>http://dbpedia.org/resource/A._K._Shiva_Kumar</td>\n",
       "      <td>1956</td>\n",
       "      <td>Chennai</td>\n",
       "      <td>City</td>\n",
       "      <td>80.275</td>\n",
       "      <td>13.0827</td>\n",
       "      <td>[Chennai, City, 80.275, 13.0827]</td>\n",
       "    </tr>\n",
       "    <tr>\n",
       "      <th>3</th>\n",
       "      <td>http://dbpedia.org/resource/A._K._Shiva_Kumar</td>\n",
       "      <td>1956</td>\n",
       "      <td>India</td>\n",
       "      <td>Country</td>\n",
       "      <td>77.2083</td>\n",
       "      <td>28.6139</td>\n",
       "      <td>[India, Country, 77.2083, 28.6139]</td>\n",
       "    </tr>\n",
       "    <tr>\n",
       "      <th>4</th>\n",
       "      <td>http://dbpedia.org/resource/A._K._Shiva_Kumar</td>\n",
       "      <td>1956</td>\n",
       "      <td>Tamil Nadu</td>\n",
       "      <td></td>\n",
       "      <td>80.27</td>\n",
       "      <td>13.09</td>\n",
       "      <td>[Tamil Nadu, , 80.27, 13.09]</td>\n",
       "    </tr>\n",
       "  </tbody>\n",
       "</table>\n",
       "</div>"
      ],
      "text/plain": [
       "                                      uri_entity birth_year  place_name  \\\n",
       "0         http://dbpedia.org/resource/A._C._Cuza       1857        Iași   \n",
       "1         http://dbpedia.org/resource/A._C._Cuza       1857        Iași   \n",
       "2  http://dbpedia.org/resource/A._K._Shiva_Kumar       1956     Chennai   \n",
       "3  http://dbpedia.org/resource/A._K._Shiva_Kumar       1956       India   \n",
       "4  http://dbpedia.org/resource/A._K._Shiva_Kumar       1956  Tamil Nadu   \n",
       "\n",
       "             place_type longitude latitude  \\\n",
       "0  AdministrativeRegion   27.5903  47.1569   \n",
       "1                Region   27.5903  47.1569   \n",
       "2                  City    80.275  13.0827   \n",
       "3               Country   77.2083  28.6139   \n",
       "4                           80.27    13.09   \n",
       "\n",
       "                                       place_list  \n",
       "0  [Iași, AdministrativeRegion, 27.5903, 47.1569]  \n",
       "1                [Iași, Region, 27.5903, 47.1569]  \n",
       "2                [Chennai, City, 80.275, 13.0827]  \n",
       "3              [India, Country, 77.2083, 28.6139]  \n",
       "4                    [Tamil Nadu, , 80.27, 13.09]  "
      ]
     },
     "execution_count": 64,
     "metadata": {},
     "output_type": "execute_result"
    }
   ],
   "source": [
    "### Construire une colonne qui contient les propriétés des lieux regroupées sous forme de liste\n",
    "\n",
    "## Avec cette astuce on regroupe toutes les propriétés de chaque lieux dans une liste propre à chaque lieu (cf. la suite ci-dessous)\n",
    "\n",
    "lieux_naissance['place_list'] = lieux_naissance[['place_name','place_type','longitude','latitude']].apply(lambda x: list(x), axis=1)\n",
    "lieux_naissance.head()"
   ]
  },
  {
   "cell_type": "code",
   "execution_count": 65,
   "id": "spiritual-transportation",
   "metadata": {},
   "outputs": [
    {
     "data": {
      "text/html": [
       "<div>\n",
       "<style scoped>\n",
       "    .dataframe tbody tr th:only-of-type {\n",
       "        vertical-align: middle;\n",
       "    }\n",
       "\n",
       "    .dataframe tbody tr th {\n",
       "        vertical-align: top;\n",
       "    }\n",
       "\n",
       "    .dataframe thead th {\n",
       "        text-align: right;\n",
       "    }\n",
       "</style>\n",
       "<table border=\"1\" class=\"dataframe\">\n",
       "  <thead>\n",
       "    <tr style=\"text-align: right;\">\n",
       "      <th></th>\n",
       "      <th>uri_entity</th>\n",
       "      <th>place_list</th>\n",
       "      <th>birth_year</th>\n",
       "    </tr>\n",
       "  </thead>\n",
       "  <tbody>\n",
       "    <tr>\n",
       "      <th>0</th>\n",
       "      <td>http://dbpedia.org/resource/A._C._Cuza</td>\n",
       "      <td>[[Iași, AdministrativeRegion, 27.5903, 47.1569...</td>\n",
       "      <td>1857</td>\n",
       "    </tr>\n",
       "    <tr>\n",
       "      <th>1</th>\n",
       "      <td>http://dbpedia.org/resource/A._K._Shiva_Kumar</td>\n",
       "      <td>[[Chennai, City, 80.275, 13.0827], [India, Cou...</td>\n",
       "      <td>1956</td>\n",
       "    </tr>\n",
       "    <tr>\n",
       "      <th>2</th>\n",
       "      <td>http://dbpedia.org/resource/Aaron_Director</td>\n",
       "      <td>[[Staryi Chortoryisk, Village, 25.8825, 51.224...</td>\n",
       "      <td>1901</td>\n",
       "    </tr>\n",
       "    <tr>\n",
       "      <th>3</th>\n",
       "      <td>http://dbpedia.org/resource/Aat_van_Rhijn</td>\n",
       "      <td>[[Groningen, City, 6.56667, 53.2167], [Netherl...</td>\n",
       "      <td>1892</td>\n",
       "    </tr>\n",
       "    <tr>\n",
       "      <th>4</th>\n",
       "      <td>http://dbpedia.org/resource/Abass_Bundu</td>\n",
       "      <td>[[Gbinti, , -12.6, 8.96667], [Port Loko Distri...</td>\n",
       "      <td>1948</td>\n",
       "    </tr>\n",
       "  </tbody>\n",
       "</table>\n",
       "</div>"
      ],
      "text/plain": [
       "                                      uri_entity  \\\n",
       "0         http://dbpedia.org/resource/A._C._Cuza   \n",
       "1  http://dbpedia.org/resource/A._K._Shiva_Kumar   \n",
       "2     http://dbpedia.org/resource/Aaron_Director   \n",
       "3      http://dbpedia.org/resource/Aat_van_Rhijn   \n",
       "4        http://dbpedia.org/resource/Abass_Bundu   \n",
       "\n",
       "                                          place_list birth_year  \n",
       "0  [[Iași, AdministrativeRegion, 27.5903, 47.1569...       1857  \n",
       "1  [[Chennai, City, 80.275, 13.0827], [India, Cou...       1956  \n",
       "2  [[Staryi Chortoryisk, Village, 25.8825, 51.224...       1901  \n",
       "3  [[Groningen, City, 6.56667, 53.2167], [Netherl...       1892  \n",
       "4  [[Gbinti, , -12.6, 8.96667], [Port Loko Distri...       1948  "
      ]
     },
     "execution_count": 65,
     "metadata": {},
     "output_type": "execute_result"
    }
   ],
   "source": [
    "### Ensuite, on regroupe les lieux de naissance (les listes des propriétés des lieux) par personne et produire un nouveau dataframe\n",
    "\n",
    "## Tous les lieux sous forme de liste produits à la cellule précédente seront ainsi réunis\n",
    "\n",
    "l_lieux_naissance = lieux_naissance.groupby(['uri_entity']).agg({'place_list': lambda x: list(x),'birth_year': lambda x: max(x)}).reset_index()\n",
    "l_lieux_naissance.head()"
   ]
  },
  {
   "cell_type": "code",
   "execution_count": 66,
   "id": "latest-leader",
   "metadata": {
    "scrolled": true,
    "tags": []
   },
   "outputs": [
    {
     "name": "stdout",
     "output_type": "stream",
     "text": [
      "3091\n"
     ]
    },
    {
     "data": {
      "text/plain": [
       "[['http://dbpedia.org/resource/A._C._Cuza',\n",
       "  'Iași',\n",
       "  'AdministrativeRegion',\n",
       "  '27.5903',\n",
       "  '47.1569',\n",
       "  1857],\n",
       " ['http://dbpedia.org/resource/A._K._Shiva_Kumar',\n",
       "  'Chennai',\n",
       "  'City',\n",
       "  '80.275',\n",
       "  '13.0827',\n",
       "  1956]]"
      ]
     },
     "execution_count": 66,
     "metadata": {},
     "output_type": "execute_result"
    }
   ],
   "source": [
    "### Eliminer les lieux multiples pour une personne en privilégiant les villes et\n",
    "#   autres lieux habités par rapport aux territoires\n",
    "\n",
    "## Avec un boucle 'for' on parcourt dans l'ordre les types significatifs\n",
    "# si la variable 'i_lieux_naiss' est remplie avec un lieu, sa longueur ne sera plus 0 et donc on sort de la boucle\n",
    "# sinon on prend le prochain lieu de naissance de cette personne, de n'importe quel type\n",
    "\n",
    "lieux_naissance_unique = []\n",
    "for l in l_lieux_naissance.to_records():\n",
    "    \n",
    "    i_lieux_naiss = []\n",
    "    if len(i_lieux_naiss) == 0:\n",
    "        for i in l[2]:\n",
    "            if i[1] == 'Village':\n",
    "                i_lieux_naiss = i\n",
    "            elif i[1] == 'City':\n",
    "                i_lieux_naiss = i\n",
    "            elif i[1] == 'Town':\n",
    "                i_lieux_naiss = i\n",
    "            elif i[1] == 'Island':\n",
    "                i_lieux_naiss = i\n",
    "    else:\n",
    "        pass\n",
    "    if len(i_lieux_naiss) == 0:\n",
    "        i_lieux_naiss = l[2][0]\n",
    "    ##  la valeur 2000 est pour les personnes sans date de naissance\n",
    "    lieux_naissance_unique.append([l[1]] + i_lieux_naiss + [int(l[3]) if str(l[3]) > '' else 2000])\n",
    "\n",
    "\n",
    "print(len(lieux_naissance_unique))\n",
    "lieux_naissance_unique[:2]"
   ]
  },
  {
   "cell_type": "code",
   "execution_count": 67,
   "id": "coral-hello",
   "metadata": {},
   "outputs": [
    {
     "name": "stdout",
     "output_type": "stream",
     "text": [
      "3091\n",
      "3035\n"
     ]
    }
   ],
   "source": [
    "### Ajouter une colonne avec les noms de personne et limiter aux personnes nées après 1770\n",
    "\n",
    "df_lnu = pd.DataFrame(lieux_naissance_unique)\n",
    "print(len(df_lnu))\n",
    "df_lnu.columns = ['uri_entity','place_name','place_type','long','lat', 'birth_year']\n",
    "df_lnu['person'] = df_lnu['uri_entity'].apply(lambda x : x.replace('http://dbpedia.org/resource/', '').replace('_',' ')) \n",
    "df_lnu = df_lnu[df_lnu['birth_year'] > 1770]\n",
    "print(len(df_lnu))"
   ]
  },
  {
   "cell_type": "code",
   "execution_count": 68,
   "id": "whole-emperor",
   "metadata": {},
   "outputs": [
    {
     "name": "stdout",
     "output_type": "stream",
     "text": [
      "Plus d'un lieux : 0\n",
      "Aucun lieux : 0\n",
      "Personnes avec un lieu de naissance : 3035\n"
     ]
    },
    {
     "data": {
      "text/html": [
       "<div>\n",
       "<style scoped>\n",
       "    .dataframe tbody tr th:only-of-type {\n",
       "        vertical-align: middle;\n",
       "    }\n",
       "\n",
       "    .dataframe tbody tr th {\n",
       "        vertical-align: top;\n",
       "    }\n",
       "\n",
       "    .dataframe thead th {\n",
       "        text-align: right;\n",
       "    }\n",
       "</style>\n",
       "<table border=\"1\" class=\"dataframe\">\n",
       "  <thead>\n",
       "    <tr style=\"text-align: right;\">\n",
       "      <th></th>\n",
       "      <th>uri_entity</th>\n",
       "      <th>place_name</th>\n",
       "      <th>place_type</th>\n",
       "      <th>long</th>\n",
       "      <th>lat</th>\n",
       "      <th>birth_year</th>\n",
       "      <th>person</th>\n",
       "    </tr>\n",
       "  </thead>\n",
       "  <tbody>\n",
       "    <tr>\n",
       "      <th>0</th>\n",
       "      <td>http://dbpedia.org/resource/A._C._Cuza</td>\n",
       "      <td>Iași</td>\n",
       "      <td>AdministrativeRegion</td>\n",
       "      <td>27.5903</td>\n",
       "      <td>47.1569</td>\n",
       "      <td>1857</td>\n",
       "      <td>A. C. Cuza</td>\n",
       "    </tr>\n",
       "    <tr>\n",
       "      <th>1</th>\n",
       "      <td>http://dbpedia.org/resource/A._K._Shiva_Kumar</td>\n",
       "      <td>Chennai</td>\n",
       "      <td>City</td>\n",
       "      <td>80.275</td>\n",
       "      <td>13.0827</td>\n",
       "      <td>1956</td>\n",
       "      <td>A. K. Shiva Kumar</td>\n",
       "    </tr>\n",
       "    <tr>\n",
       "      <th>2</th>\n",
       "      <td>http://dbpedia.org/resource/Aaron_Director</td>\n",
       "      <td>Staryi Chortoryisk</td>\n",
       "      <td>Village</td>\n",
       "      <td>25.8825</td>\n",
       "      <td>51.2242</td>\n",
       "      <td>1901</td>\n",
       "      <td>Aaron Director</td>\n",
       "    </tr>\n",
       "    <tr>\n",
       "      <th>3</th>\n",
       "      <td>http://dbpedia.org/resource/Aat_van_Rhijn</td>\n",
       "      <td>Groningen</td>\n",
       "      <td>City</td>\n",
       "      <td>6.56667</td>\n",
       "      <td>53.2167</td>\n",
       "      <td>1892</td>\n",
       "      <td>Aat van Rhijn</td>\n",
       "    </tr>\n",
       "    <tr>\n",
       "      <th>4</th>\n",
       "      <td>http://dbpedia.org/resource/Abass_Bundu</td>\n",
       "      <td>Gbinti</td>\n",
       "      <td></td>\n",
       "      <td>-12.6</td>\n",
       "      <td>8.96667</td>\n",
       "      <td>1948</td>\n",
       "      <td>Abass Bundu</td>\n",
       "    </tr>\n",
       "  </tbody>\n",
       "</table>\n",
       "</div>"
      ],
      "text/plain": [
       "                                      uri_entity          place_name  \\\n",
       "0         http://dbpedia.org/resource/A._C._Cuza                Iași   \n",
       "1  http://dbpedia.org/resource/A._K._Shiva_Kumar             Chennai   \n",
       "2     http://dbpedia.org/resource/Aaron_Director  Staryi Chortoryisk   \n",
       "3      http://dbpedia.org/resource/Aat_van_Rhijn           Groningen   \n",
       "4        http://dbpedia.org/resource/Abass_Bundu              Gbinti   \n",
       "\n",
       "             place_type     long      lat  birth_year             person  \n",
       "0  AdministrativeRegion  27.5903  47.1569        1857         A. C. Cuza  \n",
       "1                  City   80.275  13.0827        1956  A. K. Shiva Kumar  \n",
       "2               Village  25.8825  51.2242        1901     Aaron Director  \n",
       "3                  City  6.56667  53.2167        1892      Aat van Rhijn  \n",
       "4                          -12.6  8.96667        1948        Abass Bundu  "
      ]
     },
     "execution_count": 68,
     "metadata": {},
     "output_type": "execute_result"
    }
   ],
   "source": [
    "### Vérifier s'il y a bien un lieu de naissance par personne\n",
    "gb_df_lnu = df_lnu.groupby(['uri_entity']).size()\n",
    "print(\"Plus d'un lieux : \" + str(len(gb_df_lnu[gb_df_lnu > 1])))\n",
    "print(\"Aucun lieux : \" + str(len(gb_df_lnu[gb_df_lnu == 0])))\n",
    "print(\"Personnes avec un lieu de naissance : \" + str(len(gb_df_lnu[gb_df_lnu == 1])))\n",
    "df_lnu.head()"
   ]
  },
  {
   "cell_type": "markdown",
   "id": "junior-consolidation",
   "metadata": {},
   "source": [
    "### Inspecter la distribution des naissances dans le temps"
   ]
  },
  {
   "cell_type": "code",
   "execution_count": 69,
   "id": "mediterranean-airplane",
   "metadata": {},
   "outputs": [
    {
     "name": "stdout",
     "output_type": "stream",
     "text": [
      "[1771, 1772, 1773, 1774, 1775]\n"
     ]
    },
    {
     "data": {
      "text/plain": [
       "<BarContainer object of 203 artists>"
      ]
     },
     "execution_count": 69,
     "metadata": {},
     "output_type": "execute_result"
    },
    {
     "data": {
      "image/png": "[encoded data removed]",
      "text/plain": [
       "<Figure size 1080x504 with 1 Axes>"
      ]
     },
     "metadata": {
      "needs_background": "light"
     },
     "output_type": "display_data"
    }
   ],
   "source": [
    "### Distribution des naissances dans le temps. Pour mémoire : 2000 = sans année de naissance\n",
    "\n",
    "## Noter : le regroupement est effectué par année\n",
    "\n",
    "\n",
    "gb_annees_naiss = df_lnu.groupby(['birth_year']).size()\n",
    "\n",
    "\n",
    "objects = [l for l in gb_annees_naiss.index]\n",
    "eff = [l for l in gb_annees_naiss]\n",
    "\n",
    "print(objects[:5])\n",
    "plt.figure(figsize=(15,7))\n",
    "plt.bar(objects, eff)"
   ]
  },
  {
   "cell_type": "markdown",
   "id": "animal-catholic",
   "metadata": {},
   "source": [
    "## Produire les données à projeter sur une carte"
   ]
  },
  {
   "cell_type": "markdown",
   "id": "chicken-argument",
   "metadata": {},
   "source": [
    "### Ajouter les périodes d'activité\n",
    "\n",
    "On aimerait découper en période d'activité correspondantes au moments de l'histoire Européenne, puis mondiale.\n",
    "\n",
    "Périodes d'activités: -1900 (avant le 20e siècle), 1901-1945 (la période des guerres mondiales), 1946- (l'époque contemporaine)\n",
    "\n",
    "À défaut de dates plus précises, on imagines ces bornes pour la période d'activité des personnes:\n",
    "* min: naissance + 25 ans\n",
    "* max: naissance + 75 ans\n"
   ]
  },
  {
   "cell_type": "code",
   "execution_count": 138,
   "id": "minus-motor",
   "metadata": {},
   "outputs": [],
   "source": [
    "### Fonction qui effectue le classement\n",
    "\n",
    "# plusieurs périodes d'activité sont possibles pour une même personne\n",
    "\n",
    "def periode_activite(birth_year):    \n",
    "    valeur_periode = []\n",
    "    if (birth_year + 25) < 1901:\n",
    "        valeur_periode.append(\"-1900\")        \n",
    "    # la deuxième clause exclut les personnes qui ne sont vraisemblablement plus actives\n",
    "    # bien que nées avant la date indiquée\n",
    "    if (birth_year + 75) > 1900 and (birth_year + 25) < 1946:\n",
    "        valeur_periode.append(\"1901-1945\")\n",
    "    if (birth_year + 75) > 1945:\n",
    "        valeur_periode.append(\"1946-\")\n",
    "    return valeur_periode    "
   ]
  },
  {
   "cell_type": "code",
   "execution_count": 148,
   "id": "printable-impossible",
   "metadata": {},
   "outputs": [
    {
     "data": {
      "text/plain": [
       "(['-1900', '1901-1945'],\n",
       " ['-1900', '1901-1945', '1946-'],\n",
       " ['1901-1945', '1946-'])"
      ]
     },
     "execution_count": 148,
     "metadata": {},
     "output_type": "execute_result"
    }
   ],
   "source": [
    "periode_activite(1860), periode_activite(1873), periode_activite(1900)"
   ]
  },
  {
   "cell_type": "code",
   "execution_count": 149,
   "id": "effective-married",
   "metadata": {},
   "outputs": [],
   "source": [
    "### Ajouter les périodes d'activité à l'aide de la fonction : periode_activite\n",
    "\n",
    "df_lnu['periode_activite'] = df_lnu['birth_year'].apply (lambda x : periode_activite(x) ) "
   ]
  },
  {
   "cell_type": "code",
   "execution_count": 150,
   "id": "eight-newspaper",
   "metadata": {},
   "outputs": [],
   "source": [
    "### Préparer les données qui seront utilisées dans le popup de la carte\n",
    "# construire une colonne qui contient (avec séparateur pipe, '|', uri, nom et année de naissance)\n",
    "\n",
    "df_lnu['concat_person'] = df_lnu['uri_entity'] + '|' + df_lnu['person'] + df_lnu['birth_year'].apply (lambda x : ' (' + str(x) + ')' ) "
   ]
  },
  {
   "cell_type": "code",
   "execution_count": 211,
   "id": "awful-senegal",
   "metadata": {
    "tags": []
   },
   "outputs": [
    {
     "data": {
      "text/html": [
       "<div>\n",
       "<style scoped>\n",
       "    .dataframe tbody tr th:only-of-type {\n",
       "        vertical-align: middle;\n",
       "    }\n",
       "\n",
       "    .dataframe tbody tr th {\n",
       "        vertical-align: top;\n",
       "    }\n",
       "\n",
       "    .dataframe thead th {\n",
       "        text-align: right;\n",
       "    }\n",
       "</style>\n",
       "<table border=\"1\" class=\"dataframe\">\n",
       "  <thead>\n",
       "    <tr style=\"text-align: right;\">\n",
       "      <th></th>\n",
       "      <th>uri_entity</th>\n",
       "      <th>place_name</th>\n",
       "      <th>place_type</th>\n",
       "      <th>long</th>\n",
       "      <th>lat</th>\n",
       "      <th>birth_year</th>\n",
       "      <th>person</th>\n",
       "      <th>concat_person</th>\n",
       "      <th>periode_activite</th>\n",
       "    </tr>\n",
       "  </thead>\n",
       "  <tbody>\n",
       "    <tr>\n",
       "      <th>0</th>\n",
       "      <td>http://dbpedia.org/resource/A._C._Cuza</td>\n",
       "      <td>Iași</td>\n",
       "      <td>AdministrativeRegion</td>\n",
       "      <td>27.5903</td>\n",
       "      <td>47.1569</td>\n",
       "      <td>1857</td>\n",
       "      <td>A. C. Cuza</td>\n",
       "      <td>http://dbpedia.org/resource/A._C._Cuza|A. C. C...</td>\n",
       "      <td>[-1900, 1901-1945]</td>\n",
       "    </tr>\n",
       "    <tr>\n",
       "      <th>1</th>\n",
       "      <td>http://dbpedia.org/resource/A._K._Shiva_Kumar</td>\n",
       "      <td>Chennai</td>\n",
       "      <td>City</td>\n",
       "      <td>80.275</td>\n",
       "      <td>13.0827</td>\n",
       "      <td>1956</td>\n",
       "      <td>A. K. Shiva Kumar</td>\n",
       "      <td>http://dbpedia.org/resource/A._K._Shiva_Kumar|...</td>\n",
       "      <td>[1946-]</td>\n",
       "    </tr>\n",
       "    <tr>\n",
       "      <th>2</th>\n",
       "      <td>http://dbpedia.org/resource/Aaron_Director</td>\n",
       "      <td>Staryi Chortoryisk</td>\n",
       "      <td>Village</td>\n",
       "      <td>25.8825</td>\n",
       "      <td>51.2242</td>\n",
       "      <td>1901</td>\n",
       "      <td>Aaron Director</td>\n",
       "      <td>http://dbpedia.org/resource/Aaron_Director|Aar...</td>\n",
       "      <td>[1901-1945, 1946-]</td>\n",
       "    </tr>\n",
       "    <tr>\n",
       "      <th>3</th>\n",
       "      <td>http://dbpedia.org/resource/Aat_van_Rhijn</td>\n",
       "      <td>Groningen</td>\n",
       "      <td>City</td>\n",
       "      <td>6.56667</td>\n",
       "      <td>53.2167</td>\n",
       "      <td>1892</td>\n",
       "      <td>Aat van Rhijn</td>\n",
       "      <td>http://dbpedia.org/resource/Aat_van_Rhijn|Aat ...</td>\n",
       "      <td>[1901-1945, 1946-]</td>\n",
       "    </tr>\n",
       "    <tr>\n",
       "      <th>4</th>\n",
       "      <td>http://dbpedia.org/resource/Abass_Bundu</td>\n",
       "      <td>Gbinti</td>\n",
       "      <td></td>\n",
       "      <td>-12.6</td>\n",
       "      <td>8.96667</td>\n",
       "      <td>1948</td>\n",
       "      <td>Abass Bundu</td>\n",
       "      <td>http://dbpedia.org/resource/Abass_Bundu|Abass ...</td>\n",
       "      <td>[1946-]</td>\n",
       "    </tr>\n",
       "  </tbody>\n",
       "</table>\n",
       "</div>"
      ],
      "text/plain": [
       "                                      uri_entity          place_name  \\\n",
       "0         http://dbpedia.org/resource/A._C._Cuza                Iași   \n",
       "1  http://dbpedia.org/resource/A._K._Shiva_Kumar             Chennai   \n",
       "2     http://dbpedia.org/resource/Aaron_Director  Staryi Chortoryisk   \n",
       "3      http://dbpedia.org/resource/Aat_van_Rhijn           Groningen   \n",
       "4        http://dbpedia.org/resource/Abass_Bundu              Gbinti   \n",
       "\n",
       "             place_type     long      lat  birth_year             person  \\\n",
       "0  AdministrativeRegion  27.5903  47.1569        1857         A. C. Cuza   \n",
       "1                  City   80.275  13.0827        1956  A. K. Shiva Kumar   \n",
       "2               Village  25.8825  51.2242        1901     Aaron Director   \n",
       "3                  City  6.56667  53.2167        1892      Aat van Rhijn   \n",
       "4                          -12.6  8.96667        1948        Abass Bundu   \n",
       "\n",
       "                                       concat_person    periode_activite  \n",
       "0  http://dbpedia.org/resource/A._C._Cuza|A. C. C...  [-1900, 1901-1945]  \n",
       "1  http://dbpedia.org/resource/A._K._Shiva_Kumar|...             [1946-]  \n",
       "2  http://dbpedia.org/resource/Aaron_Director|Aar...  [1901-1945, 1946-]  \n",
       "3  http://dbpedia.org/resource/Aat_van_Rhijn|Aat ...  [1901-1945, 1946-]  \n",
       "4  http://dbpedia.org/resource/Abass_Bundu|Abass ...             [1946-]  "
      ]
     },
     "execution_count": 211,
     "metadata": {},
     "output_type": "execute_result"
    }
   ],
   "source": [
    "df_lnu.head()"
   ]
  },
  {
   "cell_type": "code",
   "execution_count": 312,
   "id": "lonely-acrobat",
   "metadata": {
    "scrolled": true,
    "tags": []
   },
   "outputs": [
    {
     "name": "stdout",
     "output_type": "stream",
     "text": [
      "1663\n"
     ]
    },
    {
     "data": {
      "text/html": [
       "<div>\n",
       "<style scoped>\n",
       "    .dataframe tbody tr th:only-of-type {\n",
       "        vertical-align: middle;\n",
       "    }\n",
       "\n",
       "    .dataframe tbody tr th {\n",
       "        vertical-align: top;\n",
       "    }\n",
       "\n",
       "    .dataframe thead th {\n",
       "        text-align: right;\n",
       "    }\n",
       "</style>\n",
       "<table border=\"1\" class=\"dataframe\">\n",
       "  <thead>\n",
       "    <tr style=\"text-align: right;\">\n",
       "      <th></th>\n",
       "      <th>place_name</th>\n",
       "      <th>place_type</th>\n",
       "      <th>long</th>\n",
       "      <th>lat</th>\n",
       "      <th>persons</th>\n",
       "      <th>effectif</th>\n",
       "      <th>periodes</th>\n",
       "    </tr>\n",
       "  </thead>\n",
       "  <tbody>\n",
       "    <tr>\n",
       "      <th>130</th>\n",
       "      <td>Bayonne, New Jersey</td>\n",
       "      <td>City</td>\n",
       "      <td>-74.1102</td>\n",
       "      <td>40.6625</td>\n",
       "      <td>http://dbpedia.org/resource/Faye_Duchin|Faye D...</td>\n",
       "      <td>2</td>\n",
       "      <td>[1946-, 1946-]</td>\n",
       "    </tr>\n",
       "    <tr>\n",
       "      <th>131</th>\n",
       "      <td>Beatrice, Nebraska</td>\n",
       "      <td>City</td>\n",
       "      <td>-96.7431</td>\n",
       "      <td>40.2683</td>\n",
       "      <td>http://dbpedia.org/resource/Harold_Thayer_Davi...</td>\n",
       "      <td>1</td>\n",
       "      <td>[1901-1945, 1946-]</td>\n",
       "    </tr>\n",
       "    <tr>\n",
       "      <th>132</th>\n",
       "      <td>Beaumont, Texas</td>\n",
       "      <td>City</td>\n",
       "      <td>-94.1267</td>\n",
       "      <td>30.08</td>\n",
       "      <td>http://dbpedia.org/resource/John_Graham_(econo...</td>\n",
       "      <td>1</td>\n",
       "      <td>[1946-]</td>\n",
       "    </tr>\n",
       "    <tr>\n",
       "      <th>133</th>\n",
       "      <td>Beckley, West Virginia</td>\n",
       "      <td>City</td>\n",
       "      <td>-81.1881</td>\n",
       "      <td>37.7781</td>\n",
       "      <td>http://dbpedia.org/resource/Tom_Carper|Tom Car...</td>\n",
       "      <td>1</td>\n",
       "      <td>[1946-]</td>\n",
       "    </tr>\n",
       "    <tr>\n",
       "      <th>134</th>\n",
       "      <td>Bedfordshire</td>\n",
       "      <td>AdministrativeRegion</td>\n",
       "      <td>-0.416667</td>\n",
       "      <td>52.0833</td>\n",
       "      <td>http://dbpedia.org/resource/Andrew_Stuart_Winc...</td>\n",
       "      <td>1</td>\n",
       "      <td>[1946-]</td>\n",
       "    </tr>\n",
       "  </tbody>\n",
       "</table>\n",
       "</div>"
      ],
      "text/plain": [
       "                 place_name            place_type       long      lat  \\\n",
       "130     Bayonne, New Jersey                  City   -74.1102  40.6625   \n",
       "131      Beatrice, Nebraska                  City   -96.7431  40.2683   \n",
       "132         Beaumont, Texas                  City   -94.1267    30.08   \n",
       "133  Beckley, West Virginia                  City   -81.1881  37.7781   \n",
       "134            Bedfordshire  AdministrativeRegion  -0.416667  52.0833   \n",
       "\n",
       "                                               persons  effectif  \\\n",
       "130  http://dbpedia.org/resource/Faye_Duchin|Faye D...         2   \n",
       "131  http://dbpedia.org/resource/Harold_Thayer_Davi...         1   \n",
       "132  http://dbpedia.org/resource/John_Graham_(econo...         1   \n",
       "133  http://dbpedia.org/resource/Tom_Carper|Tom Car...         1   \n",
       "134  http://dbpedia.org/resource/Andrew_Stuart_Winc...         1   \n",
       "\n",
       "               periodes  \n",
       "130      [1946-, 1946-]  \n",
       "131  [1901-1945, 1946-]  \n",
       "132             [1946-]  \n",
       "133             [1946-]  \n",
       "134             [1946-]  "
      ]
     },
     "execution_count": 312,
     "metadata": {},
     "output_type": "execute_result"
    }
   ],
   "source": [
    "### Regrouper par lieu\n",
    "# https://izziswift.com/naming-returned-columns-in-pandas-aggregate-function/\n",
    "place_count = df_lnu.groupby(['place_name', 'place_type', 'long', 'lat'], as_index=False) \\\n",
    "      .agg(persons = ('concat_person', ','.join), effectif=('person', 'count'),\\\n",
    "       periodes = ('periode_activite', 'sum')).sort_values(by=['place_name'])\n",
    "print(len(place_count))\n",
    "place_count[130:135]"
   ]
  },
  {
   "cell_type": "code",
   "execution_count": 315,
   "id": "ceramic-coordination",
   "metadata": {},
   "outputs": [],
   "source": [
    "### Agrège et compte les périodes \n",
    "# NB Une personnes pouvant être dans plusieurs périodes, la somme des effectifs des périodes peut-être plus élevée que celle de l'effectif total\n",
    "place_count['periodes_agregees'] = place_count['periodes'].apply(lambda x : dict(Counter(x)))"
   ]
  },
  {
   "cell_type": "code",
   "execution_count": 316,
   "id": "intended-velvet",
   "metadata": {},
   "outputs": [
    {
     "data": {
      "text/html": [
       "<div>\n",
       "<style scoped>\n",
       "    .dataframe tbody tr th:only-of-type {\n",
       "        vertical-align: middle;\n",
       "    }\n",
       "\n",
       "    .dataframe tbody tr th {\n",
       "        vertical-align: top;\n",
       "    }\n",
       "\n",
       "    .dataframe thead th {\n",
       "        text-align: right;\n",
       "    }\n",
       "</style>\n",
       "<table border=\"1\" class=\"dataframe\">\n",
       "  <thead>\n",
       "    <tr style=\"text-align: right;\">\n",
       "      <th></th>\n",
       "      <th>place_name</th>\n",
       "      <th>place_type</th>\n",
       "      <th>long</th>\n",
       "      <th>lat</th>\n",
       "      <th>persons</th>\n",
       "      <th>effectif</th>\n",
       "      <th>periodes</th>\n",
       "      <th>periodes_agregees</th>\n",
       "    </tr>\n",
       "  </thead>\n",
       "  <tbody>\n",
       "    <tr>\n",
       "      <th>899</th>\n",
       "      <td>London</td>\n",
       "      <td>City</td>\n",
       "      <td>-0.1275</td>\n",
       "      <td>51.5072</td>\n",
       "      <td>http://dbpedia.org/resource/Alan_Budd|Alan Bud...</td>\n",
       "      <td>26</td>\n",
       "      <td>[1946-, 1946-, -1900, 1901-1945, 1946-, 1901-1...</td>\n",
       "      <td>{'1946-': 23, '-1900': 3, '1901-1945': 6}</td>\n",
       "    </tr>\n",
       "  </tbody>\n",
       "</table>\n",
       "</div>"
      ],
      "text/plain": [
       "    place_name place_type     long      lat  \\\n",
       "899     London       City  -0.1275  51.5072   \n",
       "\n",
       "                                               persons  effectif  \\\n",
       "899  http://dbpedia.org/resource/Alan_Budd|Alan Bud...        26   \n",
       "\n",
       "                                              periodes  \\\n",
       "899  [1946-, 1946-, -1900, 1901-1945, 1946-, 1901-1...   \n",
       "\n",
       "                             periodes_agregees  \n",
       "899  {'1946-': 23, '-1900': 3, '1901-1945': 6}  "
      ]
     },
     "execution_count": 316,
     "metadata": {},
     "output_type": "execute_result"
    }
   ],
   "source": [
    "### Un exemples : Londres \n",
    "place_count[place_count['place_name'] == 'London']"
   ]
  },
  {
   "cell_type": "code",
   "execution_count": 317,
   "id": "inappropriate-sheffield",
   "metadata": {},
   "outputs": [
    {
     "data": {
      "text/plain": [
       "{'1946-': 23, '-1900': 3, '1901-1945': 6}"
      ]
     },
     "execution_count": 317,
     "metadata": {},
     "output_type": "execute_result"
    }
   ],
   "source": [
    "place_count[place_count['place_name'] == 'London']['periodes_agregees'].values[0]"
   ]
  },
  {
   "cell_type": "code",
   "execution_count": null,
   "id": "racial-capability",
   "metadata": {},
   "outputs": [],
   "source": []
  },
  {
   "cell_type": "markdown",
   "id": "thousand-hughes",
   "metadata": {},
   "source": [
    "### Ecrire les données à cartographier dans un fichier CSV\n",
    "\n",
    "Le fichier 'maps/birth_place_years.csv' contiendra les données à cartographier et il ne sera pas nécessaire de refaire chaque fois les manipulations ci-dessus, mais on pourra directement travailler sur les cartes"
   ]
  },
  {
   "cell_type": "code",
   "execution_count": 318,
   "id": "arctic-anthony",
   "metadata": {},
   "outputs": [],
   "source": [
    "place_count.to_csv('maps/birth_place_years.csv', sep=';')"
   ]
  },
  {
   "cell_type": "code",
   "execution_count": null,
   "id": "similar-brass",
   "metadata": {},
   "outputs": [],
   "source": [
    "### Importer le CSV et mettre son contenu dans la variable 'place_count' \n",
    "# au cas où on ne souhaite pas répéter toutes les opérations précédentes\n",
    "place_count = pd.read_csv('maps/birth_place_years.csv', sep=';', index_col=[0])\n",
    "place_count.iloc[100:110]"
   ]
  },
  {
   "cell_type": "markdown",
   "id": "invalid-conspiracy",
   "metadata": {},
   "source": [
    "## Universités\n",
    "\n",
    "On prépare ici les données concernant les universités fréquentées. \n",
    "\n",
    "* Dans DBPedia les Universités sont souvent associées à un lieu. \n",
    "* On utilise ici le lieu (si disponible) pour géoréférencer les Universités. \n",
    "* Pour les Universités sans coordonnées géographiques on pourrait chercher celles du lieu où une Université a son siège\n",
    "* Ce serait trop laborieux dans ce contexte, sachant que une Université peut avoir plusieurs sièges, éventuellement changeant dans le temps\n",
    "* Cette requête est donc effectuée uniquement à titre d'exemple"
   ]
  },
  {
   "cell_type": "code",
   "execution_count": 202,
   "id": "ignored-carolina",
   "metadata": {},
   "outputs": [],
   "source": [
    "universites = \"\"\"\n",
    "SELECT\n",
    "\tp.uri_entity,\n",
    "\tp.value birth_year,\n",
    "\tREPLACE(REPLACE(p1.value,\n",
    "\t'http://dbpedia.org/resource/',\n",
    "\t''),\n",
    "\t'_',\n",
    "\t' ') university_name,\n",
    "\tp2.value long,\n",
    "\tp3.value lat\n",
    "FROM\n",
    "\tproperty p\n",
    "JOIN property p1 ON\n",
    "\tp.uri_entity = p1.uri_entity\n",
    "\tAND p1.property LIKE '%almaMater'\n",
    "LEFT JOIN property p2 ON\n",
    "\tp2.uri_entity = p1.value\n",
    "\tAND p2.property LIKE '%long'\n",
    "LEFT JOIN property p3 ON\n",
    "\tp3.uri_entity = p1.value\n",
    "\tAND p3.property LIKE '%lat'\n",
    "WHERE\n",
    "\tp.property LIKE '%birthYear'\n",
    "\tAND p.\"source\" LIKE '%8 mai 2021';\"\"\""
   ]
  },
  {
   "cell_type": "code",
   "execution_count": 204,
   "id": "herbal-oklahoma",
   "metadata": {},
   "outputs": [
    {
     "data": {
      "text/html": [
       "<div>\n",
       "<style scoped>\n",
       "    .dataframe tbody tr th:only-of-type {\n",
       "        vertical-align: middle;\n",
       "    }\n",
       "\n",
       "    .dataframe tbody tr th {\n",
       "        vertical-align: top;\n",
       "    }\n",
       "\n",
       "    .dataframe thead th {\n",
       "        text-align: right;\n",
       "    }\n",
       "</style>\n",
       "<table border=\"1\" class=\"dataframe\">\n",
       "  <thead>\n",
       "    <tr style=\"text-align: right;\">\n",
       "      <th></th>\n",
       "      <th>uri_entity</th>\n",
       "      <th>birth_year</th>\n",
       "      <th>university_name</th>\n",
       "      <th>long</th>\n",
       "      <th>lat</th>\n",
       "    </tr>\n",
       "  </thead>\n",
       "  <tbody>\n",
       "    <tr>\n",
       "      <th>0</th>\n",
       "      <td>http://dbpedia.org/resource/A._D._Roy</td>\n",
       "      <td>1920</td>\n",
       "      <td>University of Cambridge</td>\n",
       "      <td>0.117222</td>\n",
       "      <td>52.2053</td>\n",
       "    </tr>\n",
       "    <tr>\n",
       "      <th>1</th>\n",
       "      <td>http://dbpedia.org/resource/A._K._Shiva_Kumar</td>\n",
       "      <td>1956</td>\n",
       "      <td>Bangalore University</td>\n",
       "      <td>77.5032</td>\n",
       "      <td>12.9388</td>\n",
       "    </tr>\n",
       "    <tr>\n",
       "      <th>2</th>\n",
       "      <td>http://dbpedia.org/resource/A._K._Shiva_Kumar</td>\n",
       "      <td>1956</td>\n",
       "      <td>Harvard University</td>\n",
       "      <td>-71.1169</td>\n",
       "      <td>42.3744</td>\n",
       "    </tr>\n",
       "    <tr>\n",
       "      <th>3</th>\n",
       "      <td>http://dbpedia.org/resource/A._K._Shiva_Kumar</td>\n",
       "      <td>1956</td>\n",
       "      <td>IIM Ahmedabad</td>\n",
       "      <td></td>\n",
       "      <td></td>\n",
       "    </tr>\n",
       "    <tr>\n",
       "      <th>4</th>\n",
       "      <td>http://dbpedia.org/resource/A._K._Shiva_Kumar</td>\n",
       "      <td>1956</td>\n",
       "      <td>St. Joseph's College, Bangalore</td>\n",
       "      <td>77.5964</td>\n",
       "      <td>12.9629</td>\n",
       "    </tr>\n",
       "  </tbody>\n",
       "</table>\n",
       "</div>"
      ],
      "text/plain": [
       "                                      uri_entity birth_year  \\\n",
       "0          http://dbpedia.org/resource/A._D._Roy       1920   \n",
       "1  http://dbpedia.org/resource/A._K._Shiva_Kumar       1956   \n",
       "2  http://dbpedia.org/resource/A._K._Shiva_Kumar       1956   \n",
       "3  http://dbpedia.org/resource/A._K._Shiva_Kumar       1956   \n",
       "4  http://dbpedia.org/resource/A._K._Shiva_Kumar       1956   \n",
       "\n",
       "                   university_name      long      lat  \n",
       "0          University of Cambridge  0.117222  52.2053  \n",
       "1             Bangalore University   77.5032  12.9388  \n",
       "2               Harvard University  -71.1169  42.3744  \n",
       "3                    IIM Ahmedabad                     \n",
       "4  St. Joseph's College, Bangalore   77.5964  12.9629  "
      ]
     },
     "execution_count": 204,
     "metadata": {},
     "output_type": "execute_result"
    }
   ],
   "source": [
    "cn = sql.connect(db)\n",
    "personnes_universites = pd.read_sql_query(universites, cn).fillna(value='')\n",
    "cn.close()\n",
    "personnes_universites.head()"
   ]
  },
  {
   "cell_type": "code",
   "execution_count": 205,
   "id": "metropolitan-dallas",
   "metadata": {},
   "outputs": [
    {
     "data": {
      "text/plain": [
       "birth_year\n",
       "1943    114\n",
       "1949    112\n",
       "1946    102\n",
       "1953    102\n",
       "1951    100\n",
       "       ... \n",
       "1830      1\n",
       "1826      1\n",
       "1815      1\n",
       "1810      1\n",
       "1460      1\n",
       "Length: 180, dtype: int64"
      ]
     },
     "execution_count": 205,
     "metadata": {},
     "output_type": "execute_result"
    }
   ],
   "source": [
    "gp_years = personnes_universites.groupby('birth_year').size()\n",
    "gp_years.sort_values(ascending=False)"
   ]
  },
  {
   "cell_type": "code",
   "execution_count": 215,
   "id": "hidden-majority",
   "metadata": {},
   "outputs": [
    {
     "data": {
      "text/plain": [
       "976"
      ]
     },
     "execution_count": 215,
     "metadata": {},
     "output_type": "execute_result"
    }
   ],
   "source": [
    "### Personnes avec (3259) / sans (976) coordonnées géographiques\n",
    "len(personnes_universites[personnes_universites['long'] == '']) # ['long'] > ''"
   ]
  },
  {
   "cell_type": "code",
   "execution_count": 216,
   "id": "wrong-association",
   "metadata": {},
   "outputs": [
    {
     "data": {
      "text/plain": [
       "4235"
      ]
     },
     "execution_count": 216,
     "metadata": {},
     "output_type": "execute_result"
    }
   ],
   "source": [
    "### Personnes avec (4235) / sans (0) annee naissance\n",
    "len(personnes_universites[personnes_universites['birth_year'] > '']) # ['birth_year'] == ''"
   ]
  },
  {
   "cell_type": "code",
   "execution_count": 217,
   "id": "union-rhythm",
   "metadata": {},
   "outputs": [],
   "source": [
    "## construire un découpage qui peut avoir du sens par rapport à la situation historique\n",
    "cut_years = [1771, 1861, 1901, 1921, 1941, 1951, 1961, 1971, 2001]"
   ]
  },
  {
   "cell_type": "code",
   "execution_count": 218,
   "id": "super-wallet",
   "metadata": {},
   "outputs": [],
   "source": [
    "## Transformer l'année de naissance en entier\n",
    "personnes_universites['birth_year'] = personnes_universites['birth_year'].apply(lambda x : int(x))\n",
    "\n",
    "## sélection de valeurs sur plusieurs colonnes\n",
    "personnes_uni_1771 = personnes_universites[(personnes_universites['birth_year'] > 1770) & (personnes_universites['long'] != '')]\n",
    "personnes_uni_1771 = personnes_uni_1771.copy(deep=True)"
   ]
  },
  {
   "cell_type": "code",
   "execution_count": 219,
   "id": "running-bearing",
   "metadata": {},
   "outputs": [
    {
     "data": {
      "text/plain": [
       "birth_year\n",
       "1943    90\n",
       "1958    83\n",
       "1953    82\n",
       "1949    81\n",
       "1951    81\n",
       "        ..\n",
       "1846     1\n",
       "1863     1\n",
       "1849     1\n",
       "1858     1\n",
       "1771     1\n",
       "Length: 168, dtype: int64"
      ]
     },
     "execution_count": 219,
     "metadata": {},
     "output_type": "execute_result"
    }
   ],
   "source": [
    "## Compter les années de naissance\n",
    "\n",
    "personnes_uni_1771.groupby('birth_year').size().sort_values(ascending=False)"
   ]
  },
  {
   "cell_type": "code",
   "execution_count": 221,
   "id": "marked-thesaurus",
   "metadata": {},
   "outputs": [
    {
     "data": {
      "text/html": [
       "<div>\n",
       "<style scoped>\n",
       "    .dataframe tbody tr th:only-of-type {\n",
       "        vertical-align: middle;\n",
       "    }\n",
       "\n",
       "    .dataframe tbody tr th {\n",
       "        vertical-align: top;\n",
       "    }\n",
       "\n",
       "    .dataframe thead th {\n",
       "        text-align: right;\n",
       "    }\n",
       "</style>\n",
       "<table border=\"1\" class=\"dataframe\">\n",
       "  <thead>\n",
       "    <tr style=\"text-align: right;\">\n",
       "      <th></th>\n",
       "      <th>uri_entity</th>\n",
       "      <th>birth_year</th>\n",
       "      <th>university_name</th>\n",
       "      <th>long</th>\n",
       "      <th>lat</th>\n",
       "      <th>periode</th>\n",
       "    </tr>\n",
       "  </thead>\n",
       "  <tbody>\n",
       "    <tr>\n",
       "      <th>0</th>\n",
       "      <td>http://dbpedia.org/resource/A._D._Roy</td>\n",
       "      <td>1920</td>\n",
       "      <td>University of Cambridge</td>\n",
       "      <td>0.117222</td>\n",
       "      <td>52.2053</td>\n",
       "      <td>1901-1921</td>\n",
       "    </tr>\n",
       "    <tr>\n",
       "      <th>1</th>\n",
       "      <td>http://dbpedia.org/resource/A._K._Shiva_Kumar</td>\n",
       "      <td>1956</td>\n",
       "      <td>Bangalore University</td>\n",
       "      <td>77.5032</td>\n",
       "      <td>12.9388</td>\n",
       "      <td>1951-1961</td>\n",
       "    </tr>\n",
       "    <tr>\n",
       "      <th>2</th>\n",
       "      <td>http://dbpedia.org/resource/A._K._Shiva_Kumar</td>\n",
       "      <td>1956</td>\n",
       "      <td>Harvard University</td>\n",
       "      <td>-71.1169</td>\n",
       "      <td>42.3744</td>\n",
       "      <td>1951-1961</td>\n",
       "    </tr>\n",
       "    <tr>\n",
       "      <th>4</th>\n",
       "      <td>http://dbpedia.org/resource/A._K._Shiva_Kumar</td>\n",
       "      <td>1956</td>\n",
       "      <td>St. Joseph's College, Bangalore</td>\n",
       "      <td>77.5964</td>\n",
       "      <td>12.9629</td>\n",
       "      <td>1951-1961</td>\n",
       "    </tr>\n",
       "    <tr>\n",
       "      <th>6</th>\n",
       "      <td>http://dbpedia.org/resource/Aaron_Director</td>\n",
       "      <td>1901</td>\n",
       "      <td>Yale University</td>\n",
       "      <td>-72.9267</td>\n",
       "      <td>41.3111</td>\n",
       "      <td>1901-1921</td>\n",
       "    </tr>\n",
       "  </tbody>\n",
       "</table>\n",
       "</div>"
      ],
      "text/plain": [
       "                                      uri_entity  birth_year  \\\n",
       "0          http://dbpedia.org/resource/A._D._Roy        1920   \n",
       "1  http://dbpedia.org/resource/A._K._Shiva_Kumar        1956   \n",
       "2  http://dbpedia.org/resource/A._K._Shiva_Kumar        1956   \n",
       "4  http://dbpedia.org/resource/A._K._Shiva_Kumar        1956   \n",
       "6     http://dbpedia.org/resource/Aaron_Director        1901   \n",
       "\n",
       "                   university_name      long      lat    periode  \n",
       "0          University of Cambridge  0.117222  52.2053  1901-1921  \n",
       "1             Bangalore University   77.5032  12.9388  1951-1961  \n",
       "2               Harvard University  -71.1169  42.3744  1951-1961  \n",
       "4  St. Joseph's College, Bangalore   77.5964  12.9629  1951-1961  \n",
       "6                  Yale University  -72.9267  41.3111  1901-1921  "
      ]
     },
     "execution_count": 221,
     "metadata": {},
     "output_type": "execute_result"
    }
   ],
   "source": [
    "### coder les années les regroupant par périodes : fonction cut\n",
    "\n",
    "personnes_uni_1771['periode'] = pd.cut(personnes_uni_1771['birth_year'], cut_years, right=False)\n",
    "### Rendre les périodes plus lisibles\n",
    "personnes_uni_1771['periode'] = personnes_uni_1771['periode'].apply(lambda row : str(int(row.left))+'-'+str(int(row.right)))\n",
    "personnes_uni_1771.head()"
   ]
  },
  {
   "cell_type": "code",
   "execution_count": 222,
   "id": "announced-neighbor",
   "metadata": {},
   "outputs": [
    {
     "data": {
      "text/html": [
       "<div>\n",
       "<style scoped>\n",
       "    .dataframe tbody tr th:only-of-type {\n",
       "        vertical-align: middle;\n",
       "    }\n",
       "\n",
       "    .dataframe tbody tr th {\n",
       "        vertical-align: top;\n",
       "    }\n",
       "\n",
       "    .dataframe thead th {\n",
       "        text-align: right;\n",
       "    }\n",
       "</style>\n",
       "<table border=\"1\" class=\"dataframe\">\n",
       "  <thead>\n",
       "    <tr style=\"text-align: right;\">\n",
       "      <th></th>\n",
       "      <th>uri_entity</th>\n",
       "      <th>birth_year</th>\n",
       "      <th>university_name</th>\n",
       "      <th>long</th>\n",
       "      <th>lat</th>\n",
       "      <th>periode</th>\n",
       "    </tr>\n",
       "  </thead>\n",
       "  <tbody>\n",
       "  </tbody>\n",
       "</table>\n",
       "</div>"
      ],
      "text/plain": [
       "Empty DataFrame\n",
       "Columns: [uri_entity, birth_year, university_name, long, lat, periode]\n",
       "Index: []"
      ]
     },
     "execution_count": 222,
     "metadata": {},
     "output_type": "execute_result"
    }
   ],
   "source": [
    "### vérifier le codage – pas de lacunes\n",
    "personnes_uni_1771[personnes_uni_1771['periode'].isnull()==True]"
   ]
  },
  {
   "cell_type": "code",
   "execution_count": 223,
   "id": "continental-victory",
   "metadata": {
    "tags": []
   },
   "outputs": [
    {
     "data": {
      "text/plain": [
       "periode\n",
       "1771-1861     76\n",
       "1861-1901    194\n",
       "1901-1921    252\n",
       "1921-1941    671\n",
       "1941-1951    730\n",
       "1951-1961    683\n",
       "1961-1971    474\n",
       "1971-2001    172\n",
       "dtype: int64"
      ]
     },
     "execution_count": 223,
     "metadata": {},
     "output_type": "execute_result"
    }
   ],
   "source": [
    "### Regrouper par periode et compter avec la fonction Pandas 'groupby'\n",
    "gb_periode = personnes_uni_1771.groupby('periode').size()\n",
    "gb_periode"
   ]
  },
  {
   "cell_type": "code",
   "execution_count": 224,
   "id": "fourth-melissa",
   "metadata": {},
   "outputs": [
    {
     "data": {
      "text/plain": [
       "['1771-1861',\n",
       " '1861-1901',\n",
       " '1901-1921',\n",
       " '1921-1941',\n",
       " '1941-1951',\n",
       " '1951-1961',\n",
       " '1961-1971',\n",
       " '1971-2001']"
      ]
     },
     "execution_count": 224,
     "metadata": {},
     "output_type": "execute_result"
    }
   ],
   "source": [
    "## Créer la liste des périodes\n",
    "liste_periodes = gb_periode.index.tolist()\n",
    "liste_periodes"
   ]
  },
  {
   "cell_type": "code",
   "execution_count": 227,
   "id": "incorrect-kitty",
   "metadata": {},
   "outputs": [
    {
     "name": "stdout",
     "output_type": "stream",
     "text": [
      "['1771-1861', '1861-1901', '1901-1921', '1921-1941', '1941-1951']\n"
     ]
    },
    {
     "data": {
      "image/png": "[encoded data removed]",
      "text/plain": [
       "<Figure size 1080x504 with 1 Axes>"
      ]
     },
     "metadata": {
      "needs_background": "light"
     },
     "output_type": "display_data"
    }
   ],
   "source": [
    "### Distribution des naissances par période\n",
    "\n",
    "objects = [l for l in gb_periode.index]\n",
    "eff = [l for l in gb_periode]\n",
    "\n",
    "print(objects[:5])\n",
    "plt.figure(figsize=(15,7))\n",
    "plt.xticks(rotation=45)\n",
    "a = plt.bar(objects, eff)"
   ]
  },
  {
   "cell_type": "code",
   "execution_count": 228,
   "id": "based-uncle",
   "metadata": {},
   "outputs": [
    {
     "data": {
      "text/html": [
       "<div>\n",
       "<style scoped>\n",
       "    .dataframe tbody tr th:only-of-type {\n",
       "        vertical-align: middle;\n",
       "    }\n",
       "\n",
       "    .dataframe tbody tr th {\n",
       "        vertical-align: top;\n",
       "    }\n",
       "\n",
       "    .dataframe thead th {\n",
       "        text-align: right;\n",
       "    }\n",
       "</style>\n",
       "<table border=\"1\" class=\"dataframe\">\n",
       "  <thead>\n",
       "    <tr style=\"text-align: right;\">\n",
       "      <th></th>\n",
       "      <th>uri_entity</th>\n",
       "      <th>birth_year</th>\n",
       "      <th>university_name</th>\n",
       "      <th>long</th>\n",
       "      <th>lat</th>\n",
       "    </tr>\n",
       "  </thead>\n",
       "  <tbody>\n",
       "    <tr>\n",
       "      <th>0</th>\n",
       "      <td>http://dbpedia.org/resource/A._D._Roy</td>\n",
       "      <td>1920</td>\n",
       "      <td>University of Cambridge</td>\n",
       "      <td>0.117222</td>\n",
       "      <td>52.2053</td>\n",
       "    </tr>\n",
       "    <tr>\n",
       "      <th>1</th>\n",
       "      <td>http://dbpedia.org/resource/A._K._Shiva_Kumar</td>\n",
       "      <td>1956</td>\n",
       "      <td>Bangalore University</td>\n",
       "      <td>77.5032</td>\n",
       "      <td>12.9388</td>\n",
       "    </tr>\n",
       "    <tr>\n",
       "      <th>2</th>\n",
       "      <td>http://dbpedia.org/resource/A._K._Shiva_Kumar</td>\n",
       "      <td>1956</td>\n",
       "      <td>Harvard University</td>\n",
       "      <td>-71.1169</td>\n",
       "      <td>42.3744</td>\n",
       "    </tr>\n",
       "    <tr>\n",
       "      <th>3</th>\n",
       "      <td>http://dbpedia.org/resource/A._K._Shiva_Kumar</td>\n",
       "      <td>1956</td>\n",
       "      <td>IIM Ahmedabad</td>\n",
       "      <td></td>\n",
       "      <td></td>\n",
       "    </tr>\n",
       "    <tr>\n",
       "      <th>4</th>\n",
       "      <td>http://dbpedia.org/resource/A._K._Shiva_Kumar</td>\n",
       "      <td>1956</td>\n",
       "      <td>St. Joseph's College, Bangalore</td>\n",
       "      <td>77.5964</td>\n",
       "      <td>12.9629</td>\n",
       "    </tr>\n",
       "  </tbody>\n",
       "</table>\n",
       "</div>"
      ],
      "text/plain": [
       "                                      uri_entity  birth_year  \\\n",
       "0          http://dbpedia.org/resource/A._D._Roy        1920   \n",
       "1  http://dbpedia.org/resource/A._K._Shiva_Kumar        1956   \n",
       "2  http://dbpedia.org/resource/A._K._Shiva_Kumar        1956   \n",
       "3  http://dbpedia.org/resource/A._K._Shiva_Kumar        1956   \n",
       "4  http://dbpedia.org/resource/A._K._Shiva_Kumar        1956   \n",
       "\n",
       "                   university_name      long      lat  \n",
       "0          University of Cambridge  0.117222  52.2053  \n",
       "1             Bangalore University   77.5032  12.9388  \n",
       "2               Harvard University  -71.1169  42.3744  \n",
       "3                    IIM Ahmedabad                     \n",
       "4  St. Joseph's College, Bangalore   77.5964  12.9629  "
      ]
     },
     "execution_count": 228,
     "metadata": {},
     "output_type": "execute_result"
    }
   ],
   "source": [
    "personnes_universites.head()"
   ]
  },
  {
   "cell_type": "code",
   "execution_count": 229,
   "id": "absent-particular",
   "metadata": {},
   "outputs": [
    {
     "data": {
      "text/plain": [
       "0    1901-1921\n",
       "Name: periode, dtype: category\n",
       "Categories (8, object): ['1771-1861' < '1861-1901' < '1901-1921' < '1921-1941' < '1941-1951' < '1951-1961' < '1961-1971' < '1971-2001']"
      ]
     },
     "execution_count": 229,
     "metadata": {},
     "output_type": "execute_result"
    }
   ],
   "source": [
    "personnes_uni_1771.loc[:0,'periode']"
   ]
  },
  {
   "cell_type": "code",
   "execution_count": 231,
   "id": "polar-battle",
   "metadata": {},
   "outputs": [],
   "source": [
    "### Periode est une 'category', elle est transformée ici en une chaine de caractères, \n",
    "#  ce qui est nécessaire pour le regroupement ci-dessous\n",
    "personnes_uni_1771['periode'] = personnes_uni_1771['periode'].astype(str)"
   ]
  },
  {
   "cell_type": "code",
   "execution_count": 232,
   "id": "northern-glasgow",
   "metadata": {},
   "outputs": [
    {
     "data": {
      "text/plain": [
       "0    1901-1921\n",
       "Name: periode, dtype: object"
      ]
     },
     "execution_count": 232,
     "metadata": {},
     "output_type": "execute_result"
    }
   ],
   "source": [
    "personnes_uni_1771.loc[:0,'periode']"
   ]
  },
  {
   "cell_type": "code",
   "execution_count": 233,
   "id": "anticipated-revelation",
   "metadata": {},
   "outputs": [
    {
     "data": {
      "text/html": [
       "<div>\n",
       "<style scoped>\n",
       "    .dataframe tbody tr th:only-of-type {\n",
       "        vertical-align: middle;\n",
       "    }\n",
       "\n",
       "    .dataframe tbody tr th {\n",
       "        vertical-align: top;\n",
       "    }\n",
       "\n",
       "    .dataframe thead th {\n",
       "        text-align: right;\n",
       "    }\n",
       "</style>\n",
       "<table border=\"1\" class=\"dataframe\">\n",
       "  <thead>\n",
       "    <tr style=\"text-align: right;\">\n",
       "      <th></th>\n",
       "      <th>uri_entity</th>\n",
       "      <th>birth_year</th>\n",
       "      <th>university_name</th>\n",
       "      <th>long</th>\n",
       "      <th>lat</th>\n",
       "      <th>periode</th>\n",
       "    </tr>\n",
       "  </thead>\n",
       "  <tbody>\n",
       "    <tr>\n",
       "      <th>223</th>\n",
       "      <td>http://dbpedia.org/resource/Anders_Fogh_Rasmussen</td>\n",
       "      <td>1953</td>\n",
       "      <td>Aarhus University</td>\n",
       "      <td>10.2011</td>\n",
       "      <td>56.1706</td>\n",
       "      <td>1951-1961</td>\n",
       "    </tr>\n",
       "    <tr>\n",
       "      <th>3874</th>\n",
       "      <td>http://dbpedia.org/resource/Tim_Bollerslev</td>\n",
       "      <td>1958</td>\n",
       "      <td>Aarhus University</td>\n",
       "      <td>10.2011</td>\n",
       "      <td>56.1706</td>\n",
       "      <td>1951-1961</td>\n",
       "    </tr>\n",
       "  </tbody>\n",
       "</table>\n",
       "</div>"
      ],
      "text/plain": [
       "                                             uri_entity  birth_year  \\\n",
       "223   http://dbpedia.org/resource/Anders_Fogh_Rasmussen        1953   \n",
       "3874         http://dbpedia.org/resource/Tim_Bollerslev        1958   \n",
       "\n",
       "        university_name     long      lat    periode  \n",
       "223   Aarhus University  10.2011  56.1706  1951-1961  \n",
       "3874  Aarhus University  10.2011  56.1706  1951-1961  "
      ]
     },
     "execution_count": 233,
     "metadata": {},
     "output_type": "execute_result"
    }
   ],
   "source": [
    "personnes_uni_1771[personnes_uni_1771['university_name'] == 'Aarhus University']"
   ]
  },
  {
   "cell_type": "markdown",
   "id": "private-tourist",
   "metadata": {},
   "source": [
    "### Données à cartographier concernant les Universités"
   ]
  },
  {
   "cell_type": "code",
   "execution_count": 234,
   "id": "nervous-disaster",
   "metadata": {},
   "outputs": [
    {
     "data": {
      "text/html": [
       "<div>\n",
       "<style scoped>\n",
       "    .dataframe tbody tr th:only-of-type {\n",
       "        vertical-align: middle;\n",
       "    }\n",
       "\n",
       "    .dataframe tbody tr th {\n",
       "        vertical-align: top;\n",
       "    }\n",
       "\n",
       "    .dataframe thead th {\n",
       "        text-align: right;\n",
       "    }\n",
       "</style>\n",
       "<table border=\"1\" class=\"dataframe\">\n",
       "  <thead>\n",
       "    <tr style=\"text-align: right;\">\n",
       "      <th></th>\n",
       "      <th>university_name</th>\n",
       "      <th>long</th>\n",
       "      <th>lat</th>\n",
       "      <th>periode</th>\n",
       "      <th>effectif</th>\n",
       "    </tr>\n",
       "  </thead>\n",
       "  <tbody>\n",
       "    <tr>\n",
       "      <th>0</th>\n",
       "      <td>Aarhus University</td>\n",
       "      <td>10.2011</td>\n",
       "      <td>56.1706</td>\n",
       "      <td>1951-1961</td>\n",
       "      <td>2</td>\n",
       "    </tr>\n",
       "    <tr>\n",
       "      <th>1</th>\n",
       "      <td>Aberystwyth University</td>\n",
       "      <td>-4.06576</td>\n",
       "      <td>52.4181</td>\n",
       "      <td>1921-1941</td>\n",
       "      <td>1</td>\n",
       "    </tr>\n",
       "    <tr>\n",
       "      <th>2</th>\n",
       "      <td>Achimota School</td>\n",
       "      <td>-0.213611</td>\n",
       "      <td>5.62722</td>\n",
       "      <td>1921-1941</td>\n",
       "      <td>1</td>\n",
       "    </tr>\n",
       "    <tr>\n",
       "      <th>3</th>\n",
       "      <td>Adelphi University</td>\n",
       "      <td>-73.652</td>\n",
       "      <td>40.72</td>\n",
       "      <td>1961-1971</td>\n",
       "      <td>1</td>\n",
       "    </tr>\n",
       "    <tr>\n",
       "      <th>4</th>\n",
       "      <td>Ahmadu Bello University</td>\n",
       "      <td>7.7</td>\n",
       "      <td>11.0667</td>\n",
       "      <td>1941-1951</td>\n",
       "      <td>1</td>\n",
       "    </tr>\n",
       "  </tbody>\n",
       "</table>\n",
       "</div>"
      ],
      "text/plain": [
       "           university_name       long      lat    periode  effectif\n",
       "0        Aarhus University    10.2011  56.1706  1951-1961         2\n",
       "1   Aberystwyth University   -4.06576  52.4181  1921-1941         1\n",
       "2          Achimota School  -0.213611  5.62722  1921-1941         1\n",
       "3       Adelphi University    -73.652    40.72  1961-1971         1\n",
       "4  Ahmadu Bello University        7.7  11.0667  1941-1951         1"
      ]
     },
     "execution_count": 234,
     "metadata": {},
     "output_type": "execute_result"
    }
   ],
   "source": [
    "## Compter les personnes par université et période\n",
    "gb_periode_uni = personnes_uni_1771.groupby(['university_name','long','lat', 'periode']).agg({'birth_year': 'count'}).reset_index()\n",
    "gb_periode_uni = gb_periode_uni.rename(columns={'birth_year': 'effectif'})\n",
    "gb_periode_uni.head()"
   ]
  },
  {
   "cell_type": "markdown",
   "id": "israeli-netherlands",
   "metadata": {},
   "source": [
    "#### Ecrire les données à cartographier dans un fichier CSV\n",
    "\n",
    "Le fichier 'maps/birth_place_almaMater.csv' contiendra les données à cartographier concernant les Universités et il ne sera plus nécessaire de refaire les manipulations ci-dessus, mais on pourra directement travailler sur les cartes après avoir réimporté ce fichier"
   ]
  },
  {
   "cell_type": "code",
   "execution_count": 235,
   "id": "living-cuisine",
   "metadata": {},
   "outputs": [],
   "source": [
    "gb_periode_uni.to_csv('maps/birth_place_almaMater.csv', sep=';')"
   ]
  },
  {
   "cell_type": "code",
   "execution_count": 236,
   "id": "voluntary-trial",
   "metadata": {},
   "outputs": [
    {
     "data": {
      "text/html": [
       "<div>\n",
       "<style scoped>\n",
       "    .dataframe tbody tr th:only-of-type {\n",
       "        vertical-align: middle;\n",
       "    }\n",
       "\n",
       "    .dataframe tbody tr th {\n",
       "        vertical-align: top;\n",
       "    }\n",
       "\n",
       "    .dataframe thead th {\n",
       "        text-align: right;\n",
       "    }\n",
       "</style>\n",
       "<table border=\"1\" class=\"dataframe\">\n",
       "  <thead>\n",
       "    <tr style=\"text-align: right;\">\n",
       "      <th></th>\n",
       "      <th>university_name</th>\n",
       "      <th>long</th>\n",
       "      <th>lat</th>\n",
       "      <th>periode</th>\n",
       "      <th>effectif</th>\n",
       "    </tr>\n",
       "  </thead>\n",
       "  <tbody>\n",
       "    <tr>\n",
       "      <th>0</th>\n",
       "      <td>Aarhus University</td>\n",
       "      <td>10.201100</td>\n",
       "      <td>56.17060</td>\n",
       "      <td>1951-1961</td>\n",
       "      <td>2</td>\n",
       "    </tr>\n",
       "    <tr>\n",
       "      <th>1</th>\n",
       "      <td>Aberystwyth University</td>\n",
       "      <td>-4.065760</td>\n",
       "      <td>52.41810</td>\n",
       "      <td>1921-1941</td>\n",
       "      <td>1</td>\n",
       "    </tr>\n",
       "    <tr>\n",
       "      <th>2</th>\n",
       "      <td>Achimota School</td>\n",
       "      <td>-0.213611</td>\n",
       "      <td>5.62722</td>\n",
       "      <td>1921-1941</td>\n",
       "      <td>1</td>\n",
       "    </tr>\n",
       "    <tr>\n",
       "      <th>3</th>\n",
       "      <td>Adelphi University</td>\n",
       "      <td>-73.652000</td>\n",
       "      <td>40.72000</td>\n",
       "      <td>1961-1971</td>\n",
       "      <td>1</td>\n",
       "    </tr>\n",
       "    <tr>\n",
       "      <th>4</th>\n",
       "      <td>Ahmadu Bello University</td>\n",
       "      <td>7.700000</td>\n",
       "      <td>11.06670</td>\n",
       "      <td>1941-1951</td>\n",
       "      <td>1</td>\n",
       "    </tr>\n",
       "  </tbody>\n",
       "</table>\n",
       "</div>"
      ],
      "text/plain": [
       "           university_name       long       lat    periode  effectif\n",
       "0        Aarhus University  10.201100  56.17060  1951-1961         2\n",
       "1   Aberystwyth University  -4.065760  52.41810  1921-1941         1\n",
       "2          Achimota School  -0.213611   5.62722  1921-1941         1\n",
       "3       Adelphi University -73.652000  40.72000  1961-1971         1\n",
       "4  Ahmadu Bello University   7.700000  11.06670  1941-1951         1"
      ]
     },
     "execution_count": 236,
     "metadata": {},
     "output_type": "execute_result"
    }
   ],
   "source": [
    "### Importer le CSV et mettre son contenu dans la variable 'place_count' \n",
    "# au cas où on ne souhaite pas répéter toutes les opérations précédentes\n",
    "gb_periode_uni = pd.read_csv('maps/birth_place_almaMater.csv', sep=';', index_col=[0])\n",
    "gb_periode_uni.head()"
   ]
  },
  {
   "cell_type": "markdown",
   "id": "embedded-pearl",
   "metadata": {},
   "source": [
    "# Créer une carte\n",
    "\n",
    "\n",
    "\n",
    "Nous utilisons ici la librairie __[ipyleaflet](https://ipyleaflet.readthedocs.io/en/latest/): Interactive maps in the Jupyter notebook__\n",
    "* Installation : [JupyterLab extension](https://ipyleaflet.readthedocs.io/en/latest/installation.html#jupyterlab-extension)\n",
    "\n",
    "\n",
    "D'autres librairies existent telles que Folium, [GeoPandas](https://geopandas.org/), etc.\n",
    "\n",
    "\n",
    "\n",
    "Voir le tutoriel de [Programming Historian](https://programminghistorian.org/en/lessons/mapping-with-python-leaflet) à ce sujet"
   ]
  },
  {
   "cell_type": "markdown",
   "id": "under-liberty",
   "metadata": {},
   "source": [
    "## Choisir d'abord un fonds de carte adapté\n",
    "\n",
    "* Noter qu'on peut activer ou désactiver les fonds de carte dans le contrôle ne haut à droite \n",
    "* On peut ainsi les compater et choisir le plus adapté en fonction des données à afficher"
   ]
  },
  {
   "cell_type": "code",
   "execution_count": 321,
   "id": "banner-nutrition",
   "metadata": {},
   "outputs": [
    {
     "data": {
      "application/vnd.jupyter.widget-view+json": {
       "model_id": "e27a7ada535d476e887b785baf6320b0",
       "version_major": 2,
       "version_minor": 0
      },
      "text/plain": [
       "Map(center=[35, 5], controls=(ZoomControl(options=['position', 'zoom_in_text', 'zoom_in_title', 'zoom_out_text…"
      ]
     },
     "metadata": {},
     "output_type": "display_data"
    }
   ],
   "source": [
    "## trois exemples sont proposés ici, bien d'autres existent\n",
    "\n",
    "watercolor = basemap_to_tiles(basemaps.Stamen.Watercolor)\n",
    "esri_sat = basemap_to_tiles(basemaps.Esri.WorldImagery)\n",
    "open_street_map = basemap_to_tiles(basemaps.OpenStreetMap.Mapnik)\n",
    "\n",
    "## https://ipywidgets.readthedocs.io/en/latest/examples/Widget%20Styling.html\n",
    "m1 = Map(layers=(watercolor,esri_sat,open_street_map), center=(35, 5), layout=Layout(width='100%', height='600px'),\\\n",
    "        zoom_control=True  , zoom=4 #, scroll_wheel_zoom=True\n",
    "       )\n",
    "\n",
    "control = LayersControl(name='layCont', position='topright')\n",
    "m1.add_control(control)\n",
    "\n",
    "m1.add_control(ScaleControl(position='topleft'))\n",
    "\n",
    "m1\n",
    "\n"
   ]
  },
  {
   "cell_type": "markdown",
   "id": "burning-extra",
   "metadata": {},
   "source": [
    "## Carte avec valeurs agrégées : fonds de carte"
   ]
  },
  {
   "cell_type": "code",
   "execution_count": 322,
   "id": "worth-merchant",
   "metadata": {
    "tags": []
   },
   "outputs": [
    {
     "data": {
      "application/vnd.jupyter.widget-view+json": {
       "model_id": "07d5df85c0da4d5a87161a6b6d574417",
       "version_major": 2,
       "version_minor": 0
      },
      "text/plain": [
       "Map(center=[35, 5], controls=(AttributionControl(options=['position', 'prefix'], position='bottomright'), Widg…"
      ]
     },
     "metadata": {},
     "output_type": "display_data"
    }
   ],
   "source": [
    "# Chois du fonds de carte:\n",
    "open_street_map = basemap_to_tiles(basemaps.OpenStreetMap.Mapnik)\n",
    "\n",
    "## https://ipywidgets.readthedocs.io/en/latest/examples/Widget%20Styling.html\n",
    "m1 = Map(layers=(open_street_map,), center=(35, 5), layout=Layout(width='100%', height='600px'),\\\n",
    "        zoom_control=False    # , zoom=4, scroll_wheel_zoom= True\n",
    "       )\n",
    "\n",
    "zoom_slider = IntSlider(description='Zoom level:', min=0, max=15, value=2)\n",
    "jslink((zoom_slider, 'value'), (m1, 'zoom'))\n",
    "widget_control1 = WidgetControl(widget=zoom_slider, position='bottomright')\n",
    "m1.add_control(widget_control1)\n",
    "\n",
    "control = LayersControl(name='layCont', position='topright')\n",
    "m1.add_control(control)\n",
    "\n",
    "m1.add_control(ScaleControl(position='topleft'))\n",
    "\n",
    "m1\n",
    "\n"
   ]
  },
  {
   "cell_type": "markdown",
   "id": "biological-genetics",
   "metadata": {},
   "source": [
    "## Ajouter la couche avec les personnes\n",
    "\n",
    "Noter que le calcul de l'affichage peut prendre quelques secondes en fonction du nombre de points à projeter sur la carte"
   ]
  },
  {
   "cell_type": "code",
   "execution_count": 323,
   "id": "documented-pressure",
   "metadata": {},
   "outputs": [
    {
     "data": {
      "text/html": [
       "<div>\n",
       "<style scoped>\n",
       "    .dataframe tbody tr th:only-of-type {\n",
       "        vertical-align: middle;\n",
       "    }\n",
       "\n",
       "    .dataframe tbody tr th {\n",
       "        vertical-align: top;\n",
       "    }\n",
       "\n",
       "    .dataframe thead th {\n",
       "        text-align: right;\n",
       "    }\n",
       "</style>\n",
       "<table border=\"1\" class=\"dataframe\">\n",
       "  <thead>\n",
       "    <tr style=\"text-align: right;\">\n",
       "      <th></th>\n",
       "      <th>place_name</th>\n",
       "      <th>place_type</th>\n",
       "      <th>long</th>\n",
       "      <th>lat</th>\n",
       "      <th>persons</th>\n",
       "      <th>effectif</th>\n",
       "      <th>periodes</th>\n",
       "      <th>periodes_agregees</th>\n",
       "    </tr>\n",
       "  </thead>\n",
       "  <tbody>\n",
       "    <tr>\n",
       "      <th>130</th>\n",
       "      <td>Bayonne, New Jersey</td>\n",
       "      <td>City</td>\n",
       "      <td>-74.110200</td>\n",
       "      <td>40.6625</td>\n",
       "      <td>http://dbpedia.org/resource/Faye_Duchin|Faye D...</td>\n",
       "      <td>2</td>\n",
       "      <td>['1946-', '1946-']</td>\n",
       "      <td>{'1946-': 2}</td>\n",
       "    </tr>\n",
       "    <tr>\n",
       "      <th>131</th>\n",
       "      <td>Beatrice, Nebraska</td>\n",
       "      <td>City</td>\n",
       "      <td>-96.743100</td>\n",
       "      <td>40.2683</td>\n",
       "      <td>http://dbpedia.org/resource/Harold_Thayer_Davi...</td>\n",
       "      <td>1</td>\n",
       "      <td>['1901-1945', '1946-']</td>\n",
       "      <td>{'1901-1945': 1, '1946-': 1}</td>\n",
       "    </tr>\n",
       "    <tr>\n",
       "      <th>132</th>\n",
       "      <td>Beaumont, Texas</td>\n",
       "      <td>City</td>\n",
       "      <td>-94.126700</td>\n",
       "      <td>30.0800</td>\n",
       "      <td>http://dbpedia.org/resource/John_Graham_(econo...</td>\n",
       "      <td>1</td>\n",
       "      <td>['1946-']</td>\n",
       "      <td>{'1946-': 1}</td>\n",
       "    </tr>\n",
       "    <tr>\n",
       "      <th>133</th>\n",
       "      <td>Beckley, West Virginia</td>\n",
       "      <td>City</td>\n",
       "      <td>-81.188100</td>\n",
       "      <td>37.7781</td>\n",
       "      <td>http://dbpedia.org/resource/Tom_Carper|Tom Car...</td>\n",
       "      <td>1</td>\n",
       "      <td>['1946-']</td>\n",
       "      <td>{'1946-': 1}</td>\n",
       "    </tr>\n",
       "    <tr>\n",
       "      <th>134</th>\n",
       "      <td>Bedfordshire</td>\n",
       "      <td>AdministrativeRegion</td>\n",
       "      <td>-0.416667</td>\n",
       "      <td>52.0833</td>\n",
       "      <td>http://dbpedia.org/resource/Andrew_Stuart_Winc...</td>\n",
       "      <td>1</td>\n",
       "      <td>['1946-']</td>\n",
       "      <td>{'1946-': 1}</td>\n",
       "    </tr>\n",
       "  </tbody>\n",
       "</table>\n",
       "</div>"
      ],
      "text/plain": [
       "                 place_name            place_type       long      lat  \\\n",
       "130     Bayonne, New Jersey                  City -74.110200  40.6625   \n",
       "131      Beatrice, Nebraska                  City -96.743100  40.2683   \n",
       "132         Beaumont, Texas                  City -94.126700  30.0800   \n",
       "133  Beckley, West Virginia                  City -81.188100  37.7781   \n",
       "134            Bedfordshire  AdministrativeRegion  -0.416667  52.0833   \n",
       "\n",
       "                                               persons  effectif  \\\n",
       "130  http://dbpedia.org/resource/Faye_Duchin|Faye D...         2   \n",
       "131  http://dbpedia.org/resource/Harold_Thayer_Davi...         1   \n",
       "132  http://dbpedia.org/resource/John_Graham_(econo...         1   \n",
       "133  http://dbpedia.org/resource/Tom_Carper|Tom Car...         1   \n",
       "134  http://dbpedia.org/resource/Andrew_Stuart_Winc...         1   \n",
       "\n",
       "                   periodes             periodes_agregees  \n",
       "130      ['1946-', '1946-']                  {'1946-': 2}  \n",
       "131  ['1901-1945', '1946-']  {'1901-1945': 1, '1946-': 1}  \n",
       "132               ['1946-']                  {'1946-': 1}  \n",
       "133               ['1946-']                  {'1946-': 1}  \n",
       "134               ['1946-']                  {'1946-': 1}  "
      ]
     },
     "execution_count": 323,
     "metadata": {},
     "output_type": "execute_result"
    }
   ],
   "source": [
    "place_count[130:135]"
   ]
  },
  {
   "cell_type": "code",
   "execution_count": 324,
   "id": "ranking-coordination",
   "metadata": {},
   "outputs": [
    {
     "name": "stdout",
     "output_type": "stream",
     "text": [
      "Markers' number 1663\n"
     ]
    }
   ],
   "source": [
    "## Parcourir le DataFrame et extraire les valeurs\n",
    "#  i = index, v = valeur\n",
    "\n",
    "markers = []\n",
    "for i,v in place_count.iterrows():\n",
    "    circle = CircleMarker(location=(v['lat'], v['long']), color=\"black\", name=f\"{v['place_name']}\", \\\n",
    "                              radius = v['effectif']+2, weight=1)   \n",
    "    \n",
    "    markers.append(circle)\n",
    "\n",
    "\n",
    "print(\"Markers' number \" + str(len(markers)))\n",
    "\n",
    "### Le MarkerCluster agrège automatiquement les résultats en fonction de l'échelle \n",
    "# alors que le LayerGroup affiche toujours tout, indépendamment du facteur de zoom\n",
    "\n",
    "# lg1 = LayerGroup(name='Birth places ' + name_part, layers=(markers))\n",
    "lg1 = MarkerCluster(name='Birth places', markers=markers)\n",
    "\n",
    "m1.add_layer(lg1)"
   ]
  },
  {
   "cell_type": "markdown",
   "id": "yellow-angola",
   "metadata": {},
   "source": [
    "### Ajouter la couche avec les Universités"
   ]
  },
  {
   "cell_type": "code",
   "execution_count": 325,
   "id": "systematic-notification",
   "metadata": {},
   "outputs": [
    {
     "data": {
      "text/html": [
       "<div>\n",
       "<style scoped>\n",
       "    .dataframe tbody tr th:only-of-type {\n",
       "        vertical-align: middle;\n",
       "    }\n",
       "\n",
       "    .dataframe tbody tr th {\n",
       "        vertical-align: top;\n",
       "    }\n",
       "\n",
       "    .dataframe thead th {\n",
       "        text-align: right;\n",
       "    }\n",
       "</style>\n",
       "<table border=\"1\" class=\"dataframe\">\n",
       "  <thead>\n",
       "    <tr style=\"text-align: right;\">\n",
       "      <th></th>\n",
       "      <th>university_name</th>\n",
       "      <th>long</th>\n",
       "      <th>lat</th>\n",
       "      <th>effectif</th>\n",
       "    </tr>\n",
       "  </thead>\n",
       "  <tbody>\n",
       "    <tr>\n",
       "      <th>0</th>\n",
       "      <td>Aarhus University</td>\n",
       "      <td>10.2011</td>\n",
       "      <td>56.1706</td>\n",
       "      <td>2</td>\n",
       "    </tr>\n",
       "    <tr>\n",
       "      <th>1</th>\n",
       "      <td>Aberystwyth University</td>\n",
       "      <td>-4.06576</td>\n",
       "      <td>52.4181</td>\n",
       "      <td>1</td>\n",
       "    </tr>\n",
       "    <tr>\n",
       "      <th>2</th>\n",
       "      <td>Achimota School</td>\n",
       "      <td>-0.213611</td>\n",
       "      <td>5.62722</td>\n",
       "      <td>1</td>\n",
       "    </tr>\n",
       "    <tr>\n",
       "      <th>3</th>\n",
       "      <td>Adelphi University</td>\n",
       "      <td>-73.652</td>\n",
       "      <td>40.72</td>\n",
       "      <td>1</td>\n",
       "    </tr>\n",
       "    <tr>\n",
       "      <th>4</th>\n",
       "      <td>Ahmadu Bello University</td>\n",
       "      <td>7.7</td>\n",
       "      <td>11.0667</td>\n",
       "      <td>1</td>\n",
       "    </tr>\n",
       "  </tbody>\n",
       "</table>\n",
       "</div>"
      ],
      "text/plain": [
       "           university_name       long      lat  effectif\n",
       "0        Aarhus University    10.2011  56.1706         2\n",
       "1   Aberystwyth University   -4.06576  52.4181         1\n",
       "2          Achimota School  -0.213611  5.62722         1\n",
       "3       Adelphi University    -73.652    40.72         1\n",
       "4  Ahmadu Bello University        7.7  11.0667         1"
      ]
     },
     "execution_count": 325,
     "metadata": {},
     "output_type": "execute_result"
    }
   ],
   "source": [
    "## Compter les personnes par université et période\n",
    "gb_count_uni = personnes_uni_1771.groupby(['university_name','long','lat']).agg({'birth_year': 'count'}).reset_index()\n",
    "gb_count_uni = gb_count_uni.rename(columns={'birth_year': 'effectif'})\n",
    "gb_count_uni.head()"
   ]
  },
  {
   "cell_type": "code",
   "execution_count": 326,
   "id": "international-italian",
   "metadata": {},
   "outputs": [
    {
     "name": "stdout",
     "output_type": "stream",
     "text": [
      "Markers' number 813\n"
     ]
    }
   ],
   "source": [
    "## Parcourir le DataFrame et extraire les valeurs\n",
    "#  i = index, v = valeur\n",
    "\n",
    "markers = []\n",
    "for i,v in gb_count_uni.iterrows():\n",
    "    marker = Marker(location=(v['lat'], v['long']), draggable=False,\\\n",
    "                    title=  v['university_name'] + ' (' + str(v['effectif']) + ')' )\n",
    "                    \n",
    "    \n",
    "    markers.append(marker)\n",
    "\n",
    "\n",
    "print(\"Markers' number \" + str(len(markers)))\n",
    "\n",
    "lg2 = MarkerCluster(name='Universities', markers=markers)\n",
    "\n",
    "m1.add_layer(lg2)"
   ]
  },
  {
   "cell_type": "markdown",
   "id": "understanding-seminar",
   "metadata": {
    "tags": []
   },
   "source": [
    "### Enregistrer et afficher la carte au format HTML\n",
    "\n",
    "* Noter que la partie interactive ne marche – l'enregistrement ne s'applique qu'aux parties de la carte statiques, à l'état du moment de l'enregistrement\n",
    "* Ouvrir le nouveau ficher de la carte directement dans un navigateur web, en le cherchant et ouvrant depuis le navigateur\n",
    "* Noter que l'affichage de la carte dans le navigateur peut prendre quelques secondes en fonction du poids du fichier de la carte"
   ]
  },
  {
   "cell_type": "code",
   "execution_count": 327,
   "id": "simplified-immigration",
   "metadata": {
    "tags": []
   },
   "outputs": [],
   "source": [
    "m1.save('maps/birth_place_almaMater.html', title='Birth places and universities')"
   ]
  },
  {
   "cell_type": "code",
   "execution_count": null,
   "id": "verified-toner",
   "metadata": {},
   "outputs": [],
   "source": []
  },
  {
   "cell_type": "markdown",
   "id": "sacred-visibility",
   "metadata": {},
   "source": [
    "### Ajouter les couches des Universités par tranches chronologiques\n",
    "\n",
    "\n",
    "Cette requête avancée illustre la possibilité de créer automatiquement une série de couches sur une carte\n",
    "\n",
    "* En décochant toutes les couches dans le contrôle des couches, puis on les recochant on peut explorer le changement dans le temps de la distribution dans l'espace des naissances\n",
    "* Noter que les nouvelles couches sont projetées sur la carte ci-dessus"
   ]
  },
  {
   "cell_type": "code",
   "execution_count": 248,
   "id": "durable-server",
   "metadata": {},
   "outputs": [
    {
     "data": {
      "text/html": [
       "<div>\n",
       "<style scoped>\n",
       "    .dataframe tbody tr th:only-of-type {\n",
       "        vertical-align: middle;\n",
       "    }\n",
       "\n",
       "    .dataframe tbody tr th {\n",
       "        vertical-align: top;\n",
       "    }\n",
       "\n",
       "    .dataframe thead th {\n",
       "        text-align: right;\n",
       "    }\n",
       "</style>\n",
       "<table border=\"1\" class=\"dataframe\">\n",
       "  <thead>\n",
       "    <tr style=\"text-align: right;\">\n",
       "      <th></th>\n",
       "      <th>university_name</th>\n",
       "      <th>long</th>\n",
       "      <th>lat</th>\n",
       "      <th>periode</th>\n",
       "      <th>effectif</th>\n",
       "    </tr>\n",
       "  </thead>\n",
       "  <tbody>\n",
       "    <tr>\n",
       "      <th>0</th>\n",
       "      <td>Aarhus University</td>\n",
       "      <td>10.201100</td>\n",
       "      <td>56.17060</td>\n",
       "      <td>1951-1961</td>\n",
       "      <td>2</td>\n",
       "    </tr>\n",
       "    <tr>\n",
       "      <th>1</th>\n",
       "      <td>Aberystwyth University</td>\n",
       "      <td>-4.065760</td>\n",
       "      <td>52.41810</td>\n",
       "      <td>1921-1941</td>\n",
       "      <td>1</td>\n",
       "    </tr>\n",
       "    <tr>\n",
       "      <th>2</th>\n",
       "      <td>Achimota School</td>\n",
       "      <td>-0.213611</td>\n",
       "      <td>5.62722</td>\n",
       "      <td>1921-1941</td>\n",
       "      <td>1</td>\n",
       "    </tr>\n",
       "    <tr>\n",
       "      <th>3</th>\n",
       "      <td>Adelphi University</td>\n",
       "      <td>-73.652000</td>\n",
       "      <td>40.72000</td>\n",
       "      <td>1961-1971</td>\n",
       "      <td>1</td>\n",
       "    </tr>\n",
       "    <tr>\n",
       "      <th>4</th>\n",
       "      <td>Ahmadu Bello University</td>\n",
       "      <td>7.700000</td>\n",
       "      <td>11.06670</td>\n",
       "      <td>1941-1951</td>\n",
       "      <td>1</td>\n",
       "    </tr>\n",
       "    <tr>\n",
       "      <th>...</th>\n",
       "      <td>...</td>\n",
       "      <td>...</td>\n",
       "      <td>...</td>\n",
       "      <td>...</td>\n",
       "      <td>...</td>\n",
       "    </tr>\n",
       "    <tr>\n",
       "      <th>1580</th>\n",
       "      <td>École nationale d'administration</td>\n",
       "      <td>7.737220</td>\n",
       "      <td>48.58060</td>\n",
       "      <td>1951-1961</td>\n",
       "      <td>1</td>\n",
       "    </tr>\n",
       "    <tr>\n",
       "      <th>1581</th>\n",
       "      <td>École nationale de l'aviation civile</td>\n",
       "      <td>1.481110</td>\n",
       "      <td>43.56530</td>\n",
       "      <td>1921-1941</td>\n",
       "      <td>2</td>\n",
       "    </tr>\n",
       "    <tr>\n",
       "      <th>1582</th>\n",
       "      <td>École normale supérieure Paris-Saclay</td>\n",
       "      <td>2.326630</td>\n",
       "      <td>48.78870</td>\n",
       "      <td>1971-2001</td>\n",
       "      <td>1</td>\n",
       "    </tr>\n",
       "    <tr>\n",
       "      <th>1583</th>\n",
       "      <td>École pratique des hautes études</td>\n",
       "      <td>2.340000</td>\n",
       "      <td>48.83110</td>\n",
       "      <td>1901-1921</td>\n",
       "      <td>1</td>\n",
       "    </tr>\n",
       "    <tr>\n",
       "      <th>1584</th>\n",
       "      <td>Örebro University</td>\n",
       "      <td>15.245300</td>\n",
       "      <td>59.25440</td>\n",
       "      <td>1961-1971</td>\n",
       "      <td>1</td>\n",
       "    </tr>\n",
       "  </tbody>\n",
       "</table>\n",
       "<p>1585 rows × 5 columns</p>\n",
       "</div>"
      ],
      "text/plain": [
       "                            university_name       long       lat    periode  \\\n",
       "0                         Aarhus University  10.201100  56.17060  1951-1961   \n",
       "1                    Aberystwyth University  -4.065760  52.41810  1921-1941   \n",
       "2                           Achimota School  -0.213611   5.62722  1921-1941   \n",
       "3                        Adelphi University -73.652000  40.72000  1961-1971   \n",
       "4                   Ahmadu Bello University   7.700000  11.06670  1941-1951   \n",
       "...                                     ...        ...       ...        ...   \n",
       "1580       École nationale d'administration   7.737220  48.58060  1951-1961   \n",
       "1581   École nationale de l'aviation civile   1.481110  43.56530  1921-1941   \n",
       "1582  École normale supérieure Paris-Saclay   2.326630  48.78870  1971-2001   \n",
       "1583       École pratique des hautes études   2.340000  48.83110  1901-1921   \n",
       "1584                      Örebro University  15.245300  59.25440  1961-1971   \n",
       "\n",
       "      effectif  \n",
       "0            2  \n",
       "1            1  \n",
       "2            1  \n",
       "3            1  \n",
       "4            1  \n",
       "...        ...  \n",
       "1580         1  \n",
       "1581         2  \n",
       "1582         1  \n",
       "1583         1  \n",
       "1584         1  \n",
       "\n",
       "[1585 rows x 5 columns]"
      ]
     },
     "execution_count": 248,
     "metadata": {},
     "output_type": "execute_result"
    }
   ],
   "source": [
    "gb_periode_uni"
   ]
  },
  {
   "cell_type": "code",
   "execution_count": 249,
   "id": "artificial-coordinator",
   "metadata": {},
   "outputs": [
    {
     "data": {
      "text/plain": [
       "8"
      ]
     },
     "execution_count": 249,
     "metadata": {},
     "output_type": "execute_result"
    }
   ],
   "source": [
    "len(liste_periodes)"
   ]
  },
  {
   "cell_type": "code",
   "execution_count": 251,
   "id": "fitted-provider",
   "metadata": {},
   "outputs": [
    {
     "data": {
      "text/plain": [
       "['#1f77b4', '#ff7f0e', '#2ca02c']"
      ]
     },
     "execution_count": 251,
     "metadata": {},
     "output_type": "execute_result"
    }
   ],
   "source": [
    "### Créer une liste de couleurs pour l'affichage\n",
    "import matplotlib.colors as mcolors\n",
    "col_list = [c for c in mcolors.TABLEAU_COLORS.values()]\n",
    "col_list[:3]"
   ]
  },
  {
   "cell_type": "code",
   "execution_count": 253,
   "id": "weekly-occasions",
   "metadata": {},
   "outputs": [
    {
     "data": {
      "text/plain": [
       "'lg0'"
      ]
     },
     "execution_count": 253,
     "metadata": {},
     "output_type": "execute_result"
    }
   ],
   "source": [
    "### créer des variables dynamiques, le nom de la variable (créé préalablement) est appelé par l'index\n",
    "\n",
    "# un exemple\n",
    "\n",
    "layers_ids = ['lg' + str(x) for x in range(len(liste_periodes))]\n",
    "my_dict = {}\n",
    "for x in range(len(liste_periodes)):\n",
    "    my_dict[x] = layers_ids[x]\n",
    "\n",
    "my_dict[0]"
   ]
  },
  {
   "cell_type": "code",
   "execution_count": 254,
   "id": "alternate-response",
   "metadata": {},
   "outputs": [
    {
     "name": "stdout",
     "output_type": "stream",
     "text": [
      "1771-1861\n",
      "Markers' number 49\n",
      "1861-1901\n",
      "Markers' number 98\n",
      "1901-1921\n",
      "Markers' number 128\n",
      "1921-1941\n",
      "Markers' number 265\n",
      "1941-1951\n",
      "Markers' number 332\n",
      "1951-1961\n",
      "Markers' number 322\n",
      "1961-1971\n",
      "Markers' number 265\n",
      "1971-2001\n",
      "Markers' number 126\n"
     ]
    }
   ],
   "source": [
    "idx = 0\n",
    "for p in liste_periodes:    \n",
    "    markers = []\n",
    "    print(p)\n",
    "    for i,v in gb_periode_uni.iterrows():\n",
    "        if p == v['periode']:\n",
    "            circle = CircleMarker(location=(v['lat'], v['long']), color=col_list[idx], name=f\"{v['university_name']}\", \\\n",
    "                              radius = int(math.log((v['effectif'] + 1) * 3, 2)), weight=1)\n",
    "            # message.value = f\"<h4>{j['place_name']} ({j['count_persons']})</h4>\" + p_elements\n",
    "            # a = HBox([message], layout=Layout(width='200px', height='200px', overflow_y='auto',overflow=\"auto\"))\n",
    "            message = HTML()\n",
    "            message.value = f\"{v['university_name']} ({v['effectif']})\"\n",
    "\n",
    "            a = HBox([message], layout=Layout(width='100px', height='200px', overflow=\"auto\")) # overflow_y='auto',\n",
    "\n",
    "            circle.popup = a\n",
    "        \n",
    "            markers.append(circle)\n",
    "\n",
    "\n",
    "    print(\"Markers' number \" + str(len(markers)))\n",
    "\n",
    "    # lg = MarkerCluster(name='Universités (' + v['periode'] +')', markers=markers)\n",
    "    my_dict[idx] = LayerGroup(name='Universités (' + p +')', layers=(markers))\n",
    "    \n",
    "    m1.add_layer(my_dict[idx])\n",
    "    idx += 1"
   ]
  },
  {
   "cell_type": "code",
   "execution_count": null,
   "id": "widespread-gilbert",
   "metadata": {},
   "outputs": [],
   "source": []
  },
  {
   "cell_type": "code",
   "execution_count": 329,
   "id": "legal-buying",
   "metadata": {},
   "outputs": [
    {
     "data": {
      "text/html": [
       "<div>\n",
       "<style scoped>\n",
       "    .dataframe tbody tr th:only-of-type {\n",
       "        vertical-align: middle;\n",
       "    }\n",
       "\n",
       "    .dataframe tbody tr th {\n",
       "        vertical-align: top;\n",
       "    }\n",
       "\n",
       "    .dataframe thead th {\n",
       "        text-align: right;\n",
       "    }\n",
       "</style>\n",
       "<table border=\"1\" class=\"dataframe\">\n",
       "  <thead>\n",
       "    <tr style=\"text-align: right;\">\n",
       "      <th></th>\n",
       "      <th>place_name</th>\n",
       "      <th>place_type</th>\n",
       "      <th>long</th>\n",
       "      <th>lat</th>\n",
       "      <th>persons</th>\n",
       "      <th>effectif</th>\n",
       "      <th>periodes</th>\n",
       "      <th>periodes_agregees</th>\n",
       "    </tr>\n",
       "  </thead>\n",
       "  <tbody>\n",
       "    <tr>\n",
       "      <th>102</th>\n",
       "      <td>Balatina</td>\n",
       "      <td>Village</td>\n",
       "      <td>27.35000</td>\n",
       "      <td>47.7000</td>\n",
       "      <td>http://dbpedia.org/resource/Anatol_Stati|Anato...</td>\n",
       "      <td>1</td>\n",
       "      <td>['1946-']</td>\n",
       "      <td>{'1946-': 1}</td>\n",
       "    </tr>\n",
       "    <tr>\n",
       "      <th>103</th>\n",
       "      <td>Balatonlelle</td>\n",
       "      <td>Town</td>\n",
       "      <td>17.67570</td>\n",
       "      <td>46.7822</td>\n",
       "      <td>http://dbpedia.org/resource/István_Kossa|Istvá...</td>\n",
       "      <td>1</td>\n",
       "      <td>['1901-1945', '1946-']</td>\n",
       "      <td>{'1901-1945': 1, '1946-': 1}</td>\n",
       "    </tr>\n",
       "    <tr>\n",
       "      <th>104</th>\n",
       "      <td>Balingen</td>\n",
       "      <td>Town</td>\n",
       "      <td>8.85056</td>\n",
       "      <td>48.2731</td>\n",
       "      <td>http://dbpedia.org/resource/Gerd_Hahn|Gerd Hah...</td>\n",
       "      <td>1</td>\n",
       "      <td>['1946-']</td>\n",
       "      <td>{'1946-': 1}</td>\n",
       "    </tr>\n",
       "    <tr>\n",
       "      <th>105</th>\n",
       "      <td>Ballston, New York</td>\n",
       "      <td>Town</td>\n",
       "      <td>-73.87470</td>\n",
       "      <td>42.9533</td>\n",
       "      <td>http://dbpedia.org/resource/Sidney_Sherwood|Si...</td>\n",
       "      <td>1</td>\n",
       "      <td>['-1900', '1901-1945']</td>\n",
       "      <td>{'-1900': 1, '1901-1945': 1}</td>\n",
       "    </tr>\n",
       "    <tr>\n",
       "      <th>106</th>\n",
       "      <td>Baltimore</td>\n",
       "      <td>City</td>\n",
       "      <td>-76.61530</td>\n",
       "      <td>39.2894</td>\n",
       "      <td>http://dbpedia.org/resource/Ansley_J._Coale|An...</td>\n",
       "      <td>4</td>\n",
       "      <td>['1901-1945', '1946-', '1901-1945', '1946-', '...</td>\n",
       "      <td>{'1901-1945': 3, '1946-': 4}</td>\n",
       "    </tr>\n",
       "    <tr>\n",
       "      <th>107</th>\n",
       "      <td>Bandung</td>\n",
       "      <td>City</td>\n",
       "      <td>107.61000</td>\n",
       "      <td>-6.9120</td>\n",
       "      <td>http://dbpedia.org/resource/Faisal_Basri|Faisa...</td>\n",
       "      <td>1</td>\n",
       "      <td>['1946-']</td>\n",
       "      <td>{'1946-': 1}</td>\n",
       "    </tr>\n",
       "  </tbody>\n",
       "</table>\n",
       "</div>"
      ],
      "text/plain": [
       "             place_name place_type       long      lat  \\\n",
       "102            Balatina    Village   27.35000  47.7000   \n",
       "103        Balatonlelle       Town   17.67570  46.7822   \n",
       "104            Balingen       Town    8.85056  48.2731   \n",
       "105  Ballston, New York       Town  -73.87470  42.9533   \n",
       "106           Baltimore       City  -76.61530  39.2894   \n",
       "107             Bandung       City  107.61000  -6.9120   \n",
       "\n",
       "                                               persons  effectif  \\\n",
       "102  http://dbpedia.org/resource/Anatol_Stati|Anato...         1   \n",
       "103  http://dbpedia.org/resource/István_Kossa|Istvá...         1   \n",
       "104  http://dbpedia.org/resource/Gerd_Hahn|Gerd Hah...         1   \n",
       "105  http://dbpedia.org/resource/Sidney_Sherwood|Si...         1   \n",
       "106  http://dbpedia.org/resource/Ansley_J._Coale|An...         4   \n",
       "107  http://dbpedia.org/resource/Faisal_Basri|Faisa...         1   \n",
       "\n",
       "                                              periodes  \\\n",
       "102                                          ['1946-']   \n",
       "103                             ['1901-1945', '1946-']   \n",
       "104                                          ['1946-']   \n",
       "105                             ['-1900', '1901-1945']   \n",
       "106  ['1901-1945', '1946-', '1901-1945', '1946-', '...   \n",
       "107                                          ['1946-']   \n",
       "\n",
       "                periodes_agregees  \n",
       "102                  {'1946-': 1}  \n",
       "103  {'1901-1945': 1, '1946-': 1}  \n",
       "104                  {'1946-': 1}  \n",
       "105  {'-1900': 1, '1901-1945': 1}  \n",
       "106  {'1901-1945': 3, '1946-': 4}  \n",
       "107                  {'1946-': 1}  "
      ]
     },
     "execution_count": 329,
     "metadata": {},
     "output_type": "execute_result"
    }
   ],
   "source": [
    "place_count.iloc[102:108]"
   ]
  },
  {
   "cell_type": "code",
   "execution_count": 348,
   "id": "israeli-frost",
   "metadata": {},
   "outputs": [
    {
     "data": {
      "text/html": [
       "<div>\n",
       "<style scoped>\n",
       "    .dataframe tbody tr th:only-of-type {\n",
       "        vertical-align: middle;\n",
       "    }\n",
       "\n",
       "    .dataframe tbody tr th {\n",
       "        vertical-align: top;\n",
       "    }\n",
       "\n",
       "    .dataframe thead th {\n",
       "        text-align: right;\n",
       "    }\n",
       "</style>\n",
       "<table border=\"1\" class=\"dataframe\">\n",
       "  <thead>\n",
       "    <tr style=\"text-align: right;\">\n",
       "      <th></th>\n",
       "      <th>place_name</th>\n",
       "      <th>place_type</th>\n",
       "      <th>long</th>\n",
       "      <th>lat</th>\n",
       "      <th>persons</th>\n",
       "      <th>effectif</th>\n",
       "      <th>periodes</th>\n",
       "      <th>periodes_agregees</th>\n",
       "    </tr>\n",
       "  </thead>\n",
       "  <tbody>\n",
       "    <tr>\n",
       "      <th>106</th>\n",
       "      <td>Baltimore</td>\n",
       "      <td>City</td>\n",
       "      <td>-76.6153</td>\n",
       "      <td>39.2894</td>\n",
       "      <td>http://dbpedia.org/resource/Ansley_J._Coale|An...</td>\n",
       "      <td>4</td>\n",
       "      <td>['1901-1945', '1946-', '1901-1945', '1946-', '...</td>\n",
       "      <td>{'1901-1945': 3, '1946-': 4}</td>\n",
       "    </tr>\n",
       "  </tbody>\n",
       "</table>\n",
       "</div>"
      ],
      "text/plain": [
       "    place_name place_type     long      lat  \\\n",
       "106  Baltimore       City -76.6153  39.2894   \n",
       "\n",
       "                                               persons  effectif  \\\n",
       "106  http://dbpedia.org/resource/Ansley_J._Coale|An...         4   \n",
       "\n",
       "                                              periodes  \\\n",
       "106  ['1901-1945', '1946-', '1901-1945', '1946-', '...   \n",
       "\n",
       "                periodes_agregees  \n",
       "106  {'1901-1945': 3, '1946-': 4}  "
      ]
     },
     "execution_count": 348,
     "metadata": {},
     "output_type": "execute_result"
    }
   ],
   "source": [
    "place_count[place_count['place_name']  == 'Baltimore' ]"
   ]
  },
  {
   "cell_type": "markdown",
   "id": "regional-occasions",
   "metadata": {},
   "source": [
    "## Création des données pour trois couches correspondantes aux trois périodes d'activité retenues"
   ]
  },
  {
   "cell_type": "code",
   "execution_count": 12,
   "id": "manufactured-seating",
   "metadata": {},
   "outputs": [
    {
     "data": {
      "text/html": [
       "<div>\n",
       "<style scoped>\n",
       "    .dataframe tbody tr th:only-of-type {\n",
       "        vertical-align: middle;\n",
       "    }\n",
       "\n",
       "    .dataframe tbody tr th {\n",
       "        vertical-align: top;\n",
       "    }\n",
       "\n",
       "    .dataframe thead th {\n",
       "        text-align: right;\n",
       "    }\n",
       "</style>\n",
       "<table border=\"1\" class=\"dataframe\">\n",
       "  <thead>\n",
       "    <tr style=\"text-align: right;\">\n",
       "      <th></th>\n",
       "      <th>place_name</th>\n",
       "      <th>place_type</th>\n",
       "      <th>long</th>\n",
       "      <th>lat</th>\n",
       "      <th>persons</th>\n",
       "      <th>periodes_agregees</th>\n",
       "    </tr>\n",
       "  </thead>\n",
       "  <tbody>\n",
       "    <tr>\n",
       "      <th>1</th>\n",
       "      <td>A Coruña</td>\n",
       "      <td>City</td>\n",
       "      <td>-8.41000</td>\n",
       "      <td>43.3650</td>\n",
       "      <td>http://dbpedia.org/resource/Ramón_de_la_Sagra|...</td>\n",
       "      <td>{'-1900': 1}</td>\n",
       "    </tr>\n",
       "    <tr>\n",
       "      <th>6</th>\n",
       "      <td>Aberdeen</td>\n",
       "      <td>City</td>\n",
       "      <td>-2.11000</td>\n",
       "      <td>57.1500</td>\n",
       "      <td>http://dbpedia.org/resource/John_Hill_Burton|J...</td>\n",
       "      <td>{'-1900': 1}</td>\n",
       "    </tr>\n",
       "    <tr>\n",
       "      <th>41</th>\n",
       "      <td>Amsterdam</td>\n",
       "      <td>City</td>\n",
       "      <td>4.90000</td>\n",
       "      <td>52.3667</td>\n",
       "      <td>http://dbpedia.org/resource/Agus_Martowardojo|...</td>\n",
       "      <td>{'1946-': 9, '1901-1945': 3, '-1900': 1}</td>\n",
       "    </tr>\n",
       "    <tr>\n",
       "      <th>44</th>\n",
       "      <td>Angus, Scotland</td>\n",
       "      <td>NaN</td>\n",
       "      <td>-2.91667</td>\n",
       "      <td>56.6667</td>\n",
       "      <td>http://dbpedia.org/resource/James_Mill|James M...</td>\n",
       "      <td>{'-1900': 1}</td>\n",
       "    </tr>\n",
       "    <tr>\n",
       "      <th>53</th>\n",
       "      <td>Ardencaple Castle</td>\n",
       "      <td>ArchitecturalStructure</td>\n",
       "      <td>-4.75697</td>\n",
       "      <td>56.0091</td>\n",
       "      <td>http://dbpedia.org/resource/George_Campbell,_8...</td>\n",
       "      <td>{'-1900': 1}</td>\n",
       "    </tr>\n",
       "  </tbody>\n",
       "</table>\n",
       "</div>"
      ],
      "text/plain": [
       "           place_name              place_type     long      lat  \\\n",
       "1            A Coruña                    City -8.41000  43.3650   \n",
       "6            Aberdeen                    City -2.11000  57.1500   \n",
       "41          Amsterdam                    City  4.90000  52.3667   \n",
       "44    Angus, Scotland                     NaN -2.91667  56.6667   \n",
       "53  Ardencaple Castle  ArchitecturalStructure -4.75697  56.0091   \n",
       "\n",
       "                                              persons  \\\n",
       "1   http://dbpedia.org/resource/Ramón_de_la_Sagra|...   \n",
       "6   http://dbpedia.org/resource/John_Hill_Burton|J...   \n",
       "41  http://dbpedia.org/resource/Agus_Martowardojo|...   \n",
       "44  http://dbpedia.org/resource/James_Mill|James M...   \n",
       "53  http://dbpedia.org/resource/George_Campbell,_8...   \n",
       "\n",
       "                           periodes_agregees  \n",
       "1                               {'-1900': 1}  \n",
       "6                               {'-1900': 1}  \n",
       "41  {'1946-': 9, '1901-1945': 3, '-1900': 1}  \n",
       "44                              {'-1900': 1}  \n",
       "53                              {'-1900': 1}  "
      ]
     },
     "execution_count": 12,
     "metadata": {},
     "output_type": "execute_result"
    }
   ],
   "source": [
    "_1900 = place_count[['place_name', 'place_type','long','lat','persons','periodes_agregees']][place_count['periodes'].str.contains('-1900', regex=True)]\n",
    "_1900.head()"
   ]
  },
  {
   "cell_type": "code",
   "execution_count": 13,
   "id": "interpreted-ladder",
   "metadata": {},
   "outputs": [
    {
     "data": {
      "text/html": [
       "<div>\n",
       "<style scoped>\n",
       "    .dataframe tbody tr th:only-of-type {\n",
       "        vertical-align: middle;\n",
       "    }\n",
       "\n",
       "    .dataframe tbody tr th {\n",
       "        vertical-align: top;\n",
       "    }\n",
       "\n",
       "    .dataframe thead th {\n",
       "        text-align: right;\n",
       "    }\n",
       "</style>\n",
       "<table border=\"1\" class=\"dataframe\">\n",
       "  <thead>\n",
       "    <tr style=\"text-align: right;\">\n",
       "      <th></th>\n",
       "      <th>place_name</th>\n",
       "      <th>place_type</th>\n",
       "      <th>long</th>\n",
       "      <th>lat</th>\n",
       "      <th>persons</th>\n",
       "      <th>periodes_agregees</th>\n",
       "      <th>effectif</th>\n",
       "    </tr>\n",
       "  </thead>\n",
       "  <tbody>\n",
       "    <tr>\n",
       "      <th>883</th>\n",
       "      <td>Lincolnshire</td>\n",
       "      <td>AdministrativeRegion</td>\n",
       "      <td>-0.183333</td>\n",
       "      <td>53.0667</td>\n",
       "      <td>http://dbpedia.org/resource/Joseph_Shield_Nich...</td>\n",
       "      <td>{'-1900': 1, '1901-1945': 1}</td>\n",
       "      <td>1</td>\n",
       "    </tr>\n",
       "    <tr>\n",
       "      <th>888</th>\n",
       "      <td>Liverpool</td>\n",
       "      <td>City</td>\n",
       "      <td>-2.983330</td>\n",
       "      <td>53.4000</td>\n",
       "      <td>http://dbpedia.org/resource/Kenneth_E._Bouldin...</td>\n",
       "      <td>{'1901-1945': 2, '1946-': 1, '-1900': 1}</td>\n",
       "      <td>1</td>\n",
       "    </tr>\n",
       "    <tr>\n",
       "      <th>891</th>\n",
       "      <td>Liège</td>\n",
       "      <td>NaN</td>\n",
       "      <td>5.566670</td>\n",
       "      <td>50.6333</td>\n",
       "      <td>http://dbpedia.org/resource/Gustave_de_Molinar...</td>\n",
       "      <td>{'-1900': 1}</td>\n",
       "      <td>1</td>\n",
       "    </tr>\n",
       "    <tr>\n",
       "      <th>899</th>\n",
       "      <td>London</td>\n",
       "      <td>City</td>\n",
       "      <td>-0.127500</td>\n",
       "      <td>51.5072</td>\n",
       "      <td>http://dbpedia.org/resource/Alan_Budd|Alan Bud...</td>\n",
       "      <td>{'1946-': 23, '-1900': 3, '1901-1945': 6}</td>\n",
       "      <td>3</td>\n",
       "    </tr>\n",
       "    <tr>\n",
       "      <th>919</th>\n",
       "      <td>Lyme, New Hampshire</td>\n",
       "      <td>Town</td>\n",
       "      <td>-72.156100</td>\n",
       "      <td>43.8103</td>\n",
       "      <td>http://dbpedia.org/resource/Arthur_Latham_Perr...</td>\n",
       "      <td>{'-1900': 1, '1901-1945': 1}</td>\n",
       "      <td>1</td>\n",
       "    </tr>\n",
       "    <tr>\n",
       "      <th>922</th>\n",
       "      <td>Lyon</td>\n",
       "      <td>NaN</td>\n",
       "      <td>4.840000</td>\n",
       "      <td>45.7600</td>\n",
       "      <td>http://dbpedia.org/resource/Azouz_Begag|Azouz ...</td>\n",
       "      <td>{'1946-': 1, '-1900': 1}</td>\n",
       "      <td>1</td>\n",
       "    </tr>\n",
       "    <tr>\n",
       "      <th>928</th>\n",
       "      <td>Madrid</td>\n",
       "      <td>City</td>\n",
       "      <td>-3.716670</td>\n",
       "      <td>40.4167</td>\n",
       "      <td>http://dbpedia.org/resource/Francisco_de_Borbó...</td>\n",
       "      <td>{'1946-': 10, '-1900': 1}</td>\n",
       "      <td>1</td>\n",
       "    </tr>\n",
       "    <tr>\n",
       "      <th>937</th>\n",
       "      <td>Mainz</td>\n",
       "      <td>Town</td>\n",
       "      <td>8.266670</td>\n",
       "      <td>50.0000</td>\n",
       "      <td>http://dbpedia.org/resource/Ludwig_Bamberger|L...</td>\n",
       "      <td>{'-1900': 1}</td>\n",
       "      <td>1</td>\n",
       "    </tr>\n",
       "    <tr>\n",
       "      <th>947</th>\n",
       "      <td>Manchester</td>\n",
       "      <td>City</td>\n",
       "      <td>-2.245280</td>\n",
       "      <td>53.4794</td>\n",
       "      <td>http://dbpedia.org/resource/C._H._Douglas|C. H...</td>\n",
       "      <td>{'1901-1945': 3, '1946-': 6, '-1900': 1}</td>\n",
       "      <td>1</td>\n",
       "    </tr>\n",
       "  </tbody>\n",
       "</table>\n",
       "</div>"
      ],
      "text/plain": [
       "              place_name            place_type       long      lat  \\\n",
       "883         Lincolnshire  AdministrativeRegion  -0.183333  53.0667   \n",
       "888            Liverpool                  City  -2.983330  53.4000   \n",
       "891                Liège                   NaN   5.566670  50.6333   \n",
       "899               London                  City  -0.127500  51.5072   \n",
       "919  Lyme, New Hampshire                  Town -72.156100  43.8103   \n",
       "922                 Lyon                   NaN   4.840000  45.7600   \n",
       "928               Madrid                  City  -3.716670  40.4167   \n",
       "937                Mainz                  Town   8.266670  50.0000   \n",
       "947           Manchester                  City  -2.245280  53.4794   \n",
       "\n",
       "                                               persons  \\\n",
       "883  http://dbpedia.org/resource/Joseph_Shield_Nich...   \n",
       "888  http://dbpedia.org/resource/Kenneth_E._Bouldin...   \n",
       "891  http://dbpedia.org/resource/Gustave_de_Molinar...   \n",
       "899  http://dbpedia.org/resource/Alan_Budd|Alan Bud...   \n",
       "919  http://dbpedia.org/resource/Arthur_Latham_Perr...   \n",
       "922  http://dbpedia.org/resource/Azouz_Begag|Azouz ...   \n",
       "928  http://dbpedia.org/resource/Francisco_de_Borbó...   \n",
       "937  http://dbpedia.org/resource/Ludwig_Bamberger|L...   \n",
       "947  http://dbpedia.org/resource/C._H._Douglas|C. H...   \n",
       "\n",
       "                             periodes_agregees  effectif  \n",
       "883               {'-1900': 1, '1901-1945': 1}         1  \n",
       "888   {'1901-1945': 2, '1946-': 1, '-1900': 1}         1  \n",
       "891                               {'-1900': 1}         1  \n",
       "899  {'1946-': 23, '-1900': 3, '1901-1945': 6}         3  \n",
       "919               {'-1900': 1, '1901-1945': 1}         1  \n",
       "922                   {'1946-': 1, '-1900': 1}         1  \n",
       "928                  {'1946-': 10, '-1900': 1}         1  \n",
       "937                               {'-1900': 1}         1  \n",
       "947   {'1901-1945': 3, '1946-': 6, '-1900': 1}         1  "
      ]
     },
     "execution_count": 13,
     "metadata": {},
     "output_type": "execute_result"
    }
   ],
   "source": [
    "### \n",
    "# ast.literal_eval = convert string to dictionary\n",
    "_1900['effectif'] = _1900['periodes_agregees'].apply( lambda x : ast.literal_eval(x)['-1900'])\n",
    "_1900.iloc[131:140]"
   ]
  },
  {
   "cell_type": "code",
   "execution_count": 14,
   "id": "institutional-watson",
   "metadata": {},
   "outputs": [
    {
     "data": {
      "text/html": [
       "<div>\n",
       "<style scoped>\n",
       "    .dataframe tbody tr th:only-of-type {\n",
       "        vertical-align: middle;\n",
       "    }\n",
       "\n",
       "    .dataframe tbody tr th {\n",
       "        vertical-align: top;\n",
       "    }\n",
       "\n",
       "    .dataframe thead th {\n",
       "        text-align: right;\n",
       "    }\n",
       "</style>\n",
       "<table border=\"1\" class=\"dataframe\">\n",
       "  <thead>\n",
       "    <tr style=\"text-align: right;\">\n",
       "      <th></th>\n",
       "      <th>place_name</th>\n",
       "      <th>place_type</th>\n",
       "      <th>long</th>\n",
       "      <th>lat</th>\n",
       "      <th>persons</th>\n",
       "      <th>periodes_agregees</th>\n",
       "    </tr>\n",
       "  </thead>\n",
       "  <tbody>\n",
       "    <tr>\n",
       "      <th>0</th>\n",
       "      <td>'s-Graveland</td>\n",
       "      <td>Village</td>\n",
       "      <td>5.12111</td>\n",
       "      <td>52.2442</td>\n",
       "      <td>http://dbpedia.org/resource/Tjalling_Koopmans|...</td>\n",
       "      <td>{'1901-1945': 1, '1946-': 1}</td>\n",
       "    </tr>\n",
       "    <tr>\n",
       "      <th>3</th>\n",
       "      <td>Aalsmeer</td>\n",
       "      <td>Town</td>\n",
       "      <td>4.75000</td>\n",
       "      <td>52.2667</td>\n",
       "      <td>http://dbpedia.org/resource/Jan_de_Pous|Jan de...</td>\n",
       "      <td>{'1901-1945': 1, '1946-': 1}</td>\n",
       "    </tr>\n",
       "    <tr>\n",
       "      <th>11</th>\n",
       "      <td>Achaea</td>\n",
       "      <td>AdministrativeRegion</td>\n",
       "      <td>21.83330</td>\n",
       "      <td>38.0833</td>\n",
       "      <td>http://dbpedia.org/resource/Georgios_Papandreo...</td>\n",
       "      <td>{'1901-1945': 1, '1946-': 1}</td>\n",
       "    </tr>\n",
       "    <tr>\n",
       "      <th>15</th>\n",
       "      <td>Agra</td>\n",
       "      <td>City</td>\n",
       "      <td>78.02000</td>\n",
       "      <td>27.1800</td>\n",
       "      <td>http://dbpedia.org/resource/Akhtar_Hameed_Khan...</td>\n",
       "      <td>{'1901-1945': 1, '1946-': 1}</td>\n",
       "    </tr>\n",
       "    <tr>\n",
       "      <th>16</th>\n",
       "      <td>Agualeguas</td>\n",
       "      <td>NaN</td>\n",
       "      <td>-99.53330</td>\n",
       "      <td>26.3167</td>\n",
       "      <td>http://dbpedia.org/resource/Raúl_Salinas_Lozan...</td>\n",
       "      <td>{'1901-1945': 1, '1946-': 1}</td>\n",
       "    </tr>\n",
       "  </tbody>\n",
       "</table>\n",
       "</div>"
      ],
      "text/plain": [
       "      place_name            place_type      long      lat  \\\n",
       "0   's-Graveland               Village   5.12111  52.2442   \n",
       "3       Aalsmeer                  Town   4.75000  52.2667   \n",
       "11        Achaea  AdministrativeRegion  21.83330  38.0833   \n",
       "15          Agra                  City  78.02000  27.1800   \n",
       "16    Agualeguas                   NaN -99.53330  26.3167   \n",
       "\n",
       "                                              persons  \\\n",
       "0   http://dbpedia.org/resource/Tjalling_Koopmans|...   \n",
       "3   http://dbpedia.org/resource/Jan_de_Pous|Jan de...   \n",
       "11  http://dbpedia.org/resource/Georgios_Papandreo...   \n",
       "15  http://dbpedia.org/resource/Akhtar_Hameed_Khan...   \n",
       "16  http://dbpedia.org/resource/Raúl_Salinas_Lozan...   \n",
       "\n",
       "               periodes_agregees  \n",
       "0   {'1901-1945': 1, '1946-': 1}  \n",
       "3   {'1901-1945': 1, '1946-': 1}  \n",
       "11  {'1901-1945': 1, '1946-': 1}  \n",
       "15  {'1901-1945': 1, '1946-': 1}  \n",
       "16  {'1901-1945': 1, '1946-': 1}  "
      ]
     },
     "execution_count": 14,
     "metadata": {},
     "output_type": "execute_result"
    }
   ],
   "source": [
    "_1901_1945 = place_count[['place_name', 'place_type','long','lat','persons','periodes_agregees']][place_count['periodes'].str.contains('1901-1945', regex=True)]\n",
    "_1901_1945.head()"
   ]
  },
  {
   "cell_type": "code",
   "execution_count": 15,
   "id": "continent-spread",
   "metadata": {},
   "outputs": [
    {
     "data": {
      "text/html": [
       "<div>\n",
       "<style scoped>\n",
       "    .dataframe tbody tr th:only-of-type {\n",
       "        vertical-align: middle;\n",
       "    }\n",
       "\n",
       "    .dataframe tbody tr th {\n",
       "        vertical-align: top;\n",
       "    }\n",
       "\n",
       "    .dataframe thead th {\n",
       "        text-align: right;\n",
       "    }\n",
       "</style>\n",
       "<table border=\"1\" class=\"dataframe\">\n",
       "  <thead>\n",
       "    <tr style=\"text-align: right;\">\n",
       "      <th></th>\n",
       "      <th>place_name</th>\n",
       "      <th>place_type</th>\n",
       "      <th>long</th>\n",
       "      <th>lat</th>\n",
       "      <th>persons</th>\n",
       "      <th>periodes_agregees</th>\n",
       "      <th>effectif</th>\n",
       "    </tr>\n",
       "  </thead>\n",
       "  <tbody>\n",
       "    <tr>\n",
       "      <th>888</th>\n",
       "      <td>Liverpool</td>\n",
       "      <td>City</td>\n",
       "      <td>-2.98333</td>\n",
       "      <td>53.4000</td>\n",
       "      <td>http://dbpedia.org/resource/Kenneth_E._Bouldin...</td>\n",
       "      <td>{'1901-1945': 2, '1946-': 1, '-1900': 1}</td>\n",
       "      <td>2</td>\n",
       "    </tr>\n",
       "    <tr>\n",
       "      <th>893</th>\n",
       "      <td>Lockport (city), New York</td>\n",
       "      <td>City</td>\n",
       "      <td>-78.69110</td>\n",
       "      <td>43.1697</td>\n",
       "      <td>http://dbpedia.org/resource/Edwin_Griswold_Nou...</td>\n",
       "      <td>{'1901-1945': 1, '1946-': 1}</td>\n",
       "      <td>1</td>\n",
       "    </tr>\n",
       "    <tr>\n",
       "      <th>894</th>\n",
       "      <td>Lodi, Wisconsin</td>\n",
       "      <td>City</td>\n",
       "      <td>-89.53110</td>\n",
       "      <td>43.3142</td>\n",
       "      <td>http://dbpedia.org/resource/Harold_Groves|Haro...</td>\n",
       "      <td>{'1901-1945': 1, '1946-': 1}</td>\n",
       "      <td>1</td>\n",
       "    </tr>\n",
       "    <tr>\n",
       "      <th>899</th>\n",
       "      <td>London</td>\n",
       "      <td>City</td>\n",
       "      <td>-0.12750</td>\n",
       "      <td>51.5072</td>\n",
       "      <td>http://dbpedia.org/resource/Alan_Budd|Alan Bud...</td>\n",
       "      <td>{'1946-': 23, '-1900': 3, '1901-1945': 6}</td>\n",
       "      <td>6</td>\n",
       "    </tr>\n",
       "    <tr>\n",
       "      <th>903</th>\n",
       "      <td>Los Angeles</td>\n",
       "      <td>City</td>\n",
       "      <td>-118.25000</td>\n",
       "      <td>34.0500</td>\n",
       "      <td>http://dbpedia.org/resource/Chuck_Benbrook|Chu...</td>\n",
       "      <td>{'1946-': 6, '1901-1945': 1}</td>\n",
       "      <td>1</td>\n",
       "    </tr>\n",
       "  </tbody>\n",
       "</table>\n",
       "</div>"
      ],
      "text/plain": [
       "                    place_name place_type       long      lat  \\\n",
       "888                  Liverpool       City   -2.98333  53.4000   \n",
       "893  Lockport (city), New York       City  -78.69110  43.1697   \n",
       "894            Lodi, Wisconsin       City  -89.53110  43.3142   \n",
       "899                     London       City   -0.12750  51.5072   \n",
       "903                Los Angeles       City -118.25000  34.0500   \n",
       "\n",
       "                                               persons  \\\n",
       "888  http://dbpedia.org/resource/Kenneth_E._Bouldin...   \n",
       "893  http://dbpedia.org/resource/Edwin_Griswold_Nou...   \n",
       "894  http://dbpedia.org/resource/Harold_Groves|Haro...   \n",
       "899  http://dbpedia.org/resource/Alan_Budd|Alan Bud...   \n",
       "903  http://dbpedia.org/resource/Chuck_Benbrook|Chu...   \n",
       "\n",
       "                             periodes_agregees  effectif  \n",
       "888   {'1901-1945': 2, '1946-': 1, '-1900': 1}         2  \n",
       "893               {'1901-1945': 1, '1946-': 1}         1  \n",
       "894               {'1901-1945': 1, '1946-': 1}         1  \n",
       "899  {'1946-': 23, '-1900': 3, '1901-1945': 6}         6  \n",
       "903               {'1946-': 6, '1901-1945': 1}         1  "
      ]
     },
     "execution_count": 15,
     "metadata": {},
     "output_type": "execute_result"
    }
   ],
   "source": [
    "### \n",
    "# ast.literal_eval = convert string to dictionary\n",
    "_1901_1945['effectif'] = _1901_1945['periodes_agregees'].apply( lambda x : ast.literal_eval(x)['1901-1945'])\n",
    "_1901_1945.iloc[245:250]"
   ]
  },
  {
   "cell_type": "code",
   "execution_count": 16,
   "id": "known-carrier",
   "metadata": {},
   "outputs": [
    {
     "data": {
      "text/html": [
       "<div>\n",
       "<style scoped>\n",
       "    .dataframe tbody tr th:only-of-type {\n",
       "        vertical-align: middle;\n",
       "    }\n",
       "\n",
       "    .dataframe tbody tr th {\n",
       "        vertical-align: top;\n",
       "    }\n",
       "\n",
       "    .dataframe thead th {\n",
       "        text-align: right;\n",
       "    }\n",
       "</style>\n",
       "<table border=\"1\" class=\"dataframe\">\n",
       "  <thead>\n",
       "    <tr style=\"text-align: right;\">\n",
       "      <th></th>\n",
       "      <th>place_name</th>\n",
       "      <th>place_type</th>\n",
       "      <th>long</th>\n",
       "      <th>lat</th>\n",
       "      <th>persons</th>\n",
       "      <th>periodes_agregees</th>\n",
       "    </tr>\n",
       "  </thead>\n",
       "  <tbody>\n",
       "    <tr>\n",
       "      <th>0</th>\n",
       "      <td>'s-Graveland</td>\n",
       "      <td>Village</td>\n",
       "      <td>5.12111</td>\n",
       "      <td>52.24420</td>\n",
       "      <td>http://dbpedia.org/resource/Tjalling_Koopmans|...</td>\n",
       "      <td>{'1901-1945': 1, '1946-': 1}</td>\n",
       "    </tr>\n",
       "    <tr>\n",
       "      <th>2</th>\n",
       "      <td>Aalen</td>\n",
       "      <td>Town</td>\n",
       "      <td>10.10000</td>\n",
       "      <td>48.83330</td>\n",
       "      <td>http://dbpedia.org/resource/Wolfgang_Stützel|W...</td>\n",
       "      <td>{'1946-': 1}</td>\n",
       "    </tr>\n",
       "    <tr>\n",
       "      <th>3</th>\n",
       "      <td>Aalsmeer</td>\n",
       "      <td>Town</td>\n",
       "      <td>4.75000</td>\n",
       "      <td>52.26670</td>\n",
       "      <td>http://dbpedia.org/resource/Jan_de_Pous|Jan de...</td>\n",
       "      <td>{'1901-1945': 1, '1946-': 1}</td>\n",
       "    </tr>\n",
       "    <tr>\n",
       "      <th>4</th>\n",
       "      <td>Aba, Hungary</td>\n",
       "      <td>Town</td>\n",
       "      <td>18.52330</td>\n",
       "      <td>47.03070</td>\n",
       "      <td>http://dbpedia.org/resource/Anthony_de_Jasay|A...</td>\n",
       "      <td>{'1946-': 1}</td>\n",
       "    </tr>\n",
       "    <tr>\n",
       "      <th>5</th>\n",
       "      <td>Abeokuta</td>\n",
       "      <td>City</td>\n",
       "      <td>3.34833</td>\n",
       "      <td>7.16083</td>\n",
       "      <td>http://dbpedia.org/resource/Dimeji_Bankole|Dim...</td>\n",
       "      <td>{'1946-': 1}</td>\n",
       "    </tr>\n",
       "  </tbody>\n",
       "</table>\n",
       "</div>"
      ],
      "text/plain": [
       "     place_name place_type      long       lat  \\\n",
       "0  's-Graveland    Village   5.12111  52.24420   \n",
       "2         Aalen       Town  10.10000  48.83330   \n",
       "3      Aalsmeer       Town   4.75000  52.26670   \n",
       "4  Aba, Hungary       Town  18.52330  47.03070   \n",
       "5      Abeokuta       City   3.34833   7.16083   \n",
       "\n",
       "                                             persons  \\\n",
       "0  http://dbpedia.org/resource/Tjalling_Koopmans|...   \n",
       "2  http://dbpedia.org/resource/Wolfgang_Stützel|W...   \n",
       "3  http://dbpedia.org/resource/Jan_de_Pous|Jan de...   \n",
       "4  http://dbpedia.org/resource/Anthony_de_Jasay|A...   \n",
       "5  http://dbpedia.org/resource/Dimeji_Bankole|Dim...   \n",
       "\n",
       "              periodes_agregees  \n",
       "0  {'1901-1945': 1, '1946-': 1}  \n",
       "2                  {'1946-': 1}  \n",
       "3  {'1901-1945': 1, '1946-': 1}  \n",
       "4                  {'1946-': 1}  \n",
       "5                  {'1946-': 1}  "
      ]
     },
     "execution_count": 16,
     "metadata": {},
     "output_type": "execute_result"
    }
   ],
   "source": [
    "_1946_ = place_count[['place_name', 'place_type','long','lat','persons','periodes_agregees']][place_count['periodes'].str.contains('1946-', regex=True)]\n",
    "_1946_.head()"
   ]
  },
  {
   "cell_type": "code",
   "execution_count": 17,
   "id": "other-quilt",
   "metadata": {},
   "outputs": [
    {
     "data": {
      "text/html": [
       "<div>\n",
       "<style scoped>\n",
       "    .dataframe tbody tr th:only-of-type {\n",
       "        vertical-align: middle;\n",
       "    }\n",
       "\n",
       "    .dataframe tbody tr th {\n",
       "        vertical-align: top;\n",
       "    }\n",
       "\n",
       "    .dataframe thead th {\n",
       "        text-align: right;\n",
       "    }\n",
       "</style>\n",
       "<table border=\"1\" class=\"dataframe\">\n",
       "  <thead>\n",
       "    <tr style=\"text-align: right;\">\n",
       "      <th></th>\n",
       "      <th>place_name</th>\n",
       "      <th>place_type</th>\n",
       "      <th>long</th>\n",
       "      <th>lat</th>\n",
       "      <th>persons</th>\n",
       "      <th>periodes_agregees</th>\n",
       "      <th>effectif</th>\n",
       "    </tr>\n",
       "  </thead>\n",
       "  <tbody>\n",
       "    <tr>\n",
       "      <th>262</th>\n",
       "      <td>Bălți</td>\n",
       "      <td>NaN</td>\n",
       "      <td>27.91670</td>\n",
       "      <td>47.76670</td>\n",
       "      <td>http://dbpedia.org/resource/Marian_Lupu|Marian...</td>\n",
       "      <td>{'1946-': 1}</td>\n",
       "      <td>1</td>\n",
       "    </tr>\n",
       "    <tr>\n",
       "      <th>263</th>\n",
       "      <td>Cabana, Peru</td>\n",
       "      <td>City</td>\n",
       "      <td>-78.01640</td>\n",
       "      <td>-8.39556</td>\n",
       "      <td>http://dbpedia.org/resource/Alejandro_Toledo|A...</td>\n",
       "      <td>{'1946-': 1}</td>\n",
       "      <td>1</td>\n",
       "    </tr>\n",
       "    <tr>\n",
       "      <th>264</th>\n",
       "      <td>Caerleon</td>\n",
       "      <td>NaN</td>\n",
       "      <td>-2.95900</td>\n",
       "      <td>51.61500</td>\n",
       "      <td>http://dbpedia.org/resource/Tony_Atkinson|Tony...</td>\n",
       "      <td>{'1946-': 1}</td>\n",
       "      <td>1</td>\n",
       "    </tr>\n",
       "    <tr>\n",
       "      <th>265</th>\n",
       "      <td>Cagliari</td>\n",
       "      <td>NaN</td>\n",
       "      <td>9.11111</td>\n",
       "      <td>39.22780</td>\n",
       "      <td>http://dbpedia.org/resource/Paolo_Savona|Paolo...</td>\n",
       "      <td>{'1946-': 1}</td>\n",
       "      <td>1</td>\n",
       "    </tr>\n",
       "    <tr>\n",
       "      <th>266</th>\n",
       "      <td>Cairo</td>\n",
       "      <td>City</td>\n",
       "      <td>31.23330</td>\n",
       "      <td>30.03330</td>\n",
       "      <td>http://dbpedia.org/resource/Louis_Lévy-Garboua...</td>\n",
       "      <td>{'1946-': 2}</td>\n",
       "      <td>2</td>\n",
       "    </tr>\n",
       "  </tbody>\n",
       "</table>\n",
       "</div>"
      ],
      "text/plain": [
       "       place_name place_type      long       lat  \\\n",
       "262         Bălți        NaN  27.91670  47.76670   \n",
       "263  Cabana, Peru       City -78.01640  -8.39556   \n",
       "264      Caerleon        NaN  -2.95900  51.61500   \n",
       "265      Cagliari        NaN   9.11111  39.22780   \n",
       "266         Cairo       City  31.23330  30.03330   \n",
       "\n",
       "                                               persons periodes_agregees  \\\n",
       "262  http://dbpedia.org/resource/Marian_Lupu|Marian...      {'1946-': 1}   \n",
       "263  http://dbpedia.org/resource/Alejandro_Toledo|A...      {'1946-': 1}   \n",
       "264  http://dbpedia.org/resource/Tony_Atkinson|Tony...      {'1946-': 1}   \n",
       "265  http://dbpedia.org/resource/Paolo_Savona|Paolo...      {'1946-': 1}   \n",
       "266  http://dbpedia.org/resource/Louis_Lévy-Garboua...      {'1946-': 2}   \n",
       "\n",
       "     effectif  \n",
       "262         1  \n",
       "263         1  \n",
       "264         1  \n",
       "265         1  \n",
       "266         2  "
      ]
     },
     "execution_count": 17,
     "metadata": {},
     "output_type": "execute_result"
    }
   ],
   "source": [
    "### \n",
    "# ast.literal_eval = convert string to dictionary\n",
    "_1946_['effectif'] = _1946_['periodes_agregees'].apply( lambda x : ast.literal_eval(x)['1946-'])\n",
    "_1946_.iloc[245:250]"
   ]
  },
  {
   "cell_type": "code",
   "execution_count": 18,
   "id": "smoking-dealer",
   "metadata": {
    "tags": []
   },
   "outputs": [
    {
     "data": {
      "application/vnd.jupyter.widget-view+json": {
       "model_id": "88ea55a7d0b0405d9d48957dadfc1742",
       "version_major": 2,
       "version_minor": 0
      },
      "text/plain": [
       "Map(center=[35, 5], controls=(AttributionControl(options=['position', 'prefix'], position='bottomright'), Widg…"
      ]
     },
     "metadata": {},
     "output_type": "display_data"
    }
   ],
   "source": [
    "# Chois du fonds de carte:\n",
    "# open_street_map = basemap_to_tiles(basemaps.OpenStreetMap.Mapnik)\n",
    "watercolor = basemap_to_tiles(basemaps.Stamen.Watercolor)\n",
    "\n",
    "\n",
    "## https://ipywidgets.readthedocs.io/en/latest/examples/Widget%20Styling.html\n",
    "m2 = Map(layers=(watercolor,), center=(35, 5), layout=Layout(width='100%', height='600px'),\\\n",
    "        zoom_control=False, scroll_wheel_zoom= True    # , zoom=4, scroll_wheel_zoom= True\n",
    "       )\n",
    "\n",
    "zoom_slider = IntSlider(description='Zoom level:', min=0, max=15, value=2)\n",
    "jslink((zoom_slider, 'value'), (m2, 'zoom'))\n",
    "widget_control1 = WidgetControl(widget=zoom_slider, position='bottomright')\n",
    "m2.add_control(widget_control1)\n",
    "\n",
    "control = LayersControl(name='layCont', position='topright')\n",
    "m2.add_control(control)\n",
    "\n",
    "m2.add_control(ScaleControl(position='topleft'))\n",
    "\n",
    "m2\n",
    "\n"
   ]
  },
  {
   "cell_type": "code",
   "execution_count": 19,
   "id": "confirmed-entrepreneur",
   "metadata": {},
   "outputs": [
    {
     "name": "stdout",
     "output_type": "stream",
     "text": [
      "Markers' number 220\n"
     ]
    }
   ],
   "source": [
    "markers = []\n",
    "popups = []\n",
    "\n",
    "\n",
    "## Extraire les lignes du DataFrame\n",
    "for i,j in _1900.iterrows():\n",
    "    message = HTML()\n",
    "    p_elements = ''\n",
    "\n",
    "    prs = j['persons'].split(',')\n",
    "    \n",
    "    for z in prs:\n",
    "\n",
    "        if '|' in z :\n",
    "            zs = z.split('|')\n",
    "            p_elements += f\"\"\"<a href=\"{zs[0]}\" target=\"_blank\">{zs[1]}</a><br/>\"\"\"\n",
    "        else:\n",
    "            p_elements = ''\n",
    "\n",
    "    message.value = f\"<h4>{j['place_name']} ({len(prs)})</h4>\" + p_elements\n",
    "    a = HBox([message], layout=Layout(width='200px', height='200px', overflow_y='auto',overflow=\"auto\"))\n",
    "\n",
    "\n",
    "    circle = CircleMarker(location=(j['lat'], j['long']), color=\"black\", name=f\"{j['place_name']}\", \\\n",
    "                          fill_color='Crimson', radius = int(math.log((j['effectif'] + 2) * 2,  2)), weight=1)\n",
    "\n",
    "    circle.popup = a\n",
    "\n",
    "    markers.append(circle)\n",
    "\n",
    "\n",
    "print(\"Markers' number \" + str(len(markers)))\n",
    "\n",
    "# name_part = str(begin_end[0]) + '-' + str(begin_end[1]) + ' (' +  color + ')'\n",
    "\n",
    "l_1900 = LayerGroup(name=\"Lieux de naissance des actifs jusqu'en 1900\", layers=(markers))\n",
    "# lg2 = MarkerCluster(name='Clusters' + name_part, markers=markers)\n",
    "\n",
    "m2.add_layer(l_1900)"
   ]
  },
  {
   "cell_type": "code",
   "execution_count": 20,
   "id": "japanese-swing",
   "metadata": {},
   "outputs": [
    {
     "name": "stdout",
     "output_type": "stream",
     "text": [
      "Markers' number 482\n"
     ]
    }
   ],
   "source": [
    "markers = []\n",
    "popups = []\n",
    "\n",
    "\n",
    "## Extraire les lignes du DataFrame\n",
    "for i,j in _1901_1945.iterrows():\n",
    "    message = HTML()\n",
    "    p_elements = ''\n",
    "\n",
    "    for z in j['persons'].split(','):\n",
    "\n",
    "        if '|' in z :\n",
    "            zs = z.split('|')\n",
    "            p_elements += f\"\"\"<a href=\"{zs[0]}\" target=\"_blank\">{zs[1]}</a><br/>\"\"\"\n",
    "        else:\n",
    "            p_elements = ''\n",
    "\n",
    "    message.value = f\"<h4>{j['place_name']} ({j['effectif']})</h4>\" + p_elements\n",
    "    a = HBox([message], layout=Layout(width='200px', height='200px', overflow_y='auto',overflow=\"auto\"))\n",
    "\n",
    "\n",
    "    circle = CircleMarker(location=(j['lat'], j['long']), color=\"black\", name=f\"{j['place_name']}\", \\\n",
    "                          fill_color='blue', radius = int(math.log((j['effectif'] + 2) * 2,  2)), weight=1)\n",
    "\n",
    "    circle.popup = a\n",
    "\n",
    "    markers.append(circle)\n",
    "\n",
    "\n",
    "print(\"Markers' number \" + str(len(markers)))\n",
    "\n",
    "# name_part = str(begin_end[0]) + '-' + str(begin_end[1]) + ' (' +  color + ')'\n",
    "\n",
    "l_1901_1945 = LayerGroup(name='Lieux de naissance des actifs 1901 - 1945 ', layers=(markers))\n",
    "# lg2 = MarkerCluster(name='Clusters' + name_part, markers=markers)\n",
    "\n",
    "m2.add_layer(l_1901_1945)"
   ]
  },
  {
   "cell_type": "code",
   "execution_count": 21,
   "id": "broadband-calgary",
   "metadata": {},
   "outputs": [
    {
     "name": "stdout",
     "output_type": "stream",
     "text": [
      "Markers' number 1528\n"
     ]
    }
   ],
   "source": [
    "markers = []\n",
    "popups = []\n",
    "\n",
    "\n",
    "## Extraire les lignes du DataFrame\n",
    "for i,j in _1946_.iterrows():\n",
    "    message = HTML()\n",
    "    p_elements = ''\n",
    "\n",
    "    for z in j['persons'].split(','):\n",
    "\n",
    "        if '|' in z :\n",
    "            zs = z.split('|')\n",
    "            p_elements += f\"\"\"<a href=\"{zs[0]}\" target=\"_blank\">{zs[1]}</a><br/>\"\"\"\n",
    "        else:\n",
    "            p_elements = ''\n",
    "\n",
    "    message.value = f\"<h4>{j['place_name']} ({j['effectif']})</h4>\" + p_elements\n",
    "    a = HBox([message], layout=Layout(width='200px', height='200px', overflow_y='auto',overflow=\"auto\"))\n",
    "\n",
    "\n",
    "    circle = CircleMarker(location=(j['lat'], j['long']), color=\"black\", name=f\"{j['place_name']}\", \\\n",
    "                          fill_color='DarkOrchid', radius = int(math.log((j['effectif'] + 2) * 2,  2)), weight=1)\n",
    "\n",
    "    circle.popup = a\n",
    "\n",
    "    markers.append(circle)\n",
    "\n",
    "\n",
    "print(\"Markers' number \" + str(len(markers)))\n",
    "\n",
    "# name_part = str(begin_end[0]) + '-' + str(begin_end[1]) + ' (' +  color + ')'\n",
    "\n",
    "l_1946_ = LayerGroup(name='Lieux de naissance des actifs après 1945 ', layers=(markers))\n",
    "# lg2 = MarkerCluster(name='Clusters' + name_part, markers=markers)\n",
    "\n",
    "m2.add_layer(l_1946_)"
   ]
  },
  {
   "cell_type": "code",
   "execution_count": null,
   "id": "optional-contents",
   "metadata": {},
   "outputs": [],
   "source": []
  },
  {
   "cell_type": "code",
   "execution_count": null,
   "id": "willing-surgery",
   "metadata": {},
   "outputs": [],
   "source": []
  },
  {
   "cell_type": "markdown",
   "id": "black-syntax",
   "metadata": {},
   "source": [
    "## Créer une carte interactive\n",
    "\n",
    "* La librairie pour les visualisations interactives : __[ipywidgets](https://ipywidgets.readthedocs.io/en/latest/index.html)__\n"
   ]
  },
  {
   "cell_type": "code",
   "execution_count": 271,
   "id": "working-crime",
   "metadata": {},
   "outputs": [],
   "source": [
    "def update_layer(m, begin_end, color):\n",
    "    \n",
    "    # [m.remove_layer(n) for n in m.layers if n.name in ['Clusters', 'Flat locs']]\n",
    "    \n",
    "    [m.remove_control(n) for n in m.controls if 'LayersControl' in str(type(n)) ]\n",
    "    \n",
    "    ## zoom ne marche pas \n",
    "    print(m.zoom)    \n",
    "    begin = begin_end[0]\n",
    "    end = begin_end[1]\n",
    "    x = df_lnu[(df_lnu['birth_year'] >= begin) \\\n",
    "                  & (df_lnu['birth_year'] <= end)]   # .astype(int)\n",
    "    xgb = x.groupby(['place_name', 'place_type', 'long', 'lat'], as_index=False) \\\n",
    "      .agg({'concat_person': '##'.join, 'uri_entity': 'count'})\n",
    "    place_count = xgb.rename(columns={'uri_entity': 'count_persons'})\n",
    "\n",
    "\n",
    "    markers = []\n",
    "    popups = []\n",
    "    \n",
    "\n",
    "    ## Extraire les lignes du DataFrame\n",
    "    for i,j in place_count.iterrows():\n",
    "        message = HTML()\n",
    "        p_elements = ''\n",
    "        for z in j['concat_person'].split('##'):\n",
    "            if '|' in z:\n",
    "                zs = z.split('|')\n",
    "                p_elements += f\"\"\"<a href=\"{zs[0]}\" target=\"_blank\">{zs[1]}</a><br/>\"\"\"\n",
    "            else:\n",
    "                p_elements = ''\n",
    "\n",
    "        message.value = f\"<h4>{j['place_name']} ({j['count_persons']})</h4>\" + p_elements\n",
    "        a = HBox([message], layout=Layout(width='200px', height='200px', overflow_y='auto',overflow=\"auto\"))\n",
    "\n",
    "\n",
    "        circle = CircleMarker(location=(j['lat'], j['long']), color=\"black\", name=f\"{j['place_name']}\", \\\n",
    "                              fill_color=color, radius = int(math.log((j['count_persons'] + 1) * m.zoom * 2,  2)), weight=1)\n",
    "\n",
    "        circle.popup = a\n",
    "        \n",
    "        markers.append(circle)\n",
    "\n",
    "\n",
    "    print(\"Markers' number \" + str(len(markers)))\n",
    "    \n",
    "    name_part = str(begin_end[0]) + '-' + str(begin_end[1]) + ' (' +  color + ')'\n",
    "    \n",
    "    lg1 = LayerGroup(name='Birth places ' + name_part, layers=(markers))\n",
    "    # lg2 = MarkerCluster(name='Clusters' + name_part, markers=markers)\n",
    "\n",
    "    m.add_layer(lg1)\n",
    "    # m.add_layer(lg2)\n",
    "    \n",
    "    control = LayersControl(name='layCont', position='topright')\n",
    "    m.add_control(control)\n",
    "    return n_iterations\n"
   ]
  },
  {
   "cell_type": "code",
   "execution_count": 272,
   "id": "running-dispute",
   "metadata": {},
   "outputs": [
    {
     "name": "stdout",
     "output_type": "stream",
     "text": [
      "203\n"
     ]
    }
   ],
   "source": [
    "df_year_set = sorted(list(set(df_lnu['birth_year'].astype(int))))\n",
    "print(len(df_year_set))\n",
    "min_y = min(df_year_set)\n",
    "max_y = max(df_year_set)\n",
    "i = 0\n",
    "srs = SelectionRangeSlider(\n",
    "    options=df_year_set,\n",
    "    index=(0, len(df_year_set)-1), # -1\n",
    "    description='Years', \n",
    "    continous_update=False, \n",
    "    layout= Layout(width='90%')\n",
    "    # , disabled=False\n",
    ")\n"
   ]
  },
  {
   "cell_type": "code",
   "execution_count": 280,
   "id": "ongoing-roulette",
   "metadata": {
    "tags": []
   },
   "outputs": [
    {
     "data": {
      "application/vnd.jupyter.widget-view+json": {
       "model_id": "a654f11e31ec4b99b5a720ca9752fdc6",
       "version_major": 2,
       "version_minor": 0
      },
      "text/plain": [
       "Map(center=[45, 15], controls=(AttributionControl(options=['position', 'prefix'], position='bottomright'), Wid…"
      ]
     },
     "metadata": {},
     "output_type": "display_data"
    }
   ],
   "source": [
    "watercolor = basemap_to_tiles(basemaps.Stamen.Watercolor)\n",
    "open_street_map = basemap_to_tiles(basemaps.OpenStreetMap.Mapnik)\n",
    "\n",
    "## https://ipywidgets.readthedocs.io/en/latest/examples/Widget%20Styling.html\n",
    "m = Map(layers=(watercolor,), center=(45, 15), layout=Layout(width='100%', height='600px'),\\\n",
    "        zoom_control=False \n",
    "       )\n",
    "\n",
    "zoom_slider = IntSlider(description='Zoom level:', min=0, max=15, value=2)\n",
    "jslink((zoom_slider, 'value'), (m, 'zoom'))\n",
    "\n",
    "widget_control1 = WidgetControl(widget=zoom_slider, position='bottomright')\n",
    "m.add_control(widget_control1)\n",
    "\n",
    "m.add_control(ScaleControl(position='topleft'))\n",
    "\n",
    "\n",
    "m\n",
    "\n"
   ]
  },
  {
   "cell_type": "code",
   "execution_count": 281,
   "id": "determined-consortium",
   "metadata": {
    "tags": []
   },
   "outputs": [
    {
     "data": {
      "application/vnd.jupyter.widget-view+json": {
       "model_id": "b661f58b2f744fea9f2ec74878ab986a",
       "version_major": 2,
       "version_minor": 0
      },
      "text/plain": [
       "interactive(children=(SelectionRangeSlider(description='Years', index=(75, 88), layout=Layout(width='90%'), op…"
      ]
     },
     "metadata": {},
     "output_type": "display_data"
    }
   ],
   "source": [
    "### https://ipywidgets.readthedocs.io/en/latest/examples/Using%20Interact.html\n",
    "n_iterations = 0\n",
    "colors = ['blue', 'red', 'black', 'purple', 'yellow' ]\n",
    "\n",
    "a = interactive(update_layer, {'manual':True}, m = fixed(m), color = colors, begin_end = srs);\n",
    "display(a)"
   ]
  },
  {
   "cell_type": "code",
   "execution_count": 283,
   "id": "sexual-fifty",
   "metadata": {},
   "outputs": [],
   "source": [
    "### Seule la carte est enregistrée, pas les points – probablement à cause de l'interactivité\n",
    "# m.save('maps/birth_place_years.html', title='Birth places')"
   ]
  },
  {
   "cell_type": "markdown",
   "id": "british-equation",
   "metadata": {},
   "source": [
    "### Explorer la distribution des naissances dans le temps pour visualiser les générations (ou sur la carte"
   ]
  },
  {
   "cell_type": "code",
   "execution_count": 341,
   "id": "disciplinary-christian",
   "metadata": {},
   "outputs": [
    {
     "data": {
      "text/plain": [
       "(1771, 2000)"
      ]
     },
     "execution_count": 341,
     "metadata": {},
     "output_type": "execute_result"
    }
   ],
   "source": [
    "min(df_lnu['birth_year']),max(df_lnu['birth_year'])"
   ]
  },
  {
   "cell_type": "code",
   "execution_count": 358,
   "id": "simple-partner",
   "metadata": {},
   "outputs": [
    {
     "data": {
      "text/plain": [
       "[1981, 1991, 2001]"
      ]
     },
     "execution_count": 358,
     "metadata": {},
     "output_type": "execute_result"
    }
   ],
   "source": [
    "y10_list = pd.RangeIndex(start=min(df_lnu['birth_year']), stop=max(df_lnu['birth_year'])+2, step=10).to_list()\n",
    "y10_list[-3:]"
   ]
  },
  {
   "cell_type": "code",
   "execution_count": 359,
   "id": "preliminary-recording",
   "metadata": {},
   "outputs": [
    {
     "data": {
      "text/html": [
       "<div>\n",
       "<style scoped>\n",
       "    .dataframe tbody tr th:only-of-type {\n",
       "        vertical-align: middle;\n",
       "    }\n",
       "\n",
       "    .dataframe tbody tr th {\n",
       "        vertical-align: top;\n",
       "    }\n",
       "\n",
       "    .dataframe thead th {\n",
       "        text-align: right;\n",
       "    }\n",
       "</style>\n",
       "<table border=\"1\" class=\"dataframe\">\n",
       "  <thead>\n",
       "    <tr style=\"text-align: right;\">\n",
       "      <th></th>\n",
       "      <th>uri_entity</th>\n",
       "      <th>place_name</th>\n",
       "      <th>place_type</th>\n",
       "      <th>long</th>\n",
       "      <th>lat</th>\n",
       "      <th>birth_year</th>\n",
       "      <th>person</th>\n",
       "      <th>concat_person</th>\n",
       "      <th>decennie</th>\n",
       "    </tr>\n",
       "  </thead>\n",
       "  <tbody>\n",
       "    <tr>\n",
       "      <th>0</th>\n",
       "      <td>http://dbpedia.org/resource/A._C._Cuza</td>\n",
       "      <td>Iași</td>\n",
       "      <td>AdministrativeRegion</td>\n",
       "      <td>27.5903</td>\n",
       "      <td>47.1569</td>\n",
       "      <td>1857</td>\n",
       "      <td>A. C. Cuza</td>\n",
       "      <td>http://dbpedia.org/resource/A._C._Cuza|A. C. C...</td>\n",
       "      <td>1851-1861</td>\n",
       "    </tr>\n",
       "    <tr>\n",
       "      <th>1</th>\n",
       "      <td>http://dbpedia.org/resource/A._K._Shiva_Kumar</td>\n",
       "      <td>Chennai</td>\n",
       "      <td>City</td>\n",
       "      <td>80.275</td>\n",
       "      <td>13.0827</td>\n",
       "      <td>1956</td>\n",
       "      <td>A. K. Shiva Kumar</td>\n",
       "      <td>http://dbpedia.org/resource/A._K._Shiva_Kumar|...</td>\n",
       "      <td>1951-1961</td>\n",
       "    </tr>\n",
       "    <tr>\n",
       "      <th>2</th>\n",
       "      <td>http://dbpedia.org/resource/Aaron_Director</td>\n",
       "      <td>Staryi Chortoryisk</td>\n",
       "      <td>Village</td>\n",
       "      <td>25.8825</td>\n",
       "      <td>51.2242</td>\n",
       "      <td>1901</td>\n",
       "      <td>Aaron Director</td>\n",
       "      <td>http://dbpedia.org/resource/Aaron_Director|Aar...</td>\n",
       "      <td>1901-1911</td>\n",
       "    </tr>\n",
       "    <tr>\n",
       "      <th>3</th>\n",
       "      <td>http://dbpedia.org/resource/Aat_van_Rhijn</td>\n",
       "      <td>Groningen</td>\n",
       "      <td>City</td>\n",
       "      <td>6.56667</td>\n",
       "      <td>53.2167</td>\n",
       "      <td>1892</td>\n",
       "      <td>Aat van Rhijn</td>\n",
       "      <td>http://dbpedia.org/resource/Aat_van_Rhijn|Aat ...</td>\n",
       "      <td>1891-1901</td>\n",
       "    </tr>\n",
       "    <tr>\n",
       "      <th>4</th>\n",
       "      <td>http://dbpedia.org/resource/Abass_Bundu</td>\n",
       "      <td>Gbinti</td>\n",
       "      <td></td>\n",
       "      <td>-12.6</td>\n",
       "      <td>8.96667</td>\n",
       "      <td>1948</td>\n",
       "      <td>Abass Bundu</td>\n",
       "      <td>http://dbpedia.org/resource/Abass_Bundu|Abass ...</td>\n",
       "      <td>1941-1951</td>\n",
       "    </tr>\n",
       "  </tbody>\n",
       "</table>\n",
       "</div>"
      ],
      "text/plain": [
       "                                      uri_entity          place_name  \\\n",
       "0         http://dbpedia.org/resource/A._C._Cuza                Iași   \n",
       "1  http://dbpedia.org/resource/A._K._Shiva_Kumar             Chennai   \n",
       "2     http://dbpedia.org/resource/Aaron_Director  Staryi Chortoryisk   \n",
       "3      http://dbpedia.org/resource/Aat_van_Rhijn           Groningen   \n",
       "4        http://dbpedia.org/resource/Abass_Bundu              Gbinti   \n",
       "\n",
       "             place_type     long      lat  birth_year             person  \\\n",
       "0  AdministrativeRegion  27.5903  47.1569        1857         A. C. Cuza   \n",
       "1                  City   80.275  13.0827        1956  A. K. Shiva Kumar   \n",
       "2               Village  25.8825  51.2242        1901     Aaron Director   \n",
       "3                  City  6.56667  53.2167        1892      Aat van Rhijn   \n",
       "4                          -12.6  8.96667        1948        Abass Bundu   \n",
       "\n",
       "                                       concat_person   decennie  \n",
       "0  http://dbpedia.org/resource/A._C._Cuza|A. C. C...  1851-1861  \n",
       "1  http://dbpedia.org/resource/A._K._Shiva_Kumar|...  1951-1961  \n",
       "2  http://dbpedia.org/resource/Aaron_Director|Aar...  1901-1911  \n",
       "3  http://dbpedia.org/resource/Aat_van_Rhijn|Aat ...  1891-1901  \n",
       "4  http://dbpedia.org/resource/Abass_Bundu|Abass ...  1941-1951  "
      ]
     },
     "execution_count": 359,
     "metadata": {},
     "output_type": "execute_result"
    }
   ],
   "source": [
    "### codeer les années les regroupant par décennies : fonction cut\n",
    "\n",
    "df_lnu['decennie'] = pd.cut(df_lnu['birth_year'], y10_list, right=False)\n",
    "df_lnu['decennie'] = df_lnu['decennie'].apply(lambda row : str(int(row.left))+'-'+str(int(row.right)))\n",
    "df_lnu.head()"
   ]
  },
  {
   "cell_type": "code",
   "execution_count": 360,
   "id": "turkish-clerk",
   "metadata": {
    "tags": []
   },
   "outputs": [
    {
     "data": {
      "text/plain": [
       "decennie\n",
       "1951-1961    492\n",
       "1961-1971    344\n",
       "1971-1981    121\n",
       "1981-1991     21\n",
       "1991-2001    203\n",
       "dtype: int64"
      ]
     },
     "execution_count": 360,
     "metadata": {},
     "output_type": "execute_result"
    }
   ],
   "source": [
    "### Regrouper par continent et compter avec la fonction Pandas 'groupby'\n",
    "gb_decennie = df_lnu.groupby('decennie').size()\n",
    "gb_decennie[-5:]"
   ]
  },
  {
   "cell_type": "code",
   "execution_count": 361,
   "id": "insured-little",
   "metadata": {},
   "outputs": [
    {
     "name": "stdout",
     "output_type": "stream",
     "text": [
      "['1771-1781', '1781-1791', '1791-1801', '1801-1811', '1811-1821']\n"
     ]
    },
    {
     "data": {
      "text/plain": [
       "<BarContainer object of 23 artists>"
      ]
     },
     "execution_count": 361,
     "metadata": {},
     "output_type": "execute_result"
    },
    {
     "data": {
      "image/png": "[encoded data removed]",
      "text/plain": [
       "<Figure size 1080x504 with 1 Axes>"
      ]
     },
     "metadata": {
      "needs_background": "light"
     },
     "output_type": "display_data"
    }
   ],
   "source": [
    "### Distribution des naissances par décennie\n",
    "\n",
    "objects = [l for l in gb_decennie.index]\n",
    "eff = [l for l in gb_decennie]\n",
    "\n",
    "print(objects[:5])\n",
    "plt.figure(figsize=(15,7))\n",
    "plt.xticks(rotation=45)\n",
    "plt.bar(objects, eff)"
   ]
  },
  {
   "cell_type": "code",
   "execution_count": null,
   "id": "sacred-newport",
   "metadata": {},
   "outputs": [],
   "source": []
  }
 ],
 "metadata": {
  "kernelspec": {
   "display_name": "Py 3.7 HN sparql",
   "language": "python",
   "name": "py37_hn_sparql"
  },
  "language_info": {
   "codemirror_mode": {
    "name": "ipython",
    "version": 3
   },
   "file_extension": ".py",
   "mimetype": "text/x-python",
   "name": "python",
   "nbconvert_exporter": "python",
   "pygments_lexer": "ipython3",
   "version": "3.7.10"
  },
  "toc-autonumbering": false
 },
 "nbformat": 4,
 "nbformat_minor": 5
}
