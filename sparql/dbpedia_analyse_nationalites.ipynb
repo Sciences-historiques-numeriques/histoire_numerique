{
 "cells": [
  {
   "cell_type": "markdown",
   "id": "excellent-knight",
   "metadata": {},
   "source": [
    "# Analyse des nationalités\n",
    "\n",
    "\n",
    "Les différentes notions de _modèle_:\n",
    "* le modèle comme représentation de l'information : le choix des propriétés\n",
    "* le modèle comme simplification de l'information : le codage\n",
    "* le modèle comme représentation des structures dans l'information : le choix des méthodes et des représentations\n",
    "* le modèle comme représentation de la réalité : les choix en vue de la construction du récit\n"
   ]
  },
  {
   "cell_type": "code",
   "execution_count": null,
   "id": "humanitarian-notification",
   "metadata": {},
   "outputs": [],
   "source": []
  },
  {
   "cell_type": "code",
   "execution_count": 1,
   "id": "ranking-harmony",
   "metadata": {},
   "outputs": [],
   "source": [
    "from SPARQLWrapper import SPARQLWrapper, SPARQLWrapper2, JSON, TURTLE, XML, RDFXML\n",
    "import pandas as pd\n",
    "import matplotlib.pyplot as plt\n",
    "import numpy as np"
   ]
  },
  {
   "cell_type": "code",
   "execution_count": 2,
   "id": "responsible-logging",
   "metadata": {},
   "outputs": [],
   "source": [
    "import pprint\n",
    "import csv\n",
    "import ast\n",
    "import re\n",
    "\n",
    "from collections import Counter\n",
    "from operator import itemgetter\n",
    "\n",
    "import sqlite3 as sql\n",
    "import time\n",
    "\n",
    "from importlib import reload\n",
    "from shutil import copyfile"
   ]
  },
  {
   "cell_type": "code",
   "execution_count": 3,
   "id": "brilliant-football",
   "metadata": {},
   "outputs": [],
   "source": [
    "### Instructions pour l'installation dans JupyterLab : \n",
    "# https://ipywidgets.readthedocs.io/en/latest/user_install.html#installing-in-jupyterlab-3-0\n",
    "# Utiliser idéalement JupyterLab 3.0\n",
    "\n",
    "from ipywidgets import (\n",
    "    interact, IntSlider, Checkbox,\n",
    "    interactive, SelectMultiple)"
   ]
  },
  {
   "cell_type": "code",
   "execution_count": 4,
   "id": "compact-behavior",
   "metadata": {},
   "outputs": [],
   "source": [
    "### Importer un module de fonctions crée ad hoc\n",
    "## ATTENTION : le fichier 'sparql_functions.py' doit se trouver \n",
    "#   dans le même dossier que le présent carnet Jupyter afin que l'importation\n",
    "#   fonctionne correctement\n",
    "import sparql_functions as spqf"
   ]
  },
  {
   "cell_type": "code",
   "execution_count": 13,
   "id": "constant-above",
   "metadata": {},
   "outputs": [
    {
     "data": {
      "text/plain": [
       "<module 'sparql_functions' from '/Volumes/Patientia/python_notebooks/sciences_historiques_numeriques/histoire_numerique/sparql/sparql_functions.py'>"
      ]
     },
     "execution_count": 13,
     "metadata": {},
     "output_type": "execute_result"
    }
   ],
   "source": [
    "### Recharger le module après modification des fonctions dans le fichier du module\n",
    "# désactivé #  \n",
    "reload(spqf)"
   ]
  },
  {
   "cell_type": "markdown",
   "id": "sexual-influence",
   "metadata": {},
   "source": [
    "## Base de données"
   ]
  },
  {
   "cell_type": "code",
   "execution_count": 5,
   "id": "outer-colonial",
   "metadata": {},
   "outputs": [],
   "source": [
    "### Définir les adresses des fichiers, l'existant et celui à créer\n",
    "db = 'data/sparql_queries.db'"
   ]
  },
  {
   "cell_type": "code",
   "execution_count": 5,
   "id": "structured-render",
   "metadata": {},
   "outputs": [
    {
     "data": {
      "text/plain": [
       "'20210424_140113'"
      ]
     },
     "execution_count": 5,
     "metadata": {},
     "output_type": "execute_result"
    }
   ],
   "source": [
    "### Fonction qui récupère et met en forme le temps au moment de l'exécution\n",
    "\n",
    "# définition\n",
    "def timestamp_formatted_for_file_name():\n",
    "    is_now = time.strftime('%Y%m%d_%H%M%S')\n",
    "    return is_now\n",
    "\n",
    "# exécution\n",
    "timestamp_formatted_for_file_name()"
   ]
  },
  {
   "cell_type": "code",
   "execution_count": 9,
   "id": "removable-irrigation",
   "metadata": {},
   "outputs": [],
   "source": [
    "##  Noter que la différence de suffixe, en soi totalement arbitraire, \n",
    "#  dépend du fait que dans la configuration de .gitignore, .sqlite est exclu du verisonnement GIT\n",
    "#  contrairement à .db qui est versionné\n",
    "timestamped_db_copy = 'data/sparql_queries_' + timestamp_formatted_for_file_name() + '.sqlite'"
   ]
  },
  {
   "cell_type": "code",
   "execution_count": 7,
   "id": "joined-happiness",
   "metadata": {},
   "outputs": [
    {
     "data": {
      "text/plain": [
       "'data/sparql_queries_20210424_140113.sqlite'"
      ]
     },
     "execution_count": 7,
     "metadata": {},
     "output_type": "execute_result"
    }
   ],
   "source": [
    "### Créer une copie de sauvegarde avec timestamp du fichier (versionnement manuel)\n",
    "# ATTENTION : la base de données doit exister à l'endroit indiqué !\n",
    "## Cette requête n'est utile que si des modifications en écriture vont être apportées à la base de données,\n",
    "# afint de préserver le dernier état avant modification\n",
    "\n",
    "## Documentation:\n",
    "# https://docs.python.org/3/library/shutil.htmlcopied_db = copyfile(original_db, timestamped_db_copy)\n",
    "\n",
    "copied_db = copyfile(db, timestamped_db_copy)\n",
    "copied_db"
   ]
  },
  {
   "cell_type": "markdown",
   "id": "essential-learning",
   "metadata": {},
   "source": [
    "## Explorer et coder les nationalités"
   ]
  },
  {
   "cell_type": "markdown",
   "id": "ignored-basket",
   "metadata": {},
   "source": [
    "### Requêtes préliminaires\n",
    "\n",
    "* Passer des individus aux structures\n",
    "\n",
    "* La difficulté: arriver à une seule nationalité par personne\n",
    "  * nettoyer les données : requête 'nationality'\n",
    "    * relever qu'il y a dans les données tant des URI de ressources que des chaînes de caractères\n",
    "    * tester: s'il s'agit d'une URI d'abord resource, si pas chaine de charactères -> \n",
    "  * difficulté nettoyage et codage en fonction de l'échelle\n"
   ]
  },
  {
   "cell_type": "code",
   "execution_count": 19,
   "id": "swiss-notion",
   "metadata": {},
   "outputs": [],
   "source": [
    "### Regrouper nationalités par personne\n",
    "query =\"\"\"\n",
    "SELECT\n",
    "\turi_entity,\n",
    "\tCOUNT(*) AS eff\n",
    "FROM\n",
    "\tproperty\n",
    "WHERE\n",
    "\tproperty IN ('http://dbpedia.org/property/nationality', 'http://dbpedia.org/ontology/nationality')\n",
    "GROUP BY uri_entity \n",
    "ORDER BY eff DESC ;\n",
    "\"\"\""
   ]
  },
  {
   "cell_type": "code",
   "execution_count": 22,
   "id": "revised-implementation",
   "metadata": {},
   "outputs": [],
   "source": [
    "### Personnes avec nationalité : 1688 de 2389 personnes\n",
    "query = \"\"\"WITH tw1 AS (\n",
    "SELECT\n",
    "\turi_entity,\n",
    "\tCOUNT(*) AS eff\n",
    "FROM\n",
    "\tproperty\n",
    "WHERE\n",
    "\tproperty IN ('http://dbpedia.org/property/nationality', 'http://dbpedia.org/ontology/nationality')\n",
    "GROUP BY uri_entity \n",
    ")\n",
    " SELECT COUNT(*) FROM tw1; \n",
    "\"\"\""
   ]
  },
  {
   "cell_type": "code",
   "execution_count": 23,
   "id": "contained-smell",
   "metadata": {},
   "outputs": [],
   "source": [
    "## FB - Ajouter les requêtes qui manquent"
   ]
  },
  {
   "cell_type": "code",
   "execution_count": null,
   "id": "polish-while",
   "metadata": {
    "scrolled": true,
    "tags": []
   },
   "outputs": [],
   "source": [
    "# connnexion à la base de données\n",
    "cn = sql.connect(db)\n",
    "c = cn.cursor()\n",
    "\n",
    "### exécuter la requëte sur la base de donées SQLite pour récupérer les valeurs que contient la ligne\n",
    "c.execute(query)\n",
    "result_q = []\n",
    "result_q = c.fetchall()\n",
    "\n",
    "# fermer la connexion\n",
    "cn.close()\n",
    "print(len(result_q))\n",
    "result_q[:300]"
   ]
  },
  {
   "cell_type": "code",
   "execution_count": 6,
   "id": "taken-newsletter",
   "metadata": {
    "tags": []
   },
   "outputs": [],
   "source": [
    "nationality = \"\"\"WITH tw0 AS(\n",
    "SELECT DISTINCT uri_entity ,\n",
    "CASE WHEN value like 'http%'\n",
    "then replace(value, 'http://dbpedia.org/resource/', '')\n",
    "else value END nationality\n",
    "FROM\n",
    "\tproperty\n",
    "WHERE\n",
    "\tproperty IN ('http://dbpedia.org/property/nationality', 'http://dbpedia.org/ontology/nationality')\n",
    ")\n",
    "-- Stemming : réduire à la racine du mot, réalisé ici de manière simplifiée en prenant les 5 premiers caractères\n",
    "SELECT nationality, count(*) as eff, substr(nationality, 1,5) natio\n",
    "FROM tw0\n",
    "group by nationality, substr(nationality, 1,5)\n",
    "order by eff desc;\n",
    "\"\"\""
   ]
  },
  {
   "cell_type": "code",
   "execution_count": null,
   "id": "immune-complex",
   "metadata": {
    "scrolled": true,
    "tags": []
   },
   "outputs": [],
   "source": [
    "# connnexion à la base de données\n",
    "cn = sql.connect(db)\n",
    "c = cn.cursor()\n",
    "\n",
    "### exécuter la requëte sur la base de donées SQLite pour récupérer les valeurs que contient la ligne\n",
    "c.execute(nationality)\n",
    "result_q = []\n",
    "result_q = c.fetchall()\n",
    "\n",
    "# fermer la connexion\n",
    "cn.close()\n",
    "print(len(result_q))\n",
    "result_q[:300]"
   ]
  },
  {
   "cell_type": "code",
   "execution_count": 27,
   "id": "potential-richards",
   "metadata": {},
   "outputs": [],
   "source": [
    "## écrire le résultat puis l'ouvrir dans Calc ou Excel afin d'effectuer le codage\n",
    "file= 'spreadsheets/nationalities.csv'\n",
    "with open(file, 'w', newline='') as csvfile:\n",
    "    writ = csv.writer(csvfile, delimiter='|',\n",
    "                            quotechar='\"', quoting=csv.QUOTE_MINIMAL)\n",
    "    writ.writerow(['nationality', 'eff', 'code'])\n",
    "    for l in result_q:\n",
    "        writ.writerow(l)"
   ]
  },
  {
   "cell_type": "code",
   "execution_count": null,
   "id": "rotary-stability",
   "metadata": {},
   "outputs": [],
   "source": []
  },
  {
   "cell_type": "markdown",
   "id": "coated-trading",
   "metadata": {},
   "source": [
    "### Principes du codage\n",
    "\n",
    "Un codage applique un modèle, i.e. une ensemble de décisions qui simplifient l'information pour la rendre plus facilement compréhensible. Un biais est ainsi inévitablement introduit qu'il faut maîtriser et rectifier éventuellement\n",
    "\n",
    "\n",
    "Principes adoptés:\n",
    "* en cas de double nationalité USA et autre (renseignée comme telle), on indique qu'il s'agit de bi-nationaux \n",
    "  * on aurait aussi pu coder autrement, par ex. retenir une seule nationalité\n",
    "* par contre si deux nationalités sont renseignées séparément, on garde les deux dans les données\n",
    "  * le même individu est présent deux fois dans l'analyse !\n",
    "  * on privilégie ainsi la structure, l'évolution des nationalités dans le temps"
   ]
  },
  {
   "cell_type": "code",
   "execution_count": 87,
   "id": "oriental-milan",
   "metadata": {},
   "outputs": [],
   "source": [
    "file= 'spreadsheets/nationalities_codes.csv'\n",
    "file_cont = []\n",
    "with open(file, newline='') as csvfile:\n",
    "    read = csv.reader(csvfile, delimiter='|', quotechar='\"')\n",
    "    for row in read:\n",
    "        file_cont.append(row)\n"
   ]
  },
  {
   "cell_type": "code",
   "execution_count": 88,
   "id": "purple-shore",
   "metadata": {},
   "outputs": [
    {
     "name": "stdout",
     "output_type": "stream",
     "text": [
      "401\n"
     ]
    },
    {
     "data": {
      "text/plain": [
       "[['United_States', '328', 'Unite', 'Am. Nord'],\n",
       " ['American', '145', 'Ameri', 'Am. Nord'],\n",
       " ['Germany', '72', 'Germa', 'Europe'],\n",
       " ['United_Kingdom', '59', 'Unite', 'Europe'],\n",
       " ['British', '58', 'Briti', 'Europe'],\n",
       " ['Netherlands', '55', 'Nethe', 'Europe'],\n",
       " ['Americans', '51', 'Ameri', 'Am. Nord'],\n",
       " ['United States', '49', 'Unite', 'Am. Nord'],\n",
       " ['Indian', '40', 'India', 'Asie']]"
      ]
     },
     "execution_count": 88,
     "metadata": {},
     "output_type": "execute_result"
    }
   ],
   "source": [
    "print(len(file_cont))\n",
    "file_cont[1:10]"
   ]
  },
  {
   "cell_type": "code",
   "execution_count": 89,
   "id": "standing-orange",
   "metadata": {},
   "outputs": [
    {
     "name": "stdout",
     "output_type": "stream",
     "text": [
      "400\n"
     ]
    },
    {
     "data": {
      "text/html": [
       "<div>\n",
       "<style scoped>\n",
       "    .dataframe tbody tr th:only-of-type {\n",
       "        vertical-align: middle;\n",
       "    }\n",
       "\n",
       "    .dataframe tbody tr th {\n",
       "        vertical-align: top;\n",
       "    }\n",
       "\n",
       "    .dataframe thead th {\n",
       "        text-align: right;\n",
       "    }\n",
       "</style>\n",
       "<table border=\"1\" class=\"dataframe\">\n",
       "  <thead>\n",
       "    <tr style=\"text-align: right;\">\n",
       "      <th></th>\n",
       "      <th>nationality</th>\n",
       "      <th>continent</th>\n",
       "    </tr>\n",
       "  </thead>\n",
       "  <tbody>\n",
       "    <tr>\n",
       "      <th>0</th>\n",
       "      <td>United_States</td>\n",
       "      <td>Am. Nord</td>\n",
       "    </tr>\n",
       "    <tr>\n",
       "      <th>1</th>\n",
       "      <td>American</td>\n",
       "      <td>Am. Nord</td>\n",
       "    </tr>\n",
       "    <tr>\n",
       "      <th>2</th>\n",
       "      <td>Germany</td>\n",
       "      <td>Europe</td>\n",
       "    </tr>\n",
       "    <tr>\n",
       "      <th>3</th>\n",
       "      <td>United_Kingdom</td>\n",
       "      <td>Europe</td>\n",
       "    </tr>\n",
       "    <tr>\n",
       "      <th>4</th>\n",
       "      <td>British</td>\n",
       "      <td>Europe</td>\n",
       "    </tr>\n",
       "  </tbody>\n",
       "</table>\n",
       "</div>"
      ],
      "text/plain": [
       "      nationality continent\n",
       "0   United_States  Am. Nord\n",
       "1        American  Am. Nord\n",
       "2         Germany    Europe\n",
       "3  United_Kingdom    Europe\n",
       "4         British    Europe"
      ]
     },
     "execution_count": 89,
     "metadata": {},
     "output_type": "execute_result"
    }
   ],
   "source": [
    "df_coded_nation = pd.DataFrame(file_cont[1:], columns=['nationality','eff','code', 'continent'])\n",
    "nat_codes = df_coded_nation[['nationality','continent']]\n",
    "print(len(nat_codes))\n",
    "nat_codes.head()"
   ]
  },
  {
   "cell_type": "markdown",
   "id": "internal-poker",
   "metadata": {},
   "source": [
    "### Récupérer l'année de naissance et la nationalité depuis la base SQLite"
   ]
  },
  {
   "cell_type": "code",
   "execution_count": 90,
   "id": "editorial-walnut",
   "metadata": {},
   "outputs": [],
   "source": [
    "db = 'data/sparql_queries.db'"
   ]
  },
  {
   "cell_type": "code",
   "execution_count": 91,
   "id": "solar-vegetable",
   "metadata": {
    "tags": []
   },
   "outputs": [],
   "source": [
    "### Inspecter le résultat d'une requête après insertion, une fois l'insert ci-dessus effectué\n",
    "\n",
    "query = \"\"\"\n",
    "SELECT GROUP_CONCAT(value), uri_entity, count(*) as eff\n",
    "FROM property p\n",
    "WHERE p.property LIKE '%ontology/birth%'\n",
    "--WHERE p.property LIKE '%birthD%' OR p.property LIKE '%birthY%'\n",
    "GROUP BY uri_entity\n",
    "ORDER BY eff DESC ;\n",
    "\n",
    "\"\"\""
   ]
  },
  {
   "cell_type": "code",
   "execution_count": 59,
   "id": "advanced-sailing",
   "metadata": {
    "scrolled": true,
    "tags": []
   },
   "outputs": [],
   "source": [
    "query = \"\"\"\n",
    "SELECT DISTINCT uri_entity, substr(value, 1, 4) as birth_year\n",
    "FROM property p\n",
    "WHERE p.property LIKE '%ontology/birth%'\n",
    "--ORDER BY birth_year DESC\n",
    ";\n",
    "\n",
    "\"\"\""
   ]
  },
  {
   "cell_type": "code",
   "execution_count": 92,
   "id": "gross-memphis",
   "metadata": {},
   "outputs": [],
   "source": [
    "birth_dates_nat = \"\"\"\n",
    "WITH tw0 AS(\n",
    "SELECT DISTINCT uri_entity ,\n",
    "CASE WHEN value like 'http%'\n",
    "then replace(value, 'http://dbpedia.org/resource/', '')\n",
    "else value END nationality\n",
    "FROM\n",
    "\tproperty\n",
    "WHERE\n",
    "\tproperty IN ('http://dbpedia.org/property/nationality', 'http://dbpedia.org/ontology/nationality')\n",
    "), tw1 AS (\n",
    "SELECT GROUP_CONCAT(value) birth_dates, uri_entity, count(*) as eff\n",
    "FROM property p\n",
    "WHERE p.property LIKE '%birthD%' OR p.property LIKE '%birthY%'\n",
    "GROUP BY uri_entity)\n",
    "SELECT tw1.uri_entity, tw1.birth_dates, trim(tw0.nationality)\n",
    "FROM tw1, tw0\n",
    "WHERE tw1.uri_entity = tw0.uri_entity;\n",
    "\"\"\" "
   ]
  },
  {
   "cell_type": "code",
   "execution_count": null,
   "id": "korean-short",
   "metadata": {
    "scrolled": true,
    "tags": []
   },
   "outputs": [],
   "source": [
    "# connnexion à la base de données\n",
    "cn = sql.connect(db)\n",
    "c = cn.cursor()\n",
    "\n",
    "### exécuter la requëte sur la base de donées SQLite pour récupérer les valeurs que contient la ligne\n",
    "c.execute(birth_dates_nat)\n",
    "result_q = []\n",
    "result_q = c.fetchall()\n",
    "\n",
    "# fermer la connexion\n",
    "cn.close()\n",
    "print(len(result_q))\n",
    "result_q[:300]"
   ]
  },
  {
   "cell_type": "code",
   "execution_count": 94,
   "id": "color-cotton",
   "metadata": {},
   "outputs": [],
   "source": [
    "df_result = pd.DataFrame(result_q)\n",
    "df_result.columns =['uri_entity', 'dates', 'nationality']"
   ]
  },
  {
   "cell_type": "code",
   "execution_count": 95,
   "id": "pretty-sociology",
   "metadata": {},
   "outputs": [
    {
     "data": {
      "text/html": [
       "<div>\n",
       "<style scoped>\n",
       "    .dataframe tbody tr th:only-of-type {\n",
       "        vertical-align: middle;\n",
       "    }\n",
       "\n",
       "    .dataframe tbody tr th {\n",
       "        vertical-align: top;\n",
       "    }\n",
       "\n",
       "    .dataframe thead th {\n",
       "        text-align: right;\n",
       "    }\n",
       "</style>\n",
       "<table border=\"1\" class=\"dataframe\">\n",
       "  <thead>\n",
       "    <tr style=\"text-align: right;\">\n",
       "      <th></th>\n",
       "      <th>uri_entity</th>\n",
       "      <th>dates</th>\n",
       "      <th>nationality</th>\n",
       "    </tr>\n",
       "  </thead>\n",
       "  <tbody>\n",
       "    <tr>\n",
       "      <th>0</th>\n",
       "      <td>http://dbpedia.org/resource/A._D._Roy</td>\n",
       "      <td>1920-06-28,1920-06-28</td>\n",
       "      <td>British</td>\n",
       "    </tr>\n",
       "    <tr>\n",
       "      <th>1</th>\n",
       "      <td>http://dbpedia.org/resource/Aat_van_Rhijn</td>\n",
       "      <td>1892-10-23,1892-10-23</td>\n",
       "      <td>Netherlands</td>\n",
       "    </tr>\n",
       "    <tr>\n",
       "      <th>2</th>\n",
       "      <td>http://dbpedia.org/resource/Abass_Bundu</td>\n",
       "      <td>1948-06-03,1948-06-03</td>\n",
       "      <td>Sierra Leonean</td>\n",
       "    </tr>\n",
       "    <tr>\n",
       "      <th>3</th>\n",
       "      <td>http://dbpedia.org/resource/Abass_Bundu</td>\n",
       "      <td>1948-06-03,1948-06-03</td>\n",
       "      <td>Sierra_Leonean</td>\n",
       "    </tr>\n",
       "    <tr>\n",
       "      <th>4</th>\n",
       "      <td>http://dbpedia.org/resource/Abba_P._Lerner</td>\n",
       "      <td>1903-10-28,1903-10-28</td>\n",
       "      <td>Moldovan-British-American</td>\n",
       "    </tr>\n",
       "  </tbody>\n",
       "</table>\n",
       "</div>"
      ],
      "text/plain": [
       "                                   uri_entity                  dates  \\\n",
       "0       http://dbpedia.org/resource/A._D._Roy  1920-06-28,1920-06-28   \n",
       "1   http://dbpedia.org/resource/Aat_van_Rhijn  1892-10-23,1892-10-23   \n",
       "2     http://dbpedia.org/resource/Abass_Bundu  1948-06-03,1948-06-03   \n",
       "3     http://dbpedia.org/resource/Abass_Bundu  1948-06-03,1948-06-03   \n",
       "4  http://dbpedia.org/resource/Abba_P._Lerner  1903-10-28,1903-10-28   \n",
       "\n",
       "                 nationality  \n",
       "0                    British  \n",
       "1                Netherlands  \n",
       "2             Sierra Leonean  \n",
       "3             Sierra_Leonean  \n",
       "4  Moldovan-British-American  "
      ]
     },
     "execution_count": 95,
     "metadata": {},
     "output_type": "execute_result"
    }
   ],
   "source": [
    "df_result.head()"
   ]
  },
  {
   "cell_type": "code",
   "execution_count": 96,
   "id": "banner-narrow",
   "metadata": {},
   "outputs": [
    {
     "data": {
      "text/plain": [
       "0       1920-06-28,1920-06-28\n",
       "1       1892-10-23,1892-10-23\n",
       "2       1948-06-03,1948-06-03\n",
       "3       1948-06-03,1948-06-03\n",
       "4       1903-10-28,1903-10-28\n",
       "                ...          \n",
       "1725    1960-07-23,1960-07-23\n",
       "1726    1959-02-03,1959-02-03\n",
       "1727    1959-02-03,1959-02-03\n",
       "1728    1944-02-28,1944-02-28\n",
       "1729    1951-08-03,1951-08-03\n",
       "Name: dates, Length: 1730, dtype: object"
      ]
     },
     "execution_count": 96,
     "metadata": {},
     "output_type": "execute_result"
    }
   ],
   "source": [
    "df_result['dates']"
   ]
  },
  {
   "cell_type": "code",
   "execution_count": 97,
   "id": "general-homework",
   "metadata": {},
   "outputs": [],
   "source": [
    "## Documentation Python\n",
    "# https://docs.python.org/3/library/re.html\n",
    "\n",
    "listeDateNaiss = []\n",
    "annee = re.compile(r'\\d{4}')"
   ]
  },
  {
   "cell_type": "markdown",
   "id": "continuous-firmware",
   "metadata": {},
   "source": [
    "### Nettoyer et préparer les années de naissance"
   ]
  },
  {
   "cell_type": "code",
   "execution_count": 98,
   "id": "enabling-scenario",
   "metadata": {},
   "outputs": [],
   "source": [
    "### Extraire l'année de chaque ligne\n",
    "# Doc.:  https://www.delftstack.com/howto/python-pandas/apply-function-to-column-pandas/\n",
    "\n",
    "df_result['anneeNaiss'] = df_result['dates'].apply(lambda row: annee.findall(row)[0] if annee.findall(row) else None)\n",
    "\n",
    "        "
   ]
  },
  {
   "cell_type": "code",
   "execution_count": 99,
   "id": "acting-blues",
   "metadata": {},
   "outputs": [
    {
     "name": "stdout",
     "output_type": "stream",
     "text": [
      "1730\n"
     ]
    },
    {
     "data": {
      "text/html": [
       "<div>\n",
       "<style scoped>\n",
       "    .dataframe tbody tr th:only-of-type {\n",
       "        vertical-align: middle;\n",
       "    }\n",
       "\n",
       "    .dataframe tbody tr th {\n",
       "        vertical-align: top;\n",
       "    }\n",
       "\n",
       "    .dataframe thead th {\n",
       "        text-align: right;\n",
       "    }\n",
       "</style>\n",
       "<table border=\"1\" class=\"dataframe\">\n",
       "  <thead>\n",
       "    <tr style=\"text-align: right;\">\n",
       "      <th></th>\n",
       "      <th>uri_entity</th>\n",
       "      <th>dates</th>\n",
       "      <th>nationality</th>\n",
       "      <th>anneeNaiss</th>\n",
       "    </tr>\n",
       "  </thead>\n",
       "  <tbody>\n",
       "    <tr>\n",
       "      <th>0</th>\n",
       "      <td>http://dbpedia.org/resource/A._D._Roy</td>\n",
       "      <td>1920-06-28,1920-06-28</td>\n",
       "      <td>British</td>\n",
       "      <td>1920</td>\n",
       "    </tr>\n",
       "    <tr>\n",
       "      <th>1</th>\n",
       "      <td>http://dbpedia.org/resource/Aat_van_Rhijn</td>\n",
       "      <td>1892-10-23,1892-10-23</td>\n",
       "      <td>Netherlands</td>\n",
       "      <td>1892</td>\n",
       "    </tr>\n",
       "    <tr>\n",
       "      <th>2</th>\n",
       "      <td>http://dbpedia.org/resource/Abass_Bundu</td>\n",
       "      <td>1948-06-03,1948-06-03</td>\n",
       "      <td>Sierra Leonean</td>\n",
       "      <td>1948</td>\n",
       "    </tr>\n",
       "    <tr>\n",
       "      <th>3</th>\n",
       "      <td>http://dbpedia.org/resource/Abass_Bundu</td>\n",
       "      <td>1948-06-03,1948-06-03</td>\n",
       "      <td>Sierra_Leonean</td>\n",
       "      <td>1948</td>\n",
       "    </tr>\n",
       "    <tr>\n",
       "      <th>4</th>\n",
       "      <td>http://dbpedia.org/resource/Abba_P._Lerner</td>\n",
       "      <td>1903-10-28,1903-10-28</td>\n",
       "      <td>Moldovan-British-American</td>\n",
       "      <td>1903</td>\n",
       "    </tr>\n",
       "  </tbody>\n",
       "</table>\n",
       "</div>"
      ],
      "text/plain": [
       "                                   uri_entity                  dates  \\\n",
       "0       http://dbpedia.org/resource/A._D._Roy  1920-06-28,1920-06-28   \n",
       "1   http://dbpedia.org/resource/Aat_van_Rhijn  1892-10-23,1892-10-23   \n",
       "2     http://dbpedia.org/resource/Abass_Bundu  1948-06-03,1948-06-03   \n",
       "3     http://dbpedia.org/resource/Abass_Bundu  1948-06-03,1948-06-03   \n",
       "4  http://dbpedia.org/resource/Abba_P._Lerner  1903-10-28,1903-10-28   \n",
       "\n",
       "                 nationality anneeNaiss  \n",
       "0                    British       1920  \n",
       "1                Netherlands       1892  \n",
       "2             Sierra Leonean       1948  \n",
       "3             Sierra_Leonean       1948  \n",
       "4  Moldovan-British-American       1903  "
      ]
     },
     "execution_count": 99,
     "metadata": {},
     "output_type": "execute_result"
    }
   ],
   "source": [
    "print(len(df_result))\n",
    "df_result.head()"
   ]
  },
  {
   "cell_type": "code",
   "execution_count": 100,
   "id": "foreign-membrane",
   "metadata": {},
   "outputs": [
    {
     "name": "stdout",
     "output_type": "stream",
     "text": [
      "1730\n"
     ]
    },
    {
     "data": {
      "text/html": [
       "<div>\n",
       "<style scoped>\n",
       "    .dataframe tbody tr th:only-of-type {\n",
       "        vertical-align: middle;\n",
       "    }\n",
       "\n",
       "    .dataframe tbody tr th {\n",
       "        vertical-align: top;\n",
       "    }\n",
       "\n",
       "    .dataframe thead th {\n",
       "        text-align: right;\n",
       "    }\n",
       "</style>\n",
       "<table border=\"1\" class=\"dataframe\">\n",
       "  <thead>\n",
       "    <tr style=\"text-align: right;\">\n",
       "      <th></th>\n",
       "      <th>uri_entity</th>\n",
       "      <th>nationality</th>\n",
       "      <th>anneeNaiss</th>\n",
       "    </tr>\n",
       "  </thead>\n",
       "  <tbody>\n",
       "    <tr>\n",
       "      <th>0</th>\n",
       "      <td>http://dbpedia.org/resource/A._D._Roy</td>\n",
       "      <td>British</td>\n",
       "      <td>1920</td>\n",
       "    </tr>\n",
       "    <tr>\n",
       "      <th>1</th>\n",
       "      <td>http://dbpedia.org/resource/Aat_van_Rhijn</td>\n",
       "      <td>Netherlands</td>\n",
       "      <td>1892</td>\n",
       "    </tr>\n",
       "    <tr>\n",
       "      <th>2</th>\n",
       "      <td>http://dbpedia.org/resource/Abass_Bundu</td>\n",
       "      <td>Sierra Leonean</td>\n",
       "      <td>1948</td>\n",
       "    </tr>\n",
       "    <tr>\n",
       "      <th>3</th>\n",
       "      <td>http://dbpedia.org/resource/Abass_Bundu</td>\n",
       "      <td>Sierra_Leonean</td>\n",
       "      <td>1948</td>\n",
       "    </tr>\n",
       "    <tr>\n",
       "      <th>4</th>\n",
       "      <td>http://dbpedia.org/resource/Abba_P._Lerner</td>\n",
       "      <td>Moldovan-British-American</td>\n",
       "      <td>1903</td>\n",
       "    </tr>\n",
       "    <tr>\n",
       "      <th>...</th>\n",
       "      <td>...</td>\n",
       "      <td>...</td>\n",
       "      <td>...</td>\n",
       "    </tr>\n",
       "    <tr>\n",
       "      <th>1725</th>\n",
       "      <td>http://dbpedia.org/resource/Éric_Pichet</td>\n",
       "      <td>France</td>\n",
       "      <td>1960</td>\n",
       "    </tr>\n",
       "    <tr>\n",
       "      <th>1726</th>\n",
       "      <td>http://dbpedia.org/resource/Óscar_Iván_Zuluaga</td>\n",
       "      <td>Colombian_people</td>\n",
       "      <td>1959</td>\n",
       "    </tr>\n",
       "    <tr>\n",
       "      <th>1727</th>\n",
       "      <td>http://dbpedia.org/resource/Óscar_Iván_Zuluaga</td>\n",
       "      <td>Colombians</td>\n",
       "      <td>1959</td>\n",
       "    </tr>\n",
       "    <tr>\n",
       "      <th>1728</th>\n",
       "      <td>http://dbpedia.org/resource/Şirin_Tekeli</td>\n",
       "      <td>Turkish</td>\n",
       "      <td>1944</td>\n",
       "    </tr>\n",
       "    <tr>\n",
       "      <th>1729</th>\n",
       "      <td>http://dbpedia.org/resource/Željko_Rohatinski</td>\n",
       "      <td>Croatian</td>\n",
       "      <td>1951</td>\n",
       "    </tr>\n",
       "  </tbody>\n",
       "</table>\n",
       "<p>1730 rows × 3 columns</p>\n",
       "</div>"
      ],
      "text/plain": [
       "                                          uri_entity  \\\n",
       "0              http://dbpedia.org/resource/A._D._Roy   \n",
       "1          http://dbpedia.org/resource/Aat_van_Rhijn   \n",
       "2            http://dbpedia.org/resource/Abass_Bundu   \n",
       "3            http://dbpedia.org/resource/Abass_Bundu   \n",
       "4         http://dbpedia.org/resource/Abba_P._Lerner   \n",
       "...                                              ...   \n",
       "1725         http://dbpedia.org/resource/Éric_Pichet   \n",
       "1726  http://dbpedia.org/resource/Óscar_Iván_Zuluaga   \n",
       "1727  http://dbpedia.org/resource/Óscar_Iván_Zuluaga   \n",
       "1728        http://dbpedia.org/resource/Şirin_Tekeli   \n",
       "1729   http://dbpedia.org/resource/Željko_Rohatinski   \n",
       "\n",
       "                    nationality anneeNaiss  \n",
       "0                       British       1920  \n",
       "1                   Netherlands       1892  \n",
       "2                Sierra Leonean       1948  \n",
       "3                Sierra_Leonean       1948  \n",
       "4     Moldovan-British-American       1903  \n",
       "...                         ...        ...  \n",
       "1725                     France       1960  \n",
       "1726           Colombian_people       1959  \n",
       "1727                 Colombians       1959  \n",
       "1728                    Turkish       1944  \n",
       "1729                   Croatian       1951  \n",
       "\n",
       "[1730 rows x 3 columns]"
      ]
     },
     "execution_count": 100,
     "metadata": {},
     "output_type": "execute_result"
    }
   ],
   "source": [
    "nationalities = df_result[['uri_entity', 'nationality', 'anneeNaiss']]\n",
    "print(len(nationalities))\n",
    "nationalities"
   ]
  },
  {
   "cell_type": "markdown",
   "id": "statutory-fashion",
   "metadata": {},
   "source": [
    "### Ajouter le codage des continents"
   ]
  },
  {
   "cell_type": "code",
   "execution_count": 101,
   "id": "overhead-macedonia",
   "metadata": {},
   "outputs": [
    {
     "name": "stdout",
     "output_type": "stream",
     "text": [
      "1730\n"
     ]
    },
    {
     "data": {
      "text/html": [
       "<div>\n",
       "<style scoped>\n",
       "    .dataframe tbody tr th:only-of-type {\n",
       "        vertical-align: middle;\n",
       "    }\n",
       "\n",
       "    .dataframe tbody tr th {\n",
       "        vertical-align: top;\n",
       "    }\n",
       "\n",
       "    .dataframe thead th {\n",
       "        text-align: right;\n",
       "    }\n",
       "</style>\n",
       "<table border=\"1\" class=\"dataframe\">\n",
       "  <thead>\n",
       "    <tr style=\"text-align: right;\">\n",
       "      <th></th>\n",
       "      <th>uri_entity</th>\n",
       "      <th>nationality</th>\n",
       "      <th>anneeNaiss</th>\n",
       "      <th>continent</th>\n",
       "    </tr>\n",
       "  </thead>\n",
       "  <tbody>\n",
       "    <tr>\n",
       "      <th>30</th>\n",
       "      <td>http://dbpedia.org/resource/Kenneth_Berrill</td>\n",
       "      <td>British</td>\n",
       "      <td>1920</td>\n",
       "      <td>Europe</td>\n",
       "    </tr>\n",
       "    <tr>\n",
       "      <th>455</th>\n",
       "      <td>http://dbpedia.org/resource/Kenneth_French</td>\n",
       "      <td>United_States</td>\n",
       "      <td>1954</td>\n",
       "      <td>Am. Nord</td>\n",
       "    </tr>\n",
       "    <tr>\n",
       "      <th>1574</th>\n",
       "      <td>http://dbpedia.org/resource/Kenneth_Good_(poli...</td>\n",
       "      <td>Australians</td>\n",
       "      <td>1933</td>\n",
       "      <td>Océeanie</td>\n",
       "    </tr>\n",
       "    <tr>\n",
       "      <th>190</th>\n",
       "      <td>http://dbpedia.org/resource/Kenneth_Good_(poli...</td>\n",
       "      <td>Australian</td>\n",
       "      <td>1933</td>\n",
       "      <td>Océeanie</td>\n",
       "    </tr>\n",
       "    <tr>\n",
       "      <th>456</th>\n",
       "      <td>http://dbpedia.org/resource/Kenneth_Judd</td>\n",
       "      <td>United_States</td>\n",
       "      <td>1953</td>\n",
       "      <td>Am. Nord</td>\n",
       "    </tr>\n",
       "    <tr>\n",
       "      <th>...</th>\n",
       "      <td>...</td>\n",
       "      <td>...</td>\n",
       "      <td>...</td>\n",
       "      <td>...</td>\n",
       "    </tr>\n",
       "    <tr>\n",
       "      <th>903</th>\n",
       "      <td>http://dbpedia.org/resource/Wilbur_Olin_Hedrick</td>\n",
       "      <td>American</td>\n",
       "      <td>1868</td>\n",
       "      <td>Am. Nord</td>\n",
       "    </tr>\n",
       "    <tr>\n",
       "      <th>926</th>\n",
       "      <td>http://dbpedia.org/resource/Wilhelm_Georg_Frie...</td>\n",
       "      <td>German</td>\n",
       "      <td>1817</td>\n",
       "      <td>Europe</td>\n",
       "    </tr>\n",
       "    <tr>\n",
       "      <th>772</th>\n",
       "      <td>http://dbpedia.org/resource/Wilhelm_Georg_Frie...</td>\n",
       "      <td>Germany</td>\n",
       "      <td>1817</td>\n",
       "      <td>Europe</td>\n",
       "    </tr>\n",
       "    <tr>\n",
       "      <th>773</th>\n",
       "      <td>http://dbpedia.org/resource/Wilhelm_Röpke</td>\n",
       "      <td>Germany</td>\n",
       "      <td>1899</td>\n",
       "      <td>Europe</td>\n",
       "    </tr>\n",
       "    <tr>\n",
       "      <th>50</th>\n",
       "      <td>http://dbpedia.org/resource/Will_Hutton</td>\n",
       "      <td>British</td>\n",
       "      <td>1950</td>\n",
       "      <td>Europe</td>\n",
       "    </tr>\n",
       "  </tbody>\n",
       "</table>\n",
       "<p>713 rows × 4 columns</p>\n",
       "</div>"
      ],
      "text/plain": [
       "                                             uri_entity    nationality  \\\n",
       "30          http://dbpedia.org/resource/Kenneth_Berrill        British   \n",
       "455          http://dbpedia.org/resource/Kenneth_French  United_States   \n",
       "1574  http://dbpedia.org/resource/Kenneth_Good_(poli...    Australians   \n",
       "190   http://dbpedia.org/resource/Kenneth_Good_(poli...     Australian   \n",
       "456            http://dbpedia.org/resource/Kenneth_Judd  United_States   \n",
       "...                                                 ...            ...   \n",
       "903     http://dbpedia.org/resource/Wilbur_Olin_Hedrick       American   \n",
       "926   http://dbpedia.org/resource/Wilhelm_Georg_Frie...         German   \n",
       "772   http://dbpedia.org/resource/Wilhelm_Georg_Frie...        Germany   \n",
       "773           http://dbpedia.org/resource/Wilhelm_Röpke        Germany   \n",
       "50              http://dbpedia.org/resource/Will_Hutton        British   \n",
       "\n",
       "     anneeNaiss continent  \n",
       "30         1920    Europe  \n",
       "455        1954  Am. Nord  \n",
       "1574       1933  Océeanie  \n",
       "190        1933  Océeanie  \n",
       "456        1953  Am. Nord  \n",
       "...         ...       ...  \n",
       "903        1868  Am. Nord  \n",
       "926        1817    Europe  \n",
       "772        1817    Europe  \n",
       "773        1899    Europe  \n",
       "50         1950    Europe  \n",
       "\n",
       "[713 rows x 4 columns]"
      ]
     },
     "execution_count": 101,
     "metadata": {},
     "output_type": "execute_result"
    }
   ],
   "source": [
    "### Documentation sur la jointure des tableaux: merge \n",
    "# https://pandas.pydata.org/docs/user_guide/merging.html#merging-join\n",
    "\n",
    "merged = pd.merge(nationalities,nat_codes, on='nationality', sort=False)\n",
    "print(len(merged))\n",
    "merged.sort_values(by=['uri_entity']).loc[30:50,]"
   ]
  },
  {
   "cell_type": "code",
   "execution_count": 102,
   "id": "damaged-bernard",
   "metadata": {},
   "outputs": [
    {
     "name": "stdout",
     "output_type": "stream",
     "text": [
      "1445\n"
     ]
    }
   ],
   "source": [
    "### Logique SELECT DISTINCT (SQL) –  élimine les doublons apparus du fait du codage\n",
    "# une seule personne par année de naissance et nationalité\n",
    "\n",
    "coded_nationalities = merged[['uri_entity','anneeNaiss','continent']].drop_duplicates()\n",
    "print(len(coded_nationalities))"
   ]
  },
  {
   "cell_type": "code",
   "execution_count": 103,
   "id": "leading-dover",
   "metadata": {},
   "outputs": [
    {
     "data": {
      "text/plain": [
       "1445"
      ]
     },
     "execution_count": 103,
     "metadata": {},
     "output_type": "execute_result"
    }
   ],
   "source": [
    "### élimine les personnes sans date de naissance (de valeur None)\n",
    "coded_nationalities.dropna(subset=['anneeNaiss'])\n",
    "len(coded_nationalities)"
   ]
  },
  {
   "cell_type": "code",
   "execution_count": 104,
   "id": "declared-mistress",
   "metadata": {},
   "outputs": [
    {
     "data": {
      "text/plain": [
       "1431"
      ]
     },
     "execution_count": 104,
     "metadata": {},
     "output_type": "execute_result"
    }
   ],
   "source": [
    "### élimine les personnes avec date de naissance vide, non reinsegnée \n",
    "# la cellule contient une chaine de caractère vide\n",
    "len(coded_nationalities[coded_nationalities['anneeNaiss'] > ''])"
   ]
  },
  {
   "cell_type": "code",
   "execution_count": 105,
   "id": "scientific-doctrine",
   "metadata": {},
   "outputs": [
    {
     "data": {
      "text/html": [
       "<div>\n",
       "<style scoped>\n",
       "    .dataframe tbody tr th:only-of-type {\n",
       "        vertical-align: middle;\n",
       "    }\n",
       "\n",
       "    .dataframe tbody tr th {\n",
       "        vertical-align: top;\n",
       "    }\n",
       "\n",
       "    .dataframe thead th {\n",
       "        text-align: right;\n",
       "    }\n",
       "</style>\n",
       "<table border=\"1\" class=\"dataframe\">\n",
       "  <thead>\n",
       "    <tr style=\"text-align: right;\">\n",
       "      <th></th>\n",
       "      <th>uri_entity</th>\n",
       "      <th>anneeNaiss</th>\n",
       "      <th>continent</th>\n",
       "    </tr>\n",
       "  </thead>\n",
       "  <tbody>\n",
       "    <tr>\n",
       "      <th>30</th>\n",
       "      <td>http://dbpedia.org/resource/Kenneth_Berrill</td>\n",
       "      <td>1920</td>\n",
       "      <td>Europe</td>\n",
       "    </tr>\n",
       "    <tr>\n",
       "      <th>455</th>\n",
       "      <td>http://dbpedia.org/resource/Kenneth_French</td>\n",
       "      <td>1954</td>\n",
       "      <td>Am. Nord</td>\n",
       "    </tr>\n",
       "    <tr>\n",
       "      <th>190</th>\n",
       "      <td>http://dbpedia.org/resource/Kenneth_Good_(poli...</td>\n",
       "      <td>1933</td>\n",
       "      <td>Océeanie</td>\n",
       "    </tr>\n",
       "    <tr>\n",
       "      <th>456</th>\n",
       "      <td>http://dbpedia.org/resource/Kenneth_Judd</td>\n",
       "      <td>1953</td>\n",
       "      <td>Am. Nord</td>\n",
       "    </tr>\n",
       "    <tr>\n",
       "      <th>457</th>\n",
       "      <td>http://dbpedia.org/resource/Kenneth_Singleton</td>\n",
       "      <td>1951</td>\n",
       "      <td>Am. Nord</td>\n",
       "    </tr>\n",
       "    <tr>\n",
       "      <th>...</th>\n",
       "      <td>...</td>\n",
       "      <td>...</td>\n",
       "      <td>...</td>\n",
       "    </tr>\n",
       "    <tr>\n",
       "      <th>902</th>\n",
       "      <td>http://dbpedia.org/resource/Wesley_Clair_Mitchell</td>\n",
       "      <td>1874</td>\n",
       "      <td>Am. Nord</td>\n",
       "    </tr>\n",
       "    <tr>\n",
       "      <th>903</th>\n",
       "      <td>http://dbpedia.org/resource/Wilbur_Olin_Hedrick</td>\n",
       "      <td>1868</td>\n",
       "      <td>Am. Nord</td>\n",
       "    </tr>\n",
       "    <tr>\n",
       "      <th>772</th>\n",
       "      <td>http://dbpedia.org/resource/Wilhelm_Georg_Frie...</td>\n",
       "      <td>1817</td>\n",
       "      <td>Europe</td>\n",
       "    </tr>\n",
       "    <tr>\n",
       "      <th>773</th>\n",
       "      <td>http://dbpedia.org/resource/Wilhelm_Röpke</td>\n",
       "      <td>1899</td>\n",
       "      <td>Europe</td>\n",
       "    </tr>\n",
       "    <tr>\n",
       "      <th>50</th>\n",
       "      <td>http://dbpedia.org/resource/Will_Hutton</td>\n",
       "      <td>1950</td>\n",
       "      <td>Europe</td>\n",
       "    </tr>\n",
       "  </tbody>\n",
       "</table>\n",
       "<p>596 rows × 3 columns</p>\n",
       "</div>"
      ],
      "text/plain": [
       "                                            uri_entity anneeNaiss continent\n",
       "30         http://dbpedia.org/resource/Kenneth_Berrill       1920    Europe\n",
       "455         http://dbpedia.org/resource/Kenneth_French       1954  Am. Nord\n",
       "190  http://dbpedia.org/resource/Kenneth_Good_(poli...       1933  Océeanie\n",
       "456           http://dbpedia.org/resource/Kenneth_Judd       1953  Am. Nord\n",
       "457      http://dbpedia.org/resource/Kenneth_Singleton       1951  Am. Nord\n",
       "..                                                 ...        ...       ...\n",
       "902  http://dbpedia.org/resource/Wesley_Clair_Mitchell       1874  Am. Nord\n",
       "903    http://dbpedia.org/resource/Wilbur_Olin_Hedrick       1868  Am. Nord\n",
       "772  http://dbpedia.org/resource/Wilhelm_Georg_Frie...       1817    Europe\n",
       "773          http://dbpedia.org/resource/Wilhelm_Röpke       1899    Europe\n",
       "50             http://dbpedia.org/resource/Will_Hutton       1950    Europe\n",
       "\n",
       "[596 rows x 3 columns]"
      ]
     },
     "execution_count": 105,
     "metadata": {},
     "output_type": "execute_result"
    }
   ],
   "source": [
    "coded_nationalities.sort_values(by=['uri_entity']).loc[30:50,]"
   ]
  },
  {
   "cell_type": "code",
   "execution_count": 106,
   "id": "oriental-wrong",
   "metadata": {},
   "outputs": [
    {
     "name": "stdout",
     "output_type": "stream",
     "text": [
      "1445\n"
     ]
    },
    {
     "data": {
      "text/plain": [
       "Index(['uri_entity', 'anneeNaiss', 'continent'], dtype='object')"
      ]
     },
     "execution_count": 106,
     "metadata": {},
     "output_type": "execute_result"
    }
   ],
   "source": [
    "### Remplacer les valeurs de nationalité vides par la valeur non-codé\n",
    "# plus on avance dans le codage manuel dans le fichier .ods, moins de individus non-codés il y aura\n",
    "coded_nationalities['continent'].mask(coded_nationalities['continent'] == '', 'non_codé', inplace=True)\n",
    "print(len(coded_nationalities))\n",
    "coded_nationalities.columns"
   ]
  },
  {
   "cell_type": "code",
   "execution_count": 107,
   "id": "musical-gathering",
   "metadata": {},
   "outputs": [
    {
     "name": "stdout",
     "output_type": "stream",
     "text": [
      "1426\n"
     ]
    },
    {
     "data": {
      "text/plain": [
       "[['1920', 'Europe'],\n",
       " ['1926', 'Europe'],\n",
       " ['1842', 'Europe'],\n",
       " ['1960', 'Europe'],\n",
       " ['1947', 'Europe'],\n",
       " ['1941', 'Europe'],\n",
       " ['1916', 'Europe'],\n",
       " ['1936', 'Europe'],\n",
       " ['1952', 'Europe'],\n",
       " ['1969', 'Europe']]"
      ]
     },
     "execution_count": 107,
     "metadata": {},
     "output_type": "execute_result"
    }
   ],
   "source": [
    "### Sélectionner deux colonnes, exclure les personnes nées avant 1771 et transformer en liste \n",
    "coded_nat_list = coded_nationalities[coded_nationalities['anneeNaiss'] > '1770'][['anneeNaiss', 'continent']].values.tolist() \n",
    "print(len(coded_nat_list))\n",
    "coded_nat_list[:10]"
   ]
  },
  {
   "cell_type": "code",
   "execution_count": 108,
   "id": "revised-shanghai",
   "metadata": {
    "tags": []
   },
   "outputs": [
    {
     "data": {
      "text/plain": [
       "[('Europe', 529),\n",
       " ('Am. Nord', 473),\n",
       " ('Asie', 109),\n",
       " ('Double nat.', 73),\n",
       " ('Afrique', 69),\n",
       " ('Am. Sud', 69),\n",
       " ('Océeanie', 40),\n",
       " ('Moy. Orient', 28),\n",
       " ('Am. Centr.', 20),\n",
       " ('non_codé', 16)]"
      ]
     },
     "execution_count": 108,
     "metadata": {},
     "output_type": "execute_result"
    }
   ],
   "source": [
    "### Regrouper la liste par continent\n",
    "counter= Counter([t[1] for t in coded_nat_list])\n",
    "c_coded_nat_list = list(zip(counter.keys(), counter.values()))\n",
    "sorted_coded_nat_list = sorted(c_coded_nat_list, key=itemgetter(1), reverse=True)\n",
    "sorted_coded_nat_list"
   ]
  },
  {
   "cell_type": "code",
   "execution_count": 109,
   "id": "polyphonic-vessel",
   "metadata": {},
   "outputs": [
    {
     "data": {
      "text/plain": [
       "continent\n",
       "Europe         537\n",
       "Am. Nord       480\n",
       "Asie           110\n",
       "Double nat.     75\n",
       "Am. Sud         69\n",
       "Afrique         69\n",
       "Océeanie        41\n",
       "Moy. Orient     28\n",
       "Am. Centr.      20\n",
       "non_codé        16\n",
       "dtype: int64"
      ]
     },
     "execution_count": 109,
     "metadata": {},
     "output_type": "execute_result"
    }
   ],
   "source": [
    "### Regrouper (directement, sans passer par la liste) par continent et compter avec la fonction Pandas 'groupby'\n",
    "gb_coded_nationalities = coded_nationalities.groupby('continent').size()\n",
    "gb_coded_nationalities.sort_values(ascending = False)"
   ]
  },
  {
   "cell_type": "code",
   "execution_count": 110,
   "id": "introductory-sponsorship",
   "metadata": {},
   "outputs": [
    {
     "data": {
      "text/html": [
       "<div>\n",
       "<style scoped>\n",
       "    .dataframe tbody tr th:only-of-type {\n",
       "        vertical-align: middle;\n",
       "    }\n",
       "\n",
       "    .dataframe tbody tr th {\n",
       "        vertical-align: top;\n",
       "    }\n",
       "\n",
       "    .dataframe thead th {\n",
       "        text-align: right;\n",
       "    }\n",
       "</style>\n",
       "<table border=\"1\" class=\"dataframe\">\n",
       "  <thead>\n",
       "    <tr style=\"text-align: right;\">\n",
       "      <th></th>\n",
       "      <th>effectif</th>\n",
       "    </tr>\n",
       "    <tr>\n",
       "      <th>continent</th>\n",
       "      <th></th>\n",
       "    </tr>\n",
       "  </thead>\n",
       "  <tbody>\n",
       "    <tr>\n",
       "      <th>Afrique</th>\n",
       "      <td>69</td>\n",
       "    </tr>\n",
       "    <tr>\n",
       "      <th>Am. Centr.</th>\n",
       "      <td>20</td>\n",
       "    </tr>\n",
       "    <tr>\n",
       "      <th>Am. Nord</th>\n",
       "      <td>480</td>\n",
       "    </tr>\n",
       "    <tr>\n",
       "      <th>Am. Sud</th>\n",
       "      <td>69</td>\n",
       "    </tr>\n",
       "    <tr>\n",
       "      <th>Asie</th>\n",
       "      <td>110</td>\n",
       "    </tr>\n",
       "    <tr>\n",
       "      <th>Double nat.</th>\n",
       "      <td>75</td>\n",
       "    </tr>\n",
       "    <tr>\n",
       "      <th>Europe</th>\n",
       "      <td>537</td>\n",
       "    </tr>\n",
       "    <tr>\n",
       "      <th>Moy. Orient</th>\n",
       "      <td>28</td>\n",
       "    </tr>\n",
       "    <tr>\n",
       "      <th>Océeanie</th>\n",
       "      <td>41</td>\n",
       "    </tr>\n",
       "    <tr>\n",
       "      <th>non_codé</th>\n",
       "      <td>16</td>\n",
       "    </tr>\n",
       "  </tbody>\n",
       "</table>\n",
       "</div>"
      ],
      "text/plain": [
       "             effectif\n",
       "continent            \n",
       "Afrique            69\n",
       "Am. Centr.         20\n",
       "Am. Nord          480\n",
       "Am. Sud            69\n",
       "Asie              110\n",
       "Double nat.        75\n",
       "Europe            537\n",
       "Moy. Orient        28\n",
       "Océeanie           41\n",
       "non_codé           16"
      ]
     },
     "execution_count": 110,
     "metadata": {},
     "output_type": "execute_result"
    }
   ],
   "source": [
    "### Transformer l'objet Series en DataFrame et ajouter le nom de la colonne 'effectif'\n",
    "# la colonne 'continent' est l'index : df_coded_nat.index\n",
    "df_coded_nat = gb_coded_nationalities.to_frame()\n",
    "df_coded_nat.columns = ['effectif']\n",
    "df_coded_nat"
   ]
  },
  {
   "cell_type": "code",
   "execution_count": 111,
   "id": "documentary-grave",
   "metadata": {},
   "outputs": [
    {
     "data": {
      "image/png": "[encoded data removed]",
      "text/plain": [
       "<Figure size 1152x576 with 1 Axes>"
      ]
     },
     "metadata": {
      "needs_background": "light"
     },
     "output_type": "display_data"
    }
   ],
   "source": [
    "# Distribution par année\n",
    "\n",
    "objects = [l for l in df_coded_nat.index]\n",
    "eff = [l for l in df_coded_nat['effectif']]\n",
    "\n",
    "p1 = plt.bar(objects, eff)\n",
    "\n",
    "#plt.xticks(l5Years)\n",
    "plt.ylabel('Effectif')\n",
    "plt.title('Effectif par continents')\n",
    "plt.gcf().set_size_inches(16, 8)\n",
    "#plt.gca().axes.get_xaxis().set_visible(False)\n",
    "# supported formats: eps, pdf, pgf, png, ps, raw, rgba, svg, svgz\n",
    "#plt.savefig('exported_pictures/effectifs_naissances_par_annee.png', dpi=100, bbox_inches = \"tight\") #pdf, svg\n",
    "plt.xticks(rotation=45)\n",
    "plt.show()\n"
   ]
  },
  {
   "cell_type": "code",
   "execution_count": 112,
   "id": "raised-highland",
   "metadata": {
    "tags": []
   },
   "outputs": [
    {
     "data": {
      "text/plain": [
       "['Europe',\n",
       " 'Am. Nord',\n",
       " 'Asie',\n",
       " 'Double nat.',\n",
       " 'Afrique',\n",
       " 'Am. Sud',\n",
       " 'Océeanie',\n",
       " 'Moy. Orient',\n",
       " 'Am. Centr.',\n",
       " 'non_codé']"
      ]
     },
     "execution_count": 112,
     "metadata": {},
     "output_type": "execute_result"
    }
   ],
   "source": [
    "values_l = [x[0] for x in sorted_coded_nat_list]\n",
    "values_l"
   ]
  },
  {
   "cell_type": "code",
   "execution_count": 113,
   "id": "driving-taiwan",
   "metadata": {},
   "outputs": [],
   "source": [
    "### Transformer les années en entiers\n",
    "int_coded_nat_list = [[int(l[0]), l[1]] for l in coded_nat_list]"
   ]
  },
  {
   "cell_type": "code",
   "execution_count": 114,
   "id": "casual-arctic",
   "metadata": {},
   "outputs": [],
   "source": [
    "## écrire le résultat puis l'ouvrir dans Calc ou Excel afin d'effectuer le codage\n",
    "file= 'spreadsheets/continents_annees.csv'\n",
    "with open(file, 'w', newline='') as csvfile:\n",
    "    writ = csv.writer(csvfile, delimiter='|',\n",
    "                            quotechar='\"', quoting=csv.QUOTE_MINIMAL)\n",
    "    writ.writerow(['annee', 'continent'])\n",
    "    for l in int_coded_nat_list:\n",
    "        writ.writerow(l)"
   ]
  },
  {
   "cell_type": "code",
   "execution_count": 115,
   "id": "sweet-macedonia",
   "metadata": {},
   "outputs": [],
   "source": [
    "### Create a list with intervals of 10 years, corresponding approximately to one generation.\n",
    "\n",
    "def create_years_list(period = 10, y_start = 1391, y_end = 1801):\n",
    "\n",
    "    y_list = []\n",
    "    y_list.append(y_start)\n",
    "\n",
    "    while y_start < y_end:\n",
    "        y_start += period\n",
    "        y_list.append(y_start)\n",
    "    return y_list    "
   ]
  },
  {
   "cell_type": "code",
   "execution_count": 116,
   "id": "third-detector",
   "metadata": {},
   "outputs": [],
   "source": [
    "def interactive_nationality_periods(nationality, period = 10, remaining = False):\n",
    "    \n",
    "    output_l = []\n",
    "    work_l = int_coded_nat_list # les années doivent être des entiers\n",
    "    for a in nationality:\n",
    "        prov_l = []\n",
    "        for l in work_l:            \n",
    "            if a == l[1]:\n",
    "                output_l.append(l)\n",
    "            else:\n",
    "                prov_l.append(l)\n",
    "        work_l = prov_l\n",
    "\n",
    "    print('Nationalités: ', len(output_l))\n",
    "    print('Les autres (non chosis): ',len(work_l))\n",
    "    # print('\\n-----')\n",
    "    \n",
    "    period = period # 20 10\n",
    "    y_list = create_years_list(period = period, y_start = 1771, y_end = 2021)\n",
    "    \n",
    "    \n",
    "    \n",
    "    with plt.style.context(\"ggplot\"):\n",
    "                \n",
    "        fig, ax = plt.subplots(figsize=(16,8)) \n",
    "\n",
    "\n",
    "        width =  period - (period * 20 / 100)\n",
    "\n",
    "        bottom_list = []\n",
    "        i = 0\n",
    "        while i < len(y_list):\n",
    "            bottom_list.append(0)\n",
    "            i += 1\n",
    "\n",
    "        if remaining:\n",
    "            i_list = []\n",
    "            for i in y_list:\n",
    "                i_n = 0\n",
    "                for l in work_l:\n",
    "                    if int(l[0]) >= i and int(l[0]) < (i + period):\n",
    "                        i_n += 1\n",
    "                i_list.append([i, i_n]) \n",
    "            # print('BBB: ', i_list)            \n",
    "            draw_l = [i[1] for i in i_list]\n",
    "            ax.bar(y_list, draw_l, width, bottom = bottom_list, label='remaining' ) #, bottom = bottom_list)\n",
    "            bottom_list = [x + y for x, y in zip(bottom_list, draw_l)]\n",
    "\n",
    "\n",
    "        for a in nationality:\n",
    "            i_list = []\n",
    "            for i in y_list:\n",
    "                i_n = 0\n",
    "                for l in output_l:\n",
    "                    if l[1] == a and int(l[0]) >= i and int(l[0]) < (i + period):\n",
    "                        i_n += 1\n",
    "                i_list.append([i, i_n]) \n",
    "            # print('AAA: ', i_list)            \n",
    "            draw_l = [i[1] for i in i_list]\n",
    "            ax.bar(y_list, draw_l, width, bottom = bottom_list, label=a ) #, bottom = bottom_list)\n",
    "            bottom_list = [x + y for x, y in zip(bottom_list, draw_l)]\n",
    "            # print(bottom_list)\n",
    "\n",
    "\n",
    "\n",
    "        ax.set_ylabel('Fréq')\n",
    "        ax.set_title('Fréquence par nationalité')\n",
    "        plt.xticks(y_list,rotation=45)\n",
    "\n",
    "        ax.legend()\n",
    "\n",
    "        p_out = plt.show()"
   ]
  },
  {
   "cell_type": "code",
   "execution_count": 117,
   "id": "public-baltimore",
   "metadata": {
    "scrolled": true,
    "tags": []
   },
   "outputs": [],
   "source": [
    "k = interactive(interactive_nationality_periods, nationality=SelectMultiple(\n",
    "    options=sorted(values_l),\n",
    "    value=['Europe'],\n",
    "    #rows=10,\n",
    "    description='Nationalités',\n",
    "    disabled=False\n",
    "),  period=IntSlider(min=5, max=50, step=5, value=20),\n",
    "    remaining = Checkbox(\n",
    "    value=False,\n",
    "    description='Les autres (non choisis)',\n",
    "    disabled=False\n",
    "))"
   ]
  },
  {
   "cell_type": "code",
   "execution_count": 118,
   "id": "green-modem",
   "metadata": {
    "tags": []
   },
   "outputs": [
    {
     "data": {
      "application/vnd.jupyter.widget-view+json": {
       "model_id": "6bea83379f5e47b798cdcfd3ad3ef8d5",
       "version_major": 2,
       "version_minor": 0
      },
      "text/plain": [
       "interactive(children=(SelectMultiple(description='Nationalités', index=(6,), options=('Afrique', 'Am. Centr.',…"
      ]
     },
     "metadata": {},
     "output_type": "display_data"
    }
   ],
   "source": [
    "display(k)\n",
    "# dir(k)"
   ]
  },
  {
   "cell_type": "code",
   "execution_count": null,
   "id": "endless-tradition",
   "metadata": {},
   "outputs": [],
   "source": []
  },
  {
   "cell_type": "code",
   "execution_count": null,
   "id": "valuable-blank",
   "metadata": {},
   "outputs": [],
   "source": []
  }
 ],
 "metadata": {
  "kernelspec": {
   "display_name": "Py 3.7 HN sparql",
   "language": "python",
   "name": "py37_hn_sparql"
  },
  "language_info": {
   "codemirror_mode": {
    "name": "ipython",
    "version": 3
   },
   "file_extension": ".py",
   "mimetype": "text/x-python",
   "name": "python",
   "nbconvert_exporter": "python",
   "pygments_lexer": "ipython3",
   "version": "3.7.10"
  }
 },
 "nbformat": 4,
 "nbformat_minor": 5
}
