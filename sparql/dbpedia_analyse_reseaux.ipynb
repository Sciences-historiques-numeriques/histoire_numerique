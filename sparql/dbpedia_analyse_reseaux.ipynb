{
 "cells": [
  {
   "cell_type": "markdown",
   "id": "ceramic-element",
   "metadata": {},
   "source": [
    "# Analyse de réseaux : les économistes de DBPedia\n",
    "\n"
   ]
  },
  {
   "cell_type": "code",
   "execution_count": null,
   "id": "champion-drain",
   "metadata": {},
   "outputs": [],
   "source": []
  },
  {
   "cell_type": "code",
   "execution_count": 4,
   "id": "sound-pasta",
   "metadata": {},
   "outputs": [],
   "source": [
    "import pandas as pd\n",
    "import matplotlib.pyplot as plt\n",
    "import numpy as np\n",
    "import networkx as nx"
   ]
  },
  {
   "cell_type": "code",
   "execution_count": 5,
   "id": "several-alcohol",
   "metadata": {},
   "outputs": [],
   "source": [
    "###  Installation du widget jupyter en plus de la librairie\n",
    "# jupyter labextension install @jupyter-widgets/jupyterlab-manager jupyter-cytoscape\n",
    "import ipycytoscape as cy"
   ]
  },
  {
   "cell_type": "code",
   "execution_count": 6,
   "id": "durable-guatemala",
   "metadata": {},
   "outputs": [],
   "source": [
    "import pprint\n",
    "import csv\n",
    "import ast\n",
    "import re\n",
    "\n",
    "from collections import Counter, defaultdict\n",
    "from operator import itemgetter\n",
    "\n",
    "import sqlite3 as sql\n",
    "import time\n",
    "\n",
    "from importlib import reload\n",
    "from shutil import copyfile\n",
    "\n",
    "import math"
   ]
  },
  {
   "cell_type": "markdown",
   "id": "respected-database",
   "metadata": {},
   "source": [
    "## Base de données"
   ]
  },
  {
   "cell_type": "code",
   "execution_count": 9,
   "id": "generic-cover",
   "metadata": {},
   "outputs": [],
   "source": [
    "### Définir les adresses des fichiers, l'existant et celui à créer\n",
    "db = 'data/sparql_queries.db'"
   ]
  },
  {
   "cell_type": "code",
   "execution_count": null,
   "id": "eastern-feelings",
   "metadata": {},
   "outputs": [],
   "source": [
    "### Fonction qui récupère et met en forme le temps au moment de l'exécution\n",
    "\n",
    "# définition\n",
    "def timestamp_formatted_for_file_name():\n",
    "    is_now = time.strftime('%Y%m%d_%H%M%S')\n",
    "    return is_now\n",
    "\n",
    "# exécution\n",
    "timestamp_formatted_for_file_name()"
   ]
  },
  {
   "cell_type": "code",
   "execution_count": null,
   "id": "level-hypothetical",
   "metadata": {},
   "outputs": [],
   "source": [
    "##  Noter que la différence de suffixe, en soi totalement arbitraire, \n",
    "#  dépend du fait que dans la configuration de .gitignore, .sqlite est exclu du verisonnement GIT\n",
    "#  contrairement à .db qui est versionné\n",
    "timestamped_db_copy = 'data/sparql_queries_' + timestamp_formatted_for_file_name() + '.sqlite'"
   ]
  },
  {
   "cell_type": "code",
   "execution_count": null,
   "id": "annual-eleven",
   "metadata": {},
   "outputs": [],
   "source": [
    "### Créer une copie de sauvegarde avec timestamp du fichier (versionnement manuel)\n",
    "# ATTENTION : la base de données doit exister à l'endroit indiqué !\n",
    "## Cette requête n'est utile que si des modifications en écriture vont être apportées à la base de données,\n",
    "# afint de préserver le dernier état avant modification\n",
    "\n",
    "## Documentation:\n",
    "# https://docs.python.org/3/library/shutil.htmlcopied_db = copyfile(original_db, timestamped_db_copy)\n",
    "\n",
    "copied_db = copyfile(db, timestamped_db_copy)\n",
    "copied_db"
   ]
  },
  {
   "cell_type": "code",
   "execution_count": null,
   "id": "lonely-cruise",
   "metadata": {},
   "outputs": [],
   "source": []
  },
  {
   "cell_type": "markdown",
   "id": "linear-volunteer",
   "metadata": {},
   "source": [
    "## Relations pendant les études\n",
    "\n",
    "Personnes ayant étudié dans la même université dans une fourchette de 12 ans : on émet l'hypothèse que ils/elles ont virtuellement pu nouer des relations qui peuvent influences les parcours et choix ultérieurs grâce à des contacts prolongés avec d'anciens camarades d'études"
   ]
  },
  {
   "cell_type": "code",
   "execution_count": null,
   "id": "composite-absorption",
   "metadata": {},
   "outputs": [],
   "source": [
    "### \n",
    "#  On part de la date de naissance et on postule un croisement entre une et plusieurs années\n",
    "# en admettant que l'âge des études soit approximativement le même\n",
    "\n",
    "etudes_meme_uni = \"\"\"\n",
    "SELECT REPLACE(p.uri_entity , 'http://dbpedia.org/resource/', '') person_1,\n",
    "REPLACE(p1.uri_entity , 'http://dbpedia.org/resource/', '') person_2,\n",
    "REPLACE(p.value, 'http://dbpedia.org/resource/', '') alma_mater,\n",
    "p2.value birth_year_1,\n",
    "p3.value birth_year_2,\n",
    "p4.value long,\n",
    "p5.value lat\n",
    "FROM property p\n",
    "  JOIN property p1 ON p1.value = p.value AND p1.pk_property > p.pk_property AND p1.property LIKE '%almaMater'\n",
    "  JOIN property p2 ON p2.uri_entity = p.uri_entity AND p2.property LIKE '%irthYe%' AND p2.\"source\" LIKE '%8 mai 2021%'\n",
    "  JOIN property p3 ON p3.uri_entity = p1.uri_entity AND p3.property LIKE '%irthYe%' AND p3.\"source\" LIKE '%8 mai 2021%'\n",
    "  LEFT JOIN property p4 ON\n",
    "\tp4.uri_entity = p1.value\n",
    "\tAND p4.property LIKE '%long'\n",
    "LEFT JOIN property p5 ON\n",
    "\tp5.uri_entity = p1.value\n",
    "\tAND p5.property LIKE '%lat'\n",
    "WHERE  p.property LIKE '%almaMater'\n",
    "AND p3.value BETWEEN (p2.value - 6) AND (p2.value + 6);\n",
    "\"\"\""
   ]
  },
  {
   "cell_type": "code",
   "execution_count": null,
   "id": "focused-dating",
   "metadata": {},
   "outputs": [],
   "source": [
    "### Undirected version of the same graph produced using Pandas\n",
    "cn = sql.connect(db)\n",
    "same_univ = pd.read_sql_query(etudes_meme_uni, cn)\n",
    "cn.close()\n",
    "same_univ.head()"
   ]
  },
  {
   "cell_type": "code",
   "execution_count": null,
   "id": "foreign-italic",
   "metadata": {
    "scrolled": true,
    "tags": []
   },
   "outputs": [],
   "source": [
    "universities = same_univ.groupby(['alma_mater']).size()\n",
    "print(len(universities))\n",
    "list(universities.sort_values(ascending=False).items())[:100] #[10:20]"
   ]
  },
  {
   "cell_type": "code",
   "execution_count": null,
   "id": "burning-replica",
   "metadata": {},
   "outputs": [],
   "source": [
    "G = nx.from_pandas_edgelist(same_univ, 'person_1', 'person_2', edge_attr='alma_mater')\n",
    "print(nx.info(G))"
   ]
  },
  {
   "cell_type": "code",
   "execution_count": null,
   "id": "expensive-passage",
   "metadata": {},
   "outputs": [],
   "source": [
    "G.is_multigraph(), G.is_directed(), G.number_of_nodes(), G.number_of_edges(), nx.is_connected(G), nx.density(G)"
   ]
  },
  {
   "cell_type": "code",
   "execution_count": null,
   "id": "mathematical-replication",
   "metadata": {},
   "outputs": [],
   "source": [
    "nx.number_connected_components(G)"
   ]
  },
  {
   "cell_type": "code",
   "execution_count": null,
   "id": "level-eagle",
   "metadata": {},
   "outputs": [],
   "source": [
    "## Centralité et dispersion du degré\n",
    "df_degree = pd.DataFrame(list(nx.degree(G)), columns = ['person', 'degree'])\n",
    "df_degree.head()\n",
    "df_degree.set_index('person',inplace=True)\n",
    "df_degree.head()"
   ]
  },
  {
   "cell_type": "code",
   "execution_count": null,
   "id": "abroad-engagement",
   "metadata": {},
   "outputs": [],
   "source": [
    "df_degree['degree'].describe()"
   ]
  },
  {
   "cell_type": "code",
   "execution_count": null,
   "id": "polished-clarity",
   "metadata": {},
   "outputs": [],
   "source": [
    "gr_degree = df_degree.groupby(['degree']).size()\n",
    "gr_degree.sort_index()"
   ]
  },
  {
   "cell_type": "code",
   "execution_count": null,
   "id": "sporting-complaint",
   "metadata": {},
   "outputs": [],
   "source": [
    "### Distribution des naissances dans le temps. Pour mémoire : 2000 = sans année de naissance\n",
    "\n",
    "\n",
    "gr_degree = df_degree.groupby(['degree']).size()\n",
    "\n",
    "\n",
    "objects = [l for l in gr_degree.index]\n",
    "eff = [l for l in gr_degree]\n",
    "\n",
    "print(objects[:5])\n",
    "plt.figure(figsize=(15,7))\n",
    "plt.bar(objects, eff)"
   ]
  },
  {
   "cell_type": "code",
   "execution_count": null,
   "id": "adverse-coordinator",
   "metadata": {},
   "outputs": [],
   "source": [
    "df_degree[df_degree['degree'] > 80]"
   ]
  },
  {
   "cell_type": "code",
   "execution_count": null,
   "id": "circular-craft",
   "metadata": {},
   "outputs": [],
   "source": [
    "nx.number_connected_components(G)"
   ]
  },
  {
   "cell_type": "code",
   "execution_count": null,
   "id": "transsexual-allocation",
   "metadata": {},
   "outputs": [],
   "source": [
    "### Composantes du graphe\n",
    "# Une composante principale avec 1402 individus et de multiples petites composantes\n",
    "# https://networkx.org/documentation/stable/reference/algorithms/generated/networkx.algorithms.components.connected_components.html\n",
    "c_comp = nx.connected_components(G)\n",
    "print(type(c_comp))\n",
    "## Length of generator as set of nodes = number of nodes\n",
    "df_c_comp = pd.DataFrame([len(c) for c in sorted(c_comp, key=len, reverse=True)], columns=['eff'])\n",
    "gs_c_comp = df_c_comp.groupby(['eff']).size()\n",
    "gs_c_comp.sort_index()"
   ]
  },
  {
   "cell_type": "code",
   "execution_count": null,
   "id": "reserved-communist",
   "metadata": {
    "tags": []
   },
   "outputs": [],
   "source": [
    "### Créer les sous-graphes correspondant aux composantes\n",
    "#  https://networkx.org/documentation/stable/reference/algorithms/generated/networkx.algorithms.components.connected_components.html\n",
    "S = [[len(c), G.subgraph(c).copy()] for c in nx.connected_components(G)]\n",
    "# type(S)"
   ]
  },
  {
   "cell_type": "code",
   "execution_count": null,
   "id": "cultural-expense",
   "metadata": {},
   "outputs": [],
   "source": [
    "### Choisir la/les composante(s) à 9 noeuds \n",
    "a = [[s[0], s[1]] for s in S  if s[0] == 8]\n",
    "a"
   ]
  },
  {
   "cell_type": "code",
   "execution_count": null,
   "id": "sustained-spending",
   "metadata": {},
   "outputs": [],
   "source": [
    "sub_g = a[0][1]\n",
    "ll = [{(l[0],l[1]):l[2]['alma_mater']} for l in list(sub_g.edges.data())]\n",
    "edge_labels = defaultdict(list)\n",
    "{edge_labels[key].append(sub[key]) for sub in ll for key in sub} "
   ]
  },
  {
   "cell_type": "code",
   "execution_count": null,
   "id": "streaming-bloom",
   "metadata": {
    "tags": []
   },
   "outputs": [],
   "source": [
    "\n",
    "plt.figure(figsize=(20,10))\n",
    "pos = nx.circular_layout(sub_g)\n",
    "el = nx.draw_networkx_edge_labels(sub_g, pos, edge_labels = edge_labels, font_size = 10, font_color = 'red')\n",
    "# print(edge_labels)\n",
    "nx.draw_networkx(sub_g,pos)\n"
   ]
  },
  {
   "cell_type": "code",
   "execution_count": null,
   "id": "international-laptop",
   "metadata": {},
   "outputs": [],
   "source": [
    "### Choisir la/les composante(s) à 9 noeuds \n",
    "a7 = [[s[0], s[1]] for s in S  if s[0] == 7]\n",
    "a7"
   ]
  },
  {
   "cell_type": "code",
   "execution_count": null,
   "id": "coral-coaching",
   "metadata": {},
   "outputs": [],
   "source": [
    "for g in a7:\n",
    "    sub_g = g[1]\n",
    "    ll = [{(l[0],l[1]):l[2]['alma_mater']} for l in list(sub_g.edges.data())]\n",
    "    edge_labels = defaultdict(list)\n",
    "    e = {edge_labels[key].append(sub[key]) for sub in ll for key in sub} \n",
    "    plt.figure(figsize=(20,10))\n",
    "    pos = nx.circular_layout(sub_g)\n",
    "    el = nx.draw_networkx_edge_labels(sub_g, pos, edge_labels = edge_labels, font_size = 10, font_color = 'red')\n",
    "    # print(edge_labels)\n",
    "    nx.draw_networkx(sub_g,pos)"
   ]
  },
  {
   "cell_type": "markdown",
   "id": "portuguese-retailer",
   "metadata": {},
   "source": [
    "## Sous-graphe"
   ]
  },
  {
   "cell_type": "code",
   "execution_count": null,
   "id": "double-saturday",
   "metadata": {
    "tags": []
   },
   "outputs": [],
   "source": [
    "### Choisir la/les composante(s) à 1402 noeuds \n",
    "a1402= [[s[0], s[1]] for s in S  if s[0] == 1402]\n",
    "print(a1402)\n",
    "sub_g = a1402[0][1]"
   ]
  },
  {
   "cell_type": "code",
   "execution_count": null,
   "id": "approximate-temperature",
   "metadata": {},
   "outputs": [],
   "source": [
    "print(nx.info(sub_g))"
   ]
  },
  {
   "cell_type": "code",
   "execution_count": null,
   "id": "clear-scale",
   "metadata": {},
   "outputs": [],
   "source": [
    "nx.is_connected(sub_g), nx.density(sub_g)"
   ]
  },
  {
   "cell_type": "code",
   "execution_count": null,
   "id": "horizontal-logan",
   "metadata": {},
   "outputs": [],
   "source": [
    "### Returns all maximal cliques in an undirected graph.\n",
    "# https://networkx.org/documentation/stable/reference/algorithms/clique.html?highlight=cliques\n",
    "\n",
    "cliques = [(len(c),c) for c in list(nx.find_cliques(sub_g)) if len(c) > 2]\n",
    "print(len(cliques))\n",
    "cliques[-3:]"
   ]
  },
  {
   "cell_type": "code",
   "execution_count": null,
   "id": "black-anger",
   "metadata": {},
   "outputs": [],
   "source": [
    "df_cliques = pd.DataFrame([l[0] for l in cliques], columns = ['eff'])\n",
    "gs_cliques = df_cliques.groupby(['eff']).size()\n",
    "gs_cliques.sort_index()"
   ]
  },
  {
   "cell_type": "code",
   "execution_count": null,
   "id": "indonesian-virtue",
   "metadata": {},
   "outputs": [],
   "source": [
    "[c for c in cliques if c[0] == 32]"
   ]
  },
  {
   "cell_type": "code",
   "execution_count": null,
   "id": "agricultural-memory",
   "metadata": {},
   "outputs": [],
   "source": [
    "pos = ''\n",
    "cc = [c[1] for c in cliques if c[0] == 32]\n",
    "\n",
    "sub_32 = G.subgraph(cc[0]).copy()\n",
    "ll = [{(l[0],l[1]):l[2]['alma_mater']} for l in list(sub_32.edges.data())]\n",
    "edge_labels = defaultdict(list)\n",
    "e = {edge_labels[key].append(sub[key]) for sub in ll for key in sub} \n",
    "plt.figure(figsize=(20,10))\n",
    "pos = nx.spring_layout(sub_32)\n",
    "el = nx.draw_networkx_edge_labels(sub_32, pos, edge_labels = edge_labels, font_size = 7, alpha = 0.7, font_color = 'green')\n",
    "# print(edge_labels)\n",
    "nx.draw_networkx(sub_32,pos)"
   ]
  },
  {
   "cell_type": "code",
   "execution_count": null,
   "id": "painted-sellers",
   "metadata": {},
   "outputs": [],
   "source": [
    "### https://networkx.org/documentation/stable/reference/algorithms/generated/networkx.algorithms.connectivity.kcomponents.k_components.html#networkx.algorithms.connectivity.kcomponents.k_components\n",
    "\n",
    "##  exécution très longue : vérifier\n",
    "# nx.k_components(sub_g)"
   ]
  },
  {
   "cell_type": "code",
   "execution_count": null,
   "id": "large-settlement",
   "metadata": {},
   "outputs": [],
   "source": [
    "###https://networkx.org/documentation/stable/reference/algorithms/generated/networkx.algorithms.approximation.kcomponents.k_components.html?highlight=k_components#networkx.algorithms.approximation.kcomponents.k_components\n",
    "\n",
    "from networkx.algorithms import approximation as apxa\n",
    "##  exécution très longue : vérifier\n",
    "# apxa.k_components(sub_g, min_density = 0.95)"
   ]
  },
  {
   "cell_type": "markdown",
   "id": "approximate-contact",
   "metadata": {},
   "source": [
    "## Sous-graphe : degré > 13"
   ]
  },
  {
   "cell_type": "code",
   "execution_count": null,
   "id": "nervous-paint",
   "metadata": {},
   "outputs": [],
   "source": [
    "lk_13 = list(df_degree['person'][df_degree['degree']> 13])\n",
    "lk_13[:3]"
   ]
  },
  {
   "cell_type": "code",
   "execution_count": null,
   "id": "oriental-attention",
   "metadata": {},
   "outputs": [],
   "source": [
    "#  https://networkx.org/documentation/stable/reference/algorithms/generated/networkx.algorithms.components.connected_components.html\n",
    "dk_13 = G.subgraph(lk_13).copy()\n",
    "print(nx.info(dk_13))"
   ]
  },
  {
   "cell_type": "code",
   "execution_count": null,
   "id": "located-polymer",
   "metadata": {},
   "outputs": [],
   "source": [
    "nx.number_connected_components(dk_13)"
   ]
  },
  {
   "cell_type": "code",
   "execution_count": null,
   "id": "continuing-colon",
   "metadata": {},
   "outputs": [],
   "source": [
    "### Composantes du graphe\n",
    "# Une composante principale avec 1402 individus et de multiples petites composantes\n",
    "# https://networkx.org/documentation/stable/reference/algorithms/generated/networkx.algorithms.components.connected_components.html\n",
    "c_comp = nx.connected_components(dk_13)\n",
    "print(type(c_comp))\n",
    "## Length of generator as set of nodes = number of nodes\n",
    "df_c_comp = pd.DataFrame([len(c) for c in sorted(c_comp, key=len, reverse=True)], columns=['eff'])\n",
    "gs_c_comp = df_c_comp.groupby(['eff']).size()\n",
    "gs_c_comp.sort_index()"
   ]
  },
  {
   "cell_type": "code",
   "execution_count": null,
   "id": "defensive-mineral",
   "metadata": {},
   "outputs": [],
   "source": [
    "#  https://networkx.org/documentation/stable/reference/algorithms/generated/networkx.algorithms.components.connected_components.html\n",
    "S = [[len(c), G.subgraph(c).copy()] for c in nx.connected_components(dk_13)]\n",
    "# type(S)"
   ]
  },
  {
   "cell_type": "code",
   "execution_count": null,
   "id": "actual-stomach",
   "metadata": {},
   "outputs": [],
   "source": [
    "a = [[s[0], s[1]] for s in S  if s[0] == 542]\n",
    "g542 = a[0][1]"
   ]
  },
  {
   "cell_type": "code",
   "execution_count": null,
   "id": "pressed-strike",
   "metadata": {},
   "outputs": [],
   "source": [
    "fig = plt.figure(figsize=(400,200))\n",
    "pos = nx.kamada_kawai_layout(g542)\n",
    "nx.draw_networkx(g542, pos , font_color = 'red', font_size=30, edge_color='LightGray' )\n",
    "plt.savefig(\"graphs/dk_13.jpg\", format=\"jpg\")\n",
    "plt.savefig(\"graphs/dk_13.pdf\", format=\"pdf\")\n",
    "plt.show()"
   ]
  },
  {
   "cell_type": "code",
   "execution_count": null,
   "id": "compliant-range",
   "metadata": {},
   "outputs": [],
   "source": [
    "node_sizes = [i[1]['betweenness'] * 100000 + 1000 for i in list(g542.nodes.data())]\n",
    "print(len(node_sizes))\n",
    "node_sizes[:4]"
   ]
  },
  {
   "cell_type": "code",
   "execution_count": null,
   "id": "ideal-arthritis",
   "metadata": {
    "tags": []
   },
   "outputs": [],
   "source": [
    "fig = plt.figure(figsize=(200,100))\n",
    "pos = nx.kamada_kawai_layout(g542)\n",
    "nx.draw_networkx(g542, pos, node_color = 'DarkBlue', font_color = 'CornflowerBlue',\\\n",
    "                 font_size=30, node_size=node_sizes, edge_color='LightGray' )\n",
    "plt.savefig(\"graphs/g542.pdf\", format=\"pdf\")\n",
    "plt.savefig(\"graphs/g542.jpg\", format=\"jpg\")\n",
    "plt.show()"
   ]
  },
  {
   "cell_type": "code",
   "execution_count": null,
   "id": "greatest-toyota",
   "metadata": {},
   "outputs": [],
   "source": [
    "node_sizes = [i[1]['eigenvector'] * 100000 + 1000 for i in list(g542.nodes.data())]\n",
    "print(len(node_sizes))\n",
    "node_sizes[:4]"
   ]
  },
  {
   "cell_type": "code",
   "execution_count": null,
   "id": "coated-representation",
   "metadata": {
    "tags": []
   },
   "outputs": [],
   "source": [
    "fig = plt.figure(figsize=(200,100))\n",
    "pos = nx.kamada_kawai_layout(g542)\n",
    "nx.draw_networkx(g542, pos, node_color = 'DarkBlue', font_color = 'CornflowerBlue',\\\n",
    "                 font_size=30, node_size=node_sizes, edge_color='LightGray' )\n",
    "plt.savefig(\"graphs/g542_eigenvector.pdf\", format=\"pdf\")\n",
    "plt.savefig(\"graphs/g542_eigenvector.jpg\", format=\"jpg\")\n",
    "plt.show()"
   ]
  },
  {
   "cell_type": "code",
   "execution_count": null,
   "id": "lyric-blues",
   "metadata": {},
   "outputs": [],
   "source": []
  },
  {
   "cell_type": "markdown",
   "id": "acknowledged-burner",
   "metadata": {},
   "source": [
    "## Ajouter les paramètres de centralité du sous-graphe g542\n",
    "\n"
   ]
  },
  {
   "cell_type": "markdown",
   "id": "missing-motel",
   "metadata": {},
   "source": [
    "### Centralité de degré"
   ]
  },
  {
   "cell_type": "code",
   "execution_count": null,
   "id": "fitting-cricket",
   "metadata": {},
   "outputs": [],
   "source": [
    "# On construit ici le dictionnaire selon le format souhaité\n",
    "degree = dict([(d[0], {'degree': d[1]}) for d in nx.degree(g542)])\n",
    "print(list(degree)[:3])"
   ]
  },
  {
   "cell_type": "code",
   "execution_count": null,
   "id": "superb-illness",
   "metadata": {},
   "outputs": [],
   "source": [
    "nx.set_node_attributes(g542, degree)"
   ]
  },
  {
   "cell_type": "markdown",
   "id": "greenhouse-riverside",
   "metadata": {},
   "source": [
    "### Centralité de proximité"
   ]
  },
  {
   "cell_type": "code",
   "execution_count": null,
   "id": "recorded-rebel",
   "metadata": {},
   "outputs": [],
   "source": [
    "closeness = nx.closeness_centrality(g542)"
   ]
  },
  {
   "cell_type": "code",
   "execution_count": null,
   "id": "uniform-manual",
   "metadata": {},
   "outputs": [],
   "source": [
    "nx.set_node_attributes(g542, closeness, 'closeness')"
   ]
  },
  {
   "cell_type": "markdown",
   "id": "green-neighborhood",
   "metadata": {},
   "source": [
    "### Centralité d'intermédiarité"
   ]
  },
  {
   "cell_type": "code",
   "execution_count": null,
   "id": "silent-christmas",
   "metadata": {},
   "outputs": [],
   "source": [
    "betweenness = nx.betweenness_centrality(g542)"
   ]
  },
  {
   "cell_type": "code",
   "execution_count": null,
   "id": "passive-sodium",
   "metadata": {},
   "outputs": [],
   "source": [
    "nx.set_node_attributes(g542, betweenness, 'betweenness')"
   ]
  },
  {
   "cell_type": "markdown",
   "id": "collect-calculator",
   "metadata": {},
   "source": [
    "### Centralité d'influence ou de pouvoir (_eigenvalue_)"
   ]
  },
  {
   "cell_type": "code",
   "execution_count": null,
   "id": "rising-truth",
   "metadata": {},
   "outputs": [],
   "source": [
    "### https://networkx.org/documentation/stable/reference/algorithms/generated/networkx.algorithms.centrality.eigenvector_centrality.html?highlight=eigenvector#networkx.algorithms.centrality.eigenvector_centrality\n",
    "# noter la référence biliographique dans la documentation de la fonction\n",
    "\n",
    "eigenvector = nx.eigenvector_centrality(g542)\n",
    "nx.set_node_attributes(g542, eigenvector, 'eigenvector')"
   ]
  },
  {
   "cell_type": "markdown",
   "id": "criminal-specification",
   "metadata": {},
   "source": [
    "## Résultat"
   ]
  },
  {
   "cell_type": "code",
   "execution_count": null,
   "id": "retained-brunei",
   "metadata": {},
   "outputs": [],
   "source": [
    "print(list(g542.nodes.data())[:5])"
   ]
  },
  {
   "cell_type": "markdown",
   "id": "continental-archives",
   "metadata": {},
   "source": [
    "## Exporter les attributs pour les explorer "
   ]
  },
  {
   "cell_type": "code",
   "execution_count": null,
   "id": "adapted-knowing",
   "metadata": {},
   "outputs": [],
   "source": [
    "### Exporter les attributs vers un DataFrame afin de les explorer\n",
    "export = pd.DataFrame(g542.nodes.data(), columns = ['id', 'attributes'])\n",
    "export"
   ]
  },
  {
   "cell_type": "code",
   "execution_count": null,
   "id": "exclusive-ghana",
   "metadata": {},
   "outputs": [],
   "source": [
    "### Décomposer le champs attributs en colonnes\n",
    "# https://stackoverflow.com/questions/38231591/split-explode-a-column-of-dictionaries-into-separate-columns-with-pandas\n",
    "pd.json_normalize(export.attributes)"
   ]
  },
  {
   "cell_type": "code",
   "execution_count": null,
   "id": "absolute-communications",
   "metadata": {},
   "outputs": [],
   "source": [
    "### appliquer au DataFrame et supprimer la colonne attributes\n",
    "# en même temps mettre le nom en index\n",
    "export = export.join(pd.json_normalize(export.attributes)).set_index('id')\n",
    "export.drop(columns=['attributes'], inplace=True)"
   ]
  },
  {
   "cell_type": "code",
   "execution_count": null,
   "id": "difficult-pension",
   "metadata": {},
   "outputs": [],
   "source": [
    "export.loc[['Klaus_Schwab']]"
   ]
  },
  {
   "cell_type": "code",
   "execution_count": null,
   "id": "monthly-blair",
   "metadata": {},
   "outputs": [],
   "source": [
    "export['closeness'].describe()"
   ]
  },
  {
   "cell_type": "code",
   "execution_count": null,
   "id": "modern-bench",
   "metadata": {
    "tags": []
   },
   "outputs": [],
   "source": [
    "export['betweenness'].describe()"
   ]
  },
  {
   "cell_type": "code",
   "execution_count": null,
   "id": "mathematical-alert",
   "metadata": {},
   "outputs": [],
   "source": [
    "export['eigenvector'].describe()"
   ]
  },
  {
   "cell_type": "code",
   "execution_count": null,
   "id": "corresponding-humanitarian",
   "metadata": {},
   "outputs": [],
   "source": [
    "export.sort_values(by=['eigenvector'], ascending=False).iloc[50:90]  # .iloc[50:90]   .head(50)"
   ]
  },
  {
   "cell_type": "code",
   "execution_count": null,
   "id": "involved-water",
   "metadata": {},
   "outputs": [],
   "source": [
    "export.loc[['Klaus_Schwab']]"
   ]
  },
  {
   "cell_type": "code",
   "execution_count": null,
   "id": "human-fault",
   "metadata": {},
   "outputs": [],
   "source": [
    "export.loc[export.index.isin(['Klaus_Schwab'])]  ### négation :  loc[~export.index.isin(['Ellen_Johnson_Sirleaf'])]  "
   ]
  },
  {
   "cell_type": "markdown",
   "id": "lightweight-leader",
   "metadata": {},
   "source": [
    "## Explorer les relations entre propriétés structurales (centralités) et/ou attributs"
   ]
  },
  {
   "cell_type": "markdown",
   "id": "overall-locator",
   "metadata": {},
   "source": [
    "### Relations entre deux centralités"
   ]
  },
  {
   "cell_type": "code",
   "execution_count": null,
   "id": "powerful-olympus",
   "metadata": {},
   "outputs": [],
   "source": [
    "export[['degree','betweenness']].plot(x = 'degree', y = 'betweenness',kind='scatter',figsize=(30,30))\n",
    "for i,row in list(export[['degree','betweenness']].iterrows()):\n",
    "    plt.annotate(i,(row['degree'], row['betweenness']), fontsize = 9, stretch='semi-expanded')"
   ]
  },
  {
   "cell_type": "code",
   "execution_count": null,
   "id": "diverse-eating",
   "metadata": {},
   "outputs": [],
   "source": [
    "export.sort_values(by=['eigenvector'], ascending=False).iloc[80:100]"
   ]
  },
  {
   "cell_type": "code",
   "execution_count": null,
   "id": "crazy-frontier",
   "metadata": {},
   "outputs": [],
   "source": [
    "len(export), len(export.loc[~export.index.isin(['Ellen_Johnson_Sirleaf', 'Fischer_Black', 'Shahid_Javed_Burki'])])"
   ]
  },
  {
   "cell_type": "code",
   "execution_count": null,
   "id": "golden-optimization",
   "metadata": {},
   "outputs": [],
   "source": [
    "exp_Schwab = export[['closeness','eigenvector']].loc[~export.index.isin(['Ellen_Johnson_Sirleaf', 'Fischer_Black', 'Shahid_Javed_Burki'])][export['eigenvector']> 0.05]\\\n",
    ".sort_values('eigenvector', ascending=False).copy(deep=True)"
   ]
  },
  {
   "cell_type": "code",
   "execution_count": null,
   "id": "fitted-grain",
   "metadata": {},
   "outputs": [],
   "source": [
    "exp_Schwab.sort_values('eigenvector', ascending=False).plot(x = 'closeness', y = 'eigenvector',kind='scatter',figsize=(30,40))\n",
    "for i,row in list(exp_Schwab.iterrows()):\n",
    "    plt.annotate(i,(row['closeness'], row['eigenvector']), fontsize = 10, stretch='expanded')\n",
    "plt.savefig('plots/closeness_eigenvector_20210516.jpg')"
   ]
  },
  {
   "cell_type": "markdown",
   "id": "marine-delaware",
   "metadata": {},
   "source": [
    "## Ego réseau"
   ]
  },
  {
   "cell_type": "code",
   "execution_count": null,
   "id": "painted-repository",
   "metadata": {},
   "outputs": [],
   "source": [
    "schwab_ego = nx.ego_graph(g542, 'Klaus_Schwab', radius = 2, undirected=True)\n",
    "print(len(schwab_ego))"
   ]
  },
  {
   "cell_type": "code",
   "execution_count": null,
   "id": "qualified-greensboro",
   "metadata": {},
   "outputs": [],
   "source": [
    "schwab_ego"
   ]
  },
  {
   "cell_type": "code",
   "execution_count": null,
   "id": "raised-letter",
   "metadata": {},
   "outputs": [],
   "source": [
    "node_sizes = [i[1]['betweenness'] * 100000 + 1000 for i in list(schwab_ego.nodes.data())]\n",
    "print(len(node_sizes))\n",
    "node_sizes[:4]"
   ]
  },
  {
   "cell_type": "code",
   "execution_count": null,
   "id": "treated-wednesday",
   "metadata": {},
   "outputs": [],
   "source": [
    "fig = plt.figure(figsize=(200,100))\n",
    "pos = nx.kamada_kawai_layout(schwab_ego)\n",
    "nx.draw_networkx(schwab_ego, pos, node_color = 'DarkBlue', font_color = 'CornflowerBlue',\\\n",
    "                 font_size=30, node_size=node_sizes, edge_color='LightGray' )\n",
    "plt.savefig(\"graphs/schwab_ego.pdf\", format=\"pdf\")\n",
    "plt.show()"
   ]
  },
  {
   "cell_type": "code",
   "execution_count": null,
   "id": "ordinary-drinking",
   "metadata": {},
   "outputs": [],
   "source": []
  },
  {
   "cell_type": "code",
   "execution_count": null,
   "id": "substantial-interview",
   "metadata": {},
   "outputs": [],
   "source": []
  },
  {
   "cell_type": "code",
   "execution_count": null,
   "id": "deluxe-luxury",
   "metadata": {},
   "outputs": [],
   "source": []
  },
  {
   "cell_type": "markdown",
   "id": "lasting-radar",
   "metadata": {},
   "source": [
    "# Liens entre les Organisations (en préparation)"
   ]
  },
  {
   "cell_type": "code",
   "execution_count": 45,
   "id": "middle-mailing",
   "metadata": {},
   "outputs": [],
   "source": [
    "### Définir les adresses des fichiers, l'existant et celui à créer\n",
    "db = 'data/sparql_queries.db'"
   ]
  },
  {
   "cell_type": "code",
   "execution_count": 48,
   "id": "higher-chemistry",
   "metadata": {},
   "outputs": [],
   "source": [
    "## liens entre Universités donnés par les étudiants\n",
    "liens_univ = \"\"\"\n",
    "WITH tw1 AS (\n",
    "SELECT REPLACE(p.value , 'http://dbpedia.org/resource/', '') orga_1,\n",
    "REPLACE(p1.value, 'http://dbpedia.org/resource/', '') orga_2,\n",
    "'les_deux_alma_mater' AS type_relation,\n",
    "REPLACE(p.uri_entity, 'http://dbpedia.org/resource/', '') person,\n",
    "p3.value birth_year,\n",
    "p4.value long,\n",
    "p5.value lat,\n",
    "p6.value long,\n",
    "p7.value lat\n",
    "FROM property p\n",
    "  JOIN property p1 ON p1.uri_entity = p.uri_entity AND p1.pk_property > p.pk_property AND p1.property LIKE '%almaMater'\n",
    "  JOIN property p3 ON p3.uri_entity = p1.uri_entity AND p3.property LIKE '%irthYe%' AND p3.\"source\" LIKE '%8 mai 2021%'\n",
    "  LEFT JOIN property p4 ON\n",
    "\tp4.uri_entity = p.value\n",
    "\tAND p4.property LIKE '%long'\n",
    "\tLEFT JOIN property p5 ON\n",
    "\tp5.uri_entity = p.value\n",
    "\tAND p5.property LIKE '%lat'\n",
    "\tLEFT JOIN property p6 ON\n",
    "\tp6.uri_entity = p1.value\n",
    "\tAND p6.property LIKE '%long'\n",
    "LEFT JOIN property p7 ON\n",
    "\tp7.uri_entity = p1.value\n",
    "\tAND p7.property LIKE '%lat'\n",
    "WHERE  p.property LIKE '%almaMater'\n",
    "UNION\n",
    "SELECT REPLACE(p.value , 'http://dbpedia.org/resource/', '') orga_1,\n",
    "REPLACE(p1.value, 'http://dbpedia.org/resource/', '') orga_2,\n",
    "'les_deux_organisation' AS type_relation,\n",
    "REPLACE(p.uri_entity, 'http://dbpedia.org/resource/', '') person,\n",
    "p3.value birth_year,\n",
    "p4.value long,\n",
    "p5.value lat,\n",
    "p6.value long,\n",
    "p7.value lat\n",
    "FROM property p\n",
    "  JOIN property p1 ON p1.uri_entity = p.uri_entity AND p1.pk_property > p.pk_property AND p1.property LIKE '%instit%'\n",
    "  JOIN property p3 ON p3.uri_entity = p1.uri_entity AND p3.property LIKE '%irthYe%' AND p3.\"source\" LIKE '%8 mai 2021%'\n",
    "  LEFT JOIN property p4 ON\n",
    "\tp4.uri_entity = p.value\n",
    "\tAND p4.property LIKE '%long'\n",
    "\tLEFT JOIN property p5 ON\n",
    "\tp5.uri_entity = p.value\n",
    "\tAND p5.property LIKE '%lat'\n",
    "\tLEFT JOIN property p6 ON\n",
    "\tp6.uri_entity = p1.value\n",
    "\tAND p6.property LIKE '%long'\n",
    "LEFT JOIN property p7 ON\n",
    "\tp7.uri_entity = p1.value\n",
    "\tAND p7.property LIKE '%lat'\n",
    "WHERE  p.property LIKE '%instit%'\n",
    "UNION\n",
    "SELECT REPLACE(p.value , 'http://dbpedia.org/resource/', '') orga_1,\n",
    "REPLACE(p1.value, 'http://dbpedia.org/resource/', '') orga_2,\n",
    "'alma_mater_vers_organisation' AS type_relation,\n",
    "REPLACE(p.uri_entity, 'http://dbpedia.org/resource/', '') person,\n",
    "p3.value birth_year,\n",
    "p4.value long,\n",
    "p5.value lat,\n",
    "p6.value long,\n",
    "p7.value lat\n",
    "FROM property p\n",
    "  JOIN property p1 ON p1.uri_entity = p.uri_entity  AND p1.property LIKE '%instit%' -- AND p1.pk_property > p.pk_property\n",
    "  JOIN property p3 ON p3.uri_entity = p1.uri_entity AND p3.property LIKE '%irthYe%' AND p3.\"source\" LIKE '%8 mai 2021%'\n",
    "  LEFT JOIN property p4 ON\n",
    "\tp4.uri_entity = p.value\n",
    "\tAND p4.property LIKE '%long'\n",
    "\tLEFT JOIN property p5 ON\n",
    "\tp5.uri_entity = p.value\n",
    "\tAND p5.property LIKE '%lat'\n",
    "\tLEFT JOIN property p6 ON\n",
    "\tp6.uri_entity = p1.value\n",
    "\tAND p6.property LIKE '%long'\n",
    "LEFT JOIN property p7 ON\n",
    "\tp7.uri_entity = p1.value\n",
    "\tAND p7.property LIKE '%lat'\n",
    "WHERE  p.property LIKE '%almaMater%')\n",
    "SELECT *  FROM tw1\n",
    "WHERE orga_1 NOT LIKE 'Bachel%' \n",
    "AND orga_2 NOT LIKE 'Bachel%'\n",
    "AND orga_1 NOT LIKE 'Master%' \n",
    "AND orga_2 NOT LIKE 'Master%'\n",
    "AND orga_1 NOT LIKE 'Doctor%' \n",
    "AND orga_2 NOT LIKE 'Doctor%'\n",
    "ORDER BY person;\n",
    "\"\"\""
   ]
  },
  {
   "cell_type": "code",
   "execution_count": 91,
   "id": "polar-surface",
   "metadata": {},
   "outputs": [
    {
     "data": {
      "text/html": [
       "<div>\n",
       "<style scoped>\n",
       "    .dataframe tbody tr th:only-of-type {\n",
       "        vertical-align: middle;\n",
       "    }\n",
       "\n",
       "    .dataframe tbody tr th {\n",
       "        vertical-align: top;\n",
       "    }\n",
       "\n",
       "    .dataframe thead th {\n",
       "        text-align: right;\n",
       "    }\n",
       "</style>\n",
       "<table border=\"1\" class=\"dataframe\">\n",
       "  <thead>\n",
       "    <tr style=\"text-align: right;\">\n",
       "      <th></th>\n",
       "      <th>orga_1</th>\n",
       "      <th>orga_2</th>\n",
       "      <th>type_relation</th>\n",
       "      <th>person</th>\n",
       "      <th>birth_year</th>\n",
       "      <th>long</th>\n",
       "      <th>lat</th>\n",
       "      <th>long:1</th>\n",
       "      <th>lat:1</th>\n",
       "    </tr>\n",
       "  </thead>\n",
       "  <tbody>\n",
       "    <tr>\n",
       "      <th>0</th>\n",
       "      <td>Bangalore_University</td>\n",
       "      <td>Harvard_University</td>\n",
       "      <td>les_deux_alma_mater</td>\n",
       "      <td>A._K._Shiva_Kumar</td>\n",
       "      <td>1956</td>\n",
       "      <td>77.5032</td>\n",
       "      <td>12.9388</td>\n",
       "      <td>-71.1169</td>\n",
       "      <td>42.3744</td>\n",
       "    </tr>\n",
       "    <tr>\n",
       "      <th>1</th>\n",
       "      <td>Bangalore_University</td>\n",
       "      <td>IIM_Ahmedabad</td>\n",
       "      <td>les_deux_alma_mater</td>\n",
       "      <td>A._K._Shiva_Kumar</td>\n",
       "      <td>1956</td>\n",
       "      <td>77.5032</td>\n",
       "      <td>12.9388</td>\n",
       "      <td>None</td>\n",
       "      <td>None</td>\n",
       "    </tr>\n",
       "    <tr>\n",
       "      <th>2</th>\n",
       "      <td>Bangalore_University</td>\n",
       "      <td>St._Joseph's_College,_Bangalore</td>\n",
       "      <td>les_deux_alma_mater</td>\n",
       "      <td>A._K._Shiva_Kumar</td>\n",
       "      <td>1956</td>\n",
       "      <td>77.5032</td>\n",
       "      <td>12.9388</td>\n",
       "      <td>77.5964</td>\n",
       "      <td>12.9629</td>\n",
       "    </tr>\n",
       "    <tr>\n",
       "      <th>3</th>\n",
       "      <td>IIM_Ahmedabad</td>\n",
       "      <td>Harvard_University</td>\n",
       "      <td>les_deux_alma_mater</td>\n",
       "      <td>A._K._Shiva_Kumar</td>\n",
       "      <td>1956</td>\n",
       "      <td>None</td>\n",
       "      <td>None</td>\n",
       "      <td>-71.1169</td>\n",
       "      <td>42.3744</td>\n",
       "    </tr>\n",
       "    <tr>\n",
       "      <th>4</th>\n",
       "      <td>IIM_Ahmedabad</td>\n",
       "      <td>St._Joseph's_College,_Bangalore</td>\n",
       "      <td>les_deux_alma_mater</td>\n",
       "      <td>A._K._Shiva_Kumar</td>\n",
       "      <td>1956</td>\n",
       "      <td>None</td>\n",
       "      <td>None</td>\n",
       "      <td>77.5964</td>\n",
       "      <td>12.9629</td>\n",
       "    </tr>\n",
       "  </tbody>\n",
       "</table>\n",
       "</div>"
      ],
      "text/plain": [
       "                 orga_1                           orga_2        type_relation  \\\n",
       "0  Bangalore_University               Harvard_University  les_deux_alma_mater   \n",
       "1  Bangalore_University                    IIM_Ahmedabad  les_deux_alma_mater   \n",
       "2  Bangalore_University  St._Joseph's_College,_Bangalore  les_deux_alma_mater   \n",
       "3         IIM_Ahmedabad               Harvard_University  les_deux_alma_mater   \n",
       "4         IIM_Ahmedabad  St._Joseph's_College,_Bangalore  les_deux_alma_mater   \n",
       "\n",
       "              person birth_year     long      lat    long:1    lat:1  \n",
       "0  A._K._Shiva_Kumar       1956  77.5032  12.9388  -71.1169  42.3744  \n",
       "1  A._K._Shiva_Kumar       1956  77.5032  12.9388      None     None  \n",
       "2  A._K._Shiva_Kumar       1956  77.5032  12.9388   77.5964  12.9629  \n",
       "3  A._K._Shiva_Kumar       1956     None     None  -71.1169  42.3744  \n",
       "4  A._K._Shiva_Kumar       1956     None     None   77.5964  12.9629  "
      ]
     },
     "execution_count": 91,
     "metadata": {},
     "output_type": "execute_result"
    }
   ],
   "source": [
    "### Undirected version of the same graph produced using Pandas\n",
    "cn = sql.connect(db)\n",
    "df_liens_univ = pd.read_sql_query(liens_univ, cn)\n",
    "cn.close()\n",
    "df_liens_univ.head()"
   ]
  },
  {
   "cell_type": "code",
   "execution_count": null,
   "id": "dominant-consideration",
   "metadata": {
    "scrolled": true,
    "tags": []
   },
   "outputs": [],
   "source": [
    "students = df_liens_univ.groupby(['person']).size()\n",
    "print(len(students))\n",
    "list(students.sort_values(ascending=False).items())[:10] #[10:20]"
   ]
  },
  {
   "cell_type": "code",
   "execution_count": 90,
   "id": "amended-treasure",
   "metadata": {},
   "outputs": [
    {
     "data": {
      "text/html": [
       "<div>\n",
       "<style scoped>\n",
       "    .dataframe tbody tr th:only-of-type {\n",
       "        vertical-align: middle;\n",
       "    }\n",
       "\n",
       "    .dataframe tbody tr th {\n",
       "        vertical-align: top;\n",
       "    }\n",
       "\n",
       "    .dataframe thead th {\n",
       "        text-align: right;\n",
       "    }\n",
       "</style>\n",
       "<table border=\"1\" class=\"dataframe\">\n",
       "  <thead>\n",
       "    <tr style=\"text-align: right;\">\n",
       "      <th></th>\n",
       "      <th>orga_1</th>\n",
       "      <th>orga_2</th>\n",
       "      <th>type_relation</th>\n",
       "      <th>person</th>\n",
       "      <th>birth_year</th>\n",
       "      <th>long</th>\n",
       "      <th>lat</th>\n",
       "      <th>long:1</th>\n",
       "      <th>lat:1</th>\n",
       "    </tr>\n",
       "  </thead>\n",
       "  <tbody>\n",
       "    <tr>\n",
       "      <th>4211</th>\n",
       "      <td>Columbia_University</td>\n",
       "      <td>Columbia_University</td>\n",
       "      <td>alma_mater_vers_organisation</td>\n",
       "      <td>Milton_Friedman</td>\n",
       "      <td>1912</td>\n",
       "      <td>-73.9619</td>\n",
       "      <td>40.8075</td>\n",
       "      <td>-73.9619</td>\n",
       "      <td>40.8075</td>\n",
       "    </tr>\n",
       "    <tr>\n",
       "      <th>4212</th>\n",
       "      <td>Columbia_University</td>\n",
       "      <td>Hoover_Institution</td>\n",
       "      <td>alma_mater_vers_organisation</td>\n",
       "      <td>Milton_Friedman</td>\n",
       "      <td>1912</td>\n",
       "      <td>-73.9619</td>\n",
       "      <td>40.8075</td>\n",
       "      <td>None</td>\n",
       "      <td>None</td>\n",
       "    </tr>\n",
       "    <tr>\n",
       "      <th>4213</th>\n",
       "      <td>Columbia_University</td>\n",
       "      <td>U.S._Department_of_the_Treasury</td>\n",
       "      <td>alma_mater_vers_organisation</td>\n",
       "      <td>Milton_Friedman</td>\n",
       "      <td>1912</td>\n",
       "      <td>-73.9619</td>\n",
       "      <td>40.8075</td>\n",
       "      <td>None</td>\n",
       "      <td>None</td>\n",
       "    </tr>\n",
       "    <tr>\n",
       "      <th>4214</th>\n",
       "      <td>Columbia_University</td>\n",
       "      <td>U.S._Department_of_the_Treasury</td>\n",
       "      <td>les_deux_organisation</td>\n",
       "      <td>Milton_Friedman</td>\n",
       "      <td>1912</td>\n",
       "      <td>-73.9619</td>\n",
       "      <td>40.8075</td>\n",
       "      <td>None</td>\n",
       "      <td>None</td>\n",
       "    </tr>\n",
       "    <tr>\n",
       "      <th>4215</th>\n",
       "      <td>Columbia_University</td>\n",
       "      <td>University_of_Cambridge</td>\n",
       "      <td>alma_mater_vers_organisation</td>\n",
       "      <td>Milton_Friedman</td>\n",
       "      <td>1912</td>\n",
       "      <td>-73.9619</td>\n",
       "      <td>40.8075</td>\n",
       "      <td>0.117222</td>\n",
       "      <td>52.2053</td>\n",
       "    </tr>\n",
       "    <tr>\n",
       "      <th>4216</th>\n",
       "      <td>Columbia_University</td>\n",
       "      <td>University_of_Chicago</td>\n",
       "      <td>alma_mater_vers_organisation</td>\n",
       "      <td>Milton_Friedman</td>\n",
       "      <td>1912</td>\n",
       "      <td>-73.9619</td>\n",
       "      <td>40.8075</td>\n",
       "      <td>-87.5997</td>\n",
       "      <td>41.7897</td>\n",
       "    </tr>\n",
       "    <tr>\n",
       "      <th>4217</th>\n",
       "      <td>Columbia_University</td>\n",
       "      <td>University_of_Wisconsin,_Madison</td>\n",
       "      <td>alma_mater_vers_organisation</td>\n",
       "      <td>Milton_Friedman</td>\n",
       "      <td>1912</td>\n",
       "      <td>-73.9619</td>\n",
       "      <td>40.8075</td>\n",
       "      <td>None</td>\n",
       "      <td>None</td>\n",
       "    </tr>\n",
       "    <tr>\n",
       "      <th>4218</th>\n",
       "      <td>Hoover_Institution</td>\n",
       "      <td>Columbia_University</td>\n",
       "      <td>les_deux_organisation</td>\n",
       "      <td>Milton_Friedman</td>\n",
       "      <td>1912</td>\n",
       "      <td>None</td>\n",
       "      <td>None</td>\n",
       "      <td>-73.9619</td>\n",
       "      <td>40.8075</td>\n",
       "    </tr>\n",
       "    <tr>\n",
       "      <th>4219</th>\n",
       "      <td>Hoover_Institution</td>\n",
       "      <td>U.S._Department_of_the_Treasury</td>\n",
       "      <td>les_deux_organisation</td>\n",
       "      <td>Milton_Friedman</td>\n",
       "      <td>1912</td>\n",
       "      <td>None</td>\n",
       "      <td>None</td>\n",
       "      <td>None</td>\n",
       "      <td>None</td>\n",
       "    </tr>\n",
       "    <tr>\n",
       "      <th>4220</th>\n",
       "      <td>Rutgers_University</td>\n",
       "      <td>Columbia_University</td>\n",
       "      <td>alma_mater_vers_organisation</td>\n",
       "      <td>Milton_Friedman</td>\n",
       "      <td>1912</td>\n",
       "      <td>-74.4481</td>\n",
       "      <td>40.5017</td>\n",
       "      <td>-73.9619</td>\n",
       "      <td>40.8075</td>\n",
       "    </tr>\n",
       "    <tr>\n",
       "      <th>4221</th>\n",
       "      <td>Rutgers_University</td>\n",
       "      <td>Columbia_University</td>\n",
       "      <td>les_deux_alma_mater</td>\n",
       "      <td>Milton_Friedman</td>\n",
       "      <td>1912</td>\n",
       "      <td>-74.4481</td>\n",
       "      <td>40.5017</td>\n",
       "      <td>-73.9619</td>\n",
       "      <td>40.8075</td>\n",
       "    </tr>\n",
       "    <tr>\n",
       "      <th>4222</th>\n",
       "      <td>Rutgers_University</td>\n",
       "      <td>Hoover_Institution</td>\n",
       "      <td>alma_mater_vers_organisation</td>\n",
       "      <td>Milton_Friedman</td>\n",
       "      <td>1912</td>\n",
       "      <td>-74.4481</td>\n",
       "      <td>40.5017</td>\n",
       "      <td>None</td>\n",
       "      <td>None</td>\n",
       "    </tr>\n",
       "    <tr>\n",
       "      <th>4223</th>\n",
       "      <td>Rutgers_University</td>\n",
       "      <td>U.S._Department_of_the_Treasury</td>\n",
       "      <td>alma_mater_vers_organisation</td>\n",
       "      <td>Milton_Friedman</td>\n",
       "      <td>1912</td>\n",
       "      <td>-74.4481</td>\n",
       "      <td>40.5017</td>\n",
       "      <td>None</td>\n",
       "      <td>None</td>\n",
       "    </tr>\n",
       "    <tr>\n",
       "      <th>4224</th>\n",
       "      <td>Rutgers_University</td>\n",
       "      <td>University_of_Cambridge</td>\n",
       "      <td>alma_mater_vers_organisation</td>\n",
       "      <td>Milton_Friedman</td>\n",
       "      <td>1912</td>\n",
       "      <td>-74.4481</td>\n",
       "      <td>40.5017</td>\n",
       "      <td>0.117222</td>\n",
       "      <td>52.2053</td>\n",
       "    </tr>\n",
       "    <tr>\n",
       "      <th>4225</th>\n",
       "      <td>Rutgers_University</td>\n",
       "      <td>University_of_Chicago</td>\n",
       "      <td>alma_mater_vers_organisation</td>\n",
       "      <td>Milton_Friedman</td>\n",
       "      <td>1912</td>\n",
       "      <td>-74.4481</td>\n",
       "      <td>40.5017</td>\n",
       "      <td>-87.5997</td>\n",
       "      <td>41.7897</td>\n",
       "    </tr>\n",
       "    <tr>\n",
       "      <th>4226</th>\n",
       "      <td>Rutgers_University</td>\n",
       "      <td>University_of_Wisconsin,_Madison</td>\n",
       "      <td>alma_mater_vers_organisation</td>\n",
       "      <td>Milton_Friedman</td>\n",
       "      <td>1912</td>\n",
       "      <td>-74.4481</td>\n",
       "      <td>40.5017</td>\n",
       "      <td>None</td>\n",
       "      <td>None</td>\n",
       "    </tr>\n",
       "    <tr>\n",
       "      <th>4227</th>\n",
       "      <td>University_of_Cambridge</td>\n",
       "      <td>Columbia_University</td>\n",
       "      <td>les_deux_organisation</td>\n",
       "      <td>Milton_Friedman</td>\n",
       "      <td>1912</td>\n",
       "      <td>0.117222</td>\n",
       "      <td>52.2053</td>\n",
       "      <td>-73.9619</td>\n",
       "      <td>40.8075</td>\n",
       "    </tr>\n",
       "    <tr>\n",
       "      <th>4228</th>\n",
       "      <td>University_of_Cambridge</td>\n",
       "      <td>Hoover_Institution</td>\n",
       "      <td>les_deux_organisation</td>\n",
       "      <td>Milton_Friedman</td>\n",
       "      <td>1912</td>\n",
       "      <td>0.117222</td>\n",
       "      <td>52.2053</td>\n",
       "      <td>None</td>\n",
       "      <td>None</td>\n",
       "    </tr>\n",
       "    <tr>\n",
       "      <th>4229</th>\n",
       "      <td>University_of_Cambridge</td>\n",
       "      <td>U.S._Department_of_the_Treasury</td>\n",
       "      <td>les_deux_organisation</td>\n",
       "      <td>Milton_Friedman</td>\n",
       "      <td>1912</td>\n",
       "      <td>0.117222</td>\n",
       "      <td>52.2053</td>\n",
       "      <td>None</td>\n",
       "      <td>None</td>\n",
       "    </tr>\n",
       "    <tr>\n",
       "      <th>4230</th>\n",
       "      <td>University_of_Cambridge</td>\n",
       "      <td>University_of_Chicago</td>\n",
       "      <td>les_deux_organisation</td>\n",
       "      <td>Milton_Friedman</td>\n",
       "      <td>1912</td>\n",
       "      <td>0.117222</td>\n",
       "      <td>52.2053</td>\n",
       "      <td>-87.5997</td>\n",
       "      <td>41.7897</td>\n",
       "    </tr>\n",
       "    <tr>\n",
       "      <th>4231</th>\n",
       "      <td>University_of_Cambridge</td>\n",
       "      <td>University_of_Wisconsin,_Madison</td>\n",
       "      <td>les_deux_organisation</td>\n",
       "      <td>Milton_Friedman</td>\n",
       "      <td>1912</td>\n",
       "      <td>0.117222</td>\n",
       "      <td>52.2053</td>\n",
       "      <td>None</td>\n",
       "      <td>None</td>\n",
       "    </tr>\n",
       "    <tr>\n",
       "      <th>4232</th>\n",
       "      <td>University_of_Chicago</td>\n",
       "      <td>Columbia_University</td>\n",
       "      <td>alma_mater_vers_organisation</td>\n",
       "      <td>Milton_Friedman</td>\n",
       "      <td>1912</td>\n",
       "      <td>-87.5997</td>\n",
       "      <td>41.7897</td>\n",
       "      <td>-73.9619</td>\n",
       "      <td>40.8075</td>\n",
       "    </tr>\n",
       "    <tr>\n",
       "      <th>4233</th>\n",
       "      <td>University_of_Chicago</td>\n",
       "      <td>Columbia_University</td>\n",
       "      <td>les_deux_alma_mater</td>\n",
       "      <td>Milton_Friedman</td>\n",
       "      <td>1912</td>\n",
       "      <td>-87.5997</td>\n",
       "      <td>41.7897</td>\n",
       "      <td>-73.9619</td>\n",
       "      <td>40.8075</td>\n",
       "    </tr>\n",
       "    <tr>\n",
       "      <th>4234</th>\n",
       "      <td>University_of_Chicago</td>\n",
       "      <td>Columbia_University</td>\n",
       "      <td>les_deux_organisation</td>\n",
       "      <td>Milton_Friedman</td>\n",
       "      <td>1912</td>\n",
       "      <td>-87.5997</td>\n",
       "      <td>41.7897</td>\n",
       "      <td>-73.9619</td>\n",
       "      <td>40.8075</td>\n",
       "    </tr>\n",
       "    <tr>\n",
       "      <th>4235</th>\n",
       "      <td>University_of_Chicago</td>\n",
       "      <td>Hoover_Institution</td>\n",
       "      <td>alma_mater_vers_organisation</td>\n",
       "      <td>Milton_Friedman</td>\n",
       "      <td>1912</td>\n",
       "      <td>-87.5997</td>\n",
       "      <td>41.7897</td>\n",
       "      <td>None</td>\n",
       "      <td>None</td>\n",
       "    </tr>\n",
       "    <tr>\n",
       "      <th>4236</th>\n",
       "      <td>University_of_Chicago</td>\n",
       "      <td>Hoover_Institution</td>\n",
       "      <td>les_deux_organisation</td>\n",
       "      <td>Milton_Friedman</td>\n",
       "      <td>1912</td>\n",
       "      <td>-87.5997</td>\n",
       "      <td>41.7897</td>\n",
       "      <td>None</td>\n",
       "      <td>None</td>\n",
       "    </tr>\n",
       "    <tr>\n",
       "      <th>4237</th>\n",
       "      <td>University_of_Chicago</td>\n",
       "      <td>Rutgers_University</td>\n",
       "      <td>les_deux_alma_mater</td>\n",
       "      <td>Milton_Friedman</td>\n",
       "      <td>1912</td>\n",
       "      <td>-87.5997</td>\n",
       "      <td>41.7897</td>\n",
       "      <td>-74.4481</td>\n",
       "      <td>40.5017</td>\n",
       "    </tr>\n",
       "    <tr>\n",
       "      <th>4238</th>\n",
       "      <td>University_of_Chicago</td>\n",
       "      <td>U.S._Department_of_the_Treasury</td>\n",
       "      <td>alma_mater_vers_organisation</td>\n",
       "      <td>Milton_Friedman</td>\n",
       "      <td>1912</td>\n",
       "      <td>-87.5997</td>\n",
       "      <td>41.7897</td>\n",
       "      <td>None</td>\n",
       "      <td>None</td>\n",
       "    </tr>\n",
       "    <tr>\n",
       "      <th>4239</th>\n",
       "      <td>University_of_Chicago</td>\n",
       "      <td>U.S._Department_of_the_Treasury</td>\n",
       "      <td>les_deux_organisation</td>\n",
       "      <td>Milton_Friedman</td>\n",
       "      <td>1912</td>\n",
       "      <td>-87.5997</td>\n",
       "      <td>41.7897</td>\n",
       "      <td>None</td>\n",
       "      <td>None</td>\n",
       "    </tr>\n",
       "    <tr>\n",
       "      <th>4240</th>\n",
       "      <td>University_of_Chicago</td>\n",
       "      <td>University_of_Cambridge</td>\n",
       "      <td>alma_mater_vers_organisation</td>\n",
       "      <td>Milton_Friedman</td>\n",
       "      <td>1912</td>\n",
       "      <td>-87.5997</td>\n",
       "      <td>41.7897</td>\n",
       "      <td>0.117222</td>\n",
       "      <td>52.2053</td>\n",
       "    </tr>\n",
       "    <tr>\n",
       "      <th>4241</th>\n",
       "      <td>University_of_Chicago</td>\n",
       "      <td>University_of_Chicago</td>\n",
       "      <td>alma_mater_vers_organisation</td>\n",
       "      <td>Milton_Friedman</td>\n",
       "      <td>1912</td>\n",
       "      <td>-87.5997</td>\n",
       "      <td>41.7897</td>\n",
       "      <td>-87.5997</td>\n",
       "      <td>41.7897</td>\n",
       "    </tr>\n",
       "    <tr>\n",
       "      <th>4242</th>\n",
       "      <td>University_of_Chicago</td>\n",
       "      <td>University_of_Wisconsin,_Madison</td>\n",
       "      <td>alma_mater_vers_organisation</td>\n",
       "      <td>Milton_Friedman</td>\n",
       "      <td>1912</td>\n",
       "      <td>-87.5997</td>\n",
       "      <td>41.7897</td>\n",
       "      <td>None</td>\n",
       "      <td>None</td>\n",
       "    </tr>\n",
       "    <tr>\n",
       "      <th>4243</th>\n",
       "      <td>University_of_Chicago</td>\n",
       "      <td>University_of_Wisconsin,_Madison</td>\n",
       "      <td>les_deux_organisation</td>\n",
       "      <td>Milton_Friedman</td>\n",
       "      <td>1912</td>\n",
       "      <td>-87.5997</td>\n",
       "      <td>41.7897</td>\n",
       "      <td>None</td>\n",
       "      <td>None</td>\n",
       "    </tr>\n",
       "    <tr>\n",
       "      <th>4244</th>\n",
       "      <td>University_of_Wisconsin,_Madison</td>\n",
       "      <td>Columbia_University</td>\n",
       "      <td>les_deux_organisation</td>\n",
       "      <td>Milton_Friedman</td>\n",
       "      <td>1912</td>\n",
       "      <td>None</td>\n",
       "      <td>None</td>\n",
       "      <td>-73.9619</td>\n",
       "      <td>40.8075</td>\n",
       "    </tr>\n",
       "    <tr>\n",
       "      <th>4245</th>\n",
       "      <td>University_of_Wisconsin,_Madison</td>\n",
       "      <td>Hoover_Institution</td>\n",
       "      <td>les_deux_organisation</td>\n",
       "      <td>Milton_Friedman</td>\n",
       "      <td>1912</td>\n",
       "      <td>None</td>\n",
       "      <td>None</td>\n",
       "      <td>None</td>\n",
       "      <td>None</td>\n",
       "    </tr>\n",
       "    <tr>\n",
       "      <th>4246</th>\n",
       "      <td>University_of_Wisconsin,_Madison</td>\n",
       "      <td>U.S._Department_of_the_Treasury</td>\n",
       "      <td>les_deux_organisation</td>\n",
       "      <td>Milton_Friedman</td>\n",
       "      <td>1912</td>\n",
       "      <td>None</td>\n",
       "      <td>None</td>\n",
       "      <td>None</td>\n",
       "      <td>None</td>\n",
       "    </tr>\n",
       "  </tbody>\n",
       "</table>\n",
       "</div>"
      ],
      "text/plain": [
       "                                orga_1                            orga_2  \\\n",
       "4211               Columbia_University               Columbia_University   \n",
       "4212               Columbia_University                Hoover_Institution   \n",
       "4213               Columbia_University   U.S._Department_of_the_Treasury   \n",
       "4214               Columbia_University   U.S._Department_of_the_Treasury   \n",
       "4215               Columbia_University           University_of_Cambridge   \n",
       "4216               Columbia_University             University_of_Chicago   \n",
       "4217               Columbia_University  University_of_Wisconsin,_Madison   \n",
       "4218                Hoover_Institution               Columbia_University   \n",
       "4219                Hoover_Institution   U.S._Department_of_the_Treasury   \n",
       "4220                Rutgers_University               Columbia_University   \n",
       "4221                Rutgers_University               Columbia_University   \n",
       "4222                Rutgers_University                Hoover_Institution   \n",
       "4223                Rutgers_University   U.S._Department_of_the_Treasury   \n",
       "4224                Rutgers_University           University_of_Cambridge   \n",
       "4225                Rutgers_University             University_of_Chicago   \n",
       "4226                Rutgers_University  University_of_Wisconsin,_Madison   \n",
       "4227           University_of_Cambridge               Columbia_University   \n",
       "4228           University_of_Cambridge                Hoover_Institution   \n",
       "4229           University_of_Cambridge   U.S._Department_of_the_Treasury   \n",
       "4230           University_of_Cambridge             University_of_Chicago   \n",
       "4231           University_of_Cambridge  University_of_Wisconsin,_Madison   \n",
       "4232             University_of_Chicago               Columbia_University   \n",
       "4233             University_of_Chicago               Columbia_University   \n",
       "4234             University_of_Chicago               Columbia_University   \n",
       "4235             University_of_Chicago                Hoover_Institution   \n",
       "4236             University_of_Chicago                Hoover_Institution   \n",
       "4237             University_of_Chicago                Rutgers_University   \n",
       "4238             University_of_Chicago   U.S._Department_of_the_Treasury   \n",
       "4239             University_of_Chicago   U.S._Department_of_the_Treasury   \n",
       "4240             University_of_Chicago           University_of_Cambridge   \n",
       "4241             University_of_Chicago             University_of_Chicago   \n",
       "4242             University_of_Chicago  University_of_Wisconsin,_Madison   \n",
       "4243             University_of_Chicago  University_of_Wisconsin,_Madison   \n",
       "4244  University_of_Wisconsin,_Madison               Columbia_University   \n",
       "4245  University_of_Wisconsin,_Madison                Hoover_Institution   \n",
       "4246  University_of_Wisconsin,_Madison   U.S._Department_of_the_Treasury   \n",
       "\n",
       "                     type_relation           person birth_year      long  \\\n",
       "4211  alma_mater_vers_organisation  Milton_Friedman       1912  -73.9619   \n",
       "4212  alma_mater_vers_organisation  Milton_Friedman       1912  -73.9619   \n",
       "4213  alma_mater_vers_organisation  Milton_Friedman       1912  -73.9619   \n",
       "4214         les_deux_organisation  Milton_Friedman       1912  -73.9619   \n",
       "4215  alma_mater_vers_organisation  Milton_Friedman       1912  -73.9619   \n",
       "4216  alma_mater_vers_organisation  Milton_Friedman       1912  -73.9619   \n",
       "4217  alma_mater_vers_organisation  Milton_Friedman       1912  -73.9619   \n",
       "4218         les_deux_organisation  Milton_Friedman       1912      None   \n",
       "4219         les_deux_organisation  Milton_Friedman       1912      None   \n",
       "4220  alma_mater_vers_organisation  Milton_Friedman       1912  -74.4481   \n",
       "4221           les_deux_alma_mater  Milton_Friedman       1912  -74.4481   \n",
       "4222  alma_mater_vers_organisation  Milton_Friedman       1912  -74.4481   \n",
       "4223  alma_mater_vers_organisation  Milton_Friedman       1912  -74.4481   \n",
       "4224  alma_mater_vers_organisation  Milton_Friedman       1912  -74.4481   \n",
       "4225  alma_mater_vers_organisation  Milton_Friedman       1912  -74.4481   \n",
       "4226  alma_mater_vers_organisation  Milton_Friedman       1912  -74.4481   \n",
       "4227         les_deux_organisation  Milton_Friedman       1912  0.117222   \n",
       "4228         les_deux_organisation  Milton_Friedman       1912  0.117222   \n",
       "4229         les_deux_organisation  Milton_Friedman       1912  0.117222   \n",
       "4230         les_deux_organisation  Milton_Friedman       1912  0.117222   \n",
       "4231         les_deux_organisation  Milton_Friedman       1912  0.117222   \n",
       "4232  alma_mater_vers_organisation  Milton_Friedman       1912  -87.5997   \n",
       "4233           les_deux_alma_mater  Milton_Friedman       1912  -87.5997   \n",
       "4234         les_deux_organisation  Milton_Friedman       1912  -87.5997   \n",
       "4235  alma_mater_vers_organisation  Milton_Friedman       1912  -87.5997   \n",
       "4236         les_deux_organisation  Milton_Friedman       1912  -87.5997   \n",
       "4237           les_deux_alma_mater  Milton_Friedman       1912  -87.5997   \n",
       "4238  alma_mater_vers_organisation  Milton_Friedman       1912  -87.5997   \n",
       "4239         les_deux_organisation  Milton_Friedman       1912  -87.5997   \n",
       "4240  alma_mater_vers_organisation  Milton_Friedman       1912  -87.5997   \n",
       "4241  alma_mater_vers_organisation  Milton_Friedman       1912  -87.5997   \n",
       "4242  alma_mater_vers_organisation  Milton_Friedman       1912  -87.5997   \n",
       "4243         les_deux_organisation  Milton_Friedman       1912  -87.5997   \n",
       "4244         les_deux_organisation  Milton_Friedman       1912      None   \n",
       "4245         les_deux_organisation  Milton_Friedman       1912      None   \n",
       "4246         les_deux_organisation  Milton_Friedman       1912      None   \n",
       "\n",
       "          lat    long:1    lat:1  \n",
       "4211  40.8075  -73.9619  40.8075  \n",
       "4212  40.8075      None     None  \n",
       "4213  40.8075      None     None  \n",
       "4214  40.8075      None     None  \n",
       "4215  40.8075  0.117222  52.2053  \n",
       "4216  40.8075  -87.5997  41.7897  \n",
       "4217  40.8075      None     None  \n",
       "4218     None  -73.9619  40.8075  \n",
       "4219     None      None     None  \n",
       "4220  40.5017  -73.9619  40.8075  \n",
       "4221  40.5017  -73.9619  40.8075  \n",
       "4222  40.5017      None     None  \n",
       "4223  40.5017      None     None  \n",
       "4224  40.5017  0.117222  52.2053  \n",
       "4225  40.5017  -87.5997  41.7897  \n",
       "4226  40.5017      None     None  \n",
       "4227  52.2053  -73.9619  40.8075  \n",
       "4228  52.2053      None     None  \n",
       "4229  52.2053      None     None  \n",
       "4230  52.2053  -87.5997  41.7897  \n",
       "4231  52.2053      None     None  \n",
       "4232  41.7897  -73.9619  40.8075  \n",
       "4233  41.7897  -73.9619  40.8075  \n",
       "4234  41.7897  -73.9619  40.8075  \n",
       "4235  41.7897      None     None  \n",
       "4236  41.7897      None     None  \n",
       "4237  41.7897  -74.4481  40.5017  \n",
       "4238  41.7897      None     None  \n",
       "4239  41.7897      None     None  \n",
       "4240  41.7897  0.117222  52.2053  \n",
       "4241  41.7897  -87.5997  41.7897  \n",
       "4242  41.7897      None     None  \n",
       "4243  41.7897      None     None  \n",
       "4244     None  -73.9619  40.8075  \n",
       "4245     None      None     None  \n",
       "4246     None      None     None  "
      ]
     },
     "execution_count": 90,
     "metadata": {},
     "output_type": "execute_result"
    }
   ],
   "source": [
    "## Piet_Lieftinck 8 universities but errors \n",
    "df_liens_univ[df_liens_univ['person'] == 'Milton_Friedman']"
   ]
  },
  {
   "cell_type": "code",
   "execution_count": null,
   "id": "separate-facility",
   "metadata": {},
   "outputs": [],
   "source": [
    "df_students = pd.DataFrame(students, columns=['eff'])\n",
    "gdf_students = df_students.groupby(['eff']).size()\n",
    "gdf_students.sort_index(ascending=True)[:20]"
   ]
  },
  {
   "cell_type": "code",
   "execution_count": 92,
   "id": "distant-norway",
   "metadata": {},
   "outputs": [
    {
     "data": {
      "text/plain": [
       "networkx.classes.graph.Graph"
      ]
     },
     "execution_count": 92,
     "metadata": {},
     "output_type": "execute_result"
    }
   ],
   "source": [
    "GU = nx.from_pandas_edgelist(df_liens_univ, 'orga_1', 'orga_2')\n",
    "type(GU)"
   ]
  },
  {
   "cell_type": "code",
   "execution_count": 93,
   "id": "missing-connectivity",
   "metadata": {},
   "outputs": [],
   "source": [
    "### CA DOIT être un multigraphe !"
   ]
  },
  {
   "cell_type": "code",
   "execution_count": 94,
   "id": "identical-payment",
   "metadata": {},
   "outputs": [
    {
     "data": {
      "text/plain": [
       "(False, False, 1462, 4812, False, 0.004505655946538875)"
      ]
     },
     "execution_count": 94,
     "metadata": {},
     "output_type": "execute_result"
    }
   ],
   "source": [
    "GU.is_multigraph(), GU.is_directed(), GU.number_of_nodes(), GU.number_of_edges(), nx.is_connected(GU), nx.density(GU)"
   ]
  },
  {
   "cell_type": "code",
   "execution_count": 95,
   "id": "durable-china",
   "metadata": {},
   "outputs": [
    {
     "data": {
      "text/plain": [
       "71"
      ]
     },
     "execution_count": 95,
     "metadata": {},
     "output_type": "execute_result"
    }
   ],
   "source": [
    "nx.number_connected_components(GU)"
   ]
  },
  {
   "cell_type": "code",
   "execution_count": 96,
   "id": "irish-passport",
   "metadata": {},
   "outputs": [
    {
     "name": "stdout",
     "output_type": "stream",
     "text": [
      "<class 'generator'>\n"
     ]
    },
    {
     "data": {
      "text/plain": [
       "eff\n",
       "1        3\n",
       "2       52\n",
       "3       12\n",
       "4        3\n",
       "1307     1\n",
       "dtype: int64"
      ]
     },
     "execution_count": 96,
     "metadata": {},
     "output_type": "execute_result"
    }
   ],
   "source": [
    "### Composantes du graphe\n",
    "# Une composante principale avec 1505 individus et de multiples petites composantes\n",
    "# https://networkx.org/documentation/stable/reference/algorithms/generated/networkx.algorithms.components.connected_components.html\n",
    "c_comp = nx.connected_components(GU)\n",
    "print(type(c_comp))\n",
    "## Length of generator as set of nodes = number of nodes\n",
    "df_c_comp = pd.DataFrame([len(c) for c in sorted(c_comp, key=len, reverse=True)], columns=['eff'])\n",
    "gs_c_comp = df_c_comp.groupby(['eff']).size()\n",
    "gs_c_comp.sort_index()"
   ]
  },
  {
   "cell_type": "code",
   "execution_count": 98,
   "id": "considerable-jacket",
   "metadata": {},
   "outputs": [],
   "source": [
    "#  https://networkx.org/documentation/stable/reference/algorithms/generated/networkx.algorithms.components.connected_components.html\n",
    "#  print([c for c in c_comp if len(c) == 4])\n",
    "S = [[len(c), GU.subgraph(c).copy()] for c in nx.connected_components(GU)]\n",
    "# type(S)"
   ]
  },
  {
   "cell_type": "code",
   "execution_count": 101,
   "id": "alive-surgery",
   "metadata": {},
   "outputs": [
    {
     "data": {
      "text/plain": [
       "[1307, <networkx.classes.graph.Graph at 0x15cf79610>]"
      ]
     },
     "execution_count": 101,
     "metadata": {},
     "output_type": "execute_result"
    }
   ],
   "source": [
    "S[0]"
   ]
  },
  {
   "cell_type": "code",
   "execution_count": null,
   "id": "framed-setting",
   "metadata": {},
   "outputs": [],
   "source": [
    "plt.figure(figsize=(15,7))\n",
    "pos = nx.kamada_kawai_layout(S[0][1])\n",
    "nx.draw_networkx(GU, pos, node_color = 'DarkBlue', font_color = 'CornflowerBlue',\\\n",
    "                 font_size=30, node_size=node_sizes, edge_color='LightGray' )\n",
    "nx.draw_networkx(S[0][1])\n"
   ]
  },
  {
   "cell_type": "code",
   "execution_count": null,
   "id": "southern-dairy",
   "metadata": {},
   "outputs": [],
   "source": [
    "fig = plt.figure(figsize=(200,100))\n",
    "pos = nx.kamada_kawai_layout(GU)\n",
    "nx.draw_networkx(GU, pos, node_color = 'DarkBlue', font_color = 'CornflowerBlue',\\\n",
    "                 font_size=30, node_size=node_sizes, edge_color='LightGray' )\n",
    "plt.savefig(\"graphs/GU.pdf\", format=\"pdf\")\n",
    "plt.show()"
   ]
  },
  {
   "cell_type": "code",
   "execution_count": 80,
   "id": "adopted-riding",
   "metadata": {},
   "outputs": [
    {
     "data": {
      "text/plain": [
       "0"
      ]
     },
     "execution_count": 80,
     "metadata": {},
     "output_type": "execute_result"
    }
   ],
   "source": [
    "au = [[s[0], s[1]] for s in GU  if s[0] == 4]\n",
    "len(au)\n",
    "#a"
   ]
  },
  {
   "cell_type": "code",
   "execution_count": null,
   "id": "dirty-andrews",
   "metadata": {},
   "outputs": [],
   "source": []
  },
  {
   "cell_type": "code",
   "execution_count": null,
   "id": "advised-government",
   "metadata": {},
   "outputs": [],
   "source": [
    "gg1307 = [[s[0], s[1]] for s in S  if s[0] == 1307]\n",
    "print(len(gg1307))\n",
    "len(gg)\n",
    "gg1307[1]"
   ]
  },
  {
   "cell_type": "code",
   "execution_count": 73,
   "id": "black-shareware",
   "metadata": {},
   "outputs": [
    {
     "data": {
      "text/plain": [
       "1"
      ]
     },
     "execution_count": 73,
     "metadata": {},
     "output_type": "execute_result"
    }
   ],
   "source": [
    "len(gg1307)"
   ]
  },
  {
   "cell_type": "code",
   "execution_count": 67,
   "id": "suspected-rebel",
   "metadata": {},
   "outputs": [
    {
     "data": {
      "text/plain": [
       "networkx.classes.graph.Graph"
      ]
     },
     "execution_count": 67,
     "metadata": {},
     "output_type": "execute_result"
    }
   ],
   "source": [
    "gg1307 = gg[0][1]\n",
    "type(gg1307)"
   ]
  },
  {
   "cell_type": "code",
   "execution_count": 71,
   "id": "opened-format",
   "metadata": {},
   "outputs": [],
   "source": [
    "gg1307 = [0][0]"
   ]
  },
  {
   "cell_type": "markdown",
   "id": "wooden-jones",
   "metadata": {},
   "source": [
    "### Centralité d'influence ou de pouvoir (_eigenvalue_)"
   ]
  },
  {
   "cell_type": "code",
   "execution_count": 41,
   "id": "cosmetic-montgomery",
   "metadata": {},
   "outputs": [],
   "source": [
    "### https://networkx.org/documentation/stable/reference/algorithms/generated/networkx.algorithms.centrality.eigenvector_centrality.html?highlight=eigenvector#networkx.algorithms.centrality.eigenvector_centrality\n",
    "# noter la référence biliographique dans la documentation de la fonction\n",
    "\n",
    "eigenvector = nx.eigenvector_centrality(g911)\n",
    "nx.set_node_attributes(g911, eigenvector, 'eigenvector')"
   ]
  },
  {
   "cell_type": "code",
   "execution_count": null,
   "id": "under-concord",
   "metadata": {},
   "outputs": [],
   "source": [
    "g911[0][1]"
   ]
  },
  {
   "cell_type": "markdown",
   "id": "loved-sapphire",
   "metadata": {},
   "source": [
    "## Résultat"
   ]
  },
  {
   "cell_type": "code",
   "execution_count": null,
   "id": "through-newton",
   "metadata": {},
   "outputs": [],
   "source": [
    "print(list(g911.nodes.data())[:5])"
   ]
  },
  {
   "cell_type": "code",
   "execution_count": null,
   "id": "internal-happening",
   "metadata": {},
   "outputs": [],
   "source": []
  },
  {
   "cell_type": "code",
   "execution_count": null,
   "id": "subsequent-drama",
   "metadata": {},
   "outputs": [],
   "source": []
  },
  {
   "cell_type": "code",
   "execution_count": null,
   "id": "labeled-height",
   "metadata": {},
   "outputs": [],
   "source": [
    "eigenvector"
   ]
  },
  {
   "cell_type": "code",
   "execution_count": null,
   "id": "delayed-bernard",
   "metadata": {},
   "outputs": [],
   "source": []
  },
  {
   "cell_type": "markdown",
   "id": "essential-cooling",
   "metadata": {},
   "source": [
    "## Exporter les attributs pour les explorer "
   ]
  },
  {
   "cell_type": "code",
   "execution_count": null,
   "id": "abstract-graduate",
   "metadata": {},
   "outputs": [],
   "source": [
    "### Exporter les attributs vers un DataFrame afin de les explorer\n",
    "export = pd.DataFrame(g542.nodes.data(), columns = ['id', 'attributes'])\n",
    "export"
   ]
  },
  {
   "cell_type": "code",
   "execution_count": null,
   "id": "palestinian-remedy",
   "metadata": {},
   "outputs": [],
   "source": [
    "### Décomposer le champs attributs en colonnes\n",
    "# https://stackoverflow.com/questions/38231591/split-explode-a-column-of-dictionaries-into-separate-columns-with-pandas\n",
    "pd.json_normalize(export.attributes)"
   ]
  },
  {
   "cell_type": "code",
   "execution_count": null,
   "id": "interim-sixth",
   "metadata": {},
   "outputs": [],
   "source": [
    "### appliquer au DataFrame et supprimer la colonne attributes\n",
    "# en même temps mettre le nom en index\n",
    "export = export.join(pd.json_normalize(export.attributes)).set_index('id')\n",
    "export.drop(columns=['attributes'], inplace=True)"
   ]
  },
  {
   "cell_type": "code",
   "execution_count": null,
   "id": "frank-lebanon",
   "metadata": {},
   "outputs": [],
   "source": [
    "export.loc[['Klaus_Schwab']]"
   ]
  },
  {
   "cell_type": "code",
   "execution_count": null,
   "id": "partial-student",
   "metadata": {},
   "outputs": [],
   "source": [
    "export['closeness'].describe()"
   ]
  },
  {
   "cell_type": "code",
   "execution_count": null,
   "id": "adjustable-township",
   "metadata": {
    "tags": []
   },
   "outputs": [],
   "source": [
    "export['betweenness'].describe()"
   ]
  },
  {
   "cell_type": "code",
   "execution_count": null,
   "id": "royal-facing",
   "metadata": {},
   "outputs": [],
   "source": [
    "export['eigenvector'].describe()"
   ]
  },
  {
   "cell_type": "code",
   "execution_count": null,
   "id": "invalid-immunology",
   "metadata": {},
   "outputs": [],
   "source": []
  },
  {
   "cell_type": "code",
   "execution_count": null,
   "id": "exceptional-russell",
   "metadata": {},
   "outputs": [],
   "source": []
  },
  {
   "cell_type": "code",
   "execution_count": null,
   "id": "unknown-stick",
   "metadata": {},
   "outputs": [],
   "source": []
  },
  {
   "cell_type": "code",
   "execution_count": null,
   "id": "impaired-canvas",
   "metadata": {},
   "outputs": [],
   "source": []
  },
  {
   "cell_type": "code",
   "execution_count": null,
   "id": "homeless-baseball",
   "metadata": {},
   "outputs": [],
   "source": []
  },
  {
   "cell_type": "code",
   "execution_count": null,
   "id": "electric-hundred",
   "metadata": {},
   "outputs": [],
   "source": []
  },
  {
   "cell_type": "code",
   "execution_count": null,
   "id": "southeast-retailer",
   "metadata": {},
   "outputs": [],
   "source": [
    "fig = plt.figure(figsize=(200,100))\n",
    "pos = nx.kamada_kawai_layout(GU)\n",
    "nx.draw_networkx(GU, pos, node_color = 'DarkBlue', font_color = 'CornflowerBlue',\\\n",
    "                 font_size=30, node_size=node_sizes, edge_color='LightGray' )\n",
    "plt.savefig(\"graphs/GU.pdf\", format=\"pdf\")\n",
    "plt.show()"
   ]
  },
  {
   "cell_type": "code",
   "execution_count": null,
   "id": "comparative-mexican",
   "metadata": {},
   "outputs": [],
   "source": []
  },
  {
   "cell_type": "code",
   "execution_count": null,
   "id": "stupid-pressing",
   "metadata": {},
   "outputs": [],
   "source": []
  },
  {
   "cell_type": "code",
   "execution_count": null,
   "id": "willing-helena",
   "metadata": {},
   "outputs": [],
   "source": [
    "influences_df[influences_df['person_1']=='Stati_Statev']"
   ]
  },
  {
   "cell_type": "code",
   "execution_count": null,
   "id": "veterinary-latest",
   "metadata": {},
   "outputs": [],
   "source": [
    "influences_df[influences_df['alma_mater']=='University_of_National_and_World_Economy']"
   ]
  },
  {
   "cell_type": "code",
   "execution_count": null,
   "id": "going-sheep",
   "metadata": {},
   "outputs": [],
   "source": [
    "a[0][1].nodes().data()"
   ]
  },
  {
   "cell_type": "code",
   "execution_count": null,
   "id": "endangered-knife",
   "metadata": {},
   "outputs": [],
   "source": [
    "list(G.nodes().data())[:3]"
   ]
  },
  {
   "cell_type": "code",
   "execution_count": null,
   "id": "federal-donna",
   "metadata": {},
   "outputs": [],
   "source": []
  },
  {
   "cell_type": "code",
   "execution_count": null,
   "id": "complex-exclusive",
   "metadata": {},
   "outputs": [],
   "source": []
  },
  {
   "cell_type": "code",
   "execution_count": null,
   "id": "induced-latex",
   "metadata": {},
   "outputs": [],
   "source": []
  },
  {
   "cell_type": "code",
   "execution_count": null,
   "id": "marked-cholesterol",
   "metadata": {},
   "outputs": [],
   "source": [
    "### La composante la plus grande\n",
    "max_c = [[s[0], s[1]] for s in S  if s[0] == max([s[0] for s in S])]\n",
    "max_c"
   ]
  },
  {
   "cell_type": "code",
   "execution_count": null,
   "id": "powered-malaysia",
   "metadata": {},
   "outputs": [],
   "source": [
    "plt.figure(figsize=(20,10))\n",
    "nx.draw_networkx(max_c[0][1])"
   ]
  },
  {
   "cell_type": "code",
   "execution_count": null,
   "id": "returning-state",
   "metadata": {},
   "outputs": [],
   "source": [
    "nx.number_strongly_connected_components(max_c[0][1])"
   ]
  },
  {
   "cell_type": "code",
   "execution_count": null,
   "id": "heated-survival",
   "metadata": {},
   "outputs": [],
   "source": []
  },
  {
   "cell_type": "code",
   "execution_count": null,
   "id": "golden-location",
   "metadata": {},
   "outputs": [],
   "source": [
    "[[a, a_dict.items()] for a, a_dict in G.adjacency()][:1]"
   ]
  },
  {
   "cell_type": "code",
   "execution_count": null,
   "id": "expanded-kansas",
   "metadata": {},
   "outputs": [],
   "source": [
    "G.adjacency()"
   ]
  },
  {
   "cell_type": "code",
   "execution_count": null,
   "id": "turned-gregory",
   "metadata": {},
   "outputs": [],
   "source": [
    "list(G.nodes)[:5]"
   ]
  },
  {
   "cell_type": "code",
   "execution_count": null,
   "id": "commercial-harrison",
   "metadata": {
    "scrolled": true,
    "tags": []
   },
   "outputs": [],
   "source": [
    "list(G.neighbors('Milton_Friedman'))"
   ]
  },
  {
   "cell_type": "code",
   "execution_count": null,
   "id": "bored-killer",
   "metadata": {},
   "outputs": [],
   "source": []
  },
  {
   "cell_type": "code",
   "execution_count": null,
   "id": "pacific-syndication",
   "metadata": {},
   "outputs": [],
   "source": [
    "type(G), type(DG)"
   ]
  },
  {
   "cell_type": "code",
   "execution_count": null,
   "id": "martial-plumbing",
   "metadata": {},
   "outputs": [],
   "source": [
    "# list(nx.bridges(G))"
   ]
  },
  {
   "cell_type": "code",
   "execution_count": null,
   "id": "senior-particular",
   "metadata": {},
   "outputs": [],
   "source": [
    "degrees = list(nx.degree(G))\n",
    "degrees[:3]"
   ]
  },
  {
   "cell_type": "code",
   "execution_count": null,
   "id": "developmental-edinburgh",
   "metadata": {
    "scrolled": true,
    "tags": []
   },
   "outputs": [],
   "source": [
    "df_degrees = pd.DataFrame(degrees, columns=['name', 'degree']).sort_values(by='degree', ascending=False)\n",
    "df_degrees.head(100)"
   ]
  },
  {
   "cell_type": "code",
   "execution_count": null,
   "id": "technological-subscription",
   "metadata": {
    "scrolled": true,
    "tags": []
   },
   "outputs": [],
   "source": [
    "gb_degrees = df_degrees.groupby(['degree']).size()\n",
    "gb_degrees.sort_index() # values(by='degree', ascending=False).head(30)"
   ]
  },
  {
   "cell_type": "code",
   "execution_count": null,
   "id": "retired-pattern",
   "metadata": {},
   "outputs": [],
   "source": [
    "### Distribution des naissances dans le temps. Pour mémoire : 2000 = sans année de naissance\n",
    "\n",
    "\n",
    "objects = [l for l in gb_degrees.index]\n",
    "eff = [l for l in gb_degrees]\n",
    "\n",
    "plt.figure(figsize=(15,7))\n",
    "plt.bar(objects, eff)"
   ]
  },
  {
   "cell_type": "code",
   "execution_count": null,
   "id": "brazilian-nickname",
   "metadata": {},
   "outputs": [],
   "source": [
    "sup4 = [dd[0] for dd in degrees if dd[1] > 4]\n",
    "len(sup4)"
   ]
  },
  {
   "cell_type": "code",
   "execution_count": null,
   "id": "stuck-assumption",
   "metadata": {},
   "outputs": [],
   "source": [
    "d_sup_1 = nx.restricted_view(G, [dd[0] for dd in degrees if dd[1]>1], [])\n",
    "type(d_sup_1)"
   ]
  },
  {
   "cell_type": "code",
   "execution_count": null,
   "id": "offensive-energy",
   "metadata": {},
   "outputs": [],
   "source": [
    "d_sup4 = nx.restricted_view(G, sup4, [])\n",
    "type(d_sup4)"
   ]
  },
  {
   "cell_type": "code",
   "execution_count": null,
   "id": "possible-bradley",
   "metadata": {},
   "outputs": [],
   "source": [
    "max_cli_sup4 = nx.make_max_clique_graph(d_sup4)"
   ]
  },
  {
   "cell_type": "code",
   "execution_count": null,
   "id": "functioning-colleague",
   "metadata": {},
   "outputs": [],
   "source": [
    "type(max_cli_sup4)"
   ]
  },
  {
   "cell_type": "code",
   "execution_count": null,
   "id": "entitled-south",
   "metadata": {},
   "outputs": [],
   "source": [
    "type(nx.k_core(d_sup4, 10))"
   ]
  },
  {
   "cell_type": "code",
   "execution_count": null,
   "id": "beginning-williams",
   "metadata": {},
   "outputs": [],
   "source": [
    "list(nx.core_number(d_sup4).items())[:3]"
   ]
  },
  {
   "cell_type": "code",
   "execution_count": null,
   "id": "banned-montana",
   "metadata": {},
   "outputs": [],
   "source": []
  },
  {
   "cell_type": "code",
   "execution_count": null,
   "id": "willing-preference",
   "metadata": {},
   "outputs": [],
   "source": [
    "kcg = nx.k_core(d_sup4)\n",
    "plt.figure(figsize=(40,20))\n",
    "nx.draw_networkx(kcg,pos=nx.spring_layout(kcg))"
   ]
  },
  {
   "cell_type": "code",
   "execution_count": null,
   "id": "charitable-harvard",
   "metadata": {},
   "outputs": [],
   "source": [
    "plt.figure(figsize=(40,20))\n",
    "nx.draw_networkx(max_cli_sup4,pos=nx.spring_layout(max_cli_sup4))"
   ]
  },
  {
   "cell_type": "code",
   "execution_count": null,
   "id": "indoor-prototype",
   "metadata": {},
   "outputs": [],
   "source": [
    "list(max_cli_sup4.adjacency())"
   ]
  },
  {
   "cell_type": "code",
   "execution_count": null,
   "id": "taken-killing",
   "metadata": {},
   "outputs": [],
   "source": []
  },
  {
   "cell_type": "code",
   "execution_count": null,
   "id": "incident-traveler",
   "metadata": {},
   "outputs": [],
   "source": []
  },
  {
   "cell_type": "code",
   "execution_count": null,
   "id": "weird-exercise",
   "metadata": {},
   "outputs": [],
   "source": []
  },
  {
   "cell_type": "code",
   "execution_count": null,
   "id": "ongoing-experience",
   "metadata": {},
   "outputs": [],
   "source": []
  },
  {
   "cell_type": "code",
   "execution_count": null,
   "id": "typical-windows",
   "metadata": {},
   "outputs": [],
   "source": [
    "plt.figure(figsize=(40,20))\n",
    "nx.draw_kamada_kawai(d_sup4)"
   ]
  },
  {
   "cell_type": "code",
   "execution_count": null,
   "id": "floppy-moldova",
   "metadata": {},
   "outputs": [],
   "source": []
  },
  {
   "cell_type": "code",
   "execution_count": null,
   "id": "wanted-behavior",
   "metadata": {},
   "outputs": [],
   "source": [
    "GG = d_sup_1\n",
    "pos = nx.spring_layout(GG)\n",
    "\n",
    "node_sizes = [i for i in range(len(GG))]\n",
    "M = GG.number_of_edges()\n",
    "edge_colors = range(2, M + 2)\n",
    "edge_alphas = [(5 + i) / (M + 4) for i in range(M)]\n",
    "cmap = plt.cm.plasma\n",
    "\n",
    "nodes = nx.draw_networkx_nodes(GG, pos, node_size=node_sizes, node_color=\"indigo\")\n",
    "edges = nx.draw_networkx_edges(\n",
    "    GG,\n",
    "    pos,\n",
    "    node_size=node_sizes,\n",
    "    arrowstyle=\"->\",\n",
    "    arrowsize=10,\n",
    "    edge_color=edge_colors,\n",
    "    edge_cmap=cmap,\n",
    "    width=2,\n",
    ")\n",
    "# set alpha value for each edge\n",
    "for i in range(M):\n",
    "    edges[i].set_alpha(edge_alphas[i])\n",
    "\n",
    "pc = mpl.collections.PatchCollection(edges, cmap=cmap)\n",
    "pc.set_array(edge_colors)\n",
    "plt.colorbar(pc)\n",
    "\n",
    "ax = plt.gca()\n",
    "ax.set_axis_off()\n",
    "plt.show()"
   ]
  },
  {
   "cell_type": "code",
   "execution_count": null,
   "id": "eastern-research",
   "metadata": {},
   "outputs": [],
   "source": []
  },
  {
   "cell_type": "code",
   "execution_count": null,
   "id": "portable-captain",
   "metadata": {},
   "outputs": [],
   "source": []
  },
  {
   "cell_type": "code",
   "execution_count": null,
   "id": "closing-bernard",
   "metadata": {
    "scrolled": true,
    "tags": []
   },
   "outputs": [],
   "source": [
    "\n",
    "\n",
    "plt.figure(figsize=(20,20))\n",
    "pos = graphviz_layout(d_sup_1)\n",
    "nx.draw_networkx_labels(d_sup_1, pos)"
   ]
  },
  {
   "cell_type": "code",
   "execution_count": null,
   "id": "checked-trailer",
   "metadata": {},
   "outputs": [],
   "source": [
    "nx.draw(G)"
   ]
  },
  {
   "cell_type": "code",
   "execution_count": null,
   "id": "handy-primary",
   "metadata": {},
   "outputs": [],
   "source": [
    "from networkx.drawing.nx_agraph import graphviz_layout\n",
    "pos = graphviz_layout(G)\n",
    "plt.axis('off')\n",
    "nx.draw_networkx_nodes(G,pos,node_color='g',alpha = 0.8)  # draws nodes\n",
    "nx.draw_networkx_edges(G,pos,edge_color='b',alpha = 0.6)  # draws edges\n",
    "nx.draw_networkx_edge_labels(G,pos,edge_labels = nx.get_edge_attributes(G,'weight')) # edge lables\n",
    "nx.draw_networkx_labels(G,pos) # node lables"
   ]
  },
  {
   "cell_type": "code",
   "execution_count": null,
   "id": "brilliant-singer",
   "metadata": {},
   "outputs": [],
   "source": []
  },
  {
   "cell_type": "code",
   "execution_count": null,
   "id": "thick-punch",
   "metadata": {},
   "outputs": [],
   "source": []
  },
  {
   "cell_type": "markdown",
   "id": "flying-onion",
   "metadata": {},
   "source": [
    "## Relations d'influence\n",
    "\n",
    "\n",
    "Préparation des données (cf. le carnet dbpedia_production):\n"
   ]
  },
  {
   "cell_type": "markdown",
   "id": "rocky-fluid",
   "metadata": {},
   "source": [
    "### Requêtes préliminaires\n",
    "\n",
    "* Requêtes d'exploration dans la base de données:\n",
    "\n",
    "<code>\n",
    "-- nombre de personnes qui influencent : 906\n",
    "WITH tw1 AS (SELECT DISTINCT uri_entity FROM property p WHERE p.property LIKE '%influenced%')\n",
    "SELECT count(*) FROM tw1;\n",
    "\n",
    "-- nombre de personnes influencées : 1173\n",
    "WITH tw1 AS (SELECT DISTINCT value FROM property p WHERE p.property LIKE '%influenced%')\n",
    "SELECT count(*) FROM tw1;\n",
    "\n",
    "-- nombre total de personnes dans le réseau : 1717\n",
    "WITH tw1 AS (\n",
    "SELECT DISTINCT uri_entity FROM property p WHERE p.property LIKE '%influenced%'\n",
    "UNION \n",
    "SELECT DISTINCT value as uri_entity FROM property p WHERE p.property LIKE '%influenced%')\n",
    "SELECT COUNT(*) FROM tw1;\n",
    "\n",
    "\n",
    "-- economistes (entités déjà disponibles) dans le réseau : 933\n",
    "-- personnes non encore connues: 784\n",
    "WITH tw1 AS (\n",
    "SELECT DISTINCT uri_entity FROM property p WHERE p.property LIKE '%influenced%'\n",
    "UNION \n",
    "SELECT DISTINCT value as uri_entity FROM property p WHERE p.property LIKE '%influenced%')\n",
    "SELECT COUNT(*) FROM tw1 LEFT JOIN entity e ON tw1.uri_entity = e.uri_entity AND e.entity_class LIKE '%Person%'\n",
    "WHERE e.uri_entity IS NULL;\n",
    "\n",
    "</code>\n"
   ]
  },
  {
   "cell_type": "code",
   "execution_count": null,
   "id": "pregnant-repeat",
   "metadata": {},
   "outputs": [],
   "source": [
    "### Définir les adresses des fichiers, l'existant et celui à créer\n",
    "db = 'data/sparql_queries.db'"
   ]
  },
  {
   "cell_type": "code",
   "execution_count": null,
   "id": "hollywood-keyboard",
   "metadata": {},
   "outputs": [],
   "source": [
    "### Vérifier si tous les lieux on un type\n",
    "influence =\"\"\"\n",
    "SELECT REPLACE(p.uri_entity, 'http://dbpedia.org/resource/', '') influencer, REPLACE(p.value, 'http://dbpedia.org/resource/', '') influenced  \n",
    "FROM property p WHERE p.property LIKE '%influenced%'\n",
    "AND p.uri_entity != p.value;\n",
    "\"\"\""
   ]
  },
  {
   "cell_type": "code",
   "execution_count": null,
   "id": "statistical-floating",
   "metadata": {
    "scrolled": true,
    "tags": []
   },
   "outputs": [],
   "source": [
    "# connnexion à la base de données\n",
    "cn = sql.connect(db)\n",
    "c = cn.cursor()\n",
    "\n",
    "### exécuter la requëte sur la base de donées SQLite pour récupérer les valeurs que contient la ligne\n",
    "c.execute(influence)\n",
    "result_q = []\n",
    "result_q = c.fetchall()\n",
    "\n",
    "# fermer la connexion\n",
    "cn.close()\n",
    "print(len(result_q))\n",
    "result_q[:4]"
   ]
  },
  {
   "cell_type": "code",
   "execution_count": null,
   "id": "solar-concrete",
   "metadata": {},
   "outputs": [],
   "source": [
    "#DiGraph : directed graph\n",
    "DG = nx.DiGraph()\n",
    "DG.add_edges_from(result_q, color='blue')\n",
    "type(DG)"
   ]
  },
  {
   "cell_type": "code",
   "execution_count": null,
   "id": "advisory-appearance",
   "metadata": {},
   "outputs": [],
   "source": [
    "DG.size()"
   ]
  },
  {
   "cell_type": "code",
   "execution_count": null,
   "id": "adjusted-specialist",
   "metadata": {
    "tags": []
   },
   "outputs": [],
   "source": [
    "### Propriétés du graphe\n",
    "DG.is_multigraph(), DG.is_directed(), DG.number_of_nodes(), DG.number_of_edges(), \\\n",
    "nx.density(DG), nx.is_strongly_connected(DG), nx.is_weakly_connected(DG)"
   ]
  },
  {
   "cell_type": "code",
   "execution_count": null,
   "id": "aggressive-harmony",
   "metadata": {},
   "outputs": [],
   "source": [
    "nx.number_strongly_connected_components(DG), nx.number_weakly_connected_components(DG)"
   ]
  },
  {
   "cell_type": "code",
   "execution_count": null,
   "id": "protective-compromise",
   "metadata": {},
   "outputs": [],
   "source": [
    "### Composantes du graphe (weakly connected = indirected)\n",
    "# Une composante principale avec 1505 individus et de multiples petites composantes\n",
    "# https://networkx.org/documentation/stable/reference/algorithms/generated/networkx.algorithms.components.connected_components.html\n",
    "wc_comp = nx.weakly_connected_components(DG)\n",
    "print(type(wc_comp))\n",
    "## Length of generator as set of nodes = number of nodes\n",
    "df_wc_comp = pd.DataFrame([len(c) for c in sorted(wc_comp, key=len, reverse=True)], columns=['eff'])\n",
    "gs_wc_comp = df_wc_comp.groupby(['eff']).size()\n",
    "gs_wc_comp.sort_index()"
   ]
  },
  {
   "cell_type": "code",
   "execution_count": null,
   "id": "coupled-interval",
   "metadata": {},
   "outputs": [],
   "source": [
    "### Composantes du graphe (strongly connected = directed)\n",
    "# Une composante principale avec 1505 individus et de multiples petites composantes\n",
    "# https://networkx.org/documentation/stable/reference/algorithms/generated/networkx.algorithms.components.connected_components.html\n",
    "sc_comp = nx.strongly_connected_components_recursive(DG)\n",
    "print(type(c_comp))\n",
    "## Length of generator as set of nodes = number of nodes\n",
    "df_sc_comp = pd.DataFrame([len(c) for c in sorted(sc_comp, key=len, reverse=True)], columns=['eff'])\n",
    "gs_sc_comp = df_c_comp.groupby(['eff']).size()\n",
    "gs_sc_comp.sort_index()"
   ]
  },
  {
   "cell_type": "code",
   "execution_count": null,
   "id": "provincial-oracle",
   "metadata": {},
   "outputs": [],
   "source": [
    "#  https://networkx.org/documentation/stable/reference/algorithms/generated/networkx.algorithms.components.connected_components.html\n",
    "S = [[len(c), DG.subgraph(c).copy()] for c in nx.weakly_connected_components(DG)]\n",
    "len(S)"
   ]
  },
  {
   "cell_type": "code",
   "execution_count": null,
   "id": "cooperative-cassette",
   "metadata": {
    "tags": []
   },
   "outputs": [],
   "source": [
    "adg = [[s[0], s[1]] for s in S  if s[0] == 11]\n",
    "adg"
   ]
  },
  {
   "cell_type": "code",
   "execution_count": null,
   "id": "standing-sessions",
   "metadata": {},
   "outputs": [],
   "source": [
    "## https://networkx.org/documentation/stable/reference/drawing.html\n",
    "plt.figure(figsize=(15,7))\n",
    "\n",
    "pos = nx.shell_layout(adg[0][1])\n",
    "#pos = nx.kamada_kawai_layout(a[0][1])\n",
    "\n",
    "## Attention pas plus d'une cinquantaine de noeuds\n",
    "nx.draw_networkx(adg[0][1], pos)"
   ]
  },
  {
   "cell_type": "code",
   "execution_count": null,
   "id": "burning-project",
   "metadata": {},
   "outputs": [],
   "source": [
    "be_ce = nx.betweenness_centrality(DG)"
   ]
  },
  {
   "cell_type": "code",
   "execution_count": null,
   "id": "revolutionary-gallery",
   "metadata": {},
   "outputs": [],
   "source": [
    "df_be_ce = pd.DataFrame(list(be_ce.items()), columns=['name', 'be_ce'])\n",
    "df_be_ce.head(30)"
   ]
  },
  {
   "cell_type": "code",
   "execution_count": null,
   "id": "mysterious-resort",
   "metadata": {},
   "outputs": [],
   "source": [
    "df_be_ce['be_ce'].sort_values(ascending=False)"
   ]
  },
  {
   "cell_type": "code",
   "execution_count": null,
   "id": "cardiac-noise",
   "metadata": {},
   "outputs": [],
   "source": [
    "l_de_ce = list(de_ce.items())"
   ]
  },
  {
   "cell_type": "code",
   "execution_count": null,
   "id": "improving-agriculture",
   "metadata": {},
   "outputs": [],
   "source": [
    "[[l[0],l[1]*1000] for l in l_de_ce][:3]"
   ]
  },
  {
   "cell_type": "code",
   "execution_count": null,
   "id": "dedicated-ultimate",
   "metadata": {},
   "outputs": [],
   "source": [
    "dfn = pd.DataFrame([[l[0],l[1]*1000] for l in l_de_ce], columns=['name', 'be_ce'])\n",
    "dfn.head()"
   ]
  },
  {
   "cell_type": "code",
   "execution_count": null,
   "id": "diagnostic-charm",
   "metadata": {},
   "outputs": [],
   "source": [
    "dfn.sort_values(by = ['be_ce'], ascending=False).head(10)\n"
   ]
  },
  {
   "cell_type": "code",
   "execution_count": null,
   "id": "satellite-dimension",
   "metadata": {},
   "outputs": [],
   "source": []
  },
  {
   "cell_type": "code",
   "execution_count": null,
   "id": "latin-squad",
   "metadata": {},
   "outputs": [],
   "source": [
    "cl_ce = nx.closeness_centrality(DG)"
   ]
  },
  {
   "cell_type": "code",
   "execution_count": null,
   "id": "classical-system",
   "metadata": {},
   "outputs": [],
   "source": [
    "df_cl_ce = pd.DataFrame(list(cl_ce.items()), columns=['name', 'cl_ce'])\n",
    "df_cl_ce.head(10)"
   ]
  },
  {
   "cell_type": "code",
   "execution_count": null,
   "id": "warming-insulin",
   "metadata": {},
   "outputs": [],
   "source": [
    "df_cl_ce['cl_ce'].sort_values(ascending=False)"
   ]
  },
  {
   "cell_type": "code",
   "execution_count": null,
   "id": "hired-replica",
   "metadata": {},
   "outputs": [],
   "source": [
    "l_cl_ce = list(cl_ce.items())"
   ]
  },
  {
   "cell_type": "code",
   "execution_count": null,
   "id": "drawn-button",
   "metadata": {},
   "outputs": [],
   "source": [
    "[[l[0],l[1]*1000] for l in l_cl_ce][:3]"
   ]
  },
  {
   "cell_type": "code",
   "execution_count": null,
   "id": "opening-botswana",
   "metadata": {},
   "outputs": [],
   "source": [
    "dfn = pd.DataFrame([[l[0],l[1]*1000] for l in l_de_ce], columns=['name', 'be_ce'])\n",
    "dfn.head()"
   ]
  },
  {
   "cell_type": "code",
   "execution_count": null,
   "id": "ongoing-commitment",
   "metadata": {},
   "outputs": [],
   "source": [
    "dfn.sort_values(by = ['be_ce'], ascending=False).head(30)\n"
   ]
  },
  {
   "cell_type": "code",
   "execution_count": null,
   "id": "excessive-orchestra",
   "metadata": {},
   "outputs": [],
   "source": []
  },
  {
   "cell_type": "code",
   "execution_count": null,
   "id": "scientific-joint",
   "metadata": {},
   "outputs": [],
   "source": [
    "max([l[1] for l in l_de_ce][:3])"
   ]
  },
  {
   "cell_type": "code",
   "execution_count": null,
   "id": "changing-thanksgiving",
   "metadata": {},
   "outputs": [],
   "source": [
    "min([l[1] for l in l_de_ce]), max([l[1] for l in l_de_ce])"
   ]
  },
  {
   "cell_type": "code",
   "execution_count": null,
   "id": "legendary-slide",
   "metadata": {},
   "outputs": [],
   "source": [
    "print(max([l[1] for l in l_de_ce][50:60]))\n",
    "ll = l_de_ce[50:60]\n",
    "ll"
   ]
  },
  {
   "cell_type": "code",
   "execution_count": null,
   "id": "fixed-density",
   "metadata": {},
   "outputs": [],
   "source": [
    "ll = [l[1] for l in l_de_ce[50:60]]\n",
    "type(ll), len(ll)"
   ]
  },
  {
   "cell_type": "code",
   "execution_count": null,
   "id": "vocational-thread",
   "metadata": {},
   "outputs": [],
   "source": [
    "#  https://networkx.org/documentation/stable/reference/algorithms/generated/networkx.algorithms.components.connected_components.html\n",
    "SC = [[len(c), DG.subgraph(c).copy()] for c in nx.strongly_connected_components(DG)]\n",
    "len(SC)"
   ]
  },
  {
   "cell_type": "code",
   "execution_count": null,
   "id": "parallel-kinase",
   "metadata": {
    "tags": []
   },
   "outputs": [],
   "source": [
    "sadg = [[s[0], s[1]] for s in SC  if s[0] == 3]\n",
    "sadg"
   ]
  },
  {
   "cell_type": "code",
   "execution_count": null,
   "id": "legislative-aspect",
   "metadata": {},
   "outputs": [],
   "source": [
    "## https://networkx.org/documentation/stable/reference/drawing.html\n",
    "plt.figure(figsize=(15,7))\n",
    "\n",
    "pos = nx.shell_layout(sadg[0][1])\n",
    "#pos = nx.kamada_kawai_layout(a[0][1])\n",
    "\n",
    "## Attention pas plus d'une cinquantaine de noeuds\n",
    "nx.draw_networkx(sadg[0][1], pos)"
   ]
  },
  {
   "cell_type": "markdown",
   "id": "treated-milton",
   "metadata": {},
   "source": [
    "## Shortest path"
   ]
  },
  {
   "cell_type": "code",
   "execution_count": null,
   "id": "racial-archives",
   "metadata": {},
   "outputs": [],
   "source": [
    "sp = dict(nx.all_pairs_shortest_path(DG)) # , cutoff=10\n",
    "len(sp)"
   ]
  },
  {
   "cell_type": "code",
   "execution_count": null,
   "id": "human-blade",
   "metadata": {
    "scrolled": true,
    "tags": []
   },
   "outputs": [],
   "source": [
    "list(sp.items())[3:5]"
   ]
  },
  {
   "cell_type": "code",
   "execution_count": null,
   "id": "sonic-artist",
   "metadata": {},
   "outputs": [],
   "source": [
    "test_l = list(sp.items())[3:5]"
   ]
  },
  {
   "cell_type": "code",
   "execution_count": null,
   "id": "applied-primary",
   "metadata": {},
   "outputs": [],
   "source": [
    "all_items = list(sp.items())\n",
    "all_paths = []\n",
    "for i in all_items: # test_l:\n",
    "    for k,v in i[1].items():\n",
    "        if i[0] != k and len(v) > 2:\n",
    "            all_paths.append([i[0], k, len(v), v])\n",
    "\n",
    "print(all_paths[:3])"
   ]
  },
  {
   "cell_type": "code",
   "execution_count": null,
   "id": "satisfactory-glucose",
   "metadata": {},
   "outputs": [],
   "source": [
    "df_all_paths = pd.DataFrame(all_paths, columns = ['tail', 'head', 'len_path', 'list_path'])\n",
    "df_all_paths.head()"
   ]
  },
  {
   "cell_type": "code",
   "execution_count": null,
   "id": "copyrighted-prague",
   "metadata": {},
   "outputs": [],
   "source": [
    "distrib_len_path = df_all_paths.groupby('len_path').size()\n",
    "distrib_len_path"
   ]
  },
  {
   "cell_type": "code",
   "execution_count": null,
   "id": "lined-report",
   "metadata": {},
   "outputs": [],
   "source": [
    "df_all_paths[df_all_paths['len_path'].isin([12])]"
   ]
  },
  {
   "cell_type": "code",
   "execution_count": null,
   "id": "adaptive-master",
   "metadata": {},
   "outputs": [],
   "source": [
    "df_all_paths[df_all_paths['len_path'].isin([12,11,10,9,8])]['list_path']"
   ]
  },
  {
   "cell_type": "code",
   "execution_count": null,
   "id": "surprising-relations",
   "metadata": {},
   "outputs": [],
   "source": [
    "long_paths_nodes = []\n",
    "[long_paths_nodes.extend(p) for p in df_all_paths[df_all_paths['len_path'].isin([12,11])]['list_path']] # ,10,9,8\n",
    "len(list(set(long_paths_nodes)))"
   ]
  },
  {
   "cell_type": "code",
   "execution_count": null,
   "id": "brutal-modification",
   "metadata": {
    "tags": []
   },
   "outputs": [],
   "source": [
    "long_paths_nodes[:3]"
   ]
  },
  {
   "cell_type": "markdown",
   "id": "reserved-ireland",
   "metadata": {},
   "source": [
    "## Créer nouveau graphe"
   ]
  },
  {
   "cell_type": "code",
   "execution_count": null,
   "id": "abandoned-penetration",
   "metadata": {},
   "outputs": [],
   "source": [
    "LPN = DG.subgraph(long_paths_nodes).copy()\n",
    "type(LPN)"
   ]
  },
  {
   "cell_type": "code",
   "execution_count": null,
   "id": "plain-still",
   "metadata": {
    "tags": []
   },
   "outputs": [],
   "source": [
    "### Propriétés du graphe\n",
    "LPN.is_multigraph(), LPN.is_directed(), LPN.number_of_nodes(), LPN.number_of_edges(), \\\n",
    "nx.density(LPN), nx.is_strongly_connected(LPN), nx.is_weakly_connected(LPN)"
   ]
  },
  {
   "cell_type": "code",
   "execution_count": null,
   "id": "photographic-quest",
   "metadata": {},
   "outputs": [],
   "source": [
    "nx.number_strongly_connected_components(LPN), nx.number_weakly_connected_components(LPN)"
   ]
  },
  {
   "cell_type": "code",
   "execution_count": null,
   "id": "stable-squad",
   "metadata": {},
   "outputs": [],
   "source": [
    "## https://networkx.org/documentation/stable/reference/drawing.html\n",
    "plt.figure(figsize=(50,100))\n",
    "\n",
    "ax = plt.subplot(111)\n",
    "ax.set_title('Graph - PLT', fontsize=10)\n",
    "\n",
    "\n",
    "\n",
    "\n",
    "# pos = nx.spiral_layout(LPN)\n",
    "pos = nx.kamada_kawai_layout(LPN)\n",
    "# pos = nx.kamada_kawai_layout(LPN)\n",
    "\n",
    "## Attention pas plus d'une cinquantaine de noeuds\n",
    "nx.draw_networkx(LPN, pos)\n",
    "plt.tight_layout()\n",
    "plt.savefig(\"graphs/LPN.png\", format=\"PNG\")\n",
    "plt.show()"
   ]
  },
  {
   "cell_type": "code",
   "execution_count": null,
   "id": "prospective-weather",
   "metadata": {},
   "outputs": [],
   "source": []
  },
  {
   "cell_type": "code",
   "execution_count": null,
   "id": "worthy-fellow",
   "metadata": {},
   "outputs": [],
   "source": [
    "directed = ipycytoscape.CytoscapeWidget()\n",
    "directed.graph.add_graph_from_networkx(LPN, directed=True)  # LPN\n",
    "directed"
   ]
  },
  {
   "cell_type": "code",
   "execution_count": null,
   "id": "conditional-native",
   "metadata": {},
   "outputs": [],
   "source": [
    "nx.write_pajek(DG, \"graphs/DG.net\")"
   ]
  },
  {
   "cell_type": "code",
   "execution_count": null,
   "id": "endless-tracy",
   "metadata": {},
   "outputs": [],
   "source": [
    "nx.write_pajek(LPN, \"graphs/LPN.net\")"
   ]
  },
  {
   "cell_type": "code",
   "execution_count": null,
   "id": "contrary-duncan",
   "metadata": {},
   "outputs": [],
   "source": []
  }
 ],
 "metadata": {
  "kernelspec": {
   "display_name": "Py 3.7 HN sparql",
   "language": "python",
   "name": "py37_hn_sparql"
  },
  "language_info": {
   "codemirror_mode": {
    "name": "ipython",
    "version": 3
   },
   "file_extension": ".py",
   "mimetype": "text/x-python",
   "name": "python",
   "nbconvert_exporter": "python",
   "pygments_lexer": "ipython3",
   "version": "3.7.10"
  },
  "toc-autonumbering": false
 },
 "nbformat": 4,
 "nbformat_minor": 5
}
