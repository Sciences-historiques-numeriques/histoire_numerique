{
 "cells": [
  {
   "cell_type": "markdown",
   "id": "basic-upper",
   "metadata": {},
   "source": [
    "# Analyse de réseaux : les économistes de DBPedia\n",
    "\n"
   ]
  },
  {
   "cell_type": "code",
   "execution_count": null,
   "id": "infinite-binding",
   "metadata": {},
   "outputs": [],
   "source": []
  },
  {
   "cell_type": "code",
   "execution_count": null,
   "id": "modular-quarter",
   "metadata": {},
   "outputs": [],
   "source": [
    "import pandas as pd\n",
    "import matplotlib.pyplot as plt\n",
    "import numpy as np\n",
    "import networkx as nx"
   ]
  },
  {
   "cell_type": "code",
   "execution_count": null,
   "id": "worth-trustee",
   "metadata": {},
   "outputs": [],
   "source": [
    "###  Installation du widget jupyter en plus de la librairie\n",
    "# jupyter labextension install @jupyter-widgets/jupyterlab-manager jupyter-cytoscape\n",
    "import ipycytoscape as cy"
   ]
  },
  {
   "cell_type": "code",
   "execution_count": null,
   "id": "everyday-editing",
   "metadata": {},
   "outputs": [],
   "source": [
    "import pprint\n",
    "import csv\n",
    "import ast\n",
    "import re\n",
    "\n",
    "from collections import Counter, defaultdict\n",
    "from operator import itemgetter\n",
    "\n",
    "import sqlite3 as sql\n",
    "import time\n",
    "\n",
    "from importlib import reload\n",
    "from shutil import copyfile\n",
    "\n",
    "import math"
   ]
  },
  {
   "cell_type": "markdown",
   "id": "moving-syndrome",
   "metadata": {},
   "source": [
    "## Base de données"
   ]
  },
  {
   "cell_type": "code",
   "execution_count": null,
   "id": "unable-brunswick",
   "metadata": {},
   "outputs": [],
   "source": [
    "### Définir les adresses des fichiers, l'existant et celui à créer\n",
    "db = 'data/sparql_queries.db'"
   ]
  },
  {
   "cell_type": "code",
   "execution_count": null,
   "id": "virgin-applicant",
   "metadata": {},
   "outputs": [],
   "source": [
    "### Fonction qui récupère et met en forme le temps au moment de l'exécution\n",
    "\n",
    "# définition\n",
    "def timestamp_formatted_for_file_name():\n",
    "    is_now = time.strftime('%Y%m%d_%H%M%S')\n",
    "    return is_now\n",
    "\n",
    "# exécution\n",
    "timestamp_formatted_for_file_name()"
   ]
  },
  {
   "cell_type": "code",
   "execution_count": null,
   "id": "included-intellectual",
   "metadata": {},
   "outputs": [],
   "source": [
    "##  Noter que la différence de suffixe, en soi totalement arbitraire, \n",
    "#  dépend du fait que dans la configuration de .gitignore, .sqlite est exclu du verisonnement GIT\n",
    "#  contrairement à .db qui est versionné\n",
    "timestamped_db_copy = 'data/sparql_queries_' + timestamp_formatted_for_file_name() + '.sqlite'"
   ]
  },
  {
   "cell_type": "code",
   "execution_count": null,
   "id": "realistic-rwanda",
   "metadata": {},
   "outputs": [],
   "source": [
    "### Créer une copie de sauvegarde avec timestamp du fichier (versionnement manuel)\n",
    "# ATTENTION : la base de données doit exister à l'endroit indiqué !\n",
    "## Cette requête n'est utile que si des modifications en écriture vont être apportées à la base de données,\n",
    "# afint de préserver le dernier état avant modification\n",
    "\n",
    "## Documentation:\n",
    "# https://docs.python.org/3/library/shutil.htmlcopied_db = copyfile(original_db, timestamped_db_copy)\n",
    "\n",
    "copied_db = copyfile(db, timestamped_db_copy)\n",
    "copied_db"
   ]
  },
  {
   "cell_type": "code",
   "execution_count": null,
   "id": "available-transsexual",
   "metadata": {},
   "outputs": [],
   "source": []
  },
  {
   "cell_type": "markdown",
   "id": "attractive-tract",
   "metadata": {},
   "source": [
    "## Relations pendant les études\n",
    "\n",
    "Personnes ayant étudié dans la même université dans une fourchette de 12 ans : on émet l'hypothèse que ils/elles ont virtuellement pu nouer des relations qui peuvent influences les parcours et choix ultérieurs grâce à des contacts prolongés avec d'anciens camarades d'études"
   ]
  },
  {
   "cell_type": "code",
   "execution_count": null,
   "id": "natural-louis",
   "metadata": {},
   "outputs": [],
   "source": [
    "### \n",
    "#  On part de la date de naissance et on postule un croisement entre une et plusieurs années\n",
    "# en admettant que l'âge des études soit approximativement le même\n",
    "\n",
    "etudes_meme_uni = \"\"\"\n",
    "SELECT REPLACE(p.uri_entity , 'http://dbpedia.org/resource/', '') person_1,\n",
    "REPLACE(p1.uri_entity , 'http://dbpedia.org/resource/', '') person_2,\n",
    "REPLACE(p.value, 'http://dbpedia.org/resource/', '') alma_mater,\n",
    "p2.value birth_year_1,\n",
    "p3.value birth_year_2,\n",
    "p4.value long,\n",
    "p5.value lat\n",
    "FROM property p\n",
    "  JOIN property p1 ON p1.value = p.value AND p1.pk_property > p.pk_property AND p1.property LIKE '%almaMater'\n",
    "  JOIN property p2 ON p2.uri_entity = p.uri_entity AND p2.property LIKE '%irthYe%' AND p2.\"source\" LIKE '%8 mai 2021%'\n",
    "  JOIN property p3 ON p3.uri_entity = p1.uri_entity AND p3.property LIKE '%irthYe%' AND p3.\"source\" LIKE '%8 mai 2021%'\n",
    "  LEFT JOIN property p4 ON\n",
    "\tp4.uri_entity = p1.value\n",
    "\tAND p4.property LIKE '%long'\n",
    "LEFT JOIN property p5 ON\n",
    "\tp5.uri_entity = p1.value\n",
    "\tAND p5.property LIKE '%lat'\n",
    "WHERE  p.property LIKE '%almaMater'\n",
    "AND p3.value BETWEEN (p2.value - 6) AND (p2.value + 6);\n",
    "\"\"\""
   ]
  },
  {
   "cell_type": "code",
   "execution_count": null,
   "id": "beginning-perception",
   "metadata": {},
   "outputs": [],
   "source": [
    "### Undirected version of the same graph produced using Pandas\n",
    "cn = sql.connect(db)\n",
    "same_univ = pd.read_sql_query(etudes_meme_uni, cn)\n",
    "cn.close()\n",
    "same_univ.head()"
   ]
  },
  {
   "cell_type": "code",
   "execution_count": null,
   "id": "taken-basin",
   "metadata": {
    "scrolled": true,
    "tags": []
   },
   "outputs": [],
   "source": [
    "universities = same_univ.groupby(['alma_mater']).size()\n",
    "print(len(universities))\n",
    "list(universities.sort_values(ascending=False).items())[:100] #[10:20]"
   ]
  },
  {
   "cell_type": "code",
   "execution_count": null,
   "id": "chinese-spider",
   "metadata": {},
   "outputs": [],
   "source": [
    "G = nx.from_pandas_edgelist(same_univ, 'person_1', 'person_2', edge_attr='alma_mater')\n",
    "print(nx.info(G))"
   ]
  },
  {
   "cell_type": "code",
   "execution_count": null,
   "id": "awful-desktop",
   "metadata": {},
   "outputs": [],
   "source": [
    "G.is_multigraph(), G.is_directed(), G.number_of_nodes(), G.number_of_edges(), nx.is_connected(G), nx.density(G)"
   ]
  },
  {
   "cell_type": "code",
   "execution_count": null,
   "id": "hollywood-renaissance",
   "metadata": {},
   "outputs": [],
   "source": [
    "nx.number_connected_components(G)"
   ]
  },
  {
   "cell_type": "code",
   "execution_count": null,
   "id": "blind-commander",
   "metadata": {},
   "outputs": [],
   "source": [
    "## Centralité et dispersion du degré\n",
    "df_degree = pd.DataFrame(list(nx.degree(G)), columns = ['person', 'degree'])\n",
    "df_degree.head()\n",
    "df_degree.set_index('person',inplace=True)\n",
    "df_degree.head()"
   ]
  },
  {
   "cell_type": "code",
   "execution_count": null,
   "id": "nearby-backing",
   "metadata": {},
   "outputs": [],
   "source": [
    "df_degree['degree'].describe()"
   ]
  },
  {
   "cell_type": "code",
   "execution_count": null,
   "id": "ethical-tourist",
   "metadata": {},
   "outputs": [],
   "source": [
    "gr_degree = df_degree.groupby(['degree']).size()\n",
    "gr_degree.sort_index()"
   ]
  },
  {
   "cell_type": "code",
   "execution_count": null,
   "id": "joined-substance",
   "metadata": {},
   "outputs": [],
   "source": [
    "### Distribution des naissances dans le temps. Pour mémoire : 2000 = sans année de naissance\n",
    "\n",
    "\n",
    "gr_degree = df_degree.groupby(['degree']).size()\n",
    "\n",
    "\n",
    "objects = [l for l in gr_degree.index]\n",
    "eff = [l for l in gr_degree]\n",
    "\n",
    "print(objects[:5])\n",
    "plt.figure(figsize=(15,7))\n",
    "plt.bar(objects, eff)"
   ]
  },
  {
   "cell_type": "code",
   "execution_count": null,
   "id": "norwegian-generation",
   "metadata": {},
   "outputs": [],
   "source": [
    "df_degree[df_degree['degree'] > 80]"
   ]
  },
  {
   "cell_type": "code",
   "execution_count": null,
   "id": "latter-aquatic",
   "metadata": {},
   "outputs": [],
   "source": [
    "nx.number_connected_components(G)"
   ]
  },
  {
   "cell_type": "code",
   "execution_count": null,
   "id": "julian-cover",
   "metadata": {},
   "outputs": [],
   "source": [
    "### Composantes du graphe\n",
    "# Une composante principale avec 1402 individus et de multiples petites composantes\n",
    "# https://networkx.org/documentation/stable/reference/algorithms/generated/networkx.algorithms.components.connected_components.html\n",
    "c_comp = nx.connected_components(G)\n",
    "print(type(c_comp))\n",
    "## Length of generator as set of nodes = number of nodes\n",
    "df_c_comp = pd.DataFrame([len(c) for c in sorted(c_comp, key=len, reverse=True)], columns=['eff'])\n",
    "gs_c_comp = df_c_comp.groupby(['eff']).size()\n",
    "gs_c_comp.sort_index()"
   ]
  },
  {
   "cell_type": "code",
   "execution_count": null,
   "id": "instructional-debut",
   "metadata": {
    "tags": []
   },
   "outputs": [],
   "source": [
    "### Créer les sous-graphes correspondant aux composantes\n",
    "#  https://networkx.org/documentation/stable/reference/algorithms/generated/networkx.algorithms.components.connected_components.html\n",
    "S = [[len(c), G.subgraph(c).copy()] for c in nx.connected_components(G)]\n",
    "# type(S)"
   ]
  },
  {
   "cell_type": "code",
   "execution_count": null,
   "id": "distant-manner",
   "metadata": {},
   "outputs": [],
   "source": [
    "### Choisir la/les composante(s) à 9 noeuds \n",
    "a = [[s[0], s[1]] for s in S  if s[0] == 8]\n",
    "a"
   ]
  },
  {
   "cell_type": "code",
   "execution_count": null,
   "id": "settled-canadian",
   "metadata": {},
   "outputs": [],
   "source": [
    "sub_g = a[0][1]\n",
    "ll = [{(l[0],l[1]):l[2]['alma_mater']} for l in list(sub_g.edges.data())]\n",
    "edge_labels = defaultdict(list)\n",
    "{edge_labels[key].append(sub[key]) for sub in ll for key in sub} "
   ]
  },
  {
   "cell_type": "code",
   "execution_count": null,
   "id": "supreme-tolerance",
   "metadata": {
    "tags": []
   },
   "outputs": [],
   "source": [
    "\n",
    "plt.figure(figsize=(20,10))\n",
    "pos = nx.circular_layout(sub_g)\n",
    "el = nx.draw_networkx_edge_labels(sub_g, pos, edge_labels = edge_labels, font_size = 10, font_color = 'red')\n",
    "# print(edge_labels)\n",
    "nx.draw_networkx(sub_g,pos)\n"
   ]
  },
  {
   "cell_type": "code",
   "execution_count": null,
   "id": "intelligent-craft",
   "metadata": {},
   "outputs": [],
   "source": [
    "### Choisir la/les composante(s) à 9 noeuds \n",
    "a7 = [[s[0], s[1]] for s in S  if s[0] == 7]\n",
    "a7"
   ]
  },
  {
   "cell_type": "code",
   "execution_count": null,
   "id": "pharmaceutical-audit",
   "metadata": {},
   "outputs": [],
   "source": [
    "for g in a7:\n",
    "    sub_g = g[1]\n",
    "    ll = [{(l[0],l[1]):l[2]['alma_mater']} for l in list(sub_g.edges.data())]\n",
    "    edge_labels = defaultdict(list)\n",
    "    e = {edge_labels[key].append(sub[key]) for sub in ll for key in sub} \n",
    "    plt.figure(figsize=(20,10))\n",
    "    pos = nx.circular_layout(sub_g)\n",
    "    el = nx.draw_networkx_edge_labels(sub_g, pos, edge_labels = edge_labels, font_size = 10, font_color = 'red')\n",
    "    # print(edge_labels)\n",
    "    nx.draw_networkx(sub_g,pos)"
   ]
  },
  {
   "cell_type": "markdown",
   "id": "catholic-hepatitis",
   "metadata": {},
   "source": [
    "## Sous-graphe"
   ]
  },
  {
   "cell_type": "code",
   "execution_count": null,
   "id": "noticed-illness",
   "metadata": {
    "tags": []
   },
   "outputs": [],
   "source": [
    "### Choisir la/les composante(s) à 1402 noeuds \n",
    "a1402= [[s[0], s[1]] for s in S  if s[0] == 1402]\n",
    "print(a1402)\n",
    "sub_g = a1402[0][1]"
   ]
  },
  {
   "cell_type": "code",
   "execution_count": null,
   "id": "communist-complement",
   "metadata": {},
   "outputs": [],
   "source": [
    "print(nx.info(sub_g))"
   ]
  },
  {
   "cell_type": "code",
   "execution_count": null,
   "id": "adult-memorabilia",
   "metadata": {},
   "outputs": [],
   "source": [
    "nx.is_connected(sub_g), nx.density(sub_g)"
   ]
  },
  {
   "cell_type": "code",
   "execution_count": null,
   "id": "responsible-deficit",
   "metadata": {},
   "outputs": [],
   "source": [
    "### Returns all maximal cliques in an undirected graph.\n",
    "# https://networkx.org/documentation/stable/reference/algorithms/clique.html?highlight=cliques\n",
    "\n",
    "cliques = [(len(c),c) for c in list(nx.find_cliques(sub_g)) if len(c) > 2]\n",
    "print(len(cliques))\n",
    "cliques[-3:]"
   ]
  },
  {
   "cell_type": "code",
   "execution_count": null,
   "id": "mental-moses",
   "metadata": {},
   "outputs": [],
   "source": [
    "df_cliques = pd.DataFrame([l[0] for l in cliques], columns = ['eff'])\n",
    "gs_cliques = df_cliques.groupby(['eff']).size()\n",
    "gs_cliques.sort_index()"
   ]
  },
  {
   "cell_type": "code",
   "execution_count": null,
   "id": "chicken-sound",
   "metadata": {},
   "outputs": [],
   "source": [
    "[c for c in cliques if c[0] == 32]"
   ]
  },
  {
   "cell_type": "code",
   "execution_count": null,
   "id": "toxic-status",
   "metadata": {},
   "outputs": [],
   "source": [
    "pos = ''\n",
    "cc = [c[1] for c in cliques if c[0] == 32]\n",
    "\n",
    "sub_32 = G.subgraph(cc[0]).copy()\n",
    "ll = [{(l[0],l[1]):l[2]['alma_mater']} for l in list(sub_32.edges.data())]\n",
    "edge_labels = defaultdict(list)\n",
    "e = {edge_labels[key].append(sub[key]) for sub in ll for key in sub} \n",
    "plt.figure(figsize=(20,10))\n",
    "pos = nx.spring_layout(sub_32)\n",
    "el = nx.draw_networkx_edge_labels(sub_32, pos, edge_labels = edge_labels, font_size = 7, alpha = 0.7, font_color = 'green')\n",
    "# print(edge_labels)\n",
    "nx.draw_networkx(sub_32,pos)"
   ]
  },
  {
   "cell_type": "code",
   "execution_count": null,
   "id": "canadian-marble",
   "metadata": {},
   "outputs": [],
   "source": [
    "### https://networkx.org/documentation/stable/reference/algorithms/generated/networkx.algorithms.connectivity.kcomponents.k_components.html#networkx.algorithms.connectivity.kcomponents.k_components\n",
    "\n",
    "##  exécution très longue : vérifier\n",
    "# nx.k_components(sub_g)"
   ]
  },
  {
   "cell_type": "code",
   "execution_count": null,
   "id": "printable-gardening",
   "metadata": {},
   "outputs": [],
   "source": [
    "###https://networkx.org/documentation/stable/reference/algorithms/generated/networkx.algorithms.approximation.kcomponents.k_components.html?highlight=k_components#networkx.algorithms.approximation.kcomponents.k_components\n",
    "\n",
    "from networkx.algorithms import approximation as apxa\n",
    "##  exécution très longue : vérifier\n",
    "# apxa.k_components(sub_g, min_density = 0.95)"
   ]
  },
  {
   "cell_type": "markdown",
   "id": "digital-array",
   "metadata": {},
   "source": [
    "## Sous-graphe : degré > 13"
   ]
  },
  {
   "cell_type": "code",
   "execution_count": null,
   "id": "insured-oliver",
   "metadata": {},
   "outputs": [],
   "source": [
    "lk_13 = list(df_degree['person'][df_degree['degree']> 13])\n",
    "lk_13[:3]"
   ]
  },
  {
   "cell_type": "code",
   "execution_count": null,
   "id": "guided-maintenance",
   "metadata": {},
   "outputs": [],
   "source": [
    "#  https://networkx.org/documentation/stable/reference/algorithms/generated/networkx.algorithms.components.connected_components.html\n",
    "dk_13 = G.subgraph(lk_13).copy()\n",
    "print(nx.info(dk_13))"
   ]
  },
  {
   "cell_type": "code",
   "execution_count": null,
   "id": "entire-argentina",
   "metadata": {},
   "outputs": [],
   "source": [
    "nx.number_connected_components(dk_13)"
   ]
  },
  {
   "cell_type": "code",
   "execution_count": null,
   "id": "greatest-opinion",
   "metadata": {},
   "outputs": [],
   "source": [
    "### Composantes du graphe\n",
    "# Une composante principale avec 1402 individus et de multiples petites composantes\n",
    "# https://networkx.org/documentation/stable/reference/algorithms/generated/networkx.algorithms.components.connected_components.html\n",
    "c_comp = nx.connected_components(dk_13)\n",
    "print(type(c_comp))\n",
    "## Length of generator as set of nodes = number of nodes\n",
    "df_c_comp = pd.DataFrame([len(c) for c in sorted(c_comp, key=len, reverse=True)], columns=['eff'])\n",
    "gs_c_comp = df_c_comp.groupby(['eff']).size()\n",
    "gs_c_comp.sort_index()"
   ]
  },
  {
   "cell_type": "code",
   "execution_count": null,
   "id": "cardiovascular-literature",
   "metadata": {},
   "outputs": [],
   "source": [
    "#  https://networkx.org/documentation/stable/reference/algorithms/generated/networkx.algorithms.components.connected_components.html\n",
    "S = [[len(c), G.subgraph(c).copy()] for c in nx.connected_components(dk_13)]\n",
    "# type(S)"
   ]
  },
  {
   "cell_type": "code",
   "execution_count": null,
   "id": "prepared-rings",
   "metadata": {},
   "outputs": [],
   "source": [
    "a = [[s[0], s[1]] for s in S  if s[0] == 542]\n",
    "g542 = a[0][1]"
   ]
  },
  {
   "cell_type": "code",
   "execution_count": null,
   "id": "widespread-annual",
   "metadata": {},
   "outputs": [],
   "source": [
    "fig = plt.figure(figsize=(400,200))\n",
    "pos = nx.kamada_kawai_layout(g542)\n",
    "nx.draw_networkx(g542, pos , font_color = 'red', font_size=30, edge_color='LightGray' )\n",
    "plt.savefig(\"graphs/dk_13.jpg\", format=\"jpg\")\n",
    "plt.savefig(\"graphs/dk_13.pdf\", format=\"pdf\")\n",
    "plt.show()"
   ]
  },
  {
   "cell_type": "code",
   "execution_count": null,
   "id": "beginning-swiss",
   "metadata": {},
   "outputs": [],
   "source": [
    "node_sizes = [i[1]['betweenness'] * 100000 + 1000 for i in list(g542.nodes.data())]\n",
    "print(len(node_sizes))\n",
    "node_sizes[:4]"
   ]
  },
  {
   "cell_type": "code",
   "execution_count": null,
   "id": "suited-departure",
   "metadata": {
    "tags": []
   },
   "outputs": [],
   "source": [
    "fig = plt.figure(figsize=(200,100))\n",
    "pos = nx.kamada_kawai_layout(g542)\n",
    "nx.draw_networkx(g542, pos, node_color = 'DarkBlue', font_color = 'CornflowerBlue',\\\n",
    "                 font_size=30, node_size=node_sizes, edge_color='LightGray' )\n",
    "plt.savefig(\"graphs/g542.pdf\", format=\"pdf\")\n",
    "plt.savefig(\"graphs/g542.jpg\", format=\"jpg\")\n",
    "plt.show()"
   ]
  },
  {
   "cell_type": "code",
   "execution_count": null,
   "id": "recorded-marshall",
   "metadata": {},
   "outputs": [],
   "source": [
    "node_sizes = [i[1]['eigenvector'] * 100000 + 1000 for i in list(g542.nodes.data())]\n",
    "print(len(node_sizes))\n",
    "node_sizes[:4]"
   ]
  },
  {
   "cell_type": "code",
   "execution_count": null,
   "id": "commercial-herald",
   "metadata": {
    "tags": []
   },
   "outputs": [],
   "source": [
    "fig = plt.figure(figsize=(200,100))\n",
    "pos = nx.kamada_kawai_layout(g542)\n",
    "nx.draw_networkx(g542, pos, node_color = 'DarkBlue', font_color = 'CornflowerBlue',\\\n",
    "                 font_size=30, node_size=node_sizes, edge_color='LightGray' )\n",
    "plt.savefig(\"graphs/g542_eigenvector.pdf\", format=\"pdf\")\n",
    "plt.savefig(\"graphs/g542_eigenvector.jpg\", format=\"jpg\")\n",
    "plt.show()"
   ]
  },
  {
   "cell_type": "code",
   "execution_count": null,
   "id": "popular-bulgarian",
   "metadata": {},
   "outputs": [],
   "source": []
  },
  {
   "cell_type": "markdown",
   "id": "falling-minnesota",
   "metadata": {},
   "source": [
    "## Ajouter les paramètres de centralité du sous-graphe g542\n",
    "\n"
   ]
  },
  {
   "cell_type": "markdown",
   "id": "tested-singer",
   "metadata": {},
   "source": [
    "### Centralité de degré"
   ]
  },
  {
   "cell_type": "code",
   "execution_count": null,
   "id": "aggressive-closure",
   "metadata": {},
   "outputs": [],
   "source": [
    "# On construit ici le dictionnaire selon le format souhaité\n",
    "degree = dict([(d[0], {'degree': d[1]}) for d in nx.degree(g542)])\n",
    "print(list(degree)[:3])"
   ]
  },
  {
   "cell_type": "code",
   "execution_count": null,
   "id": "played-sheffield",
   "metadata": {},
   "outputs": [],
   "source": [
    "nx.set_node_attributes(g542, degree)"
   ]
  },
  {
   "cell_type": "markdown",
   "id": "confidential-devon",
   "metadata": {},
   "source": [
    "### Centralité de proximité"
   ]
  },
  {
   "cell_type": "code",
   "execution_count": null,
   "id": "toxic-prior",
   "metadata": {},
   "outputs": [],
   "source": [
    "closeness = nx.closeness_centrality(g542)"
   ]
  },
  {
   "cell_type": "code",
   "execution_count": null,
   "id": "attached-radar",
   "metadata": {},
   "outputs": [],
   "source": [
    "nx.set_node_attributes(g542, closeness, 'closeness')"
   ]
  },
  {
   "cell_type": "markdown",
   "id": "ceramic-practice",
   "metadata": {},
   "source": [
    "### Centralité d'intermédiarité"
   ]
  },
  {
   "cell_type": "code",
   "execution_count": null,
   "id": "attempted-living",
   "metadata": {},
   "outputs": [],
   "source": [
    "betweenness = nx.betweenness_centrality(g542)"
   ]
  },
  {
   "cell_type": "code",
   "execution_count": null,
   "id": "utility-encyclopedia",
   "metadata": {},
   "outputs": [],
   "source": [
    "nx.set_node_attributes(g542, betweenness, 'betweenness')"
   ]
  },
  {
   "cell_type": "markdown",
   "id": "bronze-warehouse",
   "metadata": {},
   "source": [
    "### Centralité d'influence ou de pouvoir (_eigenvalue_)"
   ]
  },
  {
   "cell_type": "code",
   "execution_count": null,
   "id": "suspected-humor",
   "metadata": {},
   "outputs": [],
   "source": [
    "### https://networkx.org/documentation/stable/reference/algorithms/generated/networkx.algorithms.centrality.eigenvector_centrality.html?highlight=eigenvector#networkx.algorithms.centrality.eigenvector_centrality\n",
    "# noter la référence biliographique dans la documentation de la fonction\n",
    "\n",
    "eigenvector = nx.eigenvector_centrality(g542)\n",
    "nx.set_node_attributes(g542, eigenvector, 'eigenvector')"
   ]
  },
  {
   "cell_type": "markdown",
   "id": "municipal-convention",
   "metadata": {},
   "source": [
    "## Résultat"
   ]
  },
  {
   "cell_type": "code",
   "execution_count": null,
   "id": "soviet-lewis",
   "metadata": {},
   "outputs": [],
   "source": [
    "print(list(g542.nodes.data())[:5])"
   ]
  },
  {
   "cell_type": "markdown",
   "id": "altered-document",
   "metadata": {},
   "source": [
    "## Exporter les attributs pour les explorer "
   ]
  },
  {
   "cell_type": "code",
   "execution_count": null,
   "id": "refined-stanford",
   "metadata": {},
   "outputs": [],
   "source": [
    "### Exporter les attributs vers un DataFrame afin de les explorer\n",
    "export = pd.DataFrame(g542.nodes.data(), columns = ['id', 'attributes'])\n",
    "export"
   ]
  },
  {
   "cell_type": "code",
   "execution_count": null,
   "id": "alike-correspondence",
   "metadata": {},
   "outputs": [],
   "source": [
    "### Décomposer le champs attributs en colonnes\n",
    "# https://stackoverflow.com/questions/38231591/split-explode-a-column-of-dictionaries-into-separate-columns-with-pandas\n",
    "pd.json_normalize(export.attributes)"
   ]
  },
  {
   "cell_type": "code",
   "execution_count": null,
   "id": "false-brazilian",
   "metadata": {},
   "outputs": [],
   "source": [
    "### appliquer au DataFrame et supprimer la colonne attributes\n",
    "# en même temps mettre le nom en index\n",
    "export = export.join(pd.json_normalize(export.attributes)).set_index('id')\n",
    "export.drop(columns=['attributes'], inplace=True)"
   ]
  },
  {
   "cell_type": "code",
   "execution_count": null,
   "id": "experimental-reward",
   "metadata": {},
   "outputs": [],
   "source": [
    "export.loc[['Klaus_Schwab']]"
   ]
  },
  {
   "cell_type": "code",
   "execution_count": null,
   "id": "variable-evening",
   "metadata": {},
   "outputs": [],
   "source": [
    "export['closeness'].describe()"
   ]
  },
  {
   "cell_type": "code",
   "execution_count": null,
   "id": "freelance-simple",
   "metadata": {
    "tags": []
   },
   "outputs": [],
   "source": [
    "export['betweenness'].describe()"
   ]
  },
  {
   "cell_type": "code",
   "execution_count": null,
   "id": "joined-extent",
   "metadata": {},
   "outputs": [],
   "source": [
    "export['eigenvector'].describe()"
   ]
  },
  {
   "cell_type": "code",
   "execution_count": null,
   "id": "brown-elizabeth",
   "metadata": {},
   "outputs": [],
   "source": [
    "export.sort_values(by=['eigenvector'], ascending=False).iloc[50:90]  # .iloc[50:90]   .head(50)"
   ]
  },
  {
   "cell_type": "code",
   "execution_count": null,
   "id": "looking-server",
   "metadata": {},
   "outputs": [],
   "source": [
    "export.loc[['Klaus_Schwab']]"
   ]
  },
  {
   "cell_type": "code",
   "execution_count": null,
   "id": "honey-audience",
   "metadata": {},
   "outputs": [],
   "source": [
    "export.loc[export.index.isin(['Klaus_Schwab'])]  ### négation :  loc[~export.index.isin(['Ellen_Johnson_Sirleaf'])]  "
   ]
  },
  {
   "cell_type": "markdown",
   "id": "brilliant-retro",
   "metadata": {},
   "source": [
    "## Explorer les relations entre propriétés structurales (centralités) et/ou attributs"
   ]
  },
  {
   "cell_type": "markdown",
   "id": "driving-rally",
   "metadata": {},
   "source": [
    "### Relations entre deux centralités"
   ]
  },
  {
   "cell_type": "code",
   "execution_count": null,
   "id": "invisible-christopher",
   "metadata": {},
   "outputs": [],
   "source": [
    "export[['degree','betweenness']].plot(x = 'degree', y = 'betweenness',kind='scatter',figsize=(30,30))\n",
    "for i,row in list(export[['degree','betweenness']].iterrows()):\n",
    "    plt.annotate(i,(row['degree'], row['betweenness']), fontsize = 9, stretch='semi-expanded')"
   ]
  },
  {
   "cell_type": "code",
   "execution_count": null,
   "id": "technical-hawaii",
   "metadata": {},
   "outputs": [],
   "source": [
    "export.sort_values(by=['eigenvector'], ascending=False).iloc[80:100]"
   ]
  },
  {
   "cell_type": "code",
   "execution_count": null,
   "id": "expected-garden",
   "metadata": {},
   "outputs": [],
   "source": [
    "len(export), len(export.loc[~export.index.isin(['Ellen_Johnson_Sirleaf', 'Fischer_Black', 'Shahid_Javed_Burki'])])"
   ]
  },
  {
   "cell_type": "code",
   "execution_count": null,
   "id": "jewish-romania",
   "metadata": {},
   "outputs": [],
   "source": [
    "exp_Schwab = export[['closeness','eigenvector']].loc[~export.index.isin(['Ellen_Johnson_Sirleaf', 'Fischer_Black', 'Shahid_Javed_Burki'])][export['eigenvector']> 0.05]\\\n",
    ".sort_values('eigenvector', ascending=False).copy(deep=True)"
   ]
  },
  {
   "cell_type": "code",
   "execution_count": null,
   "id": "dynamic-carry",
   "metadata": {},
   "outputs": [],
   "source": [
    "exp_Schwab.sort_values('eigenvector', ascending=False).plot(x = 'closeness', y = 'eigenvector',kind='scatter',figsize=(30,40))\n",
    "for i,row in list(exp_Schwab.iterrows()):\n",
    "    plt.annotate(i,(row['closeness'], row['eigenvector']), fontsize = 10, stretch='expanded')\n",
    "plt.savefig('plots/closeness_eigenvector_20210516.jpg')"
   ]
  },
  {
   "cell_type": "markdown",
   "id": "visible-devil",
   "metadata": {},
   "source": [
    "## Ego réseau"
   ]
  },
  {
   "cell_type": "code",
   "execution_count": null,
   "id": "strange-viking",
   "metadata": {},
   "outputs": [],
   "source": [
    "schwab_ego = nx.ego_graph(g542, 'Klaus_Schwab', radius = 2, undirected=True)\n",
    "print(len(schwab_ego))"
   ]
  },
  {
   "cell_type": "code",
   "execution_count": null,
   "id": "charged-planet",
   "metadata": {},
   "outputs": [],
   "source": [
    "schwab_ego"
   ]
  },
  {
   "cell_type": "code",
   "execution_count": null,
   "id": "assigned-contents",
   "metadata": {},
   "outputs": [],
   "source": [
    "node_sizes = [i[1]['betweenness'] * 100000 + 1000 for i in list(schwab_ego.nodes.data())]\n",
    "print(len(node_sizes))\n",
    "node_sizes[:4]"
   ]
  },
  {
   "cell_type": "code",
   "execution_count": null,
   "id": "furnished-receipt",
   "metadata": {},
   "outputs": [],
   "source": [
    "fig = plt.figure(figsize=(200,100))\n",
    "pos = nx.kamada_kawai_layout(schwab_ego)\n",
    "nx.draw_networkx(schwab_ego, pos, node_color = 'DarkBlue', font_color = 'CornflowerBlue',\\\n",
    "                 font_size=30, node_size=node_sizes, edge_color='LightGray' )\n",
    "plt.savefig(\"graphs/schwab_ego.pdf\", format=\"pdf\")\n",
    "plt.show()"
   ]
  },
  {
   "cell_type": "code",
   "execution_count": null,
   "id": "practical-madagascar",
   "metadata": {},
   "outputs": [],
   "source": []
  },
  {
   "cell_type": "code",
   "execution_count": null,
   "id": "unusual-coverage",
   "metadata": {},
   "outputs": [],
   "source": []
  },
  {
   "cell_type": "code",
   "execution_count": null,
   "id": "smart-nebraska",
   "metadata": {},
   "outputs": [],
   "source": []
  },
  {
   "cell_type": "markdown",
   "id": "uniform-loading",
   "metadata": {},
   "source": [
    "# Liens entre les Universités"
   ]
  },
  {
   "cell_type": "code",
   "execution_count": null,
   "id": "behind-handy",
   "metadata": {},
   "outputs": [],
   "source": [
    "## liens entre Universités donnés par les étudiants\n",
    "liens_univ = \"\"\"\n",
    "SELECT REPLACE(p.value , 'http://dbpedia.org/resource/', '') univ_1,\n",
    "REPLACE(p1.value, 'http://dbpedia.org/resource/', '') univ_2,\n",
    "REPLACE(p.uri_entity, 'http://dbpedia.org/resource/', '') person,\n",
    "p3.value birth_year,\n",
    "p4.value long,\n",
    "p5.value lat,\n",
    "p6.value long,\n",
    "p7.value lat\n",
    "FROM property p\n",
    "  JOIN property p1 ON p1.uri_entity = p.uri_entity AND p1.pk_property > p.pk_property AND p1.property LIKE '%almaMater'\n",
    "  JOIN property p3 ON p3.uri_entity = p1.uri_entity AND p3.property LIKE '%irthYe%' AND p3.\"source\" LIKE '%8 mai 2021%'\n",
    "  LEFT JOIN property p4 ON\n",
    "\tp4.uri_entity = p.value\n",
    "\tAND p4.property LIKE '%long'\n",
    "\tLEFT JOIN property p5 ON\n",
    "\tp5.uri_entity = p.value\n",
    "\tAND p5.property LIKE '%lat'\n",
    "\tLEFT JOIN property p6 ON\n",
    "\tp6.uri_entity = p1.value\n",
    "\tAND p6.property LIKE '%long'\n",
    "LEFT JOIN property p7 ON\n",
    "\tp7.uri_entity = p1.value\n",
    "\tAND p7.property LIKE '%lat'\n",
    "WHERE  p.property LIKE '%almaMater';\n",
    "\"\"\""
   ]
  },
  {
   "cell_type": "code",
   "execution_count": null,
   "id": "recorded-weapon",
   "metadata": {},
   "outputs": [],
   "source": [
    "### Undirected version of the same graph produced using Pandas\n",
    "cn = sql.connect(db)\n",
    "df_liens_univ = pd.read_sql_query(liens_univ, cn)\n",
    "cn.close()\n",
    "df_liens_univ.head()"
   ]
  },
  {
   "cell_type": "code",
   "execution_count": null,
   "id": "stainless-bandwidth",
   "metadata": {
    "scrolled": true,
    "tags": []
   },
   "outputs": [],
   "source": [
    "students = df_liens_univ.groupby(['person']).size()\n",
    "print(len(students))\n",
    "list(students.sort_values(ascending=False).items())[:10] #[10:20]"
   ]
  },
  {
   "cell_type": "code",
   "execution_count": null,
   "id": "collectible-township",
   "metadata": {},
   "outputs": [],
   "source": [
    "## Piet_Lieftinck 8 universities but errors \n"
   ]
  },
  {
   "cell_type": "code",
   "execution_count": null,
   "id": "herbal-danger",
   "metadata": {},
   "outputs": [],
   "source": [
    "df_students = pd.DataFrame(students, columns=['eff'])\n",
    "gdf_students = df_students.groupby(['eff']).size()\n",
    "gdf_students.sort_index(ascending=False)[:20]"
   ]
  },
  {
   "cell_type": "code",
   "execution_count": null,
   "id": "social-tower",
   "metadata": {},
   "outputs": [],
   "source": [
    "GU = nx.from_pandas_edgelist(df_liens_univ, 'univ_1', 'univ_2')\n",
    "type(GU)"
   ]
  },
  {
   "cell_type": "code",
   "execution_count": null,
   "id": "viral-heavy",
   "metadata": {},
   "outputs": [],
   "source": [
    "### CA DOIT être un multigraphe !"
   ]
  },
  {
   "cell_type": "code",
   "execution_count": null,
   "id": "considered-liabilities",
   "metadata": {},
   "outputs": [],
   "source": [
    "GU.is_multigraph(), GU.is_directed(), GU.number_of_nodes(), GU.number_of_edges(), nx.is_connected(GU), nx.density(GU)"
   ]
  },
  {
   "cell_type": "code",
   "execution_count": null,
   "id": "realistic-queue",
   "metadata": {},
   "outputs": [],
   "source": [
    "nx.number_connected_components(GU)"
   ]
  },
  {
   "cell_type": "code",
   "execution_count": null,
   "id": "restricted-heading",
   "metadata": {},
   "outputs": [],
   "source": [
    "### Composantes du graphe\n",
    "# Une composante principale avec 1505 individus et de multiples petites composantes\n",
    "# https://networkx.org/documentation/stable/reference/algorithms/generated/networkx.algorithms.components.connected_components.html\n",
    "c_comp = nx.connected_components(GU)\n",
    "print(type(c_comp))\n",
    "## Length of generator as set of nodes = number of nodes\n",
    "df_c_comp = pd.DataFrame([len(c) for c in sorted(c_comp, key=len, reverse=True)], columns=['eff'])\n",
    "gs_c_comp = df_c_comp.groupby(['eff']).size()\n",
    "gs_c_comp.sort_index()"
   ]
  },
  {
   "cell_type": "code",
   "execution_count": null,
   "id": "stuck-princess",
   "metadata": {},
   "outputs": [],
   "source": [
    "#  https://networkx.org/documentation/stable/reference/algorithms/generated/networkx.algorithms.components.connected_components.html\n",
    "print([c for c in c_comp if len(c) == 3])\n",
    "S = [[len(c), GU.subgraph(c).copy()] for c in nx.connected_components(GU)]\n",
    "# type(S)"
   ]
  },
  {
   "cell_type": "code",
   "execution_count": null,
   "id": "thermal-intersection",
   "metadata": {},
   "outputs": [],
   "source": [
    "au = [[s[0], s[1]] for s in S  if s[0] == 4]\n",
    "len(au)\n",
    "#a"
   ]
  },
  {
   "cell_type": "code",
   "execution_count": null,
   "id": "legendary-covering",
   "metadata": {},
   "outputs": [],
   "source": [
    "plt.figure(figsize=(15,7))\n",
    "nx.draw_networkx(au[0][1])"
   ]
  },
  {
   "cell_type": "code",
   "execution_count": null,
   "id": "involved-heaven",
   "metadata": {},
   "outputs": [],
   "source": []
  },
  {
   "cell_type": "markdown",
   "id": "light-possession",
   "metadata": {},
   "source": [
    "au[0][1].nodes.data(), au[0][1].edges.data()"
   ]
  },
  {
   "cell_type": "code",
   "execution_count": null,
   "id": "center-portsmouth",
   "metadata": {},
   "outputs": [],
   "source": []
  },
  {
   "cell_type": "code",
   "execution_count": null,
   "id": "genetic-schedule",
   "metadata": {},
   "outputs": [],
   "source": [
    "influences_df[influences_df['person_1']=='Stati_Statev']"
   ]
  },
  {
   "cell_type": "code",
   "execution_count": null,
   "id": "duplicate-purpose",
   "metadata": {},
   "outputs": [],
   "source": [
    "influences_df[influences_df['alma_mater']=='University_of_National_and_World_Economy']"
   ]
  },
  {
   "cell_type": "code",
   "execution_count": null,
   "id": "naughty-infrastructure",
   "metadata": {},
   "outputs": [],
   "source": [
    "a[0][1].nodes().data()"
   ]
  },
  {
   "cell_type": "code",
   "execution_count": null,
   "id": "plastic-hobby",
   "metadata": {},
   "outputs": [],
   "source": [
    "list(G.nodes().data())[:3]"
   ]
  },
  {
   "cell_type": "code",
   "execution_count": null,
   "id": "useful-alfred",
   "metadata": {},
   "outputs": [],
   "source": []
  },
  {
   "cell_type": "code",
   "execution_count": null,
   "id": "celtic-links",
   "metadata": {},
   "outputs": [],
   "source": []
  },
  {
   "cell_type": "code",
   "execution_count": null,
   "id": "green-pride",
   "metadata": {},
   "outputs": [],
   "source": []
  },
  {
   "cell_type": "code",
   "execution_count": null,
   "id": "duplicate-stockholm",
   "metadata": {},
   "outputs": [],
   "source": [
    "### La composante la plus grande\n",
    "max_c = [[s[0], s[1]] for s in S  if s[0] == max([s[0] for s in S])]\n",
    "max_c"
   ]
  },
  {
   "cell_type": "code",
   "execution_count": null,
   "id": "recognized-canvas",
   "metadata": {},
   "outputs": [],
   "source": [
    "plt.figure(figsize=(20,10))\n",
    "nx.draw_networkx(max_c[0][1])"
   ]
  },
  {
   "cell_type": "code",
   "execution_count": null,
   "id": "settled-elite",
   "metadata": {},
   "outputs": [],
   "source": [
    "nx.number_strongly_connected_components(max_c[0][1])"
   ]
  },
  {
   "cell_type": "code",
   "execution_count": null,
   "id": "robust-delight",
   "metadata": {},
   "outputs": [],
   "source": []
  },
  {
   "cell_type": "code",
   "execution_count": null,
   "id": "miniature-stopping",
   "metadata": {},
   "outputs": [],
   "source": [
    "[[a, a_dict.items()] for a, a_dict in G.adjacency()][:1]"
   ]
  },
  {
   "cell_type": "code",
   "execution_count": null,
   "id": "interior-terminology",
   "metadata": {},
   "outputs": [],
   "source": [
    "G.adjacency()"
   ]
  },
  {
   "cell_type": "code",
   "execution_count": null,
   "id": "authorized-services",
   "metadata": {},
   "outputs": [],
   "source": [
    "list(G.nodes)[:5]"
   ]
  },
  {
   "cell_type": "code",
   "execution_count": null,
   "id": "possible-batman",
   "metadata": {
    "scrolled": true,
    "tags": []
   },
   "outputs": [],
   "source": [
    "list(G.neighbors('Milton_Friedman'))"
   ]
  },
  {
   "cell_type": "code",
   "execution_count": null,
   "id": "favorite-romantic",
   "metadata": {},
   "outputs": [],
   "source": []
  },
  {
   "cell_type": "code",
   "execution_count": null,
   "id": "atomic-reporter",
   "metadata": {},
   "outputs": [],
   "source": [
    "type(G), type(DG)"
   ]
  },
  {
   "cell_type": "code",
   "execution_count": null,
   "id": "authorized-polyester",
   "metadata": {},
   "outputs": [],
   "source": [
    "# list(nx.bridges(G))"
   ]
  },
  {
   "cell_type": "code",
   "execution_count": null,
   "id": "african-corporation",
   "metadata": {},
   "outputs": [],
   "source": [
    "degrees = list(nx.degree(G))\n",
    "degrees[:3]"
   ]
  },
  {
   "cell_type": "code",
   "execution_count": null,
   "id": "pregnant-program",
   "metadata": {
    "scrolled": true,
    "tags": []
   },
   "outputs": [],
   "source": [
    "df_degrees = pd.DataFrame(degrees, columns=['name', 'degree']).sort_values(by='degree', ascending=False)\n",
    "df_degrees.head(100)"
   ]
  },
  {
   "cell_type": "code",
   "execution_count": null,
   "id": "balanced-trinity",
   "metadata": {
    "scrolled": true,
    "tags": []
   },
   "outputs": [],
   "source": [
    "gb_degrees = df_degrees.groupby(['degree']).size()\n",
    "gb_degrees.sort_index() # values(by='degree', ascending=False).head(30)"
   ]
  },
  {
   "cell_type": "code",
   "execution_count": null,
   "id": "unexpected-tooth",
   "metadata": {},
   "outputs": [],
   "source": [
    "### Distribution des naissances dans le temps. Pour mémoire : 2000 = sans année de naissance\n",
    "\n",
    "\n",
    "objects = [l for l in gb_degrees.index]\n",
    "eff = [l for l in gb_degrees]\n",
    "\n",
    "plt.figure(figsize=(15,7))\n",
    "plt.bar(objects, eff)"
   ]
  },
  {
   "cell_type": "code",
   "execution_count": null,
   "id": "welsh-pierre",
   "metadata": {},
   "outputs": [],
   "source": [
    "sup4 = [dd[0] for dd in degrees if dd[1] > 4]\n",
    "len(sup4)"
   ]
  },
  {
   "cell_type": "code",
   "execution_count": null,
   "id": "arctic-fifth",
   "metadata": {},
   "outputs": [],
   "source": [
    "d_sup_1 = nx.restricted_view(G, [dd[0] for dd in degrees if dd[1]>1], [])\n",
    "type(d_sup_1)"
   ]
  },
  {
   "cell_type": "code",
   "execution_count": null,
   "id": "unsigned-stevens",
   "metadata": {},
   "outputs": [],
   "source": [
    "d_sup4 = nx.restricted_view(G, sup4, [])\n",
    "type(d_sup4)"
   ]
  },
  {
   "cell_type": "code",
   "execution_count": null,
   "id": "exciting-clone",
   "metadata": {},
   "outputs": [],
   "source": [
    "max_cli_sup4 = nx.make_max_clique_graph(d_sup4)"
   ]
  },
  {
   "cell_type": "code",
   "execution_count": null,
   "id": "colonial-garlic",
   "metadata": {},
   "outputs": [],
   "source": [
    "type(max_cli_sup4)"
   ]
  },
  {
   "cell_type": "code",
   "execution_count": null,
   "id": "equivalent-mustang",
   "metadata": {},
   "outputs": [],
   "source": [
    "type(nx.k_core(d_sup4, 10))"
   ]
  },
  {
   "cell_type": "code",
   "execution_count": null,
   "id": "polished-blame",
   "metadata": {},
   "outputs": [],
   "source": [
    "list(nx.core_number(d_sup4).items())[:3]"
   ]
  },
  {
   "cell_type": "code",
   "execution_count": null,
   "id": "protected-crowd",
   "metadata": {},
   "outputs": [],
   "source": []
  },
  {
   "cell_type": "code",
   "execution_count": null,
   "id": "proof-measurement",
   "metadata": {},
   "outputs": [],
   "source": [
    "kcg = nx.k_core(d_sup4)\n",
    "plt.figure(figsize=(40,20))\n",
    "nx.draw_networkx(kcg,pos=nx.spring_layout(kcg))"
   ]
  },
  {
   "cell_type": "code",
   "execution_count": null,
   "id": "incident-footage",
   "metadata": {},
   "outputs": [],
   "source": [
    "plt.figure(figsize=(40,20))\n",
    "nx.draw_networkx(max_cli_sup4,pos=nx.spring_layout(max_cli_sup4))"
   ]
  },
  {
   "cell_type": "code",
   "execution_count": null,
   "id": "living-opera",
   "metadata": {},
   "outputs": [],
   "source": [
    "list(max_cli_sup4.adjacency())"
   ]
  },
  {
   "cell_type": "code",
   "execution_count": null,
   "id": "modern-genealogy",
   "metadata": {},
   "outputs": [],
   "source": []
  },
  {
   "cell_type": "code",
   "execution_count": null,
   "id": "filled-timber",
   "metadata": {},
   "outputs": [],
   "source": []
  },
  {
   "cell_type": "code",
   "execution_count": null,
   "id": "ordinary-orange",
   "metadata": {},
   "outputs": [],
   "source": []
  },
  {
   "cell_type": "code",
   "execution_count": null,
   "id": "minus-cuisine",
   "metadata": {},
   "outputs": [],
   "source": []
  },
  {
   "cell_type": "code",
   "execution_count": null,
   "id": "cardiovascular-print",
   "metadata": {},
   "outputs": [],
   "source": [
    "plt.figure(figsize=(40,20))\n",
    "nx.draw_kamada_kawai(d_sup4)"
   ]
  },
  {
   "cell_type": "code",
   "execution_count": null,
   "id": "lucky-secretary",
   "metadata": {},
   "outputs": [],
   "source": []
  },
  {
   "cell_type": "code",
   "execution_count": null,
   "id": "charged-commodity",
   "metadata": {},
   "outputs": [],
   "source": [
    "GG = d_sup_1\n",
    "pos = nx.spring_layout(GG)\n",
    "\n",
    "node_sizes = [i for i in range(len(GG))]\n",
    "M = GG.number_of_edges()\n",
    "edge_colors = range(2, M + 2)\n",
    "edge_alphas = [(5 + i) / (M + 4) for i in range(M)]\n",
    "cmap = plt.cm.plasma\n",
    "\n",
    "nodes = nx.draw_networkx_nodes(GG, pos, node_size=node_sizes, node_color=\"indigo\")\n",
    "edges = nx.draw_networkx_edges(\n",
    "    GG,\n",
    "    pos,\n",
    "    node_size=node_sizes,\n",
    "    arrowstyle=\"->\",\n",
    "    arrowsize=10,\n",
    "    edge_color=edge_colors,\n",
    "    edge_cmap=cmap,\n",
    "    width=2,\n",
    ")\n",
    "# set alpha value for each edge\n",
    "for i in range(M):\n",
    "    edges[i].set_alpha(edge_alphas[i])\n",
    "\n",
    "pc = mpl.collections.PatchCollection(edges, cmap=cmap)\n",
    "pc.set_array(edge_colors)\n",
    "plt.colorbar(pc)\n",
    "\n",
    "ax = plt.gca()\n",
    "ax.set_axis_off()\n",
    "plt.show()"
   ]
  },
  {
   "cell_type": "code",
   "execution_count": null,
   "id": "institutional-starter",
   "metadata": {},
   "outputs": [],
   "source": []
  },
  {
   "cell_type": "code",
   "execution_count": null,
   "id": "optimum-cyprus",
   "metadata": {},
   "outputs": [],
   "source": []
  },
  {
   "cell_type": "code",
   "execution_count": null,
   "id": "minimal-british",
   "metadata": {
    "scrolled": true,
    "tags": []
   },
   "outputs": [],
   "source": [
    "\n",
    "\n",
    "plt.figure(figsize=(20,20))\n",
    "pos = graphviz_layout(d_sup_1)\n",
    "nx.draw_networkx_labels(d_sup_1, pos)"
   ]
  },
  {
   "cell_type": "code",
   "execution_count": null,
   "id": "damaged-prague",
   "metadata": {},
   "outputs": [],
   "source": [
    "nx.draw(G)"
   ]
  },
  {
   "cell_type": "code",
   "execution_count": null,
   "id": "loving-sunrise",
   "metadata": {},
   "outputs": [],
   "source": [
    "from networkx.drawing.nx_agraph import graphviz_layout\n",
    "pos = graphviz_layout(G)\n",
    "plt.axis('off')\n",
    "nx.draw_networkx_nodes(G,pos,node_color='g',alpha = 0.8)  # draws nodes\n",
    "nx.draw_networkx_edges(G,pos,edge_color='b',alpha = 0.6)  # draws edges\n",
    "nx.draw_networkx_edge_labels(G,pos,edge_labels = nx.get_edge_attributes(G,'weight')) # edge lables\n",
    "nx.draw_networkx_labels(G,pos) # node lables"
   ]
  },
  {
   "cell_type": "code",
   "execution_count": null,
   "id": "working-panel",
   "metadata": {},
   "outputs": [],
   "source": []
  },
  {
   "cell_type": "code",
   "execution_count": null,
   "id": "fallen-galaxy",
   "metadata": {},
   "outputs": [],
   "source": []
  },
  {
   "cell_type": "markdown",
   "id": "straight-parameter",
   "metadata": {},
   "source": [
    "## Relations d'influence\n",
    "\n",
    "\n",
    "Préparation des données (cf. le carnet dbpedia_production):\n"
   ]
  },
  {
   "cell_type": "markdown",
   "id": "legislative-alert",
   "metadata": {},
   "source": [
    "### Requêtes préliminaires\n",
    "\n",
    "* Requêtes d'exploration dans la base de données:\n",
    "\n",
    "<code>\n",
    "-- nombre de personnes qui influencent : 906\n",
    "WITH tw1 AS (SELECT DISTINCT uri_entity FROM property p WHERE p.property LIKE '%influenced%')\n",
    "SELECT count(*) FROM tw1;\n",
    "\n",
    "-- nombre de personnes influencées : 1173\n",
    "WITH tw1 AS (SELECT DISTINCT value FROM property p WHERE p.property LIKE '%influenced%')\n",
    "SELECT count(*) FROM tw1;\n",
    "\n",
    "-- nombre total de personnes dans le réseau : 1717\n",
    "WITH tw1 AS (\n",
    "SELECT DISTINCT uri_entity FROM property p WHERE p.property LIKE '%influenced%'\n",
    "UNION \n",
    "SELECT DISTINCT value as uri_entity FROM property p WHERE p.property LIKE '%influenced%')\n",
    "SELECT COUNT(*) FROM tw1;\n",
    "\n",
    "\n",
    "-- economistes (entités déjà disponibles) dans le réseau : 933\n",
    "-- personnes non encore connues: 784\n",
    "WITH tw1 AS (\n",
    "SELECT DISTINCT uri_entity FROM property p WHERE p.property LIKE '%influenced%'\n",
    "UNION \n",
    "SELECT DISTINCT value as uri_entity FROM property p WHERE p.property LIKE '%influenced%')\n",
    "SELECT COUNT(*) FROM tw1 LEFT JOIN entity e ON tw1.uri_entity = e.uri_entity AND e.entity_class LIKE '%Person%'\n",
    "WHERE e.uri_entity IS NULL;\n",
    "\n",
    "</code>\n"
   ]
  },
  {
   "cell_type": "code",
   "execution_count": null,
   "id": "labeled-aluminum",
   "metadata": {},
   "outputs": [],
   "source": [
    "### Définir les adresses des fichiers, l'existant et celui à créer\n",
    "db = 'data/sparql_queries.db'"
   ]
  },
  {
   "cell_type": "code",
   "execution_count": null,
   "id": "adverse-report",
   "metadata": {},
   "outputs": [],
   "source": [
    "### Vérifier si tous les lieux on un type\n",
    "influence =\"\"\"\n",
    "SELECT REPLACE(p.uri_entity, 'http://dbpedia.org/resource/', '') influencer, REPLACE(p.value, 'http://dbpedia.org/resource/', '') influenced  \n",
    "FROM property p WHERE p.property LIKE '%influenced%'\n",
    "AND p.uri_entity != p.value;\n",
    "\"\"\""
   ]
  },
  {
   "cell_type": "code",
   "execution_count": null,
   "id": "ignored-charity",
   "metadata": {
    "scrolled": true,
    "tags": []
   },
   "outputs": [],
   "source": [
    "# connnexion à la base de données\n",
    "cn = sql.connect(db)\n",
    "c = cn.cursor()\n",
    "\n",
    "### exécuter la requëte sur la base de donées SQLite pour récupérer les valeurs que contient la ligne\n",
    "c.execute(influence)\n",
    "result_q = []\n",
    "result_q = c.fetchall()\n",
    "\n",
    "# fermer la connexion\n",
    "cn.close()\n",
    "print(len(result_q))\n",
    "result_q[:4]"
   ]
  },
  {
   "cell_type": "code",
   "execution_count": null,
   "id": "hollywood-karen",
   "metadata": {},
   "outputs": [],
   "source": [
    "#DiGraph : directed graph\n",
    "DG = nx.DiGraph()\n",
    "DG.add_edges_from(result_q, color='blue')\n",
    "type(DG)"
   ]
  },
  {
   "cell_type": "code",
   "execution_count": null,
   "id": "public-salon",
   "metadata": {},
   "outputs": [],
   "source": [
    "DG.size()"
   ]
  },
  {
   "cell_type": "code",
   "execution_count": null,
   "id": "narrative-october",
   "metadata": {
    "tags": []
   },
   "outputs": [],
   "source": [
    "### Propriétés du graphe\n",
    "DG.is_multigraph(), DG.is_directed(), DG.number_of_nodes(), DG.number_of_edges(), \\\n",
    "nx.density(DG), nx.is_strongly_connected(DG), nx.is_weakly_connected(DG)"
   ]
  },
  {
   "cell_type": "code",
   "execution_count": null,
   "id": "christian-christianity",
   "metadata": {},
   "outputs": [],
   "source": [
    "nx.number_strongly_connected_components(DG), nx.number_weakly_connected_components(DG)"
   ]
  },
  {
   "cell_type": "code",
   "execution_count": null,
   "id": "banner-external",
   "metadata": {},
   "outputs": [],
   "source": [
    "### Composantes du graphe (weakly connected = indirected)\n",
    "# Une composante principale avec 1505 individus et de multiples petites composantes\n",
    "# https://networkx.org/documentation/stable/reference/algorithms/generated/networkx.algorithms.components.connected_components.html\n",
    "wc_comp = nx.weakly_connected_components(DG)\n",
    "print(type(wc_comp))\n",
    "## Length of generator as set of nodes = number of nodes\n",
    "df_wc_comp = pd.DataFrame([len(c) for c in sorted(wc_comp, key=len, reverse=True)], columns=['eff'])\n",
    "gs_wc_comp = df_wc_comp.groupby(['eff']).size()\n",
    "gs_wc_comp.sort_index()"
   ]
  },
  {
   "cell_type": "code",
   "execution_count": null,
   "id": "ecological-universe",
   "metadata": {},
   "outputs": [],
   "source": [
    "### Composantes du graphe (strongly connected = directed)\n",
    "# Une composante principale avec 1505 individus et de multiples petites composantes\n",
    "# https://networkx.org/documentation/stable/reference/algorithms/generated/networkx.algorithms.components.connected_components.html\n",
    "sc_comp = nx.strongly_connected_components_recursive(DG)\n",
    "print(type(c_comp))\n",
    "## Length of generator as set of nodes = number of nodes\n",
    "df_sc_comp = pd.DataFrame([len(c) for c in sorted(sc_comp, key=len, reverse=True)], columns=['eff'])\n",
    "gs_sc_comp = df_c_comp.groupby(['eff']).size()\n",
    "gs_sc_comp.sort_index()"
   ]
  },
  {
   "cell_type": "code",
   "execution_count": null,
   "id": "handmade-variety",
   "metadata": {},
   "outputs": [],
   "source": [
    "#  https://networkx.org/documentation/stable/reference/algorithms/generated/networkx.algorithms.components.connected_components.html\n",
    "S = [[len(c), DG.subgraph(c).copy()] for c in nx.weakly_connected_components(DG)]\n",
    "len(S)"
   ]
  },
  {
   "cell_type": "code",
   "execution_count": null,
   "id": "premier-industry",
   "metadata": {
    "tags": []
   },
   "outputs": [],
   "source": [
    "adg = [[s[0], s[1]] for s in S  if s[0] == 11]\n",
    "adg"
   ]
  },
  {
   "cell_type": "code",
   "execution_count": null,
   "id": "rapid-paragraph",
   "metadata": {},
   "outputs": [],
   "source": [
    "## https://networkx.org/documentation/stable/reference/drawing.html\n",
    "plt.figure(figsize=(15,7))\n",
    "\n",
    "pos = nx.shell_layout(adg[0][1])\n",
    "#pos = nx.kamada_kawai_layout(a[0][1])\n",
    "\n",
    "## Attention pas plus d'une cinquantaine de noeuds\n",
    "nx.draw_networkx(adg[0][1], pos)"
   ]
  },
  {
   "cell_type": "code",
   "execution_count": null,
   "id": "hollow-rhythm",
   "metadata": {},
   "outputs": [],
   "source": [
    "be_ce = nx.betweenness_centrality(DG)"
   ]
  },
  {
   "cell_type": "code",
   "execution_count": null,
   "id": "worst-airport",
   "metadata": {},
   "outputs": [],
   "source": [
    "df_be_ce = pd.DataFrame(list(be_ce.items()), columns=['name', 'be_ce'])\n",
    "df_be_ce.head(30)"
   ]
  },
  {
   "cell_type": "code",
   "execution_count": null,
   "id": "manual-judge",
   "metadata": {},
   "outputs": [],
   "source": [
    "df_be_ce['be_ce'].sort_values(ascending=False)"
   ]
  },
  {
   "cell_type": "code",
   "execution_count": null,
   "id": "laden-bleeding",
   "metadata": {},
   "outputs": [],
   "source": [
    "l_de_ce = list(de_ce.items())"
   ]
  },
  {
   "cell_type": "code",
   "execution_count": null,
   "id": "essential-motivation",
   "metadata": {},
   "outputs": [],
   "source": [
    "[[l[0],l[1]*1000] for l in l_de_ce][:3]"
   ]
  },
  {
   "cell_type": "code",
   "execution_count": null,
   "id": "municipal-leader",
   "metadata": {},
   "outputs": [],
   "source": [
    "dfn = pd.DataFrame([[l[0],l[1]*1000] for l in l_de_ce], columns=['name', 'be_ce'])\n",
    "dfn.head()"
   ]
  },
  {
   "cell_type": "code",
   "execution_count": null,
   "id": "balanced-semiconductor",
   "metadata": {},
   "outputs": [],
   "source": [
    "dfn.sort_values(by = ['be_ce'], ascending=False).head(10)\n"
   ]
  },
  {
   "cell_type": "code",
   "execution_count": null,
   "id": "parliamentary-glance",
   "metadata": {},
   "outputs": [],
   "source": []
  },
  {
   "cell_type": "code",
   "execution_count": null,
   "id": "stainless-retention",
   "metadata": {},
   "outputs": [],
   "source": [
    "cl_ce = nx.closeness_centrality(DG)"
   ]
  },
  {
   "cell_type": "code",
   "execution_count": null,
   "id": "handmade-summary",
   "metadata": {},
   "outputs": [],
   "source": [
    "df_cl_ce = pd.DataFrame(list(cl_ce.items()), columns=['name', 'cl_ce'])\n",
    "df_cl_ce.head(10)"
   ]
  },
  {
   "cell_type": "code",
   "execution_count": null,
   "id": "fatal-premiere",
   "metadata": {},
   "outputs": [],
   "source": [
    "df_cl_ce['cl_ce'].sort_values(ascending=False)"
   ]
  },
  {
   "cell_type": "code",
   "execution_count": null,
   "id": "attached-works",
   "metadata": {},
   "outputs": [],
   "source": [
    "l_cl_ce = list(cl_ce.items())"
   ]
  },
  {
   "cell_type": "code",
   "execution_count": null,
   "id": "downtown-postcard",
   "metadata": {},
   "outputs": [],
   "source": [
    "[[l[0],l[1]*1000] for l in l_cl_ce][:3]"
   ]
  },
  {
   "cell_type": "code",
   "execution_count": null,
   "id": "choice-demand",
   "metadata": {},
   "outputs": [],
   "source": [
    "dfn = pd.DataFrame([[l[0],l[1]*1000] for l in l_de_ce], columns=['name', 'be_ce'])\n",
    "dfn.head()"
   ]
  },
  {
   "cell_type": "code",
   "execution_count": null,
   "id": "noticed-norfolk",
   "metadata": {},
   "outputs": [],
   "source": [
    "dfn.sort_values(by = ['be_ce'], ascending=False).head(30)\n"
   ]
  },
  {
   "cell_type": "code",
   "execution_count": null,
   "id": "according-investing",
   "metadata": {},
   "outputs": [],
   "source": []
  },
  {
   "cell_type": "code",
   "execution_count": null,
   "id": "arranged-mills",
   "metadata": {},
   "outputs": [],
   "source": [
    "max([l[1] for l in l_de_ce][:3])"
   ]
  },
  {
   "cell_type": "code",
   "execution_count": null,
   "id": "blocked-pharmacology",
   "metadata": {},
   "outputs": [],
   "source": [
    "min([l[1] for l in l_de_ce]), max([l[1] for l in l_de_ce])"
   ]
  },
  {
   "cell_type": "code",
   "execution_count": null,
   "id": "warming-breakfast",
   "metadata": {},
   "outputs": [],
   "source": [
    "print(max([l[1] for l in l_de_ce][50:60]))\n",
    "ll = l_de_ce[50:60]\n",
    "ll"
   ]
  },
  {
   "cell_type": "code",
   "execution_count": null,
   "id": "faced-principal",
   "metadata": {},
   "outputs": [],
   "source": [
    "ll = [l[1] for l in l_de_ce[50:60]]\n",
    "type(ll), len(ll)"
   ]
  },
  {
   "cell_type": "code",
   "execution_count": null,
   "id": "silver-firewall",
   "metadata": {},
   "outputs": [],
   "source": [
    "#  https://networkx.org/documentation/stable/reference/algorithms/generated/networkx.algorithms.components.connected_components.html\n",
    "SC = [[len(c), DG.subgraph(c).copy()] for c in nx.strongly_connected_components(DG)]\n",
    "len(SC)"
   ]
  },
  {
   "cell_type": "code",
   "execution_count": null,
   "id": "relevant-sunset",
   "metadata": {
    "tags": []
   },
   "outputs": [],
   "source": [
    "sadg = [[s[0], s[1]] for s in SC  if s[0] == 3]\n",
    "sadg"
   ]
  },
  {
   "cell_type": "code",
   "execution_count": null,
   "id": "connected-valuation",
   "metadata": {},
   "outputs": [],
   "source": [
    "## https://networkx.org/documentation/stable/reference/drawing.html\n",
    "plt.figure(figsize=(15,7))\n",
    "\n",
    "pos = nx.shell_layout(sadg[0][1])\n",
    "#pos = nx.kamada_kawai_layout(a[0][1])\n",
    "\n",
    "## Attention pas plus d'une cinquantaine de noeuds\n",
    "nx.draw_networkx(sadg[0][1], pos)"
   ]
  },
  {
   "cell_type": "markdown",
   "id": "contrary-statistics",
   "metadata": {},
   "source": [
    "## Shortest path"
   ]
  },
  {
   "cell_type": "code",
   "execution_count": null,
   "id": "strategic-mexico",
   "metadata": {},
   "outputs": [],
   "source": [
    "sp = dict(nx.all_pairs_shortest_path(DG)) # , cutoff=10\n",
    "len(sp)"
   ]
  },
  {
   "cell_type": "code",
   "execution_count": null,
   "id": "fossil-hierarchy",
   "metadata": {
    "scrolled": true,
    "tags": []
   },
   "outputs": [],
   "source": [
    "list(sp.items())[3:5]"
   ]
  },
  {
   "cell_type": "code",
   "execution_count": null,
   "id": "framed-soldier",
   "metadata": {},
   "outputs": [],
   "source": [
    "test_l = list(sp.items())[3:5]"
   ]
  },
  {
   "cell_type": "code",
   "execution_count": null,
   "id": "behavioral-replication",
   "metadata": {},
   "outputs": [],
   "source": [
    "all_items = list(sp.items())\n",
    "all_paths = []\n",
    "for i in all_items: # test_l:\n",
    "    for k,v in i[1].items():\n",
    "        if i[0] != k and len(v) > 2:\n",
    "            all_paths.append([i[0], k, len(v), v])\n",
    "\n",
    "print(all_paths[:3])"
   ]
  },
  {
   "cell_type": "code",
   "execution_count": null,
   "id": "physical-tournament",
   "metadata": {},
   "outputs": [],
   "source": [
    "df_all_paths = pd.DataFrame(all_paths, columns = ['tail', 'head', 'len_path', 'list_path'])\n",
    "df_all_paths.head()"
   ]
  },
  {
   "cell_type": "code",
   "execution_count": null,
   "id": "wanted-fleece",
   "metadata": {},
   "outputs": [],
   "source": [
    "distrib_len_path = df_all_paths.groupby('len_path').size()\n",
    "distrib_len_path"
   ]
  },
  {
   "cell_type": "code",
   "execution_count": null,
   "id": "heard-shannon",
   "metadata": {},
   "outputs": [],
   "source": [
    "df_all_paths[df_all_paths['len_path'].isin([12])]"
   ]
  },
  {
   "cell_type": "code",
   "execution_count": null,
   "id": "continent-tongue",
   "metadata": {},
   "outputs": [],
   "source": [
    "df_all_paths[df_all_paths['len_path'].isin([12,11,10,9,8])]['list_path']"
   ]
  },
  {
   "cell_type": "code",
   "execution_count": null,
   "id": "frank-swedish",
   "metadata": {},
   "outputs": [],
   "source": [
    "long_paths_nodes = []\n",
    "[long_paths_nodes.extend(p) for p in df_all_paths[df_all_paths['len_path'].isin([12,11])]['list_path']] # ,10,9,8\n",
    "len(list(set(long_paths_nodes)))"
   ]
  },
  {
   "cell_type": "code",
   "execution_count": null,
   "id": "published-retrieval",
   "metadata": {
    "tags": []
   },
   "outputs": [],
   "source": [
    "long_paths_nodes[:3]"
   ]
  },
  {
   "cell_type": "markdown",
   "id": "promising-flesh",
   "metadata": {},
   "source": [
    "## Créer nouveau graphe"
   ]
  },
  {
   "cell_type": "code",
   "execution_count": null,
   "id": "interim-premises",
   "metadata": {},
   "outputs": [],
   "source": [
    "LPN = DG.subgraph(long_paths_nodes).copy()\n",
    "type(LPN)"
   ]
  },
  {
   "cell_type": "code",
   "execution_count": null,
   "id": "tired-mainstream",
   "metadata": {
    "tags": []
   },
   "outputs": [],
   "source": [
    "### Propriétés du graphe\n",
    "LPN.is_multigraph(), LPN.is_directed(), LPN.number_of_nodes(), LPN.number_of_edges(), \\\n",
    "nx.density(LPN), nx.is_strongly_connected(LPN), nx.is_weakly_connected(LPN)"
   ]
  },
  {
   "cell_type": "code",
   "execution_count": null,
   "id": "rocky-fancy",
   "metadata": {},
   "outputs": [],
   "source": [
    "nx.number_strongly_connected_components(LPN), nx.number_weakly_connected_components(LPN)"
   ]
  },
  {
   "cell_type": "code",
   "execution_count": null,
   "id": "biological-rescue",
   "metadata": {},
   "outputs": [],
   "source": [
    "## https://networkx.org/documentation/stable/reference/drawing.html\n",
    "plt.figure(figsize=(50,100))\n",
    "\n",
    "ax = plt.subplot(111)\n",
    "ax.set_title('Graph - PLT', fontsize=10)\n",
    "\n",
    "\n",
    "\n",
    "\n",
    "# pos = nx.spiral_layout(LPN)\n",
    "pos = nx.kamada_kawai_layout(LPN)\n",
    "# pos = nx.kamada_kawai_layout(LPN)\n",
    "\n",
    "## Attention pas plus d'une cinquantaine de noeuds\n",
    "nx.draw_networkx(LPN, pos)\n",
    "plt.tight_layout()\n",
    "plt.savefig(\"graphs/LPN.png\", format=\"PNG\")\n",
    "plt.show()"
   ]
  },
  {
   "cell_type": "code",
   "execution_count": null,
   "id": "common-natural",
   "metadata": {},
   "outputs": [],
   "source": []
  },
  {
   "cell_type": "code",
   "execution_count": null,
   "id": "progressive-hostel",
   "metadata": {},
   "outputs": [],
   "source": [
    "directed = ipycytoscape.CytoscapeWidget()\n",
    "directed.graph.add_graph_from_networkx(LPN, directed=True)  # LPN\n",
    "directed"
   ]
  },
  {
   "cell_type": "code",
   "execution_count": null,
   "id": "rapid-guyana",
   "metadata": {},
   "outputs": [],
   "source": [
    "nx.write_pajek(DG, \"graphs/DG.net\")"
   ]
  },
  {
   "cell_type": "code",
   "execution_count": null,
   "id": "novel-butler",
   "metadata": {},
   "outputs": [],
   "source": [
    "nx.write_pajek(LPN, \"graphs/LPN.net\")"
   ]
  },
  {
   "cell_type": "code",
   "execution_count": null,
   "id": "steady-revision",
   "metadata": {},
   "outputs": [],
   "source": []
  }
 ],
 "metadata": {
  "kernelspec": {
   "display_name": "Py 3.7 HN sparql",
   "language": "python",
   "name": "py37_hn_sparql"
  },
  "language_info": {
   "codemirror_mode": {
    "name": "ipython",
    "version": 3
   },
   "file_extension": ".py",
   "mimetype": "text/x-python",
   "name": "python",
   "nbconvert_exporter": "python",
   "pygments_lexer": "ipython3",
   "version": "3.7.10"
  },
  "toc-autonumbering": false
 },
 "nbformat": 4,
 "nbformat_minor": 5
}
