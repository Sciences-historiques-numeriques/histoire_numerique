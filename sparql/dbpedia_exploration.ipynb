{
 "cells": [
  {
   "cell_type": "markdown",
   "metadata": {},
   "source": [
    "# Interrogation du point d'accès SPARQL de DBPedia (en anglais)\n",
    "\n",
    "\n",
    "Exploration des données liées aux 'économistes'\n",
    "\n",
    "Définition de économiste.\n",
    "\n",
    "\n",
    "Après une inspection manuelle de quelques économistes connus."
   ]
  },
  {
   "cell_type": "markdown",
   "metadata": {},
   "source": [
    "## Préparation"
   ]
  },
  {
   "cell_type": "markdown",
   "metadata": {},
   "source": [
    "### Importer les librairies à utiliser"
   ]
  },
  {
   "cell_type": "code",
   "execution_count": 5,
   "metadata": {},
   "outputs": [],
   "source": [
    "from SPARQLWrapper import SPARQLWrapper, SPARQLWrapper2, JSON, TURTLE, XML, RDFXML\n",
    "import pandas as pd\n",
    "import matplotlib.pyplot as plt"
   ]
  },
  {
   "cell_type": "code",
   "execution_count": 2,
   "metadata": {},
   "outputs": [],
   "source": [
    "import pprint\n",
    "import csv\n",
    "import ast\n",
    "\n",
    "from collections import Counter\n",
    "from operator import itemgetter\n",
    "\n",
    "import sqlite3 as sql\n",
    "import time\n",
    "\n",
    "from importlib import reload\n",
    "from shutil import copyfile"
   ]
  },
  {
   "cell_type": "code",
   "execution_count": 3,
   "metadata": {},
   "outputs": [],
   "source": [
    "### Importer un module de fonctions crée ad hoc\n",
    "## ATTENTION : le fichier 'sparql_functions.py' doit se trouver \n",
    "#   dans le même dossier que le présent carnet Jupyter afin que l'importation\n",
    "#   fonctionne correctement\n",
    "import sparql_functions as spqf"
   ]
  },
  {
   "cell_type": "code",
   "execution_count": 4,
   "metadata": {},
   "outputs": [],
   "source": [
    "### Recharger le module après modification des fonctions dans le fichier du module\n",
    "# désactivé #  reload(spqf)"
   ]
  },
  {
   "cell_type": "markdown",
   "metadata": {},
   "source": [
    "## Création de la base de données SQLite\n",
    "\n",
    "Tutoriel SQL pour SQLite : https://www.sqlitetutorial.net/sqlite-select/\n",
    "\n",
    "Afin de créer la base de données:\n",
    "* créer tout d'abord (ou vérifier qu'existe déjà) un dossier appelé 'data'\n",
    "* décommenter les parties commentées et exécuter ensuite les scripts de créations des tables ci-dessous\n",
    "* inspecter les nouvelles tables avec un [client graphique SQLite tel DBeaver](http://phn-wiki.ish-lyon.cnrs.fr/doku.php?id=intro_histoire_numerique:modelisation_bases_donnees#clients_graphiques_pour_sqlite)\n"
   ]
  },
  {
   "cell_type": "markdown",
   "metadata": {},
   "source": [
    "### Création de la base de données"
   ]
  },
  {
   "cell_type": "code",
   "execution_count": 4,
   "metadata": {},
   "outputs": [],
   "source": [
    "### La connextion à une base de données SQLite créé la base de données si elle n'est pas encore existante, \n",
    "#  et ce dans le dossier indiqué\n",
    "\n",
    "cn = sql.connect('data/sparql_queries.db')"
   ]
  },
  {
   "cell_type": "code",
   "execution_count": 5,
   "metadata": {},
   "outputs": [
    {
     "name": "stdout",
     "output_type": "stream",
     "text": [
      "('2021-05-17 17:34:19',)\n"
     ]
    }
   ],
   "source": [
    "## Un curseur est un objet qui permet d'exécuter des requêtes sur la base des données en les isolant proprement\n",
    "c = cn.cursor()\n",
    "\n",
    "##  https://www.sqlite.org/lang_datefunc.html\n",
    "# on vérifie ainsi qu'on est bien connecté à la base et on a l'heure locale actuelle\n",
    "c.execute(\"SELECT datetime('now', 'localtime')\")\n",
    "print(c.fetchone())"
   ]
  },
  {
   "cell_type": "code",
   "execution_count": 6,
   "metadata": {},
   "outputs": [],
   "source": [
    "## On ferme la base de données\n",
    "cn.close()"
   ]
  },
  {
   "cell_type": "markdown",
   "metadata": {},
   "source": [
    "### Production des tables de la base de données"
   ]
  },
  {
   "cell_type": "code",
   "execution_count": 51,
   "metadata": {},
   "outputs": [],
   "source": [
    "db = 'data/sparql_queries.db'   ### 'data/database.db'"
   ]
  },
  {
   "cell_type": "code",
   "execution_count": null,
   "metadata": {
    "tags": []
   },
   "outputs": [],
   "source": [
    "cn = sql.connect(db)\n",
    "c = cn.cursor()\n",
    "\n",
    "# Create table\n",
    "# STOP # c.execute('''DROP TABLE query;''')\n",
    "\n",
    "c.execute('''CREATE TABLE query (pk_query INTEGER PRIMARY KEY,\n",
    "label VARCHAR (100),\n",
    "description TEXT,\n",
    "project VARCHAR (150),\n",
    "sparql_endpoint VARCHAR (250),\n",
    "query TEXT,\n",
    "notes TEXT, \n",
    "timestmp text DEFAULT ((datetime('now','localtime'))))\n",
    "''')\n",
    "\n",
    "# Save (commit) the changes\n",
    "# désactivé # cn.commit()\n",
    "cn.close()"
   ]
  },
  {
   "cell_type": "code",
   "execution_count": null,
   "metadata": {},
   "outputs": [],
   "source": [
    "cn = sql.connect(db)\n",
    "c = cn.cursor()\n",
    "\n",
    "# Create table\n",
    "# STOP # c.execute('''DROP TABLE result;''')\n",
    "\n",
    "c.execute('''CREATE TABLE result (pk_result INTEGER PRIMARY KEY,\n",
    "fk_query INTEGER REFERENCES \"query\" (pk_query) MATCH SIMPLE,\n",
    "description TEXT,\n",
    "result TEXT,\n",
    "insert_data_into TEXT,\n",
    "notes TEXT, \n",
    "timestmp text DEFAULT ((datetime('now','localtime'))))\n",
    "''')\n",
    "\n",
    "# Save (commit) the changes\n",
    "# désactivé # cn.commit()\n",
    "cn.close()"
   ]
  },
  {
   "cell_type": "code",
   "execution_count": 185,
   "metadata": {},
   "outputs": [],
   "source": [
    "cn = sql.connect(db)\n",
    "c = cn.cursor()\n",
    "\n",
    "# Create table 'entity'\n",
    "# STOP #  c.execute('''DROP TABLE entity''')\n",
    "\n",
    "c.execute('''CREATE TABLE entity\n",
    "             (pk_entity INTEGER PRIMARY KEY, local_authority BOOLEAN DEFAULT TRUE, \n",
    "             fk_same_entity INTEGER REFERENCES [entity] (pk_entity) MATCH SIMPLE,\n",
    "             uri_entity TEXT, entity_class TEXT, source TEXT,\n",
    "             fk_query_as_source INTEGER REFERENCES [query] (pk_query) MATCH SIMPLE,\n",
    "             entity_std_name TEXT, notes TEXT, \n",
    "             timestmp text DEFAULT ((datetime('now','localtime'))),\n",
    "             UNIQUE (uri_entity, entity_class, source))''')\n",
    "\n",
    "# Save (commit) the changes \n",
    "# STOP #  cn.commit()\n",
    "\n",
    "cn.close()"
   ]
  },
  {
   "cell_type": "code",
   "execution_count": 207,
   "metadata": {},
   "outputs": [],
   "source": [
    "cn = sql.connect(db)\n",
    "c = cn.cursor()\n",
    "\n",
    "# Create table 'property'\n",
    "# STOP # c.execute('''DROP TABLE property''')\n",
    "\n",
    "c.execute('''CREATE TABLE property\n",
    "             (pk_property INTEGER PRIMARY KEY, \n",
    "             fk_entity INTEGER REFERENCES [entity] (pk_entity) MATCH SIMPLE,\n",
    "             uri_entity TEXT, property TEXT, value TEXT, \n",
    "             source TEXT, quality INTEGER, fk_query_as_source INTEGER REFERENCES [query] (pk_query) MATCH SIMPLE,\n",
    "             additional_property_1 TEXT, value_1 TEXT,\n",
    "             additional_property_2 TEXT, value_2 TEXT,\n",
    "             additional_property_3 TEXT, value_3 TEXT,\n",
    "             notes TEXT, \n",
    "             timestmp text DEFAULT ((datetime('now','localtime'))),\n",
    "             UNIQUE (uri_entity, property, value, source))''')\n",
    "\n",
    "# Save (commit) the changes \n",
    "# STOP #  cn.commit()\n",
    "\n",
    "cn.close()"
   ]
  },
  {
   "cell_type": "markdown",
   "metadata": {},
   "source": [
    "### Versionnement manuel de la base de donnée des requêtes\n",
    "\n",
    "Cette opération créé une copie de la base de données identifiée par un _timestamp_. À utiliser avant toute opération significative sur la base de données (modification de la structure, imports par des scripts Python, etc.)"
   ]
  },
  {
   "cell_type": "code",
   "execution_count": 84,
   "metadata": {},
   "outputs": [
    {
     "data": {
      "text/plain": [
       "'20210418_113708'"
      ]
     },
     "execution_count": 84,
     "metadata": {},
     "output_type": "execute_result"
    }
   ],
   "source": [
    "### Fonction qui récupère et met en forme le temps au moment de l'exécution\n",
    "\n",
    "# définition\n",
    "def timestamp_formatted_for_file_name():\n",
    "    is_now = time.strftime('%Y%m%d_%H%M%S')\n",
    "    return is_now\n",
    "\n",
    "# exécution\n",
    "timestamp_formatted_for_file_name()"
   ]
  },
  {
   "cell_type": "code",
   "execution_count": 85,
   "metadata": {},
   "outputs": [],
   "source": [
    "### Définir les adresses des fichiers, l'existant et celui à créer\n",
    "db = 'data/sparql_queries.db'\n",
    "\n",
    "##  Noter que la différence de suffixe, en soi totalement arbitraire, \n",
    "#  dépend du fait que dans la configuration de .gitignore, .sqlite est exclu du verisonnement GIT\n",
    "#  contrairement à .db qui est versionné\n",
    "timestamped_db_copy = 'data/sparql_queries_' + timestamp_formatted_for_file_name() + '.sqlite'"
   ]
  },
  {
   "cell_type": "code",
   "execution_count": 86,
   "metadata": {},
   "outputs": [
    {
     "data": {
      "text/plain": [
       "'data/sparql_queries_20210418_113709.sqlite'"
      ]
     },
     "execution_count": 86,
     "metadata": {},
     "output_type": "execute_result"
    }
   ],
   "source": [
    "### Créer une copie de sauvegarde avec timestamp du fichier (versionnement manuel)\n",
    "# ATTENTION : la base de données doit exister à l'endroit indiqué !\n",
    "## Cette requête n'est utile que si des modifications en écriture vont être apportées à la base de données,\n",
    "# afint de préserver le dernier état avant modification\n",
    "\n",
    "## Documentation:\n",
    "# https://docs.python.org/3/library/shutil.htmlcopied_db = copyfile(original_db, timestamped_db_copy)\n",
    "\n",
    "copied_db = copyfile(db, timestamped_db_copy)\n",
    "copied_db"
   ]
  },
  {
   "cell_type": "code",
   "execution_count": null,
   "metadata": {},
   "outputs": [],
   "source": []
  },
  {
   "cell_type": "markdown",
   "metadata": {},
   "source": [
    "## Explorer Wikipedia / DBPedia\n",
    "\n",
    "DBPedia est une base de données au format RDF réalisée par extraction de données semistructurées et structurées à partir (principalement) des Infobox et du résumé des pages de Wikipedia.\n",
    "\n",
    "Les versions de DBPedia sont liées aux versions linguistiques de Wikipedia et dépendent de l'activité de 'chapitres' nationaux de DBPedia qui effectuent ces extractions. Il existe une [communauté (un 'chapitre')](https://www.data.gouv.fr/fr/datasets/dbpedia-fr-le-chapitre-francophone-de-dbpedia/) et une [version francophone](http://fr.dbpedia.org/).\n",
    "\n",
    "Nous explorerons ici la version anglaise qui est la plus riche mais les différentes versions sont connectées, et on peut profiter de ces versions."
   ]
  },
  {
   "cell_type": "markdown",
   "metadata": {},
   "source": [
    "### Wikipedia: Les économistes, page \"Economist\"\n",
    "\n",
    "*  https://en.wikipedia.org/wiki/Economist\n",
    "*  https://en.wikipedia.org/wiki/Economics\n",
    "\n",
    "\n",
    "### DBPedia : Economist\n",
    "\n",
    "*  https://dbpedia.org/page/Economist  (an instance of the class [Person Function](https://dbpedia.org/ontology/PersonFunction) )\n",
    "*  https://dbpedia.org/ontology/Economist  (a class)\n",
    "\n",
    "\n",
    "*  https://dbpedia.org/page/Economics\n"
   ]
  },
  {
   "cell_type": "markdown",
   "metadata": {},
   "source": [
    "### DBPedia SPARQL Endpoint\n",
    "\n",
    "*  https://dbpedia.org/sparql\n",
    "*  https://live.dbpedia.org/sparql (mis à jour en permanence, à utiliser pour les requêtes fédérées, i.e. la clause SERVICE)\n",
    "\n",
    "Documentation : [SPARQL 1.1 Query Language](http://www.w3.org/TR/sparql11-query/)"
   ]
  },
  {
   "cell_type": "markdown",
   "metadata": {},
   "source": [
    "### Keynes dans DBPedia\n",
    "\n",
    "*  https://en.wikipedia.org/wiki/John_Maynard_Keynes\n",
    "*  https://dbpedia.org/page/John_Maynard_Keynes\n",
    "\n"
   ]
  },
  {
   "cell_type": "raw",
   "metadata": {},
   "source": [
    "<!-- Extrait de l'info box de la page : https://en.wikipedia.org/wiki/John_Maynard_Keynes -->\n",
    "<table class=\"infobox biography vcard\" style=\"width:22em\">\n",
    " <tbody>\n",
    "  <tr>\n",
    "    <th scope=\"row\">Born</th>\n",
    "    <td>\n",
    "      <span style=\"display:none\">(<span class=\"bday\">1883-06-05</span>)</span>5 June 1883<br />\n",
    "      <div style=\"display:inline\" class=\"birthplace\">\n",
    "        <a href=\"/wiki/Cambridge\" title=\"Cambridge\">Cambridge</a>, <a href=\"/wiki/Cambridgeshire\" title=\"Cambridgeshire\">Cambridgeshire</a>, England</div>\n",
    "      </td>\n",
    "    </tr>\n",
    "    <tr>\n",
    "      <th scope=\"row\">Alma&#160;mater</th>\n",
    "      <td>\n",
    "        <a href=\"/wiki/Eton_College\" title=\"Eton College\">Eton College</a>\n",
    "        <br />\n",
    "        <a href=\"/wiki/King%E2%80%99s_College,_Cambridge\" class=\"mw-redirect\" title=\"King’s College, Cambridge\">King’s College, Cambridge</a>\n",
    "      </td>\n",
    "    </tr>\n",
    "    <tr>\n",
    "      <th scope=\"row\">Political party</th>\n",
    "      <td class=\"org\">\n",
    "        <a href=\"/wiki/Liberal_Party_(UK)\" title=\"Liberal Party (UK)\">Liberal</a>\n",
    "      </td>\n",
    "    </tr>\n",
    "  </tbody>\n",
    "</table>"
   ]
  },
  {
   "cell_type": "markdown",
   "metadata": {},
   "source": [
    "## Premières requêtes SPARQL"
   ]
  },
  {
   "cell_type": "markdown",
   "metadata": {},
   "source": [
    "### Utiliser le point d'accès SPARQL de DBPedia\n",
    "\n",
    "* Interroger le point d'accès de DBPedia \n",
    "  * Ouvrir dans une autre fenêtre du navigateur:\n",
    "  * https://dbpedia.org/sparql\n",
    "* Copier-coller le texte de la requête ci-dessous dans le navigateur:\n",
    "* Exécuter et inspecter le résultat\n",
    "\n",
    "\n",
    "NB : exécuter des requêtes directement sur le point SPARQL DBPedia permet de tester pour vérifier si elles fonctionnent correctement\n",
    "\n"
   ]
  },
  {
   "cell_type": "code",
   "execution_count": null,
   "metadata": {},
   "outputs": [],
   "source": [
    "###  Définir la variable contenant la requête SPARQL\n",
    "# Requête : toutes les propriétés concernant Keynes\n",
    "\n",
    "q_1 = \"\"\"\n",
    "\n",
    "PREFIX dbpedia: <http://dbpedia.org/resource/>\n",
    "SELECT ?p ?o WHERE {\n",
    "dbpedia:John_Maynard_Keynes ?p ?o\n",
    "}\n",
    "\n",
    "\"\"\""
   ]
  },
  {
   "cell_type": "code",
   "execution_count": null,
   "metadata": {},
   "outputs": [],
   "source": [
    "###  Requête: toutes les propriétés ayant un texte en anglais en objet\n",
    "\n",
    "\n",
    "q_2 = \"\"\"\n",
    "\n",
    "PREFIX dbpedia: <http://dbpedia.org/resource/>\n",
    "SELECT ?p ?o WHERE {\n",
    "dbpedia:John_Maynard_Keynes ?p ?o.\n",
    "FILTER ( lang(?o) = \"en\" ) \n",
    "}\n",
    "\n",
    "\"\"\""
   ]
  },
  {
   "cell_type": "code",
   "execution_count": 7,
   "metadata": {},
   "outputs": [],
   "source": [
    "###  Requête: compter et regrouper les propriétés\n",
    "\n",
    "q_3 = \"\"\"\n",
    "\n",
    "PREFIX dbpedia: <http://dbpedia.org/resource/>\n",
    "SELECT ?p (COUNT(*) as ?eff) WHERE {\n",
    "dbpedia:John_Maynard_Keynes ?p ?o.\n",
    "}\n",
    "GROUP BY ?p\n",
    "ORDER BY DESC(?eff)\n",
    "\n",
    "\"\"\""
   ]
  },
  {
   "cell_type": "code",
   "execution_count": null,
   "metadata": {},
   "outputs": [],
   "source": [
    "### Requête: inspecter le contenu des différentes propriétés, en les analysant une par une\n",
    "\n",
    "# Astuce: ouvrir une nouvelle fenêtre du point d'accès SPARQL DBPedia\n",
    "# A partir du résultat de la requête précédente, copier coller les proriétés et exécuter\n",
    "\n",
    "q_4 = \"\"\"\n",
    "\n",
    "PREFIX dbpedia: <http://dbpedia.org/resource/>\n",
    "SELECT ?o WHERE {\n",
    "dbpedia:John_Maynard_Keynes <http://dbpedia.org/ontology/birthPlace> ?o.\n",
    "}\n",
    "\n",
    "\"\"\""
   ]
  },
  {
   "cell_type": "code",
   "execution_count": null,
   "metadata": {},
   "outputs": [],
   "source": [
    "### Requête : compter les instances (personnes) de la classe dbo:Economist\n",
    "\n",
    "q_5 = \"\"\"\n",
    "PREFIX  dbo:  <http://dbpedia.org/ontology/>\n",
    "\n",
    "SELECT  (COUNT(*) AS ?freq)\n",
    "WHERE\n",
    "{ ?person  a dbo:Economist.\n",
    "}\n",
    "\n",
    "\"\"\""
   ]
  },
  {
   "cell_type": "code",
   "execution_count": 7,
   "metadata": {},
   "outputs": [],
   "source": [
    "### Pour toute nouvelle requête avant stockage\n",
    "\n",
    "my_query = \"\"\"\n",
    "PREFIX  dbo:  <http://dbpedia.org/ontology/>\n",
    "PREFIX  dbp:  <http://dbpedia.org/property/>\n",
    "PREFIX  dbr:  <http://dbpedia.org/resource/>\n",
    "\n",
    "SELECT  (count(*) AS ?eff)\n",
    "WHERE\n",
    "\n",
    "  {   { ?person  dbp:profession  dbr:Economist }\n",
    "    UNION\n",
    "      { ?person  dbp:occupation  dbr:Economist }\n",
    "  }\n",
    "  \"\"\"\n",
    "\n",
    "   \n",
    "\n",
    "    "
   ]
  },
  {
   "cell_type": "code",
   "execution_count": 97,
   "metadata": {},
   "outputs": [],
   "source": [
    "my_query = \"\"\"PREFIX  dbo:  <http://dbpedia.org/ontology/>\n",
    "PREFIX  dbp:  <http://dbpedia.org/property/>\n",
    "PREFIX  dbr:  <http://dbpedia.org/resource/>\n",
    "PREFIX  dbc: <http://dbpedia.org/resource/Category:>\n",
    "\n",
    "SELECT DISTINCT  ?person     # (count(*) AS ?eff)\n",
    "WHERE\n",
    "  {  \n",
    "      { ?person  dbo:wikiPageWikiLink dbc:20th-century_economists}\n",
    "  }\n",
    "  ORDER BY ?person\n",
    "  \"\"\"\n"
   ]
  },
  {
   "cell_type": "markdown",
   "metadata": {},
   "source": [
    "### Exécuter les mêmes requêtes depuis le carnet Jupyter"
   ]
  },
  {
   "cell_type": "code",
   "execution_count": 102,
   "metadata": {},
   "outputs": [],
   "source": [
    "### Librairie SPARQLWrapper, indiquer sur quel point d'accès SPARQL exécuter la requête\n",
    "sparql = SPARQLWrapper(\"https://dbpedia.org/sparql\") ##, returnFormat=RDFXML) # \"https://live.dbpedia.org/sparql\""
   ]
  },
  {
   "cell_type": "code",
   "execution_count": 103,
   "metadata": {},
   "outputs": [
    {
     "data": {
      "text/plain": [
       "dict"
      ]
     },
     "execution_count": 103,
     "metadata": {},
     "output_type": "execute_result"
    }
   ],
   "source": [
    "### Mettre en argument de la fonction setQuery, qui définit la requête, le nom de la variable correspondante\n",
    "#  On définit le format du resultat (JSON), puis on effectue la requête en ligne \n",
    "# et on inspecte le type de résultat: le résultat en JSON a été transformé en une variable 'dictionnaire'\n",
    "\n",
    "sparql.setQuery(my_query)\n",
    "sparql.setReturnFormat(JSON)\n",
    "rc = sparql.queryAndConvert()\n",
    "type(rc)"
   ]
  },
  {
   "cell_type": "code",
   "execution_count": null,
   "metadata": {
    "scrolled": true
   },
   "outputs": [],
   "source": [
    "### Inspecter le résultat complet\n",
    "# Activer 'enable scrolling outputs' dans le carnet Jupyter (click droit sur le résultat)\n",
    "rc"
   ]
  },
  {
   "cell_type": "code",
   "execution_count": 105,
   "metadata": {},
   "outputs": [
    {
     "data": {
      "text/plain": [
       "\"{'head': {'link': [], 'vars': ['person']}, 'results': {'distinct': False, 'ordered': True, 'bindings': []}}\""
      ]
     },
     "execution_count": 105,
     "metadata": {},
     "output_type": "execute_result"
    }
   ],
   "source": [
    "### En alternative à la requête précédente, transformer le résultat JSON en texte et inspecter les 500 premiers caractères\n",
    "str(rc)[:500]"
   ]
  },
  {
   "cell_type": "markdown",
   "metadata": {},
   "source": [
    "#### Documentation JSON / Python _dictionary_\n",
    "\n",
    "* https://docs.python.org/3/library/json.html\n",
    "* https://docs.python.org/3/tutorial/datastructures.html#dictionaries\n"
   ]
  },
  {
   "cell_type": "code",
   "execution_count": 95,
   "metadata": {},
   "outputs": [
    {
     "data": {
      "text/plain": [
       "0"
      ]
     },
     "execution_count": 95,
     "metadata": {},
     "output_type": "execute_result"
    }
   ],
   "source": [
    "### Nombre de lignes du résultat, utiliser la structure JSON (dictionnaire en Python)\n",
    "len(rc['results']['bindings'])"
   ]
  },
  {
   "cell_type": "code",
   "execution_count": 96,
   "metadata": {},
   "outputs": [],
   "source": [
    "# Inspecter les trois premières lignes du résultat\n",
    "i = 0\n",
    "for l in rc['results']['bindings']:\n",
    "    if i < 3:\n",
    "        print(l)\n",
    "        i += 1"
   ]
  },
  {
   "cell_type": "code",
   "execution_count": null,
   "metadata": {
    "scrolled": true
   },
   "outputs": [],
   "source": [
    "r = [l for l in spqf.sparql_result_to_list(rc)]\n",
    "r[:3]"
   ]
  },
  {
   "cell_type": "code",
   "execution_count": 88,
   "metadata": {
    "scrolled": true,
    "tags": []
   },
   "outputs": [],
   "source": [
    "sq = spqf.sparql_result_to_list(rc)"
   ]
  },
  {
   "cell_type": "code",
   "execution_count": 106,
   "metadata": {},
   "outputs": [
    {
     "data": {
      "text/plain": [
       "0"
      ]
     },
     "execution_count": 106,
     "metadata": {},
     "output_type": "execute_result"
    }
   ],
   "source": [
    "### L'économiste Keynes n'est pas de type 'économiste' dans DBPedia !\n",
    "a = [l for l in sq if 'Keynes' in l]\n",
    "len(a)"
   ]
  },
  {
   "cell_type": "code",
   "execution_count": null,
   "metadata": {},
   "outputs": [],
   "source": []
  },
  {
   "cell_type": "markdown",
   "metadata": {},
   "source": [
    "## Effectifs et propriétés de 'economist' et 'economics'"
   ]
  },
  {
   "cell_type": "markdown",
   "metadata": {},
   "source": [
    "### Stocker les requêtes dans une base de données SQLite\n",
    "\n",
    "\n",
    "*  Afin de ne pas surcharger le carnet, les requêtes SPARQL et les résultats sont stockées dans une base de données SQLite.\n",
    "*  Elle se trouve dans le dossier _data/sparql_queries.db_ .\n",
    "*  On peut l'ouvrir et l'éditer avec le logiciel SQLiteStudio, cf. les indications de [cette page](http://phn-wiki.ish-lyon.cnrs.fr/doku.php?id=intro_histoire_numerique:modelisation_bases_donnees)\n",
    "\n",
    "\n",
    "#### Manière de procéder\n",
    "\n",
    "* Préparer la requête directement dans l'éditeur du point d'accès SPARQ original, dans ce cas: https://dbpedia.org/sparql\n",
    "* Si nécessaire, valider et formater les requêtes dans ces plateformes:\n",
    "  *  https://linked.bodc.ac.uk/validate/query\n",
    "  *  http://sparql.org/query-validator.html\n",
    "* Copier ensuite la requête dans une nouvelle ligne de la base de données, table _query_\n",
    "* Ajouter un titre, un descriptif, l'adresse du point d'accès SPARQL dans la nouvelle ligne de la base de données\n",
    "* Choisir la ligne à exécuter et retenir les numéro de sa clé primaire (_pk_query_)\n"
   ]
  },
  {
   "cell_type": "code",
   "execution_count": null,
   "metadata": {
    "scrolled": true
   },
   "outputs": [],
   "source": [
    "### Inspecter les requêtes existantes\n",
    "\n",
    "# connnexion à la base de données\n",
    "original_db = 'data/sparql_queries.db'\n",
    "conn = sql.connect(original_db)\n",
    "\n",
    "### exécuter la requëte sur la base de donées SQLite pour récupérer les valeurs que contient la ligne\n",
    "c = conn.cursor()\n",
    "c.execute('SELECT pk_query, label, description, sparql_endpoint FROM query')\n",
    "r_all = c.fetchall()\n",
    "\n",
    "# fermer la connexion\n",
    "conn.close()\n",
    "r_all"
   ]
  },
  {
   "cell_type": "markdown",
   "metadata": {},
   "source": [
    "## Requête SPARQL à partir d'une requête stockée dans la base de données"
   ]
  },
  {
   "cell_type": "code",
   "execution_count": 7,
   "metadata": {},
   "outputs": [],
   "source": [
    "### Définir la ligne de la base de données à utiliser (inspécter préalablement la base de données)\n",
    "pk_query = 8\n",
    "\n",
    "# connnexion à la base de données\n",
    "original_db = 'data/sparql_queries.db'\n",
    "conn = sql.connect(original_db)\n",
    "\n",
    "### exécuter la requëte sur la base de donées SQLite pour récupérer les valeurs que contient la ligne\n",
    "c = conn.cursor()\n",
    "c.execute('SELECT * FROM query WHERE pk_query = ?', [pk_query]) ### a list around argument is needed for a string longer then one\n",
    "#c.execute('SELECT * FROM query WHERE pk_query = 10')\n",
    "\n",
    "rc = c.fetchone()\n",
    "\n",
    "# fermer la connexion\n",
    "conn.close()\n",
    "\n",
    "# imprimer et inspecter le résultat\n",
    "# rc\n"
   ]
  },
  {
   "cell_type": "code",
   "execution_count": 8,
   "metadata": {},
   "outputs": [
    {
     "name": "stdout",
     "output_type": "stream",
     "text": [
      "Cherche toutes les propriétés des personnes classées dans l'ontologie DBPedia comme dbo:Economist ou associées avec des propriétés significatives au concept dbr:Economist\n",
      "\n",
      "\n",
      "7 mai 2021 : ajouté yago:Economist110043643\n",
      "\n",
      "Le volume des personnes retrouvées est plus que doublé et celui de leurs propriétés également\n",
      "-----\n",
      "https://dbpedia.org/sparql\n",
      "-----\n",
      "PREFIX  dbo:  <http://dbpedia.org/ontology/>\n",
      "PREFIX  dbp:  <http://dbpedia.org/property/>\n",
      "PREFIX  dbr:  <http://dbpedia.org/resource/>\n",
      "PREFIX  yago: <http://dbpedia.org/class/yago/>\n",
      "\n",
      "SELECT  ?p ?direction (count(*) AS ?freq)\n",
      "WHERE\n",
      "  {   { ?person  ?p  ?o\n",
      "        BIND(\"out\" AS ?direction)\n",
      "      }\n",
      "    UNION\n",
      "      { ?s  ?p  ?person\n",
      "        BIND(\"in\" AS ?direction)\n",
      "      }\n",
      "    {   { ?person  a                     dbo:Economist }\n",
      "    UNION\n",
      "      { ?person a yago:Economist110043643}    \n",
      "      UNION\n",
      "        { ?person  dbp:profession  dbr:Economist }\n",
      "      UNION\n",
      "        { ?person  dbp:occupation  dbr:Economist }\n",
      "      UNION\n",
      "        { ?person  dbp:field  dbr:Economist }\n",
      "      UNION\n",
      "        { ?person  dbp:fields  dbr:Economist }\n",
      "      UNION\n",
      "        { ?person  dbp:discipline  dbr:Economist }\n",
      "      UNION\n",
      "        { ?person  dbo:profession  dbr:Economist }\n",
      "      UNION\n",
      "        { ?person  dbo:occupation  dbr:Economist }\n",
      "      UNION\n",
      "        { ?person  dbo:academicDiscipline  dbr:Economist }\n",
      "    }\n",
      "  }\n",
      "GROUP BY ?p ?direction\n",
      "ORDER BY DESC(?freq)\n"
     ]
    }
   ],
   "source": [
    "print(rc[2] +  \"\\n-----\\n\" + rc[4] +  \"\\n-----\\n\" + rc[5])"
   ]
  },
  {
   "cell_type": "markdown",
   "metadata": {},
   "source": [
    "### Exécuter les requêtes SPARQL en utilisant les fonctions-utilisateur"
   ]
  },
  {
   "cell_type": "code",
   "execution_count": 9,
   "metadata": {
    "tags": []
   },
   "outputs": [
    {
     "name": "stdout",
     "output_type": "stream",
     "text": [
      "<class 'dict'>\n"
     ]
    }
   ],
   "source": [
    "### Exécuter la requête SPARQL enveloppée par cette fonction, \n",
    "# elle se trouve dans le biliothèque-utilisateur _sparql_functions.py_\n",
    "# le premier paramètre correspond au point d'accès SPARQL, le deuxième à la requête\n",
    "qr = spqf.get_json_sparql_result(rc[4],rc[5])"
   ]
  },
  {
   "cell_type": "code",
   "execution_count": 10,
   "metadata": {},
   "outputs": [
    {
     "data": {
      "text/plain": [
       "1460"
      ]
     },
     "execution_count": 10,
     "metadata": {},
     "output_type": "execute_result"
    }
   ],
   "source": [
    "# Nombre de lignes de la réponse\n",
    "len(qr['results']['bindings'])"
   ]
  },
  {
   "cell_type": "code",
   "execution_count": null,
   "metadata": {
    "scrolled": true,
    "tags": []
   },
   "outputs": [],
   "source": [
    "# Inspecter les dix premières lignes\n",
    "i = 0\n",
    "for l in qr['results']['bindings']:\n",
    "    if i < 10:\n",
    "        print(l)\n",
    "        i += 1"
   ]
  },
  {
   "cell_type": "code",
   "execution_count": 15,
   "metadata": {
    "scrolled": true
   },
   "outputs": [],
   "source": [
    "# Transformer le résultat en liste en utilisant une autre fonction de la bibliothèque utilisateur\n",
    "r = [l for l in spqf.sparql_result_to_list(qr)  if 'ontology' in l[0] ]\n",
    "# r"
   ]
  },
  {
   "cell_type": "code",
   "execution_count": null,
   "metadata": {
    "scrolled": true,
    "tags": []
   },
   "outputs": [],
   "source": [
    "# inspecter une seule ligne de la liste (de listes)\n",
    "print(len(r))\n",
    "r[:20]"
   ]
  },
  {
   "cell_type": "code",
   "execution_count": null,
   "metadata": {},
   "outputs": [],
   "source": []
  },
  {
   "cell_type": "markdown",
   "metadata": {},
   "source": [
    "### Stocker le résultat dans la base de données SQLite\n",
    "\n",
    "Le résultat de la requête est stocké tel quel, en entier, dans une ligne de la base de données. L'horodatage est ajouté afin de situer le résultat dans le temps."
   ]
  },
  {
   "cell_type": "code",
   "execution_count": 16,
   "metadata": {},
   "outputs": [],
   "source": [
    "### OPTIONNEL : si souhaité, stocker la réponse du point d'accès SPARQL dans la table 'result' de la base de données \n",
    "\n",
    "conn = sql.connect(original_db)\n",
    "c = conn.cursor()\n",
    "values = (pk_query, str(qr))\n",
    "\n",
    "# https://www.techonthenet.com/sqlite/functions/now.php\n",
    "c.execute(\"INSERT INTO result (fk_query, result) VALUES (?,?)\", values)\n",
    "# valider l'insertion et fermer la base de données\n",
    "## DESACTIVÉ !!! ##  conn.commit()\n",
    "conn.close()"
   ]
  },
  {
   "cell_type": "code",
   "execution_count": 7,
   "metadata": {
    "scrolled": true
   },
   "outputs": [],
   "source": [
    "### Inspecter le résultat d'une requête après insertion, une fois l'insert ci-dessus effectué\n",
    "\n",
    "# Définir la ligne de la base de données à chercher (inspécter préalablement la base de données)\n",
    "pk_result = ['11']\n",
    "\n",
    "# connnexion à la base de données\n",
    "original_db = 'data/sparql_queries.db'\n",
    "conn = sql.connect(original_db)\n",
    "\n",
    "### exécuter la requëte sur la base de donées SQLite pour récupérer les valeurs que contient la ligne\n",
    "c = conn.cursor()\n",
    "c.execute('SELECT * FROM result WHERE pk_result = ?', pk_result)\n",
    "result_q = c.fetchone()\n",
    "\n",
    "# fermer la connexion\n",
    "conn.close()\n",
    "# result_q[3]"
   ]
  },
  {
   "cell_type": "code",
   "execution_count": 8,
   "metadata": {},
   "outputs": [
    {
     "data": {
      "text/plain": [
       "dict"
      ]
     },
     "execution_count": 8,
     "metadata": {},
     "output_type": "execute_result"
    }
   ],
   "source": [
    "### Transform string to dict\n",
    "## Doc.:\n",
    "# https://stackoverflow.com/questions/988228/convert-a-string-representation-of-a-dictionary-to-a-dictionary\n",
    "d = ast.literal_eval(result_q[3])\n",
    "type(d)"
   ]
  },
  {
   "cell_type": "code",
   "execution_count": null,
   "metadata": {
    "scrolled": true
   },
   "outputs": [],
   "source": [
    "# Transformer le résultat en liste en utilisant une autre fonction de la bibliothèque utilisateur\n",
    "r = [l for l in spqf.sparql_result_to_list(d)]\n",
    "print(len(r))\n",
    "r"
   ]
  },
  {
   "cell_type": "code",
   "execution_count": null,
   "metadata": {},
   "outputs": [],
   "source": []
  },
  {
   "cell_type": "markdown",
   "metadata": {},
   "source": [
    "## Les propriétés des économistes\n",
    "\n",
    "La requête 8 de la base de données donne comme résultat la liste des propriétés regroupées des personnes classées dans l'ontologie DBPedia comme dbo:Economist ou associées avec des propriétés significatives au concept dbr:Economist\n",
    "\n",
    "Le résultat de cette requête pose le problème de l'articulation entre les propriétés issues de la première méthode d'extraction des données de DBPedia (_http://dbpedia.org/property/..._) et celles de la nouvelle méthode basée sur une ontologie décrite explicititement (_http://dbpedia.org/ontology/..._).\n",
    "\n",
    "Documentation à ce sujet:\n",
    "\n",
    "* https://wiki.dbpedia.org/services-resources/ontology\n",
    "\n",
    "* http://mappings.dbpedia.org/server/ontology/classes/Economist\n",
    "\n",
    "* http://mappings.dbpedia.org/index.php/Main_Page\n",
    "\n",
    "\n",
    "L'interrogation des propriétés dans l'espace de noms ontologie donne des données plus cohérentes. Elles sont parfois identiques aux premières, parfois elle demandent intégration. \n",
    "\n",
    "Il faut explorer les données pour comprendre l'information qu'elles contiennent et évaluer son utilité pour répondre aux questionnements.\n",
    "\n",
    "[8 mai 2021] __Complément important__:\n",
    "* la requête 8 a été complétée en ajoutant la classe (rdf:type) [Economist110043643](https://dbpedia.org/class/yago/Economist110043643) issue du projet [YAGO: A High-Quality Knowledge Base](https://yago-knowledge.org/)\n",
    "  * https://yago-knowledge.org/schema\n",
    "  * https://yago-knowledge.org/sparql\n",
    "  * [YAGO (database)](https://en.wikipedia.org/wiki/YAGO_(database)) (Wikpedia)\n",
    "* le nombre d'économistes a plus que doublé et des figures significatives, tel que [John Maynard Keynes](https://dbpedia.org/page/John_Maynard_Keynes) —qui n'est pas classé comme économiste dans l'ontolgie DBPedia, sont maintenant comprises : cf. les requêts 7 et 19 qui donnent l'effectif des économistes retrouvés\n",
    "\n",
    "La leçon à tirer : l'inspection 'manuelle' des données et l'expertise de domaine sont essentielles en analyse de données"
   ]
  },
  {
   "cell_type": "code",
   "execution_count": null,
   "metadata": {},
   "outputs": [],
   "source": []
  },
  {
   "cell_type": "code",
   "execution_count": null,
   "metadata": {},
   "outputs": [],
   "source": []
  },
  {
   "cell_type": "code",
   "execution_count": null,
   "metadata": {},
   "outputs": [],
   "source": []
  }
 ],
 "metadata": {
  "kernelspec": {
   "display_name": "Py 3.7 HN sparql",
   "language": "python",
   "name": "py37_hn_sparql"
  },
  "language_info": {
   "codemirror_mode": {
    "name": "ipython",
    "version": 3
   },
   "file_extension": ".py",
   "mimetype": "text/x-python",
   "name": "python",
   "nbconvert_exporter": "python",
   "pygments_lexer": "ipython3",
   "version": "3.7.10"
  },
  "toc-autonumbering": false
 },
 "nbformat": 4,
 "nbformat_minor": 4
}
