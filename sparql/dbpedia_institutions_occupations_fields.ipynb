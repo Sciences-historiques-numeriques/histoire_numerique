{
 "cells": [
  {
   "cell_type": "code",
   "execution_count": null,
   "id": "cultural-population",
   "metadata": {},
   "outputs": [],
   "source": []
  },
  {
   "cell_type": "code",
   "execution_count": null,
   "id": "healthy-prediction",
   "metadata": {},
   "outputs": [],
   "source": []
  },
  {
   "cell_type": "markdown",
   "id": "employed-signature",
   "metadata": {},
   "source": [
    "# Institutions, métiers, champs (en préparation)\n",
    "\n"
   ]
  },
  {
   "cell_type": "code",
   "execution_count": null,
   "id": "present-microphone",
   "metadata": {},
   "outputs": [],
   "source": []
  },
  {
   "cell_type": "code",
   "execution_count": null,
   "id": "iraqi-introduction",
   "metadata": {},
   "outputs": [],
   "source": [
    "import pandas as pd\n",
    "import matplotlib.pyplot as plt\n",
    "import numpy as np\n",
    "import networkx as nx"
   ]
  },
  {
   "cell_type": "code",
   "execution_count": null,
   "id": "elect-pollution",
   "metadata": {},
   "outputs": [],
   "source": [
    "###  Installation du widget jupyter en plus de la librairie\n",
    "# jupyter labextension install @jupyter-widgets/jupyterlab-manager jupyter-cytoscape\n",
    "import ipycytoscape as cy"
   ]
  },
  {
   "cell_type": "code",
   "execution_count": null,
   "id": "blind-triangle",
   "metadata": {},
   "outputs": [],
   "source": [
    "import pprint\n",
    "import csv\n",
    "import ast\n",
    "import re\n",
    "\n",
    "from collections import Counter, defaultdict\n",
    "from operator import itemgetter\n",
    "\n",
    "import sqlite3 as sql\n",
    "import time\n",
    "\n",
    "from importlib import reload\n",
    "from shutil import copyfile\n",
    "\n",
    "import math"
   ]
  },
  {
   "cell_type": "markdown",
   "id": "moderate-relations",
   "metadata": {},
   "source": [
    "## Base de données"
   ]
  },
  {
   "cell_type": "code",
   "execution_count": null,
   "id": "oriented-uganda",
   "metadata": {},
   "outputs": [],
   "source": [
    "### Définir les adresses des fichiers, l'existant et celui à créer\n",
    "db = 'data/sparql_queries.db'"
   ]
  },
  {
   "cell_type": "code",
   "execution_count": null,
   "id": "soviet-recommendation",
   "metadata": {},
   "outputs": [],
   "source": [
    "### Fonction qui récupère et met en forme le temps au moment de l'exécution\n",
    "\n",
    "# définition\n",
    "def timestamp_formatted_for_file_name():\n",
    "    is_now = time.strftime('%Y%m%d_%H%M%S')\n",
    "    return is_now\n",
    "\n",
    "# exécution\n",
    "timestamp_formatted_for_file_name()"
   ]
  },
  {
   "cell_type": "code",
   "execution_count": null,
   "id": "psychological-dress",
   "metadata": {},
   "outputs": [],
   "source": [
    "##  Noter que la différence de suffixe, en soi totalement arbitraire, \n",
    "#  dépend du fait que dans la configuration de .gitignore, .sqlite est exclu du verisonnement GIT\n",
    "#  contrairement à .db qui est versionné\n",
    "timestamped_db_copy = 'data/sparql_queries_' + timestamp_formatted_for_file_name() + '.sqlite'"
   ]
  },
  {
   "cell_type": "code",
   "execution_count": null,
   "id": "mexican-singer",
   "metadata": {},
   "outputs": [],
   "source": [
    "### Créer une copie de sauvegarde avec timestamp du fichier (versionnement manuel)\n",
    "# ATTENTION : la base de données doit exister à l'endroit indiqué !\n",
    "## Cette requête n'est utile que si des modifications en écriture vont être apportées à la base de données,\n",
    "# afint de préserver le dernier état avant modification\n",
    "\n",
    "## Documentation:\n",
    "# https://docs.python.org/3/library/shutil.htmlcopied_db = copyfile(original_db, timestamped_db_copy)\n",
    "\n",
    "copied_db = copyfile(db, timestamped_db_copy)\n",
    "copied_db"
   ]
  },
  {
   "cell_type": "code",
   "execution_count": null,
   "id": "announced-trunk",
   "metadata": {},
   "outputs": [],
   "source": []
  },
  {
   "cell_type": "markdown",
   "id": "composed-emerald",
   "metadata": {},
   "source": [
    "## Relations pendant les études\n",
    "\n",
    "Personnes ayant étudié dans la même université dans une fourchette de 12 ans : on émet l'hypothèse que ils/elles ont virtuellement pu nouer des relations qui peuvent influences les parcours et choix ultérieurs grâce à des contacts prolongés avec d'anciens camarades d'études"
   ]
  },
  {
   "cell_type": "code",
   "execution_count": null,
   "id": "governmental-powder",
   "metadata": {},
   "outputs": [],
   "source": [
    "### \n",
    "#  On part de la date de naissance et on postule un croisement entre une et plusieurs années\n",
    "# en admettant que l'âge des études soit approximativement le même\n",
    "\n",
    "etudes_meme_uni = \"\"\"\n",
    "SELECT REPLACE(p.uri_entity , 'http://dbpedia.org/resource/', '') person_1,\n",
    "REPLACE(p1.uri_entity , 'http://dbpedia.org/resource/', '') person_2,\n",
    "REPLACE(p.value, 'http://dbpedia.org/resource/', '') alma_mater,\n",
    "p2.value birth_year_1,\n",
    "p3.value birth_year_2,\n",
    "p4.value long,\n",
    "p5.value lat\n",
    "FROM property p\n",
    "  JOIN property p1 ON p1.value = p.value AND p1.pk_property > p.pk_property AND p1.property LIKE '%almaMater'\n",
    "  JOIN property p2 ON p2.uri_entity = p.uri_entity AND p2.property LIKE '%irthYe%' AND p2.\"source\" LIKE '%8 mai 2021%'\n",
    "  JOIN property p3 ON p3.uri_entity = p1.uri_entity AND p3.property LIKE '%irthYe%' AND p3.\"source\" LIKE '%8 mai 2021%'\n",
    "  LEFT JOIN property p4 ON\n",
    "\tp4.uri_entity = p1.value\n",
    "\tAND p4.property LIKE '%long'\n",
    "LEFT JOIN property p5 ON\n",
    "\tp5.uri_entity = p1.value\n",
    "\tAND p5.property LIKE '%lat'\n",
    "WHERE  p.property LIKE '%almaMater'\n",
    "AND p3.value BETWEEN (p2.value - 6) AND (p2.value + 6);\n",
    "\"\"\""
   ]
  },
  {
   "cell_type": "code",
   "execution_count": null,
   "id": "handmade-logistics",
   "metadata": {},
   "outputs": [],
   "source": [
    "### Undirected version of the same graph produced using Pandas\n",
    "cn = sql.connect(db)\n",
    "same_univ = pd.read_sql_query(etudes_meme_uni, cn)\n",
    "cn.close()\n",
    "same_univ.head()"
   ]
  },
  {
   "cell_type": "code",
   "execution_count": null,
   "id": "agreed-motorcycle",
   "metadata": {
    "scrolled": true,
    "tags": []
   },
   "outputs": [],
   "source": [
    "universities = same_univ.groupby(['alma_mater']).size()\n",
    "print(len(universities))\n",
    "list(universities.sort_values(ascending=False).items())[:100] #[10:20]"
   ]
  },
  {
   "cell_type": "code",
   "execution_count": null,
   "id": "democratic-liberal",
   "metadata": {},
   "outputs": [],
   "source": []
  },
  {
   "cell_type": "code",
   "execution_count": null,
   "id": "inner-chemistry",
   "metadata": {},
   "outputs": [],
   "source": [
    "fields par période"
   ]
  },
  {
   "cell_type": "code",
   "execution_count": null,
   "id": "danish-ready",
   "metadata": {},
   "outputs": [],
   "source": []
  },
  {
   "cell_type": "code",
   "execution_count": null,
   "id": "floating-dynamics",
   "metadata": {},
   "outputs": [],
   "source": []
  },
  {
   "cell_type": "markdown",
   "id": "guided-length",
   "metadata": {},
   "source": [
    "# Liens entre les Organisations"
   ]
  },
  {
   "cell_type": "code",
   "execution_count": 10,
   "id": "stuffed-geneva",
   "metadata": {},
   "outputs": [],
   "source": [
    "### Définir les adresses des fichiers, l'existant et celui à créer\n",
    "db = 'data/sparql_queries.db'"
   ]
  },
  {
   "cell_type": "code",
   "execution_count": 11,
   "id": "tracked-rubber",
   "metadata": {},
   "outputs": [],
   "source": [
    "## liens entre Universités donnés par les étudiants\n",
    "liens_univ = \"\"\"\n",
    "SELECT REPLACE(p.value , 'http://dbpedia.org/resource/', '') univ_1,\n",
    "REPLACE(p1.value, 'http://dbpedia.org/resource/', '') univ_2,\n",
    "REPLACE(p.uri_entity, 'http://dbpedia.org/resource/', '') person,\n",
    "p3.value birth_year,\n",
    "p4.value long,\n",
    "p5.value lat,\n",
    "p6.value long,\n",
    "p7.value lat\n",
    "FROM property p\n",
    "  JOIN property p1 ON p1.uri_entity = p.uri_entity AND p1.pk_property > p.pk_property AND p1.property LIKE '%almaMater'\n",
    "  JOIN property p3 ON p3.uri_entity = p1.uri_entity AND p3.property LIKE '%irthYe%' AND p3.\"source\" LIKE '%8 mai 2021%'\n",
    "  LEFT JOIN property p4 ON\n",
    "\tp4.uri_entity = p.value\n",
    "\tAND p4.property LIKE '%long'\n",
    "\tLEFT JOIN property p5 ON\n",
    "\tp5.uri_entity = p.value\n",
    "\tAND p5.property LIKE '%lat'\n",
    "\tLEFT JOIN property p6 ON\n",
    "\tp6.uri_entity = p1.value\n",
    "\tAND p6.property LIKE '%long'\n",
    "LEFT JOIN property p7 ON\n",
    "\tp7.uri_entity = p1.value\n",
    "\tAND p7.property LIKE '%lat'\n",
    "WHERE  p.property LIKE '%almaMater';\n",
    "\"\"\""
   ]
  },
  {
   "cell_type": "code",
   "execution_count": 12,
   "id": "enabling-badge",
   "metadata": {},
   "outputs": [
    {
     "data": {
      "text/html": [
       "<div>\n",
       "<style scoped>\n",
       "    .dataframe tbody tr th:only-of-type {\n",
       "        vertical-align: middle;\n",
       "    }\n",
       "\n",
       "    .dataframe tbody tr th {\n",
       "        vertical-align: top;\n",
       "    }\n",
       "\n",
       "    .dataframe thead th {\n",
       "        text-align: right;\n",
       "    }\n",
       "</style>\n",
       "<table border=\"1\" class=\"dataframe\">\n",
       "  <thead>\n",
       "    <tr style=\"text-align: right;\">\n",
       "      <th></th>\n",
       "      <th>univ_1</th>\n",
       "      <th>univ_2</th>\n",
       "      <th>person</th>\n",
       "      <th>birth_year</th>\n",
       "      <th>long</th>\n",
       "      <th>lat</th>\n",
       "      <th>long</th>\n",
       "      <th>lat</th>\n",
       "    </tr>\n",
       "  </thead>\n",
       "  <tbody>\n",
       "    <tr>\n",
       "      <th>0</th>\n",
       "      <td>Bangalore_University</td>\n",
       "      <td>Harvard_University</td>\n",
       "      <td>A._K._Shiva_Kumar</td>\n",
       "      <td>1956</td>\n",
       "      <td>77.5032</td>\n",
       "      <td>12.9388</td>\n",
       "      <td>-71.1169</td>\n",
       "      <td>42.3744</td>\n",
       "    </tr>\n",
       "    <tr>\n",
       "      <th>1</th>\n",
       "      <td>IIM_Ahmedabad</td>\n",
       "      <td>Harvard_University</td>\n",
       "      <td>A._K._Shiva_Kumar</td>\n",
       "      <td>1956</td>\n",
       "      <td>None</td>\n",
       "      <td>None</td>\n",
       "      <td>-71.1169</td>\n",
       "      <td>42.3744</td>\n",
       "    </tr>\n",
       "    <tr>\n",
       "      <th>2</th>\n",
       "      <td>St._Joseph's_College,_Bangalore</td>\n",
       "      <td>Harvard_University</td>\n",
       "      <td>A._K._Shiva_Kumar</td>\n",
       "      <td>1956</td>\n",
       "      <td>77.5964</td>\n",
       "      <td>12.9629</td>\n",
       "      <td>-71.1169</td>\n",
       "      <td>42.3744</td>\n",
       "    </tr>\n",
       "    <tr>\n",
       "      <th>3</th>\n",
       "      <td>Bangalore_University</td>\n",
       "      <td>IIM_Ahmedabad</td>\n",
       "      <td>A._K._Shiva_Kumar</td>\n",
       "      <td>1956</td>\n",
       "      <td>77.5032</td>\n",
       "      <td>12.9388</td>\n",
       "      <td>None</td>\n",
       "      <td>None</td>\n",
       "    </tr>\n",
       "    <tr>\n",
       "      <th>4</th>\n",
       "      <td>Bangalore_University</td>\n",
       "      <td>St._Joseph's_College,_Bangalore</td>\n",
       "      <td>A._K._Shiva_Kumar</td>\n",
       "      <td>1956</td>\n",
       "      <td>77.5032</td>\n",
       "      <td>12.9388</td>\n",
       "      <td>77.5964</td>\n",
       "      <td>12.9629</td>\n",
       "    </tr>\n",
       "  </tbody>\n",
       "</table>\n",
       "</div>"
      ],
      "text/plain": [
       "                            univ_1                           univ_2  \\\n",
       "0             Bangalore_University               Harvard_University   \n",
       "1                    IIM_Ahmedabad               Harvard_University   \n",
       "2  St._Joseph's_College,_Bangalore               Harvard_University   \n",
       "3             Bangalore_University                    IIM_Ahmedabad   \n",
       "4             Bangalore_University  St._Joseph's_College,_Bangalore   \n",
       "\n",
       "              person birth_year     long      lat      long      lat  \n",
       "0  A._K._Shiva_Kumar       1956  77.5032  12.9388  -71.1169  42.3744  \n",
       "1  A._K._Shiva_Kumar       1956     None     None  -71.1169  42.3744  \n",
       "2  A._K._Shiva_Kumar       1956  77.5964  12.9629  -71.1169  42.3744  \n",
       "3  A._K._Shiva_Kumar       1956  77.5032  12.9388      None     None  \n",
       "4  A._K._Shiva_Kumar       1956  77.5032  12.9388   77.5964  12.9629  "
      ]
     },
     "execution_count": 12,
     "metadata": {},
     "output_type": "execute_result"
    }
   ],
   "source": [
    "### Undirected version of the same graph produced using Pandas\n",
    "cn = sql.connect(db)\n",
    "df_liens_univ = pd.read_sql_query(liens_univ, cn)\n",
    "cn.close()\n",
    "df_liens_univ.head()"
   ]
  },
  {
   "cell_type": "code",
   "execution_count": 13,
   "id": "radical-energy",
   "metadata": {
    "scrolled": true,
    "tags": []
   },
   "outputs": [
    {
     "name": "stdout",
     "output_type": "stream",
     "text": [
      "1299\n"
     ]
    },
    {
     "data": {
      "text/plain": [
       "[('Piet_Lieftinck', 28),\n",
       " ('Jo_Ritzen', 28),\n",
       " ('Hans_Sennholz', 21),\n",
       " ('Ian_Macfarlane_(economist)', 21),\n",
       " ('Alexander_Rinnooy_Kan', 21),\n",
       " ('B._R._Ambedkar', 21),\n",
       " ('Aat_van_Rhijn', 21),\n",
       " ('Jan_Kees_de_Jager', 21),\n",
       " ('Andreas_Kaplan', 15),\n",
       " ('Oliver_E._Williamson', 15)]"
      ]
     },
     "execution_count": 13,
     "metadata": {},
     "output_type": "execute_result"
    }
   ],
   "source": [
    "students = df_liens_univ.groupby(['person']).size()\n",
    "print(len(students))\n",
    "list(students.sort_values(ascending=False).items())[:10] #[10:20]"
   ]
  },
  {
   "cell_type": "code",
   "execution_count": null,
   "id": "buried-locator",
   "metadata": {},
   "outputs": [],
   "source": [
    "## Piet_Lieftinck 8 universities but errors \n"
   ]
  },
  {
   "cell_type": "code",
   "execution_count": 14,
   "id": "appreciated-enhancement",
   "metadata": {},
   "outputs": [
    {
     "data": {
      "text/plain": [
       "eff\n",
       "28      2\n",
       "21      6\n",
       "15      4\n",
       "10     21\n",
       "6      85\n",
       "3     355\n",
       "1     826\n",
       "dtype: int64"
      ]
     },
     "execution_count": 14,
     "metadata": {},
     "output_type": "execute_result"
    }
   ],
   "source": [
    "df_students = pd.DataFrame(students, columns=['eff'])\n",
    "gdf_students = df_students.groupby(['eff']).size()\n",
    "gdf_students.sort_index(ascending=False)[:20]"
   ]
  },
  {
   "cell_type": "code",
   "execution_count": 15,
   "id": "running-regular",
   "metadata": {},
   "outputs": [
    {
     "data": {
      "text/plain": [
       "networkx.classes.graph.Graph"
      ]
     },
     "execution_count": 15,
     "metadata": {},
     "output_type": "execute_result"
    }
   ],
   "source": [
    "GU = nx.from_pandas_edgelist(df_liens_univ, 'univ_1', 'univ_2')\n",
    "type(GU)"
   ]
  },
  {
   "cell_type": "code",
   "execution_count": null,
   "id": "least-boutique",
   "metadata": {},
   "outputs": [],
   "source": [
    "### CA DOIT être un multigraphe !"
   ]
  },
  {
   "cell_type": "code",
   "execution_count": 16,
   "id": "united-white",
   "metadata": {},
   "outputs": [
    {
     "data": {
      "text/plain": [
       "(False, False, 1071, 2323, False, 0.004054207352723021)"
      ]
     },
     "execution_count": 16,
     "metadata": {},
     "output_type": "execute_result"
    }
   ],
   "source": [
    "GU.is_multigraph(), GU.is_directed(), GU.number_of_nodes(), GU.number_of_edges(), nx.is_connected(GU), nx.density(GU)"
   ]
  },
  {
   "cell_type": "code",
   "execution_count": 17,
   "id": "suffering-unknown",
   "metadata": {},
   "outputs": [
    {
     "data": {
      "text/plain": [
       "72"
      ]
     },
     "execution_count": 17,
     "metadata": {},
     "output_type": "execute_result"
    }
   ],
   "source": [
    "nx.number_connected_components(GU)"
   ]
  },
  {
   "cell_type": "code",
   "execution_count": 18,
   "id": "abroad-marathon",
   "metadata": {},
   "outputs": [
    {
     "name": "stdout",
     "output_type": "stream",
     "text": [
      "<class 'generator'>\n"
     ]
    },
    {
     "data": {
      "text/plain": [
       "eff\n",
       "2      57\n",
       "3      10\n",
       "4       4\n",
       "911     1\n",
       "dtype: int64"
      ]
     },
     "execution_count": 18,
     "metadata": {},
     "output_type": "execute_result"
    }
   ],
   "source": [
    "### Composantes du graphe\n",
    "# Une composante principale avec 1505 individus et de multiples petites composantes\n",
    "# https://networkx.org/documentation/stable/reference/algorithms/generated/networkx.algorithms.components.connected_components.html\n",
    "c_comp = nx.connected_components(GU)\n",
    "print(type(c_comp))\n",
    "## Length of generator as set of nodes = number of nodes\n",
    "df_c_comp = pd.DataFrame([len(c) for c in sorted(c_comp, key=len, reverse=True)], columns=['eff'])\n",
    "gs_c_comp = df_c_comp.groupby(['eff']).size()\n",
    "gs_c_comp.sort_index()"
   ]
  },
  {
   "cell_type": "code",
   "execution_count": 19,
   "id": "threatened-millennium",
   "metadata": {},
   "outputs": [
    {
     "name": "stdout",
     "output_type": "stream",
     "text": [
      "[]\n"
     ]
    }
   ],
   "source": [
    "#  https://networkx.org/documentation/stable/reference/algorithms/generated/networkx.algorithms.components.connected_components.html\n",
    "print([c for c in c_comp if len(c) == 3])\n",
    "S = [[len(c), GU.subgraph(c).copy()] for c in nx.connected_components(GU)]\n",
    "# type(S)"
   ]
  },
  {
   "cell_type": "code",
   "execution_count": 20,
   "id": "federal-worker",
   "metadata": {},
   "outputs": [
    {
     "data": {
      "text/plain": [
       "4"
      ]
     },
     "execution_count": 20,
     "metadata": {},
     "output_type": "execute_result"
    }
   ],
   "source": [
    "au = [[s[0], s[1]] for s in S  if s[0] == 4]\n",
    "len(au)\n",
    "#a"
   ]
  },
  {
   "cell_type": "code",
   "execution_count": 21,
   "id": "incorporated-thanks",
   "metadata": {},
   "outputs": [
    {
     "data": {
      "image/png": "[encoded data removed]",
      "text/plain": [
       "<Figure size 1080x504 with 1 Axes>"
      ]
     },
     "metadata": {},
     "output_type": "display_data"
    }
   ],
   "source": [
    "plt.figure(figsize=(15,7))\n",
    "nx.draw_networkx(au[0][1])"
   ]
  },
  {
   "cell_type": "code",
   "execution_count": null,
   "id": "pregnant-disaster",
   "metadata": {},
   "outputs": [],
   "source": [
    "fig = plt.figure(figsize=(200,100))\n",
    "pos = nx.kamada_kawai_layout(GU)\n",
    "nx.draw_networkx(GU, pos, node_color = 'DarkBlue', font_color = 'CornflowerBlue',\\\n",
    "                 font_size=30, node_size=node_sizes, edge_color='LightGray' )\n",
    "plt.savefig(\"graphs/GU.pdf\", format=\"pdf\")\n",
    "plt.show()"
   ]
  },
  {
   "cell_type": "code",
   "execution_count": null,
   "id": "vocal-employee",
   "metadata": {},
   "outputs": [],
   "source": []
  },
  {
   "cell_type": "code",
   "execution_count": null,
   "id": "heavy-portugal",
   "metadata": {},
   "outputs": [],
   "source": []
  }
 ],
 "metadata": {
  "kernelspec": {
   "display_name": "Py 3.7 HN sparql",
   "language": "python",
   "name": "py37_hn_sparql"
  },
  "language_info": {
   "codemirror_mode": {
    "name": "ipython",
    "version": 3
   },
   "file_extension": ".py",
   "mimetype": "text/x-python",
   "name": "python",
   "nbconvert_exporter": "python",
   "pygments_lexer": "ipython3",
   "version": "3.7.10"
  }
 },
 "nbformat": 4,
 "nbformat_minor": 5
}
