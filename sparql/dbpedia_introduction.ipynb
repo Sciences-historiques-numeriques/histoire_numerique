{
 "cells": [
  {
   "cell_type": "markdown",
   "id": "weekly-tribune",
   "metadata": {},
   "source": [
    "# Les économistes de DBPedia – Introduction\n",
    "\n",
    "\n",
    "Cet ensemble de carnets a pour finalité d'analyser les principales propriétés des personnes identifiées comme économistes dans DBPedia en anglais. Cf. par exemple les données relatives à [John Maynard Keynes](https://dbpedia.org/page/John_Maynard_Keynes).\n",
    "\n",
    "La finalité de l'analyse est non seulement de cerner le profil de cette population à partir des propriétés disponibles dans DBPedia mais surtout d'illustrer le potentiel de différentes techniques d'exploration et d'analyse de données. \n",
    "\n",
    "La source des données est représentée par DBPedia et donc, par son intermédiaire, par Wikipedia qui est la source principale de ces données extraites automatiquement des '[Infobox](https://en.wikipedia.org/wiki/Infobox)' et textes de l'encyclopédie collaborative. Les données sont récupérées grâce aux requêtes SPARQL exécutées sur le point d'accès SPARQL de DBPedia : https://dbpedia.org/sparql.\n",
    "\n",
    "\n",
    "Dans le carnet [dbpedia_exploration.ipynb](dbpedia_exploration.ipynb) on procède à l'analyse des manières d'identifier la population des économistes, puis à l'exploration des propriétés disponibles qui les concernent. Les requêtes sont stockées dans une base de données SQLite afin de pouvoir les gérer facilement et ajouter des annotations et commentaires. \n",
    "\n",
    "\n",
    "Les requêtes 19 et 8 de la base de données permettent d'identifier 6868 personnes en tant qu'économistes (résultat au 7 mai 2021) et de lister et compter leurs propriétés. Parmi celles-ci les plus fréquentes ou les plus significatives, comme nationalité, ou Université fréquentée, etc. ont été retenues et stockées dans une table dédiée de la base de données SQLite afin de pouvoir être nettoyées et analysées. Le processus de production est documenté dans le carnet [dbpedia_production.ipynb](dbpedia_production.ipynb).\n",
    "\n",
    "Ci-dessous on trouvera une exploration des propriétés qui ont été retenues et des considérations concernant leur analyse qui renvoient également aux autres carnets réalisés.\n"
   ]
  },
  {
   "cell_type": "markdown",
   "id": "trying-serial",
   "metadata": {},
   "source": [
    "### Librairies"
   ]
  },
  {
   "cell_type": "code",
   "execution_count": 1,
   "id": "promotional-morrison",
   "metadata": {},
   "outputs": [],
   "source": [
    "import pandas as pd\n",
    "import matplotlib.pyplot as plt\n",
    "import numpy as np\n",
    "import networkx as nx"
   ]
  },
  {
   "cell_type": "code",
   "execution_count": 2,
   "id": "flexible-fruit",
   "metadata": {},
   "outputs": [],
   "source": [
    "import pprint\n",
    "import csv\n",
    "import ast\n",
    "import re\n",
    "\n",
    "from collections import Counter\n",
    "from operator import itemgetter\n",
    "\n",
    "import sqlite3 as sql\n",
    "import time\n",
    "import statistics as stat\n",
    "\n",
    "from importlib import reload\n",
    "from shutil import copyfile"
   ]
  },
  {
   "cell_type": "markdown",
   "id": "gentle-defeat",
   "metadata": {},
   "source": [
    "## Base de données"
   ]
  },
  {
   "cell_type": "code",
   "execution_count": 3,
   "id": "optimum-attitude",
   "metadata": {
    "tags": []
   },
   "outputs": [],
   "source": [
    "### Définir les adresses des fichiers, l'existant et celui à créer\n",
    "db = 'data/sparql_queries.db'"
   ]
  },
  {
   "cell_type": "code",
   "execution_count": 4,
   "id": "utility-canyon",
   "metadata": {},
   "outputs": [
    {
     "data": {
      "text/plain": [
       "'20210602_234222'"
      ]
     },
     "execution_count": 4,
     "metadata": {},
     "output_type": "execute_result"
    }
   ],
   "source": [
    "### Fonction qui récupère et met en forme le temps au moment de l'exécution\n",
    "\n",
    "# définition\n",
    "def timestamp_formatted_for_file_name():\n",
    "    is_now = time.strftime('%Y%m%d_%H%M%S')\n",
    "    return is_now\n",
    "\n",
    "# exécution\n",
    "timestamp_formatted_for_file_name()"
   ]
  },
  {
   "cell_type": "code",
   "execution_count": 6,
   "id": "periodic-container",
   "metadata": {},
   "outputs": [],
   "source": [
    "##  Préparation du nom de la copie\n",
    "timestamped_db_copy = 'data/sparql_queries_' + timestamp_formatted_for_file_name() + '.sqlite'"
   ]
  },
  {
   "cell_type": "code",
   "execution_count": 7,
   "id": "vanilla-burden",
   "metadata": {},
   "outputs": [
    {
     "data": {
      "text/plain": [
       "'data/sparql_queries_20210531_235058.sqlite'"
      ]
     },
     "execution_count": 7,
     "metadata": {},
     "output_type": "execute_result"
    }
   ],
   "source": [
    "### Créer une copie de sauvegarde avec timestamp du fichier (versionnement manuel)\n",
    "## Cette requête n'est utile que si des modifications en écriture vont être apportées à la base de données,\n",
    "# afint de préserver le dernier état avant modification\n",
    "\n",
    "## Documentation:\n",
    "# https://docs.python.org/3/library/shutil.htmlcopied_db = copyfile(original_db, timestamped_db_copy)\n",
    "\n",
    "copied_db = copyfile(db, timestamped_db_copy)\n",
    "copied_db"
   ]
  },
  {
   "cell_type": "markdown",
   "id": "unlimited-requirement",
   "metadata": {},
   "source": [
    "## Préparation des propriétés des personnes qui ont été extraites de DBPedia\n",
    "\n",
    "Étant donné que la dimension diachronique est essentielle dans les sciences historiques, l'analyse sera restreinte aux personnes qui disposent d'une année de naissance, afin de pouvoir les situer sur l'échelle du temps.\n",
    "\n",
    "Le nettoyage et la production d'une propriété 'année de naissance' sont documentés dans ce carnet [dbpedia_production.ipynb](dbpedia_production.ipynb), en bas: \"Ajout des années de naissance nettoyées\".\n",
    "\n",
    "Sont retenues ici les principales propriétés stockées dans la base de données pour les personnes nées en 1771 et après, actives donc à partir de la Révolution française et des guerres qui se sont suivies et ont changé la carte de l'Europe, en marquant la transition vers l'époque contemporaine."
   ]
  },
  {
   "cell_type": "markdown",
   "id": "automatic-closer",
   "metadata": {},
   "source": [
    "* Nombre de personnes dans la base de données : 6868 \n",
    "\n",
    "<code> WITH tw1 AS (SELECT DISTINCT uri_entity \n",
    "FROM entity\n",
    "WHERE entity_class = 'https://dbpedia.org/ontology/Person')\n",
    "SELECT count(*) FROM tw1;\n",
    "</code>\n",
    "\n",
    "* Nombre de personnes avec une années de naissance : 3849\n",
    "\n",
    "<code>SELECT COUNT(*)\n",
    "FROM (\n",
    "SELECT DISTINCT uri_entity\n",
    "FROM property\n",
    "WHERE property LIKE '%ontology/birthYear' );\n",
    "</code>\n",
    "\n",
    "\n"
   ]
  },
  {
   "cell_type": "code",
   "execution_count": 5,
   "id": "crazy-local",
   "metadata": {},
   "outputs": [],
   "source": [
    "### Requête qui regroupe toutes les propriétés qu'on souhaite analyser et comparer\n",
    "#  Ajouter des sous-requêtes pour chacune des propriétés, regrouper dans le GROUP BY final\n",
    "##  La clause LEFT JOIN permet d'obtenir les résultats disponibles pour chaque propriété et personne, \n",
    "# tout en laissant des lignes vides pour les personnes qui n'ont pas telle ou telle propriété\n",
    "# Restriction sur la période, nées en 1771 et après\n",
    "\n",
    "personnes_proprietes = \"\"\"\n",
    "WITH tw1 AS(\n",
    "SELECT DISTINCT uri_entity ,\n",
    "CASE WHEN value like 'http%'\n",
    "then replace(value, 'http://dbpedia.org/resource/', '')\n",
    "else value END field\n",
    "FROM property\n",
    "WHERE property IN ('http://dbpedia.org/property/field', 'http://dbpedia.org/ontology/field')\n",
    "),\n",
    "tw2 AS(\n",
    "SELECT DISTINCT uri_entity ,\n",
    "CASE WHEN value like 'http%'\n",
    "then replace(value, 'http://dbpedia.org/resource/', '')\n",
    "else value END nationality\n",
    "FROM property\n",
    "WHERE property IN ('http://dbpedia.org/property/nationality', 'http://dbpedia.org/ontology/nationality')\n",
    "),\n",
    "tw3 AS(\n",
    "SELECT DISTINCT uri_entity ,\n",
    "CASE WHEN value like 'http%'\n",
    "then replace(value, 'http://dbpedia.org/resource/', '')\n",
    "else value END birth_place\n",
    "FROM property\n",
    "WHERE property IN ('http://dbpedia.org/ontology/birthPlace')\n",
    "),\n",
    "tw4 AS(\n",
    "SELECT DISTINCT uri_entity ,\n",
    "CASE WHEN value like 'http%'\n",
    "then replace(value, 'http://dbpedia.org/resource/', '')\n",
    "else value END alma_mater\n",
    "FROM property\n",
    "WHERE property IN ('http://dbpedia.org/ontology/almaMater')\n",
    "),\n",
    "tw5 AS(\n",
    "-- attention : propriété inversée ! La personne est l'influencé\n",
    "SELECT DISTINCT  value,\n",
    "CASE WHEN value like 'http%'\n",
    "then replace(uri_entity, 'http://dbpedia.org/resource/', '')\n",
    "else value END influenced_by\n",
    "FROM property\n",
    "WHERE property IN ('http://dbpedia.org/ontology/influenced')\n",
    "),\n",
    "tw6 AS(\n",
    "SELECT DISTINCT uri_entity ,\n",
    "CASE WHEN value like 'http%'\n",
    "then replace(value, 'http://dbpedia.org/resource/', '')\n",
    "else value END institution\n",
    "FROM property\n",
    "WHERE property IN ('http://dbpedia.org/ontology/institution')\n",
    "),\n",
    "tw7 AS(\n",
    "SELECT DISTINCT uri_entity ,\n",
    "CASE WHEN value like 'http%'\n",
    "then replace(value, 'http://dbpedia.org/resource/', '')\n",
    "else value END occupation\n",
    "FROM property\n",
    "WHERE property IN ('http://dbpedia.org/property/occupation', 'http://dbpedia.org/ontology/occupation')\n",
    ")\n",
    "SELECT p.uri_entity, \n",
    "        -- en cas d'années de naissance multiples la moyenne arrontie à l'entier est retenue\n",
    "        CAST(ROUND(SUM(p.value)/COUNT(*)) AS INT) annee, \n",
    "        GROUP_CONCAT(DISTINCT(tw1.field)) field, \n",
    "        GROUP_CONCAT(DISTINCT(tw2.nationality)) nationality,\n",
    "        GROUP_CONCAT(DISTINCT(tw3.birth_place)) birth_place,\n",
    "        GROUP_CONCAT(DISTINCT(tw4.alma_mater)) alma_mater,\n",
    "        GROUP_CONCAT(DISTINCT(tw5.influenced_by)) influenced_by,\n",
    "        GROUP_CONCAT(DISTINCT(tw6.institution)) institution,\n",
    "        GROUP_CONCAT(DISTINCT(tw7.occupation)) occupation\n",
    "FROM property p \n",
    "    LEFT JOIN tw1 ON tw1.uri_entity = p.uri_entity\n",
    "    LEFT JOIN tw2 ON tw2.uri_entity = p.uri_entity\n",
    "    LEFT JOIN tw3 ON tw3.uri_entity = p.uri_entity\n",
    "    LEFT JOIN tw4 ON tw4.uri_entity = p.uri_entity\n",
    "    LEFT JOIN tw5 ON tw5.value = p.uri_entity\n",
    "    LEFT JOIN tw6 ON tw6.uri_entity = p.uri_entity\n",
    "    LEFT JOIN tw7 ON tw7.uri_entity = p.uri_entity    \n",
    "WHERE p.property LIKE '%ontology/birthYear'\n",
    "GROUP BY p.uri_entity\n",
    "HAVING annee > 1770\n",
    "ORDER BY annee;\n",
    "\"\"\""
   ]
  },
  {
   "cell_type": "code",
   "execution_count": 6,
   "id": "important-progress",
   "metadata": {
    "tags": []
   },
   "outputs": [],
   "source": [
    "### Adresse de la base de données\n",
    "db = 'data/sparql_queries.db'"
   ]
  },
  {
   "cell_type": "code",
   "execution_count": 7,
   "id": "fuzzy-scottish",
   "metadata": {},
   "outputs": [
    {
     "name": "stdout",
     "output_type": "stream",
     "text": [
      "3779\n"
     ]
    },
    {
     "data": {
      "text/html": [
       "<div>\n",
       "<style scoped>\n",
       "    .dataframe tbody tr th:only-of-type {\n",
       "        vertical-align: middle;\n",
       "    }\n",
       "\n",
       "    .dataframe tbody tr th {\n",
       "        vertical-align: top;\n",
       "    }\n",
       "\n",
       "    .dataframe thead th {\n",
       "        text-align: right;\n",
       "    }\n",
       "</style>\n",
       "<table border=\"1\" class=\"dataframe\">\n",
       "  <thead>\n",
       "    <tr style=\"text-align: right;\">\n",
       "      <th></th>\n",
       "      <th>uri_entity</th>\n",
       "      <th>annee</th>\n",
       "      <th>field</th>\n",
       "      <th>nationality</th>\n",
       "      <th>birth_place</th>\n",
       "      <th>alma_mater</th>\n",
       "      <th>influenced_by</th>\n",
       "      <th>institution</th>\n",
       "      <th>occupation</th>\n",
       "    </tr>\n",
       "  </thead>\n",
       "  <tbody>\n",
       "    <tr>\n",
       "      <th>310</th>\n",
       "      <td>http://dbpedia.org/resource/Arrigo_Serpieri</td>\n",
       "      <td>1877</td>\n",
       "      <td>None</td>\n",
       "      <td>Italy</td>\n",
       "      <td>Bologna</td>\n",
       "      <td>None</td>\n",
       "      <td>None</td>\n",
       "      <td>None</td>\n",
       "      <td>Arrigo_Serpieri__PersonFunction__1,Lecturer</td>\n",
       "    </tr>\n",
       "    <tr>\n",
       "      <th>311</th>\n",
       "      <td>http://dbpedia.org/resource/Arthur_Cecil_Pigou</td>\n",
       "      <td>1877</td>\n",
       "      <td>Welfare_economics</td>\n",
       "      <td>Britain</td>\n",
       "      <td>Isle_of_Wight,Ryde</td>\n",
       "      <td>King's_College,_Cambridge</td>\n",
       "      <td>Alfred_Marshall,Henry_Sidgwick</td>\n",
       "      <td>University_of_Cambridge</td>\n",
       "      <td>None</td>\n",
       "    </tr>\n",
       "    <tr>\n",
       "      <th>312</th>\n",
       "      <td>http://dbpedia.org/resource/D._H._MacGregor</td>\n",
       "      <td>1877</td>\n",
       "      <td>None</td>\n",
       "      <td>Scotland,Scottish</td>\n",
       "      <td>Monifieth</td>\n",
       "      <td>None</td>\n",
       "      <td>None</td>\n",
       "      <td>None</td>\n",
       "      <td>D._H._MacGregor__PersonFunction__1,economist</td>\n",
       "    </tr>\n",
       "    <tr>\n",
       "      <th>313</th>\n",
       "      <td>http://dbpedia.org/resource/Farkas_Heller</td>\n",
       "      <td>1877</td>\n",
       "      <td>Economist,Statistician</td>\n",
       "      <td>Hungarians</td>\n",
       "      <td>Budapest,Kingdom_of_Hungary</td>\n",
       "      <td>Budapest_University_of_Technology_and_Economics</td>\n",
       "      <td>None</td>\n",
       "      <td>Budapest_University_of_Technology_and_Economics</td>\n",
       "      <td>None</td>\n",
       "    </tr>\n",
       "    <tr>\n",
       "      <th>314</th>\n",
       "      <td>http://dbpedia.org/resource/Hjalmar_Schacht</td>\n",
       "      <td>1877</td>\n",
       "      <td>None</td>\n",
       "      <td>German</td>\n",
       "      <td>German_Empire,Province_of_Schleswig-Holstein,T...</td>\n",
       "      <td>None</td>\n",
       "      <td>None</td>\n",
       "      <td>None</td>\n",
       "      <td>None</td>\n",
       "    </tr>\n",
       "  </tbody>\n",
       "</table>\n",
       "</div>"
      ],
      "text/plain": [
       "                                         uri_entity  annee  \\\n",
       "310     http://dbpedia.org/resource/Arrigo_Serpieri   1877   \n",
       "311  http://dbpedia.org/resource/Arthur_Cecil_Pigou   1877   \n",
       "312     http://dbpedia.org/resource/D._H._MacGregor   1877   \n",
       "313       http://dbpedia.org/resource/Farkas_Heller   1877   \n",
       "314     http://dbpedia.org/resource/Hjalmar_Schacht   1877   \n",
       "\n",
       "                      field        nationality  \\\n",
       "310                    None              Italy   \n",
       "311       Welfare_economics            Britain   \n",
       "312                    None  Scotland,Scottish   \n",
       "313  Economist,Statistician         Hungarians   \n",
       "314                    None             German   \n",
       "\n",
       "                                           birth_place  \\\n",
       "310                                            Bologna   \n",
       "311                                 Isle_of_Wight,Ryde   \n",
       "312                                          Monifieth   \n",
       "313                        Budapest,Kingdom_of_Hungary   \n",
       "314  German_Empire,Province_of_Schleswig-Holstein,T...   \n",
       "\n",
       "                                          alma_mater  \\\n",
       "310                                             None   \n",
       "311                        King's_College,_Cambridge   \n",
       "312                                             None   \n",
       "313  Budapest_University_of_Technology_and_Economics   \n",
       "314                                             None   \n",
       "\n",
       "                      influenced_by  \\\n",
       "310                            None   \n",
       "311  Alfred_Marshall,Henry_Sidgwick   \n",
       "312                            None   \n",
       "313                            None   \n",
       "314                            None   \n",
       "\n",
       "                                         institution  \\\n",
       "310                                             None   \n",
       "311                          University_of_Cambridge   \n",
       "312                                             None   \n",
       "313  Budapest_University_of_Technology_and_Economics   \n",
       "314                                             None   \n",
       "\n",
       "                                       occupation  \n",
       "310   Arrigo_Serpieri__PersonFunction__1,Lecturer  \n",
       "311                                          None  \n",
       "312  D._H._MacGregor__PersonFunction__1,economist  \n",
       "313                                          None  \n",
       "314                                          None  "
      ]
     },
     "execution_count": 7,
     "metadata": {},
     "output_type": "execute_result"
    }
   ],
   "source": [
    "### Produire un DataFrame à partir de la requête SQL ci-dessus\n",
    "\n",
    "cn = sql.connect(db)\n",
    "personnes = pd.read_sql_query(personnes_proprietes, cn)\n",
    "cn.close()\n",
    "\n",
    "## Effectif des personnes = nombre de lignes dans le DataFrame\n",
    "print(len(personnes))\n",
    "\n",
    "##  Inspecter le DataFrame, deux méthodes: iloc (un certain nombre de lignes indiqué par l'index) ou head() \n",
    "personnes.iloc[310:315,]\n",
    "# personnes.head(40)"
   ]
  },
  {
   "cell_type": "code",
   "execution_count": 8,
   "id": "southern-peter",
   "metadata": {},
   "outputs": [
    {
     "data": {
      "text/plain": [
       "['uri_entity',\n",
       " 'annee',\n",
       " 'field',\n",
       " 'nationality',\n",
       " 'birth_place',\n",
       " 'alma_mater',\n",
       " 'influenced_by',\n",
       " 'institution',\n",
       " 'occupation']"
      ]
     },
     "execution_count": 8,
     "metadata": {},
     "output_type": "execute_result"
    }
   ],
   "source": [
    "## Colonnes dans le tableau\n",
    "list(personnes.columns)"
   ]
  },
  {
   "cell_type": "code",
   "execution_count": 9,
   "id": "after-strain",
   "metadata": {},
   "outputs": [
    {
     "data": {
      "text/html": [
       "<div>\n",
       "<style scoped>\n",
       "    .dataframe tbody tr th:only-of-type {\n",
       "        vertical-align: middle;\n",
       "    }\n",
       "\n",
       "    .dataframe tbody tr th {\n",
       "        vertical-align: top;\n",
       "    }\n",
       "\n",
       "    .dataframe thead th {\n",
       "        text-align: right;\n",
       "    }\n",
       "</style>\n",
       "<table border=\"1\" class=\"dataframe\">\n",
       "  <thead>\n",
       "    <tr style=\"text-align: right;\">\n",
       "      <th></th>\n",
       "      <th>annee</th>\n",
       "      <th>field</th>\n",
       "      <th>nationality</th>\n",
       "      <th>birth_place</th>\n",
       "      <th>alma_mater</th>\n",
       "      <th>influenced_by</th>\n",
       "      <th>institution</th>\n",
       "      <th>occupation</th>\n",
       "      <th>name</th>\n",
       "    </tr>\n",
       "    <tr>\n",
       "      <th>uri_entity</th>\n",
       "      <th></th>\n",
       "      <th></th>\n",
       "      <th></th>\n",
       "      <th></th>\n",
       "      <th></th>\n",
       "      <th></th>\n",
       "      <th></th>\n",
       "      <th></th>\n",
       "      <th></th>\n",
       "    </tr>\n",
       "  </thead>\n",
       "  <tbody>\n",
       "    <tr>\n",
       "      <th>Philipp_Emanuel_von_Fellenberg</th>\n",
       "      <td>1771</td>\n",
       "      <td>None</td>\n",
       "      <td>None</td>\n",
       "      <td>Bern,Switzerland</td>\n",
       "      <td>University_of_Tübingen</td>\n",
       "      <td>None</td>\n",
       "      <td>None</td>\n",
       "      <td>Agronomist,Educationalist,Educationalist and a...</td>\n",
       "      <td>Philipp Emanuel von Fellenberg</td>\n",
       "    </tr>\n",
       "    <tr>\n",
       "      <th>Charles_Fourier</th>\n",
       "      <td>1772</td>\n",
       "      <td>None</td>\n",
       "      <td>None</td>\n",
       "      <td>Besançon</td>\n",
       "      <td>None</td>\n",
       "      <td>Nicolas-Edme_Rétif,Victor_Prosper_Considerant</td>\n",
       "      <td>None</td>\n",
       "      <td>None</td>\n",
       "      <td>Charles Fourier</td>\n",
       "    </tr>\n",
       "    <tr>\n",
       "      <th>David_Ricardo</th>\n",
       "      <td>1772</td>\n",
       "      <td>None</td>\n",
       "      <td>British</td>\n",
       "      <td>None</td>\n",
       "      <td>None</td>\n",
       "      <td>None</td>\n",
       "      <td>None</td>\n",
       "      <td>None</td>\n",
       "      <td>David Ricardo</td>\n",
       "    </tr>\n",
       "    <tr>\n",
       "      <th>Jacob_Aall</th>\n",
       "      <td>1773</td>\n",
       "      <td>None</td>\n",
       "      <td>Norway</td>\n",
       "      <td>Porsgrunn</td>\n",
       "      <td>None</td>\n",
       "      <td>None</td>\n",
       "      <td>None</td>\n",
       "      <td>Economist,Historian,Landowner,Politician,state...</td>\n",
       "      <td>Jacob Aall</td>\n",
       "    </tr>\n",
       "    <tr>\n",
       "      <th>James_Mill</th>\n",
       "      <td>1773</td>\n",
       "      <td>None</td>\n",
       "      <td>None</td>\n",
       "      <td>Angus,_Scotland</td>\n",
       "      <td>None</td>\n",
       "      <td>David_Hartley_(philosopher),Dugald_Stewart,Jer...</td>\n",
       "      <td>None</td>\n",
       "      <td>None</td>\n",
       "      <td>James Mill</td>\n",
       "    </tr>\n",
       "  </tbody>\n",
       "</table>\n",
       "</div>"
      ],
      "text/plain": [
       "                                annee field nationality       birth_place  \\\n",
       "uri_entity                                                                  \n",
       "Philipp_Emanuel_von_Fellenberg   1771  None        None  Bern,Switzerland   \n",
       "Charles_Fourier                  1772  None        None          Besançon   \n",
       "David_Ricardo                    1772  None     British              None   \n",
       "Jacob_Aall                       1773  None      Norway         Porsgrunn   \n",
       "James_Mill                       1773  None        None   Angus,_Scotland   \n",
       "\n",
       "                                            alma_mater  \\\n",
       "uri_entity                                               \n",
       "Philipp_Emanuel_von_Fellenberg  University_of_Tübingen   \n",
       "Charles_Fourier                                   None   \n",
       "David_Ricardo                                     None   \n",
       "Jacob_Aall                                        None   \n",
       "James_Mill                                        None   \n",
       "\n",
       "                                                                    influenced_by  \\\n",
       "uri_entity                                                                          \n",
       "Philipp_Emanuel_von_Fellenberg                                               None   \n",
       "Charles_Fourier                     Nicolas-Edme_Rétif,Victor_Prosper_Considerant   \n",
       "David_Ricardo                                                                None   \n",
       "Jacob_Aall                                                                   None   \n",
       "James_Mill                      David_Hartley_(philosopher),Dugald_Stewart,Jer...   \n",
       "\n",
       "                               institution  \\\n",
       "uri_entity                                   \n",
       "Philipp_Emanuel_von_Fellenberg        None   \n",
       "Charles_Fourier                       None   \n",
       "David_Ricardo                         None   \n",
       "Jacob_Aall                            None   \n",
       "James_Mill                            None   \n",
       "\n",
       "                                                                       occupation  \\\n",
       "uri_entity                                                                          \n",
       "Philipp_Emanuel_von_Fellenberg  Agronomist,Educationalist,Educationalist and a...   \n",
       "Charles_Fourier                                                              None   \n",
       "David_Ricardo                                                                None   \n",
       "Jacob_Aall                      Economist,Historian,Landowner,Politician,state...   \n",
       "James_Mill                                                                   None   \n",
       "\n",
       "                                                          name  \n",
       "uri_entity                                                      \n",
       "Philipp_Emanuel_von_Fellenberg  Philipp Emanuel von Fellenberg  \n",
       "Charles_Fourier                                Charles Fourier  \n",
       "David_Ricardo                                    David Ricardo  \n",
       "Jacob_Aall                                          Jacob Aall  \n",
       "James_Mill                                          James Mill  "
      ]
     },
     "execution_count": 9,
     "metadata": {},
     "output_type": "execute_result"
    }
   ],
   "source": [
    "## Mettre 'uri_entity' comme index, créer un nom lisible\n",
    "\n",
    "personnes['uri_entity'] = personnes['uri_entity'].apply(lambda x : x.replace('http://dbpedia.org/resource/', ''))\n",
    "personnes['name'] = personnes['uri_entity'].apply(lambda x : x.replace('_', ' '))\n",
    "personnes.set_index('uri_entity', inplace=True, verify_integrity=True)\n",
    "personnes.head()"
   ]
  },
  {
   "cell_type": "code",
   "execution_count": 10,
   "id": "inside-inflation",
   "metadata": {},
   "outputs": [],
   "source": [
    "###  Les colonnes des valeurs contiennent des listes (car une personne peut avoir plusieurs métiers) :\n",
    "##  compter les effectifs de chaque cellule contenant des propriétés\n",
    "\n",
    "personnes['len_field'] = personnes['field'].apply(lambda x : len(x.split(',')) if x else 0)\n",
    "personnes['len_nationality'] = personnes['nationality'].apply(lambda x : len(x.split(',')) if x else 0)\n",
    "personnes['len_birth_place'] = personnes['birth_place'].apply(lambda x : len(x.split(',')) if x else 0)\n",
    "personnes['len_alma_mater'] = personnes['alma_mater'].apply(lambda x : len(x.split(',')) if x else 0)\n",
    "personnes['len_influenced_by'] = personnes['influenced_by'].apply(lambda x : len(x.split(',')) if x else 0)\n",
    "personnes['len_institution'] = personnes['institution'].apply(lambda x : len(x.split(',')) if x else 0)\n",
    "personnes['len_occupation'] = personnes['occupation'].apply(lambda x : len(x.split(',')) if x else 0)"
   ]
  },
  {
   "cell_type": "code",
   "execution_count": 11,
   "id": "afraid-replacement",
   "metadata": {},
   "outputs": [
    {
     "data": {
      "text/html": [
       "<div>\n",
       "<style scoped>\n",
       "    .dataframe tbody tr th:only-of-type {\n",
       "        vertical-align: middle;\n",
       "    }\n",
       "\n",
       "    .dataframe tbody tr th {\n",
       "        vertical-align: top;\n",
       "    }\n",
       "\n",
       "    .dataframe thead th {\n",
       "        text-align: right;\n",
       "    }\n",
       "</style>\n",
       "<table border=\"1\" class=\"dataframe\">\n",
       "  <thead>\n",
       "    <tr style=\"text-align: right;\">\n",
       "      <th></th>\n",
       "      <th>name</th>\n",
       "      <th>annee</th>\n",
       "      <th>nationality</th>\n",
       "      <th>len_nationality</th>\n",
       "      <th>birth_place</th>\n",
       "      <th>len_birth_place</th>\n",
       "      <th>alma_mater</th>\n",
       "      <th>len_alma_mater</th>\n",
       "      <th>influenced_by</th>\n",
       "      <th>len_influenced_by</th>\n",
       "      <th>field</th>\n",
       "      <th>len_field</th>\n",
       "      <th>occupation</th>\n",
       "      <th>len_occupation</th>\n",
       "      <th>institution</th>\n",
       "      <th>len_institution</th>\n",
       "    </tr>\n",
       "    <tr>\n",
       "      <th>uri_entity</th>\n",
       "      <th></th>\n",
       "      <th></th>\n",
       "      <th></th>\n",
       "      <th></th>\n",
       "      <th></th>\n",
       "      <th></th>\n",
       "      <th></th>\n",
       "      <th></th>\n",
       "      <th></th>\n",
       "      <th></th>\n",
       "      <th></th>\n",
       "      <th></th>\n",
       "      <th></th>\n",
       "      <th></th>\n",
       "      <th></th>\n",
       "      <th></th>\n",
       "    </tr>\n",
       "  </thead>\n",
       "  <tbody>\n",
       "    <tr>\n",
       "      <th>Giuseppe_Toniolo</th>\n",
       "      <td>Giuseppe Toniolo</td>\n",
       "      <td>1845</td>\n",
       "      <td>None</td>\n",
       "      <td>0</td>\n",
       "      <td>Kingdom_of_Lombardy-Venetia,Treviso</td>\n",
       "      <td>2</td>\n",
       "      <td>None</td>\n",
       "      <td>0</td>\n",
       "      <td>None</td>\n",
       "      <td>0</td>\n",
       "      <td>None</td>\n",
       "      <td>0</td>\n",
       "      <td>None</td>\n",
       "      <td>0</td>\n",
       "      <td>None</td>\n",
       "      <td>0</td>\n",
       "    </tr>\n",
       "    <tr>\n",
       "      <th>Theodor_Hertzka</th>\n",
       "      <td>Theodor Hertzka</td>\n",
       "      <td>1845</td>\n",
       "      <td>Austrians,Hungarian_people,Hungarians</td>\n",
       "      <td>3</td>\n",
       "      <td>Budapest,Kingdom_of_Hungary</td>\n",
       "      <td>2</td>\n",
       "      <td>None</td>\n",
       "      <td>0</td>\n",
       "      <td>None</td>\n",
       "      <td>0</td>\n",
       "      <td>Monetary_economics,Monetary_theory</td>\n",
       "      <td>2</td>\n",
       "      <td>None</td>\n",
       "      <td>0</td>\n",
       "      <td>None</td>\n",
       "      <td>0</td>\n",
       "    </tr>\n",
       "    <tr>\n",
       "      <th>Pieter_Cort_van_der_Linden</th>\n",
       "      <td>Pieter Cort van der Linden</td>\n",
       "      <td>1846</td>\n",
       "      <td>Netherlands</td>\n",
       "      <td>1</td>\n",
       "      <td>Netherlands,The_Hague</td>\n",
       "      <td>2</td>\n",
       "      <td>Bachelor_of_Laws,Doctor_of_Philosophy,Leiden_U...</td>\n",
       "      <td>4</td>\n",
       "      <td>None</td>\n",
       "      <td>0</td>\n",
       "      <td>None</td>\n",
       "      <td>0</td>\n",
       "      <td>Academic_administration,Author,Civil_service,E...</td>\n",
       "      <td>11</td>\n",
       "      <td>None</td>\n",
       "      <td>0</td>\n",
       "    </tr>\n",
       "    <tr>\n",
       "      <th>Charles_Gide</th>\n",
       "      <td>Charles Gide</td>\n",
       "      <td>1847</td>\n",
       "      <td>French</td>\n",
       "      <td>1</td>\n",
       "      <td>Uzès</td>\n",
       "      <td>1</td>\n",
       "      <td>None</td>\n",
       "      <td>0</td>\n",
       "      <td>None</td>\n",
       "      <td>0</td>\n",
       "      <td>History_of_economic_thought,Social_economy,The...</td>\n",
       "      <td>3</td>\n",
       "      <td>None</td>\n",
       "      <td>0</td>\n",
       "      <td>None</td>\n",
       "      <td>0</td>\n",
       "    </tr>\n",
       "    <tr>\n",
       "      <th>Ebbe_Hertzberg</th>\n",
       "      <td>Ebbe Hertzberg</td>\n",
       "      <td>1847</td>\n",
       "      <td>Norwegian</td>\n",
       "      <td>1</td>\n",
       "      <td>Holmestrand</td>\n",
       "      <td>1</td>\n",
       "      <td>None</td>\n",
       "      <td>0</td>\n",
       "      <td>None</td>\n",
       "      <td>0</td>\n",
       "      <td>None</td>\n",
       "      <td>0</td>\n",
       "      <td>Ebbe_Hertzberg__PersonFunction__1,Legal_histor...</td>\n",
       "      <td>3</td>\n",
       "      <td>None</td>\n",
       "      <td>0</td>\n",
       "    </tr>\n",
       "  </tbody>\n",
       "</table>\n",
       "</div>"
      ],
      "text/plain": [
       "                                                  name  annee  \\\n",
       "uri_entity                                                      \n",
       "Giuseppe_Toniolo                      Giuseppe Toniolo   1845   \n",
       "Theodor_Hertzka                        Theodor Hertzka   1845   \n",
       "Pieter_Cort_van_der_Linden  Pieter Cort van der Linden   1846   \n",
       "Charles_Gide                              Charles Gide   1847   \n",
       "Ebbe_Hertzberg                          Ebbe Hertzberg   1847   \n",
       "\n",
       "                                                      nationality  \\\n",
       "uri_entity                                                          \n",
       "Giuseppe_Toniolo                                             None   \n",
       "Theodor_Hertzka             Austrians,Hungarian_people,Hungarians   \n",
       "Pieter_Cort_van_der_Linden                            Netherlands   \n",
       "Charles_Gide                                               French   \n",
       "Ebbe_Hertzberg                                          Norwegian   \n",
       "\n",
       "                            len_nationality  \\\n",
       "uri_entity                                    \n",
       "Giuseppe_Toniolo                          0   \n",
       "Theodor_Hertzka                           3   \n",
       "Pieter_Cort_van_der_Linden                1   \n",
       "Charles_Gide                              1   \n",
       "Ebbe_Hertzberg                            1   \n",
       "\n",
       "                                                    birth_place  \\\n",
       "uri_entity                                                        \n",
       "Giuseppe_Toniolo            Kingdom_of_Lombardy-Venetia,Treviso   \n",
       "Theodor_Hertzka                     Budapest,Kingdom_of_Hungary   \n",
       "Pieter_Cort_van_der_Linden                Netherlands,The_Hague   \n",
       "Charles_Gide                                               Uzès   \n",
       "Ebbe_Hertzberg                                      Holmestrand   \n",
       "\n",
       "                            len_birth_place  \\\n",
       "uri_entity                                    \n",
       "Giuseppe_Toniolo                          2   \n",
       "Theodor_Hertzka                           2   \n",
       "Pieter_Cort_van_der_Linden                2   \n",
       "Charles_Gide                              1   \n",
       "Ebbe_Hertzberg                            1   \n",
       "\n",
       "                                                                   alma_mater  \\\n",
       "uri_entity                                                                      \n",
       "Giuseppe_Toniolo                                                         None   \n",
       "Theodor_Hertzka                                                          None   \n",
       "Pieter_Cort_van_der_Linden  Bachelor_of_Laws,Doctor_of_Philosophy,Leiden_U...   \n",
       "Charles_Gide                                                             None   \n",
       "Ebbe_Hertzberg                                                           None   \n",
       "\n",
       "                            len_alma_mater influenced_by  len_influenced_by  \\\n",
       "uri_entity                                                                    \n",
       "Giuseppe_Toniolo                         0          None                  0   \n",
       "Theodor_Hertzka                          0          None                  0   \n",
       "Pieter_Cort_van_der_Linden               4          None                  0   \n",
       "Charles_Gide                             0          None                  0   \n",
       "Ebbe_Hertzberg                           0          None                  0   \n",
       "\n",
       "                                                                        field  \\\n",
       "uri_entity                                                                      \n",
       "Giuseppe_Toniolo                                                         None   \n",
       "Theodor_Hertzka                            Monetary_economics,Monetary_theory   \n",
       "Pieter_Cort_van_der_Linden                                               None   \n",
       "Charles_Gide                History_of_economic_thought,Social_economy,The...   \n",
       "Ebbe_Hertzberg                                                           None   \n",
       "\n",
       "                            len_field  \\\n",
       "uri_entity                              \n",
       "Giuseppe_Toniolo                    0   \n",
       "Theodor_Hertzka                     2   \n",
       "Pieter_Cort_van_der_Linden          0   \n",
       "Charles_Gide                        3   \n",
       "Ebbe_Hertzberg                      0   \n",
       "\n",
       "                                                                   occupation  \\\n",
       "uri_entity                                                                      \n",
       "Giuseppe_Toniolo                                                         None   \n",
       "Theodor_Hertzka                                                          None   \n",
       "Pieter_Cort_van_der_Linden  Academic_administration,Author,Civil_service,E...   \n",
       "Charles_Gide                                                             None   \n",
       "Ebbe_Hertzberg              Ebbe_Hertzberg__PersonFunction__1,Legal_histor...   \n",
       "\n",
       "                            len_occupation institution  len_institution  \n",
       "uri_entity                                                               \n",
       "Giuseppe_Toniolo                         0        None                0  \n",
       "Theodor_Hertzka                          0        None                0  \n",
       "Pieter_Cort_van_der_Linden              11        None                0  \n",
       "Charles_Gide                             0        None                0  \n",
       "Ebbe_Hertzberg                           3        None                0  "
      ]
     },
     "execution_count": 11,
     "metadata": {},
     "output_type": "execute_result"
    }
   ],
   "source": [
    "### Changer l'ordre des colonnes dans le tableau Pandas pour les mettre dans un ordre suivant le cursus de la personne\n",
    "\n",
    "personnes = personnes[['name', 'annee', 'nationality', 'len_nationality','birth_place','len_birth_place', \\\n",
    "                       'alma_mater', 'len_alma_mater', 'influenced_by', 'len_influenced_by', 'field', 'len_field',\\\n",
    "                       'occupation', 'len_occupation', 'institution', 'len_institution']]\n",
    "personnes.iloc[140:145]"
   ]
  },
  {
   "cell_type": "markdown",
   "id": "handed-feeling",
   "metadata": {},
   "source": [
    "### Propriétés par personne"
   ]
  },
  {
   "cell_type": "code",
   "execution_count": 12,
   "id": "heard-interview",
   "metadata": {},
   "outputs": [
    {
     "data": {
      "text/plain": [
       "[['William_Thompson_(philosopher)', ['birth_place', 'influenced_by'], 2],\n",
       " ['José_María_del_Castillo_y_Rada', ['birth_place'], 1],\n",
       " ['Francis_Horner', ['birth_place', 'alma_mater', 'occupation'], 3],\n",
       " ['Franciszek_Ksawery_Drucki-Lubecki', [], 0],\n",
       " ['Robert_Torrens_(economist)',\n",
       "  ['birth_place', 'nationality', 'occupation'],\n",
       "  3]]"
      ]
     },
     "execution_count": 12,
     "metadata": {},
     "output_type": "execute_result"
    }
   ],
   "source": [
    "proprietes_personnes = []\n",
    "for i,r in list(personnes.iterrows()):\n",
    "    properties = []    \n",
    "    if r['len_birth_place'] > 0:\n",
    "        properties.append('birth_place')\n",
    "    if r['len_nationality'] > 0:        \n",
    "        properties.append('nationality')\n",
    "    if r['len_alma_mater'] > 0:\n",
    "        properties.append('alma_mater')\n",
    "    if r['len_influenced_by'] > 0:\n",
    "        properties.append('influenced_by')\n",
    "    if r['len_field'] > 0:\n",
    "        properties.append('field')\n",
    "    if r['len_occupation'] > 0:\n",
    "        properties.append('occupation')\n",
    "    if r['len_institution'] > 0:\n",
    "        properties.append('institution')\n",
    "            \n",
    "    proprietes_personnes.append([i, properties, len(properties)])        \n",
    "\n",
    "    \n",
    "proprietes_personnes[10:15]"
   ]
  },
  {
   "cell_type": "code",
   "execution_count": 13,
   "id": "forty-senate",
   "metadata": {},
   "outputs": [
    {
     "data": {
      "text/html": [
       "<div>\n",
       "<style scoped>\n",
       "    .dataframe tbody tr th:only-of-type {\n",
       "        vertical-align: middle;\n",
       "    }\n",
       "\n",
       "    .dataframe tbody tr th {\n",
       "        vertical-align: top;\n",
       "    }\n",
       "\n",
       "    .dataframe thead th {\n",
       "        text-align: right;\n",
       "    }\n",
       "</style>\n",
       "<table border=\"1\" class=\"dataframe\">\n",
       "  <thead>\n",
       "    <tr style=\"text-align: right;\">\n",
       "      <th></th>\n",
       "      <th>uri_personne</th>\n",
       "      <th>proprietes</th>\n",
       "      <th>effectif</th>\n",
       "    </tr>\n",
       "  </thead>\n",
       "  <tbody>\n",
       "    <tr>\n",
       "      <th>0</th>\n",
       "      <td>Philipp_Emanuel_von_Fellenberg</td>\n",
       "      <td>[birth_place, alma_mater, occupation]</td>\n",
       "      <td>3</td>\n",
       "    </tr>\n",
       "    <tr>\n",
       "      <th>1</th>\n",
       "      <td>Charles_Fourier</td>\n",
       "      <td>[birth_place, influenced_by]</td>\n",
       "      <td>2</td>\n",
       "    </tr>\n",
       "    <tr>\n",
       "      <th>2</th>\n",
       "      <td>David_Ricardo</td>\n",
       "      <td>[nationality]</td>\n",
       "      <td>1</td>\n",
       "    </tr>\n",
       "    <tr>\n",
       "      <th>3</th>\n",
       "      <td>Jacob_Aall</td>\n",
       "      <td>[birth_place, nationality, occupation]</td>\n",
       "      <td>3</td>\n",
       "    </tr>\n",
       "    <tr>\n",
       "      <th>4</th>\n",
       "      <td>James_Mill</td>\n",
       "      <td>[birth_place, influenced_by]</td>\n",
       "      <td>2</td>\n",
       "    </tr>\n",
       "  </tbody>\n",
       "</table>\n",
       "</div>"
      ],
      "text/plain": [
       "                     uri_personne                              proprietes  \\\n",
       "0  Philipp_Emanuel_von_Fellenberg   [birth_place, alma_mater, occupation]   \n",
       "1                 Charles_Fourier            [birth_place, influenced_by]   \n",
       "2                   David_Ricardo                           [nationality]   \n",
       "3                      Jacob_Aall  [birth_place, nationality, occupation]   \n",
       "4                      James_Mill            [birth_place, influenced_by]   \n",
       "\n",
       "   effectif  \n",
       "0         3  \n",
       "1         2  \n",
       "2         1  \n",
       "3         3  \n",
       "4         2  "
      ]
     },
     "execution_count": 13,
     "metadata": {},
     "output_type": "execute_result"
    }
   ],
   "source": [
    "df_proprietes_personnes = pd.DataFrame(proprietes_personnes, columns=['uri_personne', 'proprietes', 'effectif'])\n",
    "df_proprietes_personnes.head()"
   ]
  },
  {
   "cell_type": "code",
   "execution_count": 14,
   "id": "blank-polyester",
   "metadata": {},
   "outputs": [
    {
     "data": {
      "text/html": [
       "<div>\n",
       "<style scoped>\n",
       "    .dataframe tbody tr th:only-of-type {\n",
       "        vertical-align: middle;\n",
       "    }\n",
       "\n",
       "    .dataframe tbody tr th {\n",
       "        vertical-align: top;\n",
       "    }\n",
       "\n",
       "    .dataframe thead th {\n",
       "        text-align: right;\n",
       "    }\n",
       "</style>\n",
       "<table border=\"1\" class=\"dataframe\">\n",
       "  <thead>\n",
       "    <tr style=\"text-align: right;\">\n",
       "      <th></th>\n",
       "      <th>uri_personne</th>\n",
       "      <th>proprietes</th>\n",
       "    </tr>\n",
       "    <tr>\n",
       "      <th>effectif</th>\n",
       "      <th></th>\n",
       "      <th></th>\n",
       "    </tr>\n",
       "  </thead>\n",
       "  <tbody>\n",
       "    <tr>\n",
       "      <th>0</th>\n",
       "      <td>81</td>\n",
       "      <td>81</td>\n",
       "    </tr>\n",
       "    <tr>\n",
       "      <th>1</th>\n",
       "      <td>593</td>\n",
       "      <td>593</td>\n",
       "    </tr>\n",
       "    <tr>\n",
       "      <th>2</th>\n",
       "      <td>895</td>\n",
       "      <td>895</td>\n",
       "    </tr>\n",
       "    <tr>\n",
       "      <th>3</th>\n",
       "      <td>957</td>\n",
       "      <td>957</td>\n",
       "    </tr>\n",
       "    <tr>\n",
       "      <th>4</th>\n",
       "      <td>709</td>\n",
       "      <td>709</td>\n",
       "    </tr>\n",
       "    <tr>\n",
       "      <th>5</th>\n",
       "      <td>382</td>\n",
       "      <td>382</td>\n",
       "    </tr>\n",
       "    <tr>\n",
       "      <th>6</th>\n",
       "      <td>162</td>\n",
       "      <td>162</td>\n",
       "    </tr>\n",
       "  </tbody>\n",
       "</table>\n",
       "</div>"
      ],
      "text/plain": [
       "          uri_personne  proprietes\n",
       "effectif                          \n",
       "0                   81          81\n",
       "1                  593         593\n",
       "2                  895         895\n",
       "3                  957         957\n",
       "4                  709         709\n",
       "5                  382         382\n",
       "6                  162         162"
      ]
     },
     "execution_count": 14,
     "metadata": {},
     "output_type": "execute_result"
    }
   ],
   "source": [
    "### Compter les effectifs des propriétés par personne\n",
    "effectifs_proprietes_par_personne = df_proprietes_personnes.groupby('effectif').count()\n",
    "effectifs_proprietes_par_personne"
   ]
  },
  {
   "cell_type": "code",
   "execution_count": 15,
   "id": "significant-stomach",
   "metadata": {},
   "outputs": [
    {
     "data": {
      "image/png": "[encoded data removed]",
      "text/plain": [
       "<Figure size 864x576 with 1 Axes>"
      ]
     },
     "metadata": {
      "needs_background": "light"
     },
     "output_type": "display_data"
    }
   ],
   "source": [
    "# Distribution de nombre de propriétés par personne\n",
    "\n",
    "objects = [l for l in effectifs_proprietes_par_personne.index]\n",
    "eff = [l for l in effectifs_proprietes_par_personne['proprietes']]\n",
    "\n",
    "p1 = plt.bar(objects, eff)\n",
    "\n",
    "#plt.xticks(l5Years)\n",
    "plt.ylabel('Effectif')\n",
    "plt.xlabel('Nombre de propriétés')\n",
    "plt.title('Distribution du nombre de propriétés par personne')\n",
    "plt.gcf().set_size_inches(12, 8)\n",
    "#plt.gca().axes.get_xaxis().set_visible(False)\n",
    "# supported formats: eps, pdf, pgf, png, ps, raw, rgba, svg, svgz\n",
    "#plt.savefig('exported_pictures/effectifs_naissances_par_annee.png', dpi=100, bbox_inches = \"tight\") #pdf, svg\n",
    "plt.xticks(rotation=45)\n",
    "plt.show()\n"
   ]
  },
  {
   "cell_type": "markdown",
   "id": "municipal-nickname",
   "metadata": {},
   "source": [
    "### Combinaisons de propriétés"
   ]
  },
  {
   "cell_type": "code",
   "execution_count": 16,
   "id": "italian-switch",
   "metadata": {},
   "outputs": [
    {
     "data": {
      "text/plain": [
       "proprietes\n",
       "birth_place                                                                     445\n",
       "birth_place | alma_mater                                                        368\n",
       "birth_place | nationality | alma_mater                                          295\n",
       "birth_place | nationality | alma_mater | occupation                             264\n",
       "birth_place | nationality | occupation                                          212\n",
       "birth_place | nationality | alma_mater | field | institution                    198\n",
       "birth_place | occupation                                                        171\n",
       "birth_place | nationality | alma_mater | influenced_by | field | institution    162\n",
       "birth_place | nationality                                                       149\n",
       "birth_place | alma_mater | occupation                                           122\n",
       "birth_place | nationality | alma_mater | field                                  105\n",
       "nationality | alma_mater | field | institution                                   99\n",
       "                                                                                 81\n",
       "birth_place | nationality | alma_mater | institution                             77\n",
       "birth_place | nationality | alma_mater | influenced_by | field                   60\n",
       "occupation                                                                       54\n",
       "nationality | alma_mater | influenced_by | field | institution                   47\n",
       "nationality | occupation                                                         45\n",
       "nationality                                                                      43\n",
       "birth_place | nationality | influenced_by | field                                41\n",
       "birth_place | influenced_by                                                      40\n",
       "alma_mater                                                                       39\n",
       "nationality | alma_mater | field                                                 39\n",
       "birth_place | nationality | field                                                39\n",
       "nationality | alma_mater | institution                                           38\n",
       "birth_place | alma_mater | field | institution                                   34\n",
       "birth_place | nationality | alma_mater | influenced_by | institution             33\n",
       "nationality | alma_mater                                                         31\n",
       "birth_place | alma_mater | institution                                           30\n",
       "nationality | alma_mater | occupation                                            30\n",
       "Name: proprietes, dtype: int64"
      ]
     },
     "execution_count": 16,
     "metadata": {},
     "output_type": "execute_result"
    }
   ],
   "source": [
    "sr_properties_groups = df_proprietes_personnes['proprietes'].groupby(df_proprietes_personnes['proprietes'].apply(lambda x : ' | '.join(x) )).count().sort_values(ascending=False)\n",
    "sr_properties_groups.iloc[:30]"
   ]
  },
  {
   "cell_type": "markdown",
   "id": "creative-swimming",
   "metadata": {},
   "source": [
    "## Distribution des propriétés disponibles\n",
    "\n",
    "Pour chaque personne de la population on va vérifier si une propriété est renseignée ou non. Une propriété peut être renseignée plusieurs fois pour chaque personne (par ex. on peut avoir fréquenté plusieurs Universités) mais elle sera comptée une seule fois.\n",
    "\n",
    "Cette méthode permet d'avoir un aperçu des propriétés disponibles et ensuite de décider ce qui pourra être analysé.\n"
   ]
  },
  {
   "cell_type": "code",
   "execution_count": 18,
   "id": "rolled-innocent",
   "metadata": {
    "tags": []
   },
   "outputs": [],
   "source": [
    "eff_personnes = 0\n",
    "nationality = 0\n",
    "birth_place = 0\n",
    "alma_mater = 0\n",
    "influenced_by = 0\n",
    "field = 0\n",
    "occupation = 0\n",
    "institution = 0\n",
    "for i,r in list(personnes.iterrows()):\n",
    "    eff_personnes += 1\n",
    "    if r['len_nationality'] > 0:        \n",
    "        nationality += 1\n",
    "    if r['len_birth_place'] > 0:\n",
    "        birth_place += 1\n",
    "    if r['len_alma_mater'] > 0:\n",
    "        alma_mater += 1\n",
    "    if r['len_influenced_by'] > 0:\n",
    "        influenced_by += 1\n",
    "    if r['len_field'] > 0:\n",
    "        field += 1\n",
    "    if r['len_occupation'] > 0:\n",
    "        occupation += 1\n",
    "    if r['len_institution'] > 0:\n",
    "        institution += 1"
   ]
  },
  {
   "cell_type": "code",
   "execution_count": 19,
   "id": "desperate-scene",
   "metadata": {
    "tags": []
   },
   "outputs": [
    {
     "data": {
      "text/plain": [
       "eff_personnes    3779\n",
       "nationality      2169\n",
       "birth_place      3070\n",
       "alma_mater       2283\n",
       "influenced_by     599\n",
       "field            1042\n",
       "occupation        928\n",
       "institution       881\n",
       "dtype: int64"
      ]
     },
     "execution_count": 19,
     "metadata": {},
     "output_type": "execute_result"
    }
   ],
   "source": [
    "effectifs_proprietes = pd.Series({\"eff_personnes\": eff_personnes, \"nationality\": nationality, \"birth_place\":birth_place, \"alma_mater\":alma_mater,\\\n",
    "                                  \"influenced_by\":influenced_by, \"field\":field, \"occupation\":occupation, \"institution\":institution })\n",
    "effectifs_proprietes"
   ]
  },
  {
   "cell_type": "code",
   "execution_count": 21,
   "id": "crude-might",
   "metadata": {},
   "outputs": [
    {
     "data": {
      "image/png": "[encoded data removed]",
      "text/plain": [
       "<Figure size 864x576 with 1 Axes>"
      ]
     },
     "metadata": {
      "needs_background": "light"
     },
     "output_type": "display_data"
    }
   ],
   "source": [
    "# Distribution des effectifs des propriétés renseignées\n",
    "\n",
    "objects = [l for l in effectifs_proprietes.index]\n",
    "eff = [l for l in effectifs_proprietes]\n",
    "\n",
    "p1 = plt.bar(objects, eff)\n",
    "\n",
    "#plt.xticks(l5Years)\n",
    "plt.ylabel('Effectif')\n",
    "plt.title('Effectif par propriété')\n",
    "plt.gcf().set_size_inches(12, 8)\n",
    "#plt.gca().axes.get_xaxis().set_visible(False)\n",
    "# supported formats: eps, pdf, pgf, png, ps, raw, rgba, svg, svgz\n",
    "#plt.savefig('exported_pictures/effectifs_naissances_par_annee.png', dpi=100, bbox_inches = \"tight\") #pdf, svg\n",
    "plt.xticks(rotation=45)\n",
    "plt.show()\n"
   ]
  },
  {
   "cell_type": "markdown",
   "id": "solar-constitution",
   "metadata": {},
   "source": [
    "## Création du graphe des propriétés"
   ]
  },
  {
   "cell_type": "code",
   "execution_count": 22,
   "id": "precise-present",
   "metadata": {},
   "outputs": [
    {
     "data": {
      "text/plain": [
       "[['Philipp_Emanuel_von_Fellenberg',\n",
       "  ['birth_place', 'alma_mater', 'occupation'],\n",
       "  3],\n",
       " ['Charles_Fourier', ['birth_place', 'influenced_by'], 2],\n",
       " ['David_Ricardo', ['nationality'], 1],\n",
       " ['Jacob_Aall', ['birth_place', 'nationality', 'occupation'], 3],\n",
       " ['James_Mill', ['birth_place', 'influenced_by'], 2]]"
      ]
     },
     "execution_count": 22,
     "metadata": {},
     "output_type": "execute_result"
    }
   ],
   "source": [
    "proprietes_personnes[:5]"
   ]
  },
  {
   "cell_type": "code",
   "execution_count": 23,
   "id": "political-bathroom",
   "metadata": {},
   "outputs": [
    {
     "name": "stdout",
     "output_type": "stream",
     "text": [
      "14270\n"
     ]
    },
    {
     "data": {
      "text/plain": [
       "[('birth_place', 'alma_mater'),\n",
       " ('birth_place', 'occupation'),\n",
       " ('alma_mater', 'occupation'),\n",
       " ('birth_place', 'influenced_by'),\n",
       " ('birth_place', 'nationality')]"
      ]
     },
     "execution_count": 23,
     "metadata": {},
     "output_type": "execute_result"
    }
   ],
   "source": [
    "properties_edges = []\n",
    "for pp in proprietes_personnes:\n",
    "    local_properties = pp[1]\n",
    "    len_prop = len(local_properties)\n",
    "    # print(len_prop)\n",
    "    if len_prop > 1:\n",
    "        local_edges = []\n",
    "        i = 0        \n",
    "        while i < (len_prop-1):\n",
    "            i_len = i + 1\n",
    "            while i_len < (len_prop):\n",
    "                local_edges.append((local_properties[i], local_properties[i_len]))\n",
    "                i_len += 1        \n",
    "            i += 1\n",
    "        # print(local_edges)        \n",
    "        properties_edges += local_edges\n",
    "\n",
    "print(len(properties_edges))\n",
    "properties_edges  [:5]"
   ]
  },
  {
   "cell_type": "code",
   "execution_count": 24,
   "id": "alive-sitting",
   "metadata": {},
   "outputs": [
    {
     "name": "stdout",
     "output_type": "stream",
     "text": [
      "Name: \n",
      "Type: MultiGraph\n",
      "Number of nodes: 7\n",
      "Number of edges: 14270\n",
      "Average degree: 4077.1429\n"
     ]
    }
   ],
   "source": [
    "graph_properties = nx.MultiGraph()\n",
    "graph_properties.add_edges_from(properties_edges)\n",
    "print(nx.info(graph_properties))"
   ]
  },
  {
   "cell_type": "code",
   "execution_count": 25,
   "id": "prescription-effects",
   "metadata": {},
   "outputs": [
    {
     "data": {
      "text/plain": [
       "{'eff_personnes': {'effectif': 3779},\n",
       " 'nationality': {'effectif': 2169},\n",
       " 'birth_place': {'effectif': 3070},\n",
       " 'alma_mater': {'effectif': 2283},\n",
       " 'influenced_by': {'effectif': 599},\n",
       " 'field': {'effectif': 1042},\n",
       " 'occupation': {'effectif': 928},\n",
       " 'institution': {'effectif': 881}}"
      ]
     },
     "execution_count": 25,
     "metadata": {},
     "output_type": "execute_result"
    }
   ],
   "source": [
    "effectif = dict([(i, {'effectif': v}) for i,v in effectifs_proprietes.items()])\n",
    "effectif"
   ]
  },
  {
   "cell_type": "code",
   "execution_count": 26,
   "id": "excessive-bibliography",
   "metadata": {},
   "outputs": [
    {
     "name": "stdout",
     "output_type": "stream",
     "text": [
      "{'birth_place': {'degree': 6250}, 'alma_mater': {'degree': 5917}, 'occupation': {'degree': 1801}, 'influenced_by': {'degree': 2103}, 'nationality': {'degree': 5829}, 'field': {'degree': 3538}, 'institution': {'degree': 3102}}\n"
     ]
    }
   ],
   "source": [
    "degree = dict([(d[0], {'degree': d[1]}) for d in nx.degree(graph_properties)])\n",
    "print(degree)"
   ]
  },
  {
   "cell_type": "code",
   "execution_count": 27,
   "id": "designed-director",
   "metadata": {},
   "outputs": [],
   "source": [
    "nx.set_node_attributes(graph_properties, effectif)\n",
    "nx.set_node_attributes(graph_properties, degree)"
   ]
  },
  {
   "cell_type": "code",
   "execution_count": 28,
   "id": "light-slovakia",
   "metadata": {},
   "outputs": [
    {
     "data": {
      "text/plain": [
       "NodeDataView({'birth_place': {'effectif': 3070, 'degree': 6250}, 'alma_mater': {'effectif': 2283, 'degree': 5917}, 'occupation': {'effectif': 928, 'degree': 1801}, 'influenced_by': {'effectif': 599, 'degree': 2103}, 'nationality': {'effectif': 2169, 'degree': 5829}, 'field': {'effectif': 1042, 'degree': 3538}, 'institution': {'effectif': 881, 'degree': 3102}})"
      ]
     },
     "execution_count": 28,
     "metadata": {},
     "output_type": "execute_result"
    }
   ],
   "source": [
    "graph_properties.nodes.data()"
   ]
  },
  {
   "cell_type": "code",
   "execution_count": 29,
   "id": "minor-wilderness",
   "metadata": {},
   "outputs": [
    {
     "data": {
      "text/plain": [
       "[(('birth_place', 'alma_mater'), 1870),\n",
       " (('birth_place', 'occupation'), 786),\n",
       " (('birth_place', 'influenced_by'), 491),\n",
       " (('birth_place', 'nationality'), 1722),\n",
       " (('birth_place', 'field'), 761),\n",
       " (('birth_place', 'institution'), 620),\n",
       " (('alma_mater', 'occupation'), 438),\n",
       " (('alma_mater', 'nationality'), 1519),\n",
       " (('alma_mater', 'field'), 862),\n",
       " (('alma_mater', 'influenced_by'), 426),\n",
       " (('alma_mater', 'institution'), 802),\n",
       " (('occupation', 'nationality'), 559),\n",
       " (('occupation', 'influenced_by'), 17),\n",
       " (('occupation', 'field'), 1),\n",
       " (('influenced_by', 'nationality'), 446),\n",
       " (('influenced_by', 'field'), 406),\n",
       " (('influenced_by', 'institution'), 317),\n",
       " (('nationality', 'field'), 864),\n",
       " (('nationality', 'institution'), 719),\n",
       " (('field', 'institution'), 644)]"
      ]
     },
     "execution_count": 29,
     "metadata": {},
     "output_type": "execute_result"
    }
   ],
   "source": [
    "list(Counter([(u,v) for u,v in graph_properties.edges()]).items())"
   ]
  },
  {
   "cell_type": "code",
   "execution_count": 30,
   "id": "previous-citizen",
   "metadata": {},
   "outputs": [
    {
     "data": {
      "text/plain": [
       "[('birth_place', 'alma_mater', {'weight': 1870}),\n",
       " ('birth_place', 'occupation', {'weight': 786}),\n",
       " ('birth_place', 'influenced_by', {'weight': 491}),\n",
       " ('birth_place', 'nationality', {'weight': 1722}),\n",
       " ('birth_place', 'field', {'weight': 761}),\n",
       " ('birth_place', 'institution', {'weight': 620}),\n",
       " ('alma_mater', 'occupation', {'weight': 438}),\n",
       " ('alma_mater', 'nationality', {'weight': 1519}),\n",
       " ('alma_mater', 'field', {'weight': 862}),\n",
       " ('alma_mater', 'influenced_by', {'weight': 426}),\n",
       " ('alma_mater', 'institution', {'weight': 802}),\n",
       " ('occupation', 'nationality', {'weight': 559}),\n",
       " ('occupation', 'influenced_by', {'weight': 17}),\n",
       " ('occupation', 'field', {'weight': 1}),\n",
       " ('influenced_by', 'nationality', {'weight': 446}),\n",
       " ('influenced_by', 'field', {'weight': 406}),\n",
       " ('influenced_by', 'institution', {'weight': 317}),\n",
       " ('nationality', 'field', {'weight': 864}),\n",
       " ('nationality', 'institution', {'weight': 719}),\n",
       " ('field', 'institution', {'weight': 644})]"
      ]
     },
     "execution_count": 30,
     "metadata": {},
     "output_type": "execute_result"
    }
   ],
   "source": [
    "lll = [(l[0][0], l[0][1], {'weight' : l[1]}) for l in list(Counter([(u,v) for u,v in graph_properties.edges()]).items())]\n",
    "lll"
   ]
  },
  {
   "cell_type": "code",
   "execution_count": 33,
   "id": "capable-adoption",
   "metadata": {},
   "outputs": [],
   "source": [
    "### Créer un graphe avec propriétés regroupées, avec indication de l'effectif\n",
    "weig_graph_properties = nx.Graph()\n",
    "weig_graph_properties.add_edges_from(lll)"
   ]
  },
  {
   "cell_type": "code",
   "execution_count": 34,
   "id": "angry-paraguay",
   "metadata": {
    "tags": []
   },
   "outputs": [
    {
     "name": "stdout",
     "output_type": "stream",
     "text": [
      "Name: \n",
      "Type: Graph\n",
      "Number of nodes: 7\n",
      "Number of edges: 20\n",
      "Average degree:   5.7143\n"
     ]
    }
   ],
   "source": [
    "print(nx.info(weig_graph_properties))"
   ]
  },
  {
   "cell_type": "code",
   "execution_count": 35,
   "id": "studied-vertical",
   "metadata": {},
   "outputs": [],
   "source": [
    "###  Ajout des effectifs des propriétés dans le graphe, paramètre 'weight'\n",
    "\n",
    "## Documentation: \n",
    "# https://stackoverflow.com/questions/15590812/networkx-convert-multigraph-into-simple-graph-with-weighted-edges\n",
    "\n",
    "\n",
    "wgp = nx.Graph()\n",
    "for u,v,data in graph_properties.edges.data():\n",
    "    w = data['weight'] if 'weight' in data else 1\n",
    "    if wgp.has_edge(u,v):\n",
    "        wgp[u][v]['weight'] += w\n",
    "    else:\n",
    "        wgp.add_edge(u, v, weight=w)"
   ]
  },
  {
   "cell_type": "markdown",
   "id": "distributed-analysis",
   "metadata": {},
   "source": [
    "#### Inspection du graphe créé"
   ]
  },
  {
   "cell_type": "code",
   "execution_count": 44,
   "id": "central-falls",
   "metadata": {},
   "outputs": [
    {
     "data": {
      "text/plain": [
       "(0, True)"
      ]
     },
     "execution_count": 44,
     "metadata": {},
     "output_type": "execute_result"
    }
   ],
   "source": [
    "nx.number_of_selfloops(weig_graph_properties), nx.is_weighted(weig_graph_properties)"
   ]
  },
  {
   "cell_type": "code",
   "execution_count": 45,
   "id": "uniform-transfer",
   "metadata": {},
   "outputs": [
    {
     "data": {
      "text/plain": [
       "[('birth_place', 'alma_mater', {'weight': 1870}),\n",
       " ('birth_place', 'occupation', {'weight': 786}),\n",
       " ('birth_place', 'influenced_by', {'weight': 491})]"
      ]
     },
     "execution_count": 45,
     "metadata": {},
     "output_type": "execute_result"
    }
   ],
   "source": [
    "[(u,v,data) for u,v,data in wgp.edges.data()][:3]"
   ]
  },
  {
   "cell_type": "code",
   "execution_count": 46,
   "id": "civic-optimum",
   "metadata": {},
   "outputs": [
    {
     "data": {
      "text/plain": [
       "[('birth_place', 'alma_mater', {'weight': 1870}),\n",
       " ('birth_place', 'occupation', {'weight': 786}),\n",
       " ('birth_place', 'influenced_by', {'weight': 491})]"
      ]
     },
     "execution_count": 46,
     "metadata": {},
     "output_type": "execute_result"
    }
   ],
   "source": [
    "[(u,v,data) for u,v,data in weig_graph_properties.edges.data()][:3]"
   ]
  },
  {
   "cell_type": "code",
   "execution_count": 47,
   "id": "bored-guide",
   "metadata": {},
   "outputs": [
    {
     "data": {
      "text/plain": [
       "{'birth_place': {'effectif': 3070, 'degree': 6250},\n",
       " 'alma_mater': {'effectif': 2283, 'degree': 5917},\n",
       " 'occupation': {'effectif': 928, 'degree': 1801},\n",
       " 'influenced_by': {'effectif': 599, 'degree': 2103},\n",
       " 'nationality': {'effectif': 2169, 'degree': 5829},\n",
       " 'field': {'effectif': 1042, 'degree': 3538},\n",
       " 'institution': {'effectif': 881, 'degree': 3102}}"
      ]
     },
     "execution_count": 47,
     "metadata": {},
     "output_type": "execute_result"
    }
   ],
   "source": [
    "dict(graph_properties.nodes.data())"
   ]
  },
  {
   "cell_type": "code",
   "execution_count": 48,
   "id": "parental-anatomy",
   "metadata": {},
   "outputs": [
    {
     "data": {
      "text/plain": [
       "{'birth_place': {'effectif': 3070},\n",
       " 'alma_mater': {'effectif': 2283},\n",
       " 'occupation': {'effectif': 928},\n",
       " 'influenced_by': {'effectif': 599},\n",
       " 'nationality': {'effectif': 2169},\n",
       " 'field': {'effectif': 1042},\n",
       " 'institution': {'effectif': 881}}"
      ]
     },
     "execution_count": 48,
     "metadata": {},
     "output_type": "execute_result"
    }
   ],
   "source": [
    "dict([(n, {'effectif': data['effectif']}) for n, data in graph_properties.nodes.data()])"
   ]
  },
  {
   "cell_type": "code",
   "execution_count": 49,
   "id": "embedded-reach",
   "metadata": {},
   "outputs": [],
   "source": [
    "nx.set_node_attributes(weig_graph_properties, dict([(n, {'effectif': data['effectif']}) for n, data in graph_properties.nodes.data()]))\n",
    "nx.set_node_attributes(weig_graph_properties, dict([(n, {'degree': data['degree']}) for n, data in graph_properties.nodes.data()]))"
   ]
  },
  {
   "cell_type": "code",
   "execution_count": 50,
   "id": "informed-tongue",
   "metadata": {},
   "outputs": [
    {
     "data": {
      "text/plain": [
       "NodeDataView({'birth_place': {'effectif': 3070, 'degree': 6250}, 'alma_mater': {'effectif': 2283, 'degree': 5917}, 'occupation': {'effectif': 928, 'degree': 1801}, 'influenced_by': {'effectif': 599, 'degree': 2103}, 'nationality': {'effectif': 2169, 'degree': 5829}, 'field': {'effectif': 1042, 'degree': 3538}, 'institution': {'effectif': 881, 'degree': 3102}})"
      ]
     },
     "execution_count": 50,
     "metadata": {},
     "output_type": "execute_result"
    }
   ],
   "source": [
    "weig_graph_properties.nodes.data()"
   ]
  },
  {
   "cell_type": "markdown",
   "id": "focal-snake",
   "metadata": {},
   "source": [
    "### Graphe qui permet d'inspecter les relations entre propriétés et leur fréquence"
   ]
  },
  {
   "cell_type": "code",
   "execution_count": 51,
   "id": "distinct-patio",
   "metadata": {
    "tags": []
   },
   "outputs": [
    {
     "data": {
      "image/png": "[encoded data removed]",
      "text/plain": [
       "<Figure size 2880x1440 with 1 Axes>"
      ]
     },
     "metadata": {},
     "output_type": "display_data"
    }
   ],
   "source": [
    "fig = plt.figure(figsize=(40,20))\n",
    "pos = nx.spring_layout(weig_graph_properties, k = 1)\n",
    "# pos = nx.kamada_kawai_layout(weig_graph_properties)\n",
    "nx.draw_networkx(weig_graph_properties, pos, node_color = 'CornflowerBlue', font_color = 'DarkBlue',\n",
    "                 font_size= 30,\n",
    "                 node_size = [data['effectif'] for n,data in weig_graph_properties.nodes.data()],\n",
    "                 edge_color='LightGray',\n",
    "                 width = [ d['weight'] / 50 for u,v,d in weig_graph_properties.edges(data=True)])\n",
    "nx.draw_networkx_edge_labels(weig_graph_properties, pos,\n",
    "                 edge_labels = dict([((u,v,),str(int(d['weight'])) if d['weight'] > 1 else '') for u,v,d in weig_graph_properties.edges(data=True)]),\n",
    "                 font_size = 20\n",
    "                 )            \n",
    "                 \n",
    "plt.savefig(\"graphs/weig_graph_properties.pdf\", format=\"pdf\")\n",
    "plt.show()"
   ]
  },
  {
   "cell_type": "code",
   "execution_count": null,
   "id": "modular-tuner",
   "metadata": {},
   "outputs": [],
   "source": []
  },
  {
   "cell_type": "markdown",
   "id": "residential-domestic",
   "metadata": {},
   "source": [
    "## Inspecter pour quelques variables les effectifs des autres caractéristiques"
   ]
  },
  {
   "cell_type": "code",
   "execution_count": 52,
   "id": "center-token",
   "metadata": {},
   "outputs": [
    {
     "name": "stdout",
     "output_type": "stream",
     "text": [
      "alma_mater len_alma_mater\n",
      "nationality len_nationality\n",
      "field len_field\n",
      "occupation len_occupation\n",
      "institution len_institution\n"
     ]
    }
   ],
   "source": [
    "### Variables retenues pour l'exploration\n",
    "variables_observees = {\"alma_mater\":\"len_alma_mater\", \"nationality\":\"len_nationality\", \"field\":\"len_field\", \"occupation\":\"len_occupation\", \"institution\":\"len_institution\", }\n",
    "for i,v in variables_observees.items():\n",
    "    print(i,v)"
   ]
  },
  {
   "cell_type": "code",
   "execution_count": 53,
   "id": "american-humor",
   "metadata": {
    "tags": []
   },
   "outputs": [
    {
     "data": {
      "image/png": "[encoded data removed]",
      "text/plain": [
       "<Figure size 864x576 with 5 Axes>"
      ]
     },
     "metadata": {
      "needs_background": "light"
     },
     "output_type": "display_data"
    }
   ],
   "source": [
    "### Documenttaion:\n",
    "# https://matplotlib.org/stable/gallery/subplots_axes_and_figures/subplot.html\n",
    "# https://www.geeksforgeeks.org/how-to-set-the-spacing-between-subplots-in-matplotlib-in-python/\n",
    "\n",
    "#fig = plt.figure()\n",
    "#fig.supxlabel('Comparatif de ' + ', '.join([ix for ix,v in variables_observees.items()]), fontsize=20, va='top')   \n",
    "\n",
    "plot_id = 1\n",
    "plot_left = 1\n",
    "for ix,v in variables_observees.items():\n",
    "    \n",
    "    #print(ix,v)\n",
    "\n",
    "    eff_personnes = 0\n",
    "    nationality = 0\n",
    "    birth_place = 0\n",
    "    alma_mater = 0\n",
    "    influenced_by = 0\n",
    "    field = 0\n",
    "    occupation = 0\n",
    "    institution = 0\n",
    "    for i,r in list(personnes.iterrows()):\n",
    "        # ce filtre, qui prend par ex. la forme \" r['len_occupation'] > 0 \",\n",
    "        # vérifie qu'une propriété (par ex. occupation) est renseignée et calcule ensuite \n",
    "        # quelles autres propriétés sont renseignées\n",
    "        if r[v] > 0:\n",
    "            eff_personnes += 1\n",
    "            if r['len_nationality'] > 0:        \n",
    "                nationality += 1\n",
    "            if r['len_birth_place'] > 0:\n",
    "                birth_place += 1\n",
    "            if r['len_alma_mater'] > 0:\n",
    "                alma_mater += 1\n",
    "            if r['len_influenced_by'] > 0:\n",
    "                influenced_by += 1\n",
    "            if r['len_field'] > 0:\n",
    "                field += 1\n",
    "            if r['len_occupation'] > 0:\n",
    "                occupation += 1\n",
    "            if r['len_institution'] > 0:\n",
    "                institution += 1\n",
    "    effectifs_proprietes = pd.Series({\"eff_personnes\": eff_personnes, \"nationality\": nationality, \"birth_place\":birth_place, \"alma_mater\":alma_mater,\\\n",
    "                                  \"influenced_by\":influenced_by, \"field\":field, \"occupation\":occupation, \"institution\":institution })\n",
    "\n",
    "    x = [l for l in effectifs_proprietes.index]\n",
    "    y = [l for l in effectifs_proprietes]\n",
    "    \n",
    " \n",
    "    plt.subplot(3, 2, plot_id)\n",
    "\n",
    "    plt.title(ix)\n",
    "    \n",
    "    plt.bar(x, y)\n",
    "    plt.gcf().set_size_inches(12, 8)\n",
    "    plt.xticks(rotation=45)\n",
    "\n",
    "    plt.ylabel('effectif')\n",
    "\n",
    "    \n",
    "    plot_id += 1\n",
    "    \n",
    "\n",
    "plt.subplots_adjust(#left=0.1,\n",
    "                   bottom=0.1, \n",
    "                   right=1.6, \n",
    "                   top=2, \n",
    "                   # wspace=0.4, \n",
    "                   hspace=0.4\n",
    "                   )\n",
    "\n",
    "plt.show()    "
   ]
  },
  {
   "cell_type": "markdown",
   "id": "removable-alfred",
   "metadata": {},
   "source": [
    "#### Commentaire\n",
    "\n",
    "* Remarquer le caractère lacunaire de l'information pour bonne partie de la population.\n",
    "* En particulier, soit on a le champs d'activité et les organisations ou entreprises d'appartenance, soit l'occupation(i.e. le métier)\n",
    "\n"
   ]
  },
  {
   "cell_type": "markdown",
   "id": "absolute-copper",
   "metadata": {},
   "source": [
    "# Filtrage\n",
    "\n",
    "Le filtrage ci-dessus concernait une propriété à la foix. Ici on vérifie si des groupes de propriétés disponibles pour les personnes sont utilisables pour l'analye, par exemple 'field', 'institution' et nationality'"
   ]
  },
  {
   "cell_type": "code",
   "execution_count": 54,
   "id": "incorporate-marshall",
   "metadata": {
    "tags": []
   },
   "outputs": [
    {
     "data": {
      "text/plain": [
       "eff_personnes    543\n",
       "nationality      543\n",
       "birth_place      382\n",
       "alma_mater       506\n",
       "influenced_by    223\n",
       "field            543\n",
       "occupation         0\n",
       "institution      543\n",
       "dtype: int64"
      ]
     },
     "execution_count": 54,
     "metadata": {},
     "output_type": "execute_result"
    }
   ],
   "source": [
    "eff_personnes = 0\n",
    "nationality = 0\n",
    "birth_place = 0\n",
    "alma_mater = 0\n",
    "influenced_by = 0\n",
    "field = 0\n",
    "occupation = 0\n",
    "institution = 0\n",
    "for i,r in list(personnes.iterrows()):\n",
    "    # if r['len_institution'] > 0:\n",
    "    # if r['len_occupation'] > 0:\n",
    "    if r['len_field'] > 0 and r['len_institution'] > 0 and r['len_nationality'] > 0:\n",
    "    # if r['len_field'] > 0 and r['len_nationality'] > 0:\n",
    "        eff_personnes += 1\n",
    "        if r['len_nationality'] > 0:        \n",
    "            nationality += 1\n",
    "        if r['len_birth_place'] > 0:\n",
    "            birth_place += 1\n",
    "        if r['len_alma_mater'] > 0:\n",
    "            alma_mater += 1\n",
    "        if r['len_influenced_by'] > 0:\n",
    "            influenced_by += 1\n",
    "        if r['len_field'] > 0:\n",
    "            field += 1\n",
    "        if r['len_occupation'] > 0:\n",
    "            occupation += 1\n",
    "        if r['len_institution'] > 0:\n",
    "            institution += 1\n",
    "            \n",
    "            \n",
    "effectifs_proprietes_filtre = pd.Series({\"eff_personnes\": eff_personnes, \"nationality\": nationality, \"birth_place\":birth_place, \"alma_mater\":alma_mater,\\\n",
    "                                  \"influenced_by\":influenced_by, \"field\":field, \"occupation\":occupation, \"institution\":institution })\n",
    "effectifs_proprietes_filtre            "
   ]
  },
  {
   "cell_type": "code",
   "execution_count": 55,
   "id": "brazilian-lightning",
   "metadata": {},
   "outputs": [
    {
     "data": {
      "image/png": "[encoded data removed]",
      "text/plain": [
       "<Figure size 864x576 with 1 Axes>"
      ]
     },
     "metadata": {
      "needs_background": "light"
     },
     "output_type": "display_data"
    }
   ],
   "source": [
    "# Distribution par propriété\n",
    "\n",
    "objects = [l for l in effectifs_proprietes_filtre.index]\n",
    "eff = [l for l in effectifs_proprietes_filtre]\n",
    "\n",
    "p1 = plt.bar(objects, eff)\n",
    "\n",
    "#plt.xticks(l5Years)\n",
    "plt.ylabel('Effectif')\n",
    "plt.title('Effectif par propriété')\n",
    "plt.gcf().set_size_inches(12, 8)\n",
    "#plt.gca().axes.get_xaxis().set_visible(False)\n",
    "# supported formats: eps, pdf, pgf, png, ps, raw, rgba, svg, svgz\n",
    "#plt.savefig('exported_pictures/effectifs_naissances_par_annee.png', dpi=100, bbox_inches = \"tight\") #pdf, svg\n",
    "plt.xticks(rotation=45)\n",
    "plt.show()\n"
   ]
  },
  {
   "cell_type": "markdown",
   "id": "medical-premises",
   "metadata": {},
   "source": [
    "### Filtrage sur les propriétés par personne"
   ]
  },
  {
   "cell_type": "code",
   "execution_count": 58,
   "id": "psychological-delicious",
   "metadata": {},
   "outputs": [
    {
     "name": "stdout",
     "output_type": "stream",
     "text": [
      "543\n"
     ]
    },
    {
     "data": {
      "text/plain": [
       "[['Arthur_Cecil_Pigou',\n",
       "  ['birth_place',\n",
       "   'nationality',\n",
       "   'alma_mater',\n",
       "   'influenced_by',\n",
       "   'field',\n",
       "   'institution'],\n",
       "  6],\n",
       " ['Farkas_Heller',\n",
       "  ['birth_place', 'nationality', 'alma_mater', 'field', 'institution'],\n",
       "  5]]"
      ]
     },
     "execution_count": 58,
     "metadata": {},
     "output_type": "execute_result"
    }
   ],
   "source": [
    "proprietes_personnes_filtered = []\n",
    "for i,r in list(personnes.iterrows()):\n",
    "    \n",
    "    ### Filtre:\n",
    "    \n",
    "    if r['len_field'] > 0 and r['len_institution'] > 0 and r['len_nationality'] > 0: \n",
    "    \n",
    "        properties = []    \n",
    "        if r['len_birth_place'] > 0:\n",
    "            properties.append('birth_place')\n",
    "        if r['len_nationality'] > 0:        \n",
    "            properties.append('nationality')\n",
    "        if r['len_alma_mater'] > 0:\n",
    "            properties.append('alma_mater')\n",
    "        if r['len_influenced_by'] > 0:\n",
    "            properties.append('influenced_by')\n",
    "        if r['len_field'] > 0:\n",
    "            properties.append('field')\n",
    "        if r['len_occupation'] > 0:\n",
    "            properties.append('occupation')\n",
    "        if r['len_institution'] > 0:\n",
    "            properties.append('institution')\n",
    "\n",
    "        proprietes_personnes_filtered.append([i, properties, len(properties)])        \n",
    "\n",
    "print(len(proprietes_personnes_filtered))    \n",
    "proprietes_personnes_filtered[10:12]"
   ]
  },
  {
   "cell_type": "code",
   "execution_count": 59,
   "id": "clinical-paint",
   "metadata": {},
   "outputs": [
    {
     "data": {
      "text/html": [
       "<div>\n",
       "<style scoped>\n",
       "    .dataframe tbody tr th:only-of-type {\n",
       "        vertical-align: middle;\n",
       "    }\n",
       "\n",
       "    .dataframe tbody tr th {\n",
       "        vertical-align: top;\n",
       "    }\n",
       "\n",
       "    .dataframe thead th {\n",
       "        text-align: right;\n",
       "    }\n",
       "</style>\n",
       "<table border=\"1\" class=\"dataframe\">\n",
       "  <thead>\n",
       "    <tr style=\"text-align: right;\">\n",
       "      <th></th>\n",
       "      <th>uri_entity</th>\n",
       "      <th>proprietes</th>\n",
       "      <th>effectif</th>\n",
       "    </tr>\n",
       "  </thead>\n",
       "  <tbody>\n",
       "    <tr>\n",
       "      <th>0</th>\n",
       "      <td>Franz_Hermann_Schulze-Delitzsch</td>\n",
       "      <td>[birth_place, nationality, alma_mater, influen...</td>\n",
       "      <td>6</td>\n",
       "    </tr>\n",
       "    <tr>\n",
       "      <th>1</th>\n",
       "      <td>Lorenz_von_Stein</td>\n",
       "      <td>[birth_place, nationality, alma_mater, influen...</td>\n",
       "      <td>6</td>\n",
       "    </tr>\n",
       "    <tr>\n",
       "      <th>2</th>\n",
       "      <td>Edward_Atkinson_(activist)</td>\n",
       "      <td>[birth_place, nationality, alma_mater, influen...</td>\n",
       "      <td>6</td>\n",
       "    </tr>\n",
       "    <tr>\n",
       "      <th>3</th>\n",
       "      <td>Arthur_Latham_Perry</td>\n",
       "      <td>[birth_place, nationality, alma_mater, field, ...</td>\n",
       "      <td>5</td>\n",
       "    </tr>\n",
       "    <tr>\n",
       "      <th>4</th>\n",
       "      <td>Georg_Friedrich_Knapp</td>\n",
       "      <td>[birth_place, nationality, influenced_by, fiel...</td>\n",
       "      <td>5</td>\n",
       "    </tr>\n",
       "  </tbody>\n",
       "</table>\n",
       "</div>"
      ],
      "text/plain": [
       "                        uri_entity  \\\n",
       "0  Franz_Hermann_Schulze-Delitzsch   \n",
       "1                 Lorenz_von_Stein   \n",
       "2       Edward_Atkinson_(activist)   \n",
       "3              Arthur_Latham_Perry   \n",
       "4            Georg_Friedrich_Knapp   \n",
       "\n",
       "                                          proprietes  effectif  \n",
       "0  [birth_place, nationality, alma_mater, influen...         6  \n",
       "1  [birth_place, nationality, alma_mater, influen...         6  \n",
       "2  [birth_place, nationality, alma_mater, influen...         6  \n",
       "3  [birth_place, nationality, alma_mater, field, ...         5  \n",
       "4  [birth_place, nationality, influenced_by, fiel...         5  "
      ]
     },
     "execution_count": 59,
     "metadata": {},
     "output_type": "execute_result"
    }
   ],
   "source": [
    "df_proprietes_personnes_filtered = pd.DataFrame(proprietes_personnes_filtered, columns=['uri_entity', 'proprietes', 'effectif'])\n",
    "df_proprietes_personnes_filtered.head()"
   ]
  },
  {
   "cell_type": "code",
   "execution_count": null,
   "id": "advisory-third",
   "metadata": {},
   "outputs": [],
   "source": []
  },
  {
   "cell_type": "code",
   "execution_count": 61,
   "id": "appropriate-latin",
   "metadata": {},
   "outputs": [
    {
     "name": "stdout",
     "output_type": "stream",
     "text": [
      "543\n"
     ]
    },
    {
     "data": {
      "text/html": [
       "<div>\n",
       "<style scoped>\n",
       "    .dataframe tbody tr th:only-of-type {\n",
       "        vertical-align: middle;\n",
       "    }\n",
       "\n",
       "    .dataframe tbody tr th {\n",
       "        vertical-align: top;\n",
       "    }\n",
       "\n",
       "    .dataframe thead th {\n",
       "        text-align: right;\n",
       "    }\n",
       "</style>\n",
       "<table border=\"1\" class=\"dataframe\">\n",
       "  <thead>\n",
       "    <tr style=\"text-align: right;\">\n",
       "      <th></th>\n",
       "      <th>uri_entity</th>\n",
       "      <th>proprietes</th>\n",
       "      <th>effectif</th>\n",
       "      <th>name</th>\n",
       "      <th>annee</th>\n",
       "      <th>nationality</th>\n",
       "      <th>len_nationality</th>\n",
       "      <th>birth_place</th>\n",
       "      <th>len_birth_place</th>\n",
       "      <th>alma_mater</th>\n",
       "      <th>len_alma_mater</th>\n",
       "      <th>influenced_by</th>\n",
       "      <th>len_influenced_by</th>\n",
       "      <th>field</th>\n",
       "      <th>len_field</th>\n",
       "      <th>occupation</th>\n",
       "      <th>len_occupation</th>\n",
       "      <th>institution</th>\n",
       "      <th>len_institution</th>\n",
       "    </tr>\n",
       "  </thead>\n",
       "  <tbody>\n",
       "    <tr>\n",
       "      <th>30</th>\n",
       "      <td>Simon_Kuznets</td>\n",
       "      <td>[birth_place, nationality, alma_mater, field, ...</td>\n",
       "      <td>5</td>\n",
       "      <td>Simon Kuznets</td>\n",
       "      <td>1901</td>\n",
       "      <td>United_States</td>\n",
       "      <td>1</td>\n",
       "      <td>Pinsk,Russian_Empire</td>\n",
       "      <td>2</td>\n",
       "      <td>Columbia_University,Kharkiv_National_Universit...</td>\n",
       "      <td>2</td>\n",
       "      <td>None</td>\n",
       "      <td>0</td>\n",
       "      <td>Development_economics,Econometrics</td>\n",
       "      <td>2</td>\n",
       "      <td>None</td>\n",
       "      <td>0</td>\n",
       "      <td>Columbia_University,Harvard_University,Johns_H...</td>\n",
       "      <td>5</td>\n",
       "    </tr>\n",
       "    <tr>\n",
       "      <th>31</th>\n",
       "      <td>Theodore_Schultz</td>\n",
       "      <td>[birth_place, nationality, alma_mater, field, ...</td>\n",
       "      <td>5</td>\n",
       "      <td>Theodore Schultz</td>\n",
       "      <td>1902</td>\n",
       "      <td>American</td>\n",
       "      <td>1</td>\n",
       "      <td>Arlington,_South_Dakota</td>\n",
       "      <td>2</td>\n",
       "      <td>South_Dakota_State_University,University_of_Wi...</td>\n",
       "      <td>2</td>\n",
       "      <td>None</td>\n",
       "      <td>0</td>\n",
       "      <td>Agricultural_economics</td>\n",
       "      <td>1</td>\n",
       "      <td>None</td>\n",
       "      <td>0</td>\n",
       "      <td>Iowa_State_University,University_of_Chicago</td>\n",
       "      <td>2</td>\n",
       "    </tr>\n",
       "    <tr>\n",
       "      <th>32</th>\n",
       "      <td>Tord_Palander</td>\n",
       "      <td>[birth_place, nationality, alma_mater, field, ...</td>\n",
       "      <td>5</td>\n",
       "      <td>Tord Palander</td>\n",
       "      <td>1902</td>\n",
       "      <td>Sweden</td>\n",
       "      <td>1</td>\n",
       "      <td>Stockholm,Sweden</td>\n",
       "      <td>2</td>\n",
       "      <td>Stockholm_University</td>\n",
       "      <td>1</td>\n",
       "      <td>None</td>\n",
       "      <td>0</td>\n",
       "      <td>Regional_science,Urban_economics</td>\n",
       "      <td>2</td>\n",
       "      <td>None</td>\n",
       "      <td>0</td>\n",
       "      <td>University_of_Gothenburg,University_of_Uppsala</td>\n",
       "      <td>2</td>\n",
       "    </tr>\n",
       "  </tbody>\n",
       "</table>\n",
       "</div>"
      ],
      "text/plain": [
       "          uri_entity                                         proprietes  \\\n",
       "30     Simon_Kuznets  [birth_place, nationality, alma_mater, field, ...   \n",
       "31  Theodore_Schultz  [birth_place, nationality, alma_mater, field, ...   \n",
       "32     Tord_Palander  [birth_place, nationality, alma_mater, field, ...   \n",
       "\n",
       "    effectif              name  annee    nationality  len_nationality  \\\n",
       "30         5     Simon Kuznets   1901  United_States                1   \n",
       "31         5  Theodore Schultz   1902       American                1   \n",
       "32         5     Tord Palander   1902         Sweden                1   \n",
       "\n",
       "                birth_place  len_birth_place  \\\n",
       "30     Pinsk,Russian_Empire                2   \n",
       "31  Arlington,_South_Dakota                2   \n",
       "32         Stockholm,Sweden                2   \n",
       "\n",
       "                                           alma_mater  len_alma_mater  \\\n",
       "30  Columbia_University,Kharkiv_National_Universit...               2   \n",
       "31  South_Dakota_State_University,University_of_Wi...               2   \n",
       "32                               Stockholm_University               1   \n",
       "\n",
       "   influenced_by  len_influenced_by                               field  \\\n",
       "30          None                  0  Development_economics,Econometrics   \n",
       "31          None                  0              Agricultural_economics   \n",
       "32          None                  0    Regional_science,Urban_economics   \n",
       "\n",
       "    len_field occupation  len_occupation  \\\n",
       "30          2       None               0   \n",
       "31          1       None               0   \n",
       "32          2       None               0   \n",
       "\n",
       "                                          institution  len_institution  \n",
       "30  Columbia_University,Harvard_University,Johns_H...                5  \n",
       "31        Iowa_State_University,University_of_Chicago                2  \n",
       "32     University_of_Gothenburg,University_of_Uppsala                2  "
      ]
     },
     "execution_count": 61,
     "metadata": {},
     "output_type": "execute_result"
    }
   ],
   "source": [
    "merged = pd.merge(df_proprietes_personnes_filtered,personnes, on='uri_entity', sort=False)\n",
    "print(len(merged))\n",
    "merged.sort_values(by=['annee']).loc[30:32,]"
   ]
  },
  {
   "cell_type": "code",
   "execution_count": 62,
   "id": "grand-alcohol",
   "metadata": {},
   "outputs": [
    {
     "data": {
      "text/plain": [
       "(1808, 1984)"
      ]
     },
     "execution_count": 62,
     "metadata": {},
     "output_type": "execute_result"
    }
   ],
   "source": [
    "min(merged['annee']),max(merged['annee'])"
   ]
  },
  {
   "cell_type": "code",
   "execution_count": 63,
   "id": "violent-craft",
   "metadata": {},
   "outputs": [
    {
     "data": {
      "text/plain": [
       "[1801, 1821, 1841, 1861, 1881, 1901, 1921, 1941, 1961, 1981]"
      ]
     },
     "execution_count": 63,
     "metadata": {},
     "output_type": "execute_result"
    }
   ],
   "source": [
    "y20_list = pd.RangeIndex(start=1801, stop=1990, step=20).to_list()\n",
    "y20_list"
   ]
  },
  {
   "cell_type": "code",
   "execution_count": 64,
   "id": "reverse-aging",
   "metadata": {
    "tags": []
   },
   "outputs": [
    {
     "data": {
      "text/plain": [
       "0    1801-1821\n",
       "1    1801-1821\n",
       "2    1821-1841\n",
       "3    1821-1841\n",
       "4    1841-1861\n",
       "Name: generation, dtype: category\n",
       "Categories (9, object): ['1801-1821' < '1821-1841' < '1841-1861' < '1861-1881' ... '1901-1921' < '1921-1941' < '1941-1961' < '1961-1981']"
      ]
     },
     "execution_count": 64,
     "metadata": {},
     "output_type": "execute_result"
    }
   ],
   "source": [
    "### coder les années les regroupant par périodes de vingt ans\n",
    "merged['generation'] = pd.cut(merged['annee'], y20_list, right=False)\n",
    "merged['generation'] = merged['generation'].apply(lambda row : str(int(row.left))+'-'+str(int(row.right)))\n",
    "merged['generation'].head()"
   ]
  },
  {
   "cell_type": "code",
   "execution_count": 65,
   "id": "illegal-corner",
   "metadata": {},
   "outputs": [
    {
     "data": {
      "text/plain": [
       "[1941, 1951, 1961, 1971, 1981]"
      ]
     },
     "execution_count": 65,
     "metadata": {},
     "output_type": "execute_result"
    }
   ],
   "source": [
    "y10_list = pd.RangeIndex(start=1801, stop=1990, step=10).to_list()\n",
    "y10_list[-5:]"
   ]
  },
  {
   "cell_type": "code",
   "execution_count": 66,
   "id": "still-couple",
   "metadata": {
    "tags": []
   },
   "outputs": [
    {
     "data": {
      "text/html": [
       "<div>\n",
       "<style scoped>\n",
       "    .dataframe tbody tr th:only-of-type {\n",
       "        vertical-align: middle;\n",
       "    }\n",
       "\n",
       "    .dataframe tbody tr th {\n",
       "        vertical-align: top;\n",
       "    }\n",
       "\n",
       "    .dataframe thead th {\n",
       "        text-align: right;\n",
       "    }\n",
       "</style>\n",
       "<table border=\"1\" class=\"dataframe\">\n",
       "  <thead>\n",
       "    <tr style=\"text-align: right;\">\n",
       "      <th></th>\n",
       "      <th>uri_entity</th>\n",
       "      <th>proprietes</th>\n",
       "      <th>effectif</th>\n",
       "      <th>name</th>\n",
       "      <th>annee</th>\n",
       "      <th>nationality</th>\n",
       "      <th>len_nationality</th>\n",
       "      <th>birth_place</th>\n",
       "      <th>len_birth_place</th>\n",
       "      <th>alma_mater</th>\n",
       "      <th>...</th>\n",
       "      <th>influenced_by</th>\n",
       "      <th>len_influenced_by</th>\n",
       "      <th>field</th>\n",
       "      <th>len_field</th>\n",
       "      <th>occupation</th>\n",
       "      <th>len_occupation</th>\n",
       "      <th>institution</th>\n",
       "      <th>len_institution</th>\n",
       "      <th>generation</th>\n",
       "      <th>decades</th>\n",
       "    </tr>\n",
       "  </thead>\n",
       "  <tbody>\n",
       "    <tr>\n",
       "      <th>0</th>\n",
       "      <td>Franz_Hermann_Schulze-Delitzsch</td>\n",
       "      <td>[birth_place, nationality, alma_mater, influen...</td>\n",
       "      <td>6</td>\n",
       "      <td>Franz Hermann Schulze-Delitzsch</td>\n",
       "      <td>1808</td>\n",
       "      <td>German_nationality_law</td>\n",
       "      <td>1</td>\n",
       "      <td>Delitzsch,Kingdom_of_Saxony</td>\n",
       "      <td>2</td>\n",
       "      <td>Heidelberg_University,Leipzig_University</td>\n",
       "      <td>...</td>\n",
       "      <td>Ferdinand_Lassalle,Friedrich_Wilhelm_Raiffeisen</td>\n",
       "      <td>2</td>\n",
       "      <td>Microeconomics,Microfinance</td>\n",
       "      <td>2</td>\n",
       "      <td>None</td>\n",
       "      <td>0</td>\n",
       "      <td>Prussian_National_Assembly,Reichstag_(German_E...</td>\n",
       "      <td>2</td>\n",
       "      <td>1801-1821</td>\n",
       "      <td>1801-1811</td>\n",
       "    </tr>\n",
       "    <tr>\n",
       "      <th>1</th>\n",
       "      <td>Lorenz_von_Stein</td>\n",
       "      <td>[birth_place, nationality, alma_mater, influen...</td>\n",
       "      <td>6</td>\n",
       "      <td>Lorenz von Stein</td>\n",
       "      <td>1815</td>\n",
       "      <td>German_Empire</td>\n",
       "      <td>1</td>\n",
       "      <td>Denmark,Duchy_of_Schleswig,Eckernförde</td>\n",
       "      <td>3</td>\n",
       "      <td>University_of_Kiel</td>\n",
       "      <td>...</td>\n",
       "      <td>Benjamin_Constant,Charles_Fourier,G._W._F._Heg...</td>\n",
       "      <td>8</td>\n",
       "      <td>Political_economics,Political_economy</td>\n",
       "      <td>2</td>\n",
       "      <td>None</td>\n",
       "      <td>0</td>\n",
       "      <td>University_of_Vienna</td>\n",
       "      <td>1</td>\n",
       "      <td>1801-1821</td>\n",
       "      <td>1811-1821</td>\n",
       "    </tr>\n",
       "    <tr>\n",
       "      <th>2</th>\n",
       "      <td>Edward_Atkinson_(activist)</td>\n",
       "      <td>[birth_place, nationality, alma_mater, influen...</td>\n",
       "      <td>6</td>\n",
       "      <td>Edward Atkinson (activist)</td>\n",
       "      <td>1827</td>\n",
       "      <td>United_States_nationality_law</td>\n",
       "      <td>1</td>\n",
       "      <td>Brookline,_Massachusetts,Massachusetts</td>\n",
       "      <td>3</td>\n",
       "      <td>Dartmouth_College,University_of_South_Carolina</td>\n",
       "      <td>...</td>\n",
       "      <td>Adam_Smith,Frédéric_Bastiat,John_Bright,Richar...</td>\n",
       "      <td>4</td>\n",
       "      <td>Economics, politics</td>\n",
       "      <td>2</td>\n",
       "      <td>None</td>\n",
       "      <td>0</td>\n",
       "      <td>American_Academy_of_Arts_and_Sciences,American...</td>\n",
       "      <td>2</td>\n",
       "      <td>1821-1841</td>\n",
       "      <td>1821-1831</td>\n",
       "    </tr>\n",
       "    <tr>\n",
       "      <th>3</th>\n",
       "      <td>Arthur_Latham_Perry</td>\n",
       "      <td>[birth_place, nationality, alma_mater, field, ...</td>\n",
       "      <td>5</td>\n",
       "      <td>Arthur Latham Perry</td>\n",
       "      <td>1830</td>\n",
       "      <td>United States</td>\n",
       "      <td>1</td>\n",
       "      <td>Lyme,_New_Hampshire</td>\n",
       "      <td>2</td>\n",
       "      <td>Williams_College</td>\n",
       "      <td>...</td>\n",
       "      <td>None</td>\n",
       "      <td>0</td>\n",
       "      <td>Macroeconomics</td>\n",
       "      <td>1</td>\n",
       "      <td>None</td>\n",
       "      <td>0</td>\n",
       "      <td>Williams_College</td>\n",
       "      <td>1</td>\n",
       "      <td>1821-1841</td>\n",
       "      <td>1821-1831</td>\n",
       "    </tr>\n",
       "    <tr>\n",
       "      <th>4</th>\n",
       "      <td>Georg_Friedrich_Knapp</td>\n",
       "      <td>[birth_place, nationality, influenced_by, fiel...</td>\n",
       "      <td>5</td>\n",
       "      <td>Georg Friedrich Knapp</td>\n",
       "      <td>1842</td>\n",
       "      <td>German,Germany</td>\n",
       "      <td>2</td>\n",
       "      <td>Gießen,Grand_Duchy_of_Hesse</td>\n",
       "      <td>2</td>\n",
       "      <td>None</td>\n",
       "      <td>...</td>\n",
       "      <td>Ferdinand_Lassalle</td>\n",
       "      <td>1</td>\n",
       "      <td>Monetary_economics,Statistics</td>\n",
       "      <td>2</td>\n",
       "      <td>None</td>\n",
       "      <td>0</td>\n",
       "      <td>University_of_Strasbourg</td>\n",
       "      <td>1</td>\n",
       "      <td>1841-1861</td>\n",
       "      <td>1841-1851</td>\n",
       "    </tr>\n",
       "  </tbody>\n",
       "</table>\n",
       "<p>5 rows × 21 columns</p>\n",
       "</div>"
      ],
      "text/plain": [
       "                        uri_entity  \\\n",
       "0  Franz_Hermann_Schulze-Delitzsch   \n",
       "1                 Lorenz_von_Stein   \n",
       "2       Edward_Atkinson_(activist)   \n",
       "3              Arthur_Latham_Perry   \n",
       "4            Georg_Friedrich_Knapp   \n",
       "\n",
       "                                          proprietes  effectif  \\\n",
       "0  [birth_place, nationality, alma_mater, influen...         6   \n",
       "1  [birth_place, nationality, alma_mater, influen...         6   \n",
       "2  [birth_place, nationality, alma_mater, influen...         6   \n",
       "3  [birth_place, nationality, alma_mater, field, ...         5   \n",
       "4  [birth_place, nationality, influenced_by, fiel...         5   \n",
       "\n",
       "                              name  annee                    nationality  \\\n",
       "0  Franz Hermann Schulze-Delitzsch   1808         German_nationality_law   \n",
       "1                 Lorenz von Stein   1815                  German_Empire   \n",
       "2       Edward Atkinson (activist)   1827  United_States_nationality_law   \n",
       "3              Arthur Latham Perry   1830                  United States   \n",
       "4            Georg Friedrich Knapp   1842                 German,Germany   \n",
       "\n",
       "   len_nationality                             birth_place  len_birth_place  \\\n",
       "0                1             Delitzsch,Kingdom_of_Saxony                2   \n",
       "1                1  Denmark,Duchy_of_Schleswig,Eckernförde                3   \n",
       "2                1  Brookline,_Massachusetts,Massachusetts                3   \n",
       "3                1                     Lyme,_New_Hampshire                2   \n",
       "4                2             Gießen,Grand_Duchy_of_Hesse                2   \n",
       "\n",
       "                                       alma_mater  ...  \\\n",
       "0        Heidelberg_University,Leipzig_University  ...   \n",
       "1                              University_of_Kiel  ...   \n",
       "2  Dartmouth_College,University_of_South_Carolina  ...   \n",
       "3                                Williams_College  ...   \n",
       "4                                            None  ...   \n",
       "\n",
       "                                       influenced_by len_influenced_by  \\\n",
       "0    Ferdinand_Lassalle,Friedrich_Wilhelm_Raiffeisen                 2   \n",
       "1  Benjamin_Constant,Charles_Fourier,G._W._F._Heg...                 8   \n",
       "2  Adam_Smith,Frédéric_Bastiat,John_Bright,Richar...                 4   \n",
       "3                                               None                 0   \n",
       "4                                 Ferdinand_Lassalle                 1   \n",
       "\n",
       "                                   field len_field  occupation len_occupation  \\\n",
       "0            Microeconomics,Microfinance         2        None              0   \n",
       "1  Political_economics,Political_economy         2        None              0   \n",
       "2                    Economics, politics         2        None              0   \n",
       "3                         Macroeconomics         1        None              0   \n",
       "4          Monetary_economics,Statistics         2        None              0   \n",
       "\n",
       "                                         institution len_institution  \\\n",
       "0  Prussian_National_Assembly,Reichstag_(German_E...               2   \n",
       "1                               University_of_Vienna               1   \n",
       "2  American_Academy_of_Arts_and_Sciences,American...               2   \n",
       "3                                   Williams_College               1   \n",
       "4                           University_of_Strasbourg               1   \n",
       "\n",
       "   generation    decades  \n",
       "0   1801-1821  1801-1811  \n",
       "1   1801-1821  1811-1821  \n",
       "2   1821-1841  1821-1831  \n",
       "3   1821-1841  1821-1831  \n",
       "4   1841-1861  1841-1851  \n",
       "\n",
       "[5 rows x 21 columns]"
      ]
     },
     "execution_count": 66,
     "metadata": {},
     "output_type": "execute_result"
    }
   ],
   "source": [
    "### coder les années les regroupant par périodes de vingt ans\n",
    "merged['decades'] = pd.cut(merged['annee'], y10_list, right=False)\n",
    "merged['decades'] = merged['decades'].apply(lambda row : str(int(row.left))+'-'+str(int(row.right)))\n",
    "merged.head()"
   ]
  },
  {
   "cell_type": "code",
   "execution_count": 67,
   "id": "acoustic-geography",
   "metadata": {},
   "outputs": [
    {
     "data": {
      "text/plain": [
       "generation\n",
       "1801-1821      2\n",
       "1821-1841      2\n",
       "1841-1861      1\n",
       "1861-1881     10\n",
       "1881-1901     15\n",
       "1901-1921     36\n",
       "1921-1941    132\n",
       "1941-1961    243\n",
       "1961-1981    100\n",
       "dtype: int64"
      ]
     },
     "execution_count": 67,
     "metadata": {},
     "output_type": "execute_result"
    }
   ],
   "source": [
    "### Regrouper par génération\n",
    "gb_generation = merged.groupby('generation').size()\n",
    "gb_generation"
   ]
  },
  {
   "cell_type": "code",
   "execution_count": 68,
   "id": "expanded-acrylic",
   "metadata": {},
   "outputs": [
    {
     "data": {
      "image/png": "[encoded data removed]",
      "text/plain": [
       "<Figure size 1152x576 with 1 Axes>"
      ]
     },
     "metadata": {
      "needs_background": "light"
     },
     "output_type": "display_data"
    }
   ],
   "source": [
    "# Distribution par période de 10 ans de la population délimitée\n",
    "\n",
    "objects = [l for l in gb_generation.index]\n",
    "eff = [l for l in gb_generation]\n",
    "\n",
    "p1 = plt.bar(objects, eff)\n",
    "\n",
    "plt.ylabel('Effectif')\n",
    "plt.title('Naissances par période de vingt ans')\n",
    "plt.gcf().set_size_inches(16, 8)\n",
    "# supported formats: eps, pdf, pgf, png, ps, raw, rgba, svg, svgz\n",
    "# plt.savefig('exported_pictures/effectifs_annees_reference_par_periode.png', dpi=100, bbox_inches = \"tight\") #pdf, svg\n",
    "plt.xticks(rotation=45)\n",
    "plt.show()\n"
   ]
  },
  {
   "cell_type": "code",
   "execution_count": 71,
   "id": "strategic-monkey",
   "metadata": {},
   "outputs": [
    {
     "data": {
      "text/plain": [
       "decades\n",
       "1801-1811      1\n",
       "1811-1821      1\n",
       "1821-1831      2\n",
       "1831-1841      0\n",
       "1841-1851      1\n",
       "1851-1861      0\n",
       "1861-1871      3\n",
       "1871-1881      7\n",
       "1881-1891      7\n",
       "1891-1901      8\n",
       "1901-1911     12\n",
       "1911-1921     24\n",
       "1921-1931     58\n",
       "1931-1941     74\n",
       "1941-1951    117\n",
       "1951-1961    126\n",
       "1961-1971     72\n",
       "1971-1981     28\n",
       "dtype: int64"
      ]
     },
     "execution_count": 71,
     "metadata": {},
     "output_type": "execute_result"
    }
   ],
   "source": [
    "### Fréquences par décades\n",
    "gb_decades = merged.groupby('decades').size()\n",
    "gb_decades"
   ]
  },
  {
   "cell_type": "code",
   "execution_count": 70,
   "id": "ruled-latex",
   "metadata": {},
   "outputs": [
    {
     "data": {
      "image/png": "[encoded data removed]",
      "text/plain": [
       "<Figure size 1152x576 with 1 Axes>"
      ]
     },
     "metadata": {
      "needs_background": "light"
     },
     "output_type": "display_data"
    }
   ],
   "source": [
    "# Distribution par période de 10 ans de la population délimitée\n",
    "\n",
    "objects = [l for l in gb_decades.index]\n",
    "eff = [l for l in gb_decades]\n",
    "\n",
    "p1 = plt.bar(objects, eff)\n",
    "\n",
    "plt.ylabel('Effectif')\n",
    "plt.title('Naissances par période de vingt ans')\n",
    "plt.gcf().set_size_inches(16, 8)\n",
    "# supported formats: eps, pdf, pgf, png, ps, raw, rgba, svg, svgz\n",
    "# plt.savefig('exported_pictures/effectifs_annees_reference_par_periode.png', dpi=100, bbox_inches = \"tight\") #pdf, svg\n",
    "plt.xticks(rotation=45)\n",
    "plt.show()\n"
   ]
  },
  {
   "cell_type": "markdown",
   "id": "complimentary-greeting",
   "metadata": {},
   "source": [
    "# Considérations générales et analyses proposées\n",
    "\n",
    "\n",
    "Ayant pris connaissances des principales propriétés de cette population, de leur liens mutuels (c'est-à-dire la co-fréquence des propriétés) ainsi que de leur caractère partiellement lacunaire il paraît opportun de proposer des analyses de données pour une seule variable, éventuellement mise en relation avec le temps.\n",
    "\n",
    "On aura ainsi les carnets suivants:\n",
    "* [Analyse des années et périodes de naissance](dbpedia_analyse_annees_naissance.ipynb)\n",
    "* [Analyse des lieux de naissance](dbpedia_analyse_lieux.ipynb)\n",
    "* [Analyse des nationalités](dbpedia_analyse_nationalites.ipynb)\n",
    "* [Comparaison de variables qualitatives](dbpedia_comparaison_variables_qualitatives.ipynb)\n",
    "* [Analyse de réseaux](dbpedia_analyse_reseaux.ipynb)\n",
    "\n",
    "\n",
    "\n"
   ]
  },
  {
   "cell_type": "code",
   "execution_count": null,
   "id": "finnish-onion",
   "metadata": {},
   "outputs": [],
   "source": []
  }
 ],
 "metadata": {
  "kernelspec": {
   "display_name": "Py 3.7 HN sparql",
   "language": "python",
   "name": "py37_hn_sparql"
  },
  "language_info": {
   "codemirror_mode": {
    "name": "ipython",
    "version": 3
   },
   "file_extension": ".py",
   "mimetype": "text/x-python",
   "name": "python",
   "nbconvert_exporter": "python",
   "pygments_lexer": "ipython3",
   "version": "3.7.10"
  }
 },
 "nbformat": 4,
 "nbformat_minor": 5
}
