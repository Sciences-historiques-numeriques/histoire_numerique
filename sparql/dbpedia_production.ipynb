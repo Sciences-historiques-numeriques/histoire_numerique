{
 "cells": [
  {
   "cell_type": "markdown",
   "id": "dedicated-tolerance",
   "metadata": {},
   "source": [
    "# Insertion des données de DBPedia dans la base de données SQLite locale"
   ]
  },
  {
   "cell_type": "markdown",
   "id": "proved-democracy",
   "metadata": {},
   "source": [
    "### Importer les librairies à utiliser"
   ]
  },
  {
   "cell_type": "code",
   "execution_count": 1,
   "id": "western-september",
   "metadata": {},
   "outputs": [],
   "source": [
    "from SPARQLWrapper import SPARQLWrapper, SPARQLWrapper2, JSON, TURTLE, XML, RDFXML\n",
    "import pandas as pd\n",
    "import matplotlib.pyplot as plt"
   ]
  },
  {
   "cell_type": "code",
   "execution_count": 2,
   "id": "senior-visitor",
   "metadata": {},
   "outputs": [],
   "source": [
    "import pprint\n",
    "import csv\n",
    "import ast\n",
    "\n",
    "from collections import Counter\n",
    "from operator import itemgetter\n",
    "\n",
    "import sqlite3 as sql\n",
    "import time\n",
    "\n",
    "from importlib import reload\n",
    "from shutil import copyfile\n",
    "\n",
    "import re"
   ]
  },
  {
   "cell_type": "code",
   "execution_count": 3,
   "id": "progressive-airline",
   "metadata": {},
   "outputs": [],
   "source": [
    "### Importer un module de fonctions crée ad hoc\n",
    "## ATTENTION : le fichier 'sparql_functions.py' doit se trouver \n",
    "#   dans le même dossier que le présent carnet Jupyter afin que l'importation\n",
    "#   fonctionne correctement\n",
    "import sparql_functions as spqf"
   ]
  },
  {
   "cell_type": "code",
   "execution_count": 4,
   "id": "pregnant-sport",
   "metadata": {},
   "outputs": [
    {
     "data": {
      "text/plain": [
       "<module 'sparql_functions' from '/Volumes/Patientia/python_notebooks/sciences_historiques_numeriques/histoire_numerique/sparql/sparql_functions.py'>"
      ]
     },
     "execution_count": 4,
     "metadata": {},
     "output_type": "execute_result"
    }
   ],
   "source": [
    "### Recharger le module après modification des fonctions dans le fichier du module\n",
    "# désactivé #  reload(spqf)"
   ]
  },
  {
   "cell_type": "markdown",
   "id": "tested-newport",
   "metadata": {},
   "source": [
    "### Versionnement manuel de la base de donnée des requêtes\n",
    "\n",
    "Cette opération créé une copie de la base de données identifiée par un _timestamp_. À utiliser avant toute opération significative sur la base de données (modification de la structure, imports par des scripts Python, etc.)"
   ]
  },
  {
   "cell_type": "code",
   "execution_count": 4,
   "id": "tough-elimination",
   "metadata": {},
   "outputs": [],
   "source": [
    "db = 'data/sparql_queries.db'"
   ]
  },
  {
   "cell_type": "code",
   "execution_count": 5,
   "id": "moved-nightmare",
   "metadata": {},
   "outputs": [
    {
     "data": {
      "text/plain": [
       "'20210513_160213'"
      ]
     },
     "execution_count": 5,
     "metadata": {},
     "output_type": "execute_result"
    }
   ],
   "source": [
    "### Fonction qui récupère et met en forme le temps au moment de l'exécution\n",
    "\n",
    "# définition\n",
    "def timestamp_formatted_for_file_name():\n",
    "    is_now = time.strftime('%Y%m%d_%H%M%S')\n",
    "    return is_now\n",
    "\n",
    "# exécution\n",
    "timestamp_formatted_for_file_name()"
   ]
  },
  {
   "cell_type": "code",
   "execution_count": 6,
   "id": "directed-serve",
   "metadata": {},
   "outputs": [],
   "source": [
    "### Définir les adresses des fichiers, l'existant et celui à créer\n",
    "db = 'data/sparql_queries.db'\n",
    "\n",
    "##  Noter que la différence de suffixe, en soi totalement arbitraire, \n",
    "#  dépend du fait que dans la configuration de .gitignore, .sqlite est exclu du verisonnement GIT\n",
    "#  contrairement à .db qui est versionné\n",
    "timestamped_db_copy = 'data/sparql_queries_' + timestamp_formatted_for_file_name() + '.sqlite'"
   ]
  },
  {
   "cell_type": "code",
   "execution_count": 7,
   "id": "functional-dallas",
   "metadata": {},
   "outputs": [
    {
     "data": {
      "text/plain": [
       "'data/sparql_queries_20210513_160214.sqlite'"
      ]
     },
     "execution_count": 7,
     "metadata": {},
     "output_type": "execute_result"
    }
   ],
   "source": [
    "### Créer une copie de sauvegarde avec timestamp du fichier (versionnement manuel)\n",
    "# ATTENTION : la base de données doit exister à l'endroit indiqué !\n",
    "## Cette requête n'est utile que si des modifications en écriture vont être apportées à la base de données,\n",
    "# afint de préserver le dernier état avant modification\n",
    "\n",
    "## Documentation:\n",
    "# https://docs.python.org/3/library/shutil.htmlcopied_db = copyfile(original_db, timestamped_db_copy)\n",
    "\n",
    "copied_db = copyfile(db, timestamped_db_copy)\n",
    "copied_db"
   ]
  },
  {
   "cell_type": "markdown",
   "id": "blessed-experiment",
   "metadata": {},
   "source": [
    "## Exécuter une requête SPARQL stockée dans la base de données"
   ]
  },
  {
   "cell_type": "code",
   "execution_count": 55,
   "id": "described-apparatus",
   "metadata": {},
   "outputs": [],
   "source": [
    "### Définir la ligne de la base de données à utiliser (inspécter préalablement la base de données)\n",
    "pk_query = 37\n",
    "\n",
    "# connnexion à la base de données\n",
    "original_db = 'data/sparql_queries.db'\n",
    "conn = sql.connect(original_db)\n",
    "\n",
    "### exécuter la requëte sur la base de donées SQLite pour récupérer les valeurs que contient la ligne\n",
    "c = conn.cursor()\n",
    "c.execute('SELECT * FROM query WHERE pk_query = ?', [pk_query]) ### a list around argument is needed for a string longer then one\n",
    "#c.execute('SELECT * FROM query WHERE pk_query = 10')\n",
    "\n",
    "rc = c.fetchone()\n",
    "\n",
    "# fermer la connexion\n",
    "conn.close()\n",
    "\n",
    "# imprimer et inspecter le résultat\n",
    "# rc\n"
   ]
  },
  {
   "cell_type": "code",
   "execution_count": 56,
   "id": "elect-stretch",
   "metadata": {},
   "outputs": [
    {
     "name": "stdout",
     "output_type": "stream",
     "text": [
      "Chercher les personnes ayant été influencées par les économistes\n",
      "-----\n",
      "https://dbpedia.org/sparql\n",
      "-----\n",
      "PREFIX  dbo:  <http://dbpedia.org/ontology/>\n",
      "PREFIX  yago: <http://dbpedia.org/class/yago/>\n",
      "PREFIX  dbp:  <http://dbpedia.org/property/>\n",
      "PREFIX  dbr:  <http://dbpedia.org/resource/>\n",
      "\n",
      "SELECT DISTINCT  ?person  ?influenced\n",
      "WHERE\n",
      "  {\n",
      "    \n",
      "       {?influenced  dbo:influencedBy  ?person.}\n",
      "       \n",
      "\n",
      "\n",
      "    {   { ?person  a                     dbo:Economist }\n",
      "      UNION\n",
      "        { ?person  dbp:profession  dbr:Economist }\n",
      "      UNION\n",
      "        { ?person  a                     yago:Economist110043643 }\n",
      "      UNION\n",
      "        { ?person  dbp:occupation  dbr:Economist }\n",
      "      UNION\n",
      "        { ?person  dbp:field  dbr:Economist }\n",
      "      UNION\n",
      "        { ?person  dbp:fields  dbr:Economist }\n",
      "      UNION\n",
      "        { ?person  dbp:discipline  dbr:Economist }\n",
      "      UNION\n",
      "        { ?person  dbo:profession  dbr:Economist }\n",
      "      UNION\n",
      "        { ?person  dbo:occupation  dbr:Economist }\n",
      "      UNION\n",
      "        { ?person  dbo:academicDiscipline  dbr:Economist }\n",
      "    }\n",
      "  }\n",
      "ORDER BY ?person ?influenced\n"
     ]
    }
   ],
   "source": [
    "print(rc[2] +  \"\\n-----\\n\" + rc[4] +  \"\\n-----\\n\" + rc[5])"
   ]
  },
  {
   "cell_type": "markdown",
   "id": "stopped-count",
   "metadata": {},
   "source": [
    "### Exécuter les requêtes SPARQL en utilisant les fonctions-utilisateur"
   ]
  },
  {
   "cell_type": "code",
   "execution_count": 57,
   "id": "stainless-voltage",
   "metadata": {
    "tags": []
   },
   "outputs": [
    {
     "name": "stdout",
     "output_type": "stream",
     "text": [
      "<class 'dict'>\n"
     ]
    }
   ],
   "source": [
    "### Exécuter la requête SPARQL enveloppée par cette fonction, \n",
    "# elle se trouve dans le biliothèque-utilisateur _sparql_functions.py_\n",
    "# le premier paramètre correspond au point d'accès SPARQL, le deuxième à la requête\n",
    "qr = spqf.get_json_sparql_result(rc[4],rc[5])"
   ]
  },
  {
   "cell_type": "code",
   "execution_count": 58,
   "id": "reported-potato",
   "metadata": {},
   "outputs": [
    {
     "data": {
      "text/plain": [
       "1736"
      ]
     },
     "execution_count": 58,
     "metadata": {},
     "output_type": "execute_result"
    }
   ],
   "source": [
    "# Nombre de lignes de la réponse\n",
    "len(qr['results']['bindings'])"
   ]
  },
  {
   "cell_type": "code",
   "execution_count": 59,
   "id": "interracial-buffalo",
   "metadata": {
    "scrolled": true
   },
   "outputs": [],
   "source": [
    "# Transformer le résultat en liste en utilisant une autre fonction de la bibliothèque utilisateur\n",
    "r = [l for l in spqf.sparql_result_to_list(qr) ]\n",
    "# r"
   ]
  },
  {
   "cell_type": "code",
   "execution_count": 60,
   "id": "inside-commodity",
   "metadata": {
    "scrolled": true,
    "tags": []
   },
   "outputs": [
    {
     "name": "stdout",
     "output_type": "stream",
     "text": [
      "1736\n"
     ]
    },
    {
     "data": {
      "text/plain": [
       "[['http://dbpedia.org/resource/Aaron_Director',\n",
       "  'http://dbpedia.org/resource/Steven_N._S._Cheung'],\n",
       " ['http://dbpedia.org/resource/Abhijit_Banerjee',\n",
       "  'http://dbpedia.org/resource/Benjamin_Moll'],\n",
       " ['http://dbpedia.org/resource/Abraham_Wald',\n",
       "  'http://dbpedia.org/resource/Erich_Leo_Lehmann'],\n",
       " ['http://dbpedia.org/resource/Abram_Bergson',\n",
       "  'http://dbpedia.org/resource/Johannes_de_Villiers_Graaff'],\n",
       " ['http://dbpedia.org/resource/Adam_Ferguson',\n",
       "  'http://dbpedia.org/resource/Friedrich_Hayek'],\n",
       " ['http://dbpedia.org/resource/Adam_Ferguson',\n",
       "  'http://dbpedia.org/resource/Georg_Wilhelm_Friedrich_Hegel'],\n",
       " ['http://dbpedia.org/resource/Adam_Ferguson',\n",
       "  'http://dbpedia.org/resource/Jean_Charles_Léonard_de_Sismondi'],\n",
       " ['http://dbpedia.org/resource/Adam_Smith',\n",
       "  'http://dbpedia.org/resource/Antonio_Rosmini'],\n",
       " ['http://dbpedia.org/resource/Adam_Smith',\n",
       "  'http://dbpedia.org/resource/Armen_Alchian'],\n",
       " ['http://dbpedia.org/resource/Adam_Smith',\n",
       "  'http://dbpedia.org/resource/Carl_Menger'],\n",
       " ['http://dbpedia.org/resource/Adam_Smith',\n",
       "  'http://dbpedia.org/resource/Christian_Jakob_Kraus'],\n",
       " ['http://dbpedia.org/resource/Adam_Smith',\n",
       "  'http://dbpedia.org/resource/David_D._Friedman'],\n",
       " ['http://dbpedia.org/resource/Adam_Smith',\n",
       "  'http://dbpedia.org/resource/David_Hume'],\n",
       " ['http://dbpedia.org/resource/Adam_Smith',\n",
       "  'http://dbpedia.org/resource/David_R._Henderson'],\n",
       " ['http://dbpedia.org/resource/Adam_Smith',\n",
       "  'http://dbpedia.org/resource/Donald_J._Boudreaux'],\n",
       " ['http://dbpedia.org/resource/Adam_Smith',\n",
       "  'http://dbpedia.org/resource/Edward_Atkinson_(activist)'],\n",
       " ['http://dbpedia.org/resource/Adam_Smith',\n",
       "  'http://dbpedia.org/resource/Fernando_Vianello'],\n",
       " ['http://dbpedia.org/resource/Adam_Smith',\n",
       "  'http://dbpedia.org/resource/Friedrich_Hayek'],\n",
       " ['http://dbpedia.org/resource/Adam_Smith',\n",
       "  'http://dbpedia.org/resource/Friedrich_Heinrich_Jacobi'],\n",
       " ['http://dbpedia.org/resource/Adam_Smith',\n",
       "  'http://dbpedia.org/resource/Georg_Wilhelm_Friedrich_Hegel'],\n",
       " ['http://dbpedia.org/resource/Adam_Smith',\n",
       "  'http://dbpedia.org/resource/George_Grantham_(economic_historian)'],\n",
       " ['http://dbpedia.org/resource/Adam_Smith',\n",
       "  'http://dbpedia.org/resource/George_Reisman'],\n",
       " ['http://dbpedia.org/resource/Adam_Smith',\n",
       "  'http://dbpedia.org/resource/Glen_Pettigrove'],\n",
       " ['http://dbpedia.org/resource/Adam_Smith',\n",
       "  'http://dbpedia.org/resource/Henri_de_Saint-Simon'],\n",
       " ['http://dbpedia.org/resource/Adam_Smith',\n",
       "  'http://dbpedia.org/resource/Immanuel_Kant'],\n",
       " ['http://dbpedia.org/resource/Adam_Smith',\n",
       "  'http://dbpedia.org/resource/J._Bradford_DeLong'],\n",
       " ['http://dbpedia.org/resource/Adam_Smith',\n",
       "  'http://dbpedia.org/resource/James_Otteson'],\n",
       " ['http://dbpedia.org/resource/Adam_Smith',\n",
       "  'http://dbpedia.org/resource/James_Watt'],\n",
       " ['http://dbpedia.org/resource/Adam_Smith',\n",
       "  'http://dbpedia.org/resource/Jean-Baptiste_Say'],\n",
       " ['http://dbpedia.org/resource/Adam_Smith',\n",
       "  'http://dbpedia.org/resource/Jean_Charles_Léonard_de_Sismondi'],\n",
       " ['http://dbpedia.org/resource/Adam_Smith',\n",
       "  'http://dbpedia.org/resource/Jeremy_Bentham'],\n",
       " ['http://dbpedia.org/resource/Adam_Smith',\n",
       "  'http://dbpedia.org/resource/Joan_Robinson'],\n",
       " ['http://dbpedia.org/resource/Adam_Smith',\n",
       "  'http://dbpedia.org/resource/John_Ramsay_McCulloch'],\n",
       " ['http://dbpedia.org/resource/Adam_Smith',\n",
       "  'http://dbpedia.org/resource/Juan_Bautista_Alberdi'],\n",
       " ['http://dbpedia.org/resource/Adam_Smith',\n",
       "  'http://dbpedia.org/resource/Julian_Simon'],\n",
       " ['http://dbpedia.org/resource/Adam_Smith',\n",
       "  'http://dbpedia.org/resource/Karl_Polanyi'],\n",
       " ['http://dbpedia.org/resource/Adam_Smith',\n",
       "  'http://dbpedia.org/resource/Léon_Walras'],\n",
       " ['http://dbpedia.org/resource/Adam_Smith',\n",
       "  'http://dbpedia.org/resource/Mark_Skousen'],\n",
       " ['http://dbpedia.org/resource/Adam_Smith',\n",
       "  'http://dbpedia.org/resource/Martha_Nussbaum'],\n",
       " ['http://dbpedia.org/resource/Adam_Smith',\n",
       "  'http://dbpedia.org/resource/Milton_Friedman'],\n",
       " ['http://dbpedia.org/resource/Adam_Smith',\n",
       "  'http://dbpedia.org/resource/Mookie_Tenembaum'],\n",
       " ['http://dbpedia.org/resource/Adam_Smith',\n",
       "  'http://dbpedia.org/resource/Nassau_William_Senior'],\n",
       " ['http://dbpedia.org/resource/Adam_Smith',\n",
       "  'http://dbpedia.org/resource/Nikolay_Chernyshevsky'],\n",
       " ['http://dbpedia.org/resource/Adam_Smith',\n",
       "  'http://dbpedia.org/resource/Pierre-Joseph_Proudhon'],\n",
       " ['http://dbpedia.org/resource/Adam_Smith',\n",
       "  'http://dbpedia.org/resource/Robert_Sugden_(economist)'],\n",
       " ['http://dbpedia.org/resource/Adam_Smith',\n",
       "  'http://dbpedia.org/resource/Russ_Roberts'],\n",
       " ['http://dbpedia.org/resource/Adam_Smith',\n",
       "  'http://dbpedia.org/resource/Shirzad_Peik_Herfeh'],\n",
       " ['http://dbpedia.org/resource/Adam_Smith',\n",
       "  'http://dbpedia.org/resource/Steven_N._S._Cheung'],\n",
       " ['http://dbpedia.org/resource/Adam_Smith',\n",
       "  'http://dbpedia.org/resource/Thomas_Hodgskin'],\n",
       " ['http://dbpedia.org/resource/Adam_Smith',\n",
       "  'http://dbpedia.org/resource/Thomas_Piketty']]"
      ]
     },
     "execution_count": 60,
     "metadata": {},
     "output_type": "execute_result"
    }
   ],
   "source": [
    "# inspecter une seule ligne de la liste (de listes)\n",
    "print(len(r))\n",
    "r[:50]"
   ]
  },
  {
   "cell_type": "code",
   "execution_count": 226,
   "id": "received-twins",
   "metadata": {
    "scrolled": true,
    "tags": []
   },
   "outputs": [],
   "source": [
    "# Inspecter les dix premières lignes\n",
    "\n",
    "def inspect_10_lines (qr):\n",
    "    i = 0\n",
    "    for l in qr['results']['bindings']:\n",
    "        if i < 10:\n",
    "            print(l)\n",
    "            i += 1\n",
    "\n",
    "# inspect_10_lines (qr)"
   ]
  },
  {
   "cell_type": "markdown",
   "id": "according-merchant",
   "metadata": {},
   "source": [
    "# Transformer les données récupérées et les insérer dans les tables de la base de données SQLite"
   ]
  },
  {
   "cell_type": "markdown",
   "id": "spoken-lesson",
   "metadata": {
    "tags": []
   },
   "source": [
    "## Insérer de nouvelles entités\n",
    "\n",
    "Dans la table _entity_ on insére les entités, i.e. les instances des classes qu'on étudie (personnes, organisations, lieux, objets, etc.)"
   ]
  },
  {
   "cell_type": "code",
   "execution_count": 262,
   "id": "functional-thesis",
   "metadata": {
    "tags": []
   },
   "outputs": [
    {
     "data": {
      "text/plain": [
       "[['http://dbpedia.org/resource/University_College,_Oxford', '-1.252'],\n",
       " ['http://dbpedia.org/resource/University_of_Calgary', '-114.133'],\n",
       " ['http://dbpedia.org/resource/University_of_Pittsburgh', '-79.9533']]"
      ]
     },
     "execution_count": 262,
     "metadata": {},
     "output_type": "execute_result"
    }
   ],
   "source": [
    "r[:3]"
   ]
  },
  {
   "cell_type": "code",
   "execution_count": 252,
   "id": "covered-milton",
   "metadata": {},
   "outputs": [],
   "source": [
    "## rl = [[l[0], 'https://dbpedia.org/ontology/Person', 'https://dbpedia.org/sparql', 7 ] for l in r]\n",
    "## rl = [[l[0], 'https://dbpedia.org/ontology/Place', 'https://dbpedia.org/sparql', 26 ] for l in r]\n",
    "rl = [[l[0], 'https://dbpedia.org/ontology/EducationalInstitution', 'https://dbpedia.org/sparql', 32 ] for l in r]\n"
   ]
  },
  {
   "cell_type": "code",
   "execution_count": 253,
   "id": "innocent-companion",
   "metadata": {},
   "outputs": [
    {
     "data": {
      "text/plain": [
       "[['http://dbpedia.org/resource/A.B.',\n",
       "  'https://dbpedia.org/ontology/EducationalInstitution',\n",
       "  'https://dbpedia.org/sparql',\n",
       "  32],\n",
       " ['http://dbpedia.org/resource/Aarhus_University',\n",
       "  'https://dbpedia.org/ontology/EducationalInstitution',\n",
       "  'https://dbpedia.org/sparql',\n",
       "  32],\n",
       " ['http://dbpedia.org/resource/Aberystwyth_University',\n",
       "  'https://dbpedia.org/ontology/EducationalInstitution',\n",
       "  'https://dbpedia.org/sparql',\n",
       "  32]]"
      ]
     },
     "execution_count": 253,
     "metadata": {},
     "output_type": "execute_result"
    }
   ],
   "source": [
    "rl[:3]"
   ]
  },
  {
   "cell_type": "code",
   "execution_count": 254,
   "id": "owned-authorization",
   "metadata": {
    "tags": []
   },
   "outputs": [],
   "source": [
    "### Stocker les nouvelles entités en base de données – ne pas oublier d'active le 'commit' !\n",
    "\n",
    "cn = sql.connect(db)\n",
    "c = cn.cursor()\n",
    "\n",
    "# Insérer les données\n",
    "c.executemany(\"INSERT OR IGNORE INTO entity (uri_entity, entity_class, source, fk_query_as_source) VALUES (?,?,?,?)\", rl)\n",
    "\n",
    "# valider l'insertion et fermer la base de données\n",
    "## DESACTIVÉ !!! ##  cn.commit()\n",
    "\n",
    "cn.close()"
   ]
  },
  {
   "cell_type": "markdown",
   "id": "recreational-glenn",
   "metadata": {},
   "source": [
    "### Inspecter le résultat d'une requête après insertion, une fois l'insert ci-dessus effectué"
   ]
  },
  {
   "cell_type": "code",
   "execution_count": 180,
   "id": "nearby-tyler",
   "metadata": {},
   "outputs": [],
   "source": [
    "db = 'data/sparql_queries.db'"
   ]
  },
  {
   "cell_type": "code",
   "execution_count": 255,
   "id": "earlier-premises",
   "metadata": {
    "scrolled": true,
    "tags": []
   },
   "outputs": [
    {
     "data": {
      "text/plain": [
       "[(1442, 'https://dbpedia.org/ontology/EducationalInstitution'),\n",
       " (6868, 'https://dbpedia.org/ontology/Person'),\n",
       " (2773, 'https://dbpedia.org/ontology/Place')]"
      ]
     },
     "execution_count": 255,
     "metadata": {},
     "output_type": "execute_result"
    }
   ],
   "source": [
    "# connnexion à la base de données\n",
    "cn = sql.connect(db)\n",
    "c = cn.cursor()\n",
    "\n",
    "### exécuter la requëte sur la base de donées SQLite pour récupérer les valeurs que contient la ligne\n",
    "c.execute('SELECT count(*) AS eff, entity_class FROM entity GROUP BY entity_class')\n",
    "result_q = c.fetchall()\n",
    "\n",
    "# fermer la connexion\n",
    "cn.close()\n",
    "result_q[:3]"
   ]
  },
  {
   "cell_type": "markdown",
   "id": "naval-retro",
   "metadata": {},
   "source": [
    "## Insérer de nouvelles propriétés\n",
    "\n",
    "Dans la table _property_ on stocke les propriété des entités sous la forme clé-valeur. \n"
   ]
  },
  {
   "cell_type": "code",
   "execution_count": 61,
   "id": "vertical-summary",
   "metadata": {
    "tags": []
   },
   "outputs": [
    {
     "data": {
      "text/plain": [
       "[['http://dbpedia.org/resource/Aaron_Director',\n",
       "  'http://dbpedia.org/resource/Steven_N._S._Cheung'],\n",
       " ['http://dbpedia.org/resource/Abhijit_Banerjee',\n",
       "  'http://dbpedia.org/resource/Benjamin_Moll'],\n",
       " ['http://dbpedia.org/resource/Abraham_Wald',\n",
       "  'http://dbpedia.org/resource/Erich_Leo_Lehmann']]"
      ]
     },
     "execution_count": 61,
     "metadata": {},
     "output_type": "execute_result"
    }
   ],
   "source": [
    "r[:3]"
   ]
  },
  {
   "cell_type": "code",
   "execution_count": 62,
   "id": "suspected-amino",
   "metadata": {
    "scrolled": true,
    "tags": []
   },
   "outputs": [
    {
     "name": "stdout",
     "output_type": "stream",
     "text": [
      "1736\n"
     ]
    },
    {
     "data": {
      "text/plain": [
       "[['http://dbpedia.org/resource/Adam_Ferguson',\n",
       "  'http://dbpedia.org/ontology/influenced',\n",
       "  'http://dbpedia.org/resource/Friedrich_Hayek',\n",
       "  'https://dbpedia.org/sparql',\n",
       "  1,\n",
       "  37],\n",
       " ['http://dbpedia.org/resource/Adam_Ferguson',\n",
       "  'http://dbpedia.org/ontology/influenced',\n",
       "  'http://dbpedia.org/resource/Georg_Wilhelm_Friedrich_Hegel',\n",
       "  'https://dbpedia.org/sparql',\n",
       "  1,\n",
       "  37],\n",
       " ['http://dbpedia.org/resource/Adam_Ferguson',\n",
       "  'http://dbpedia.org/ontology/influenced',\n",
       "  'http://dbpedia.org/resource/Jean_Charles_Léonard_de_Sismondi',\n",
       "  'https://dbpedia.org/sparql',\n",
       "  1,\n",
       "  37],\n",
       " ['http://dbpedia.org/resource/Adam_Smith',\n",
       "  'http://dbpedia.org/ontology/influenced',\n",
       "  'http://dbpedia.org/resource/Antonio_Rosmini',\n",
       "  'https://dbpedia.org/sparql',\n",
       "  1,\n",
       "  37]]"
      ]
     },
     "execution_count": 62,
     "metadata": {},
     "output_type": "execute_result"
    }
   ],
   "source": [
    "# -> (uri_entity, property, value, source, quality, fk_query_as_source) VALUES (?,?,?,?,?,?)\n",
    "## rl = [[l[0], 'http://dbpedia.org/property/birthDate', l[1], 'https://dbpedia.org/sparql', 1, 10 ] for l in r]\n",
    "## rl = [[l[0], 'http://dbpedia.org/ontology/birthDate', l[1], 'https://dbpedia.org/sparql', 1, 11 ] for l in r]\n",
    "## rl = [[l[0], 'http://dbpedia.org/ontology/birthYear', l[1], 'https://dbpedia.org/sparql', 1, 12 ] for l in r]\n",
    "## rl = [[l[0], 'http://dbpedia.org/ontology/occupation', l[1], 'https://dbpedia.org/sparql', 1, 15 ] for l in r]\n",
    "## rl = [[l[0], 'http://dbpedia.org/ontology/profession', l[1], 'https://dbpedia.org/sparql', 1, 16 ] for l in r]\n",
    "## rl = [[l[0], 'http://dbpedia.org/property/occupation', l[1], 'https://dbpedia.org/sparql', 1, 20 ] for l in r]\n",
    "## rl = [[l[0], 'http://dbpedia.org/property/field', l[1], 'https://dbpedia.org/sparql', 1, 21 ] for l in r]\n",
    "## rl = [[l[0], 'http://dbpedia.org/ontology/field', l[1], 'https://dbpedia.org/sparql', 1, 22 ] for l in r]\n",
    "## rl = [[l[0], 'http://dbpedia.org/ontology/birthPlace', l[1], 'https://dbpedia.org/sparql', 1, 23 ] for l in r]\n",
    "## rl = [[l[0], 'http://www.w3.org/1999/02/22-rdf-syntax-ns#type', l[1], 'https://dbpedia.org/sparql', 1, 27 ] for l in r]\n",
    "## rl = [[l[0], 'http://www.w3.org/2003/01/geo/wgs84_pos#long', l[1], 'https://dbpedia.org/sparql', 1, 28 ] for l in r]\n",
    "## rl = [[l[0], 'http://www.w3.org/2003/01/geo/wgs84_pos#lat', l[1], 'https://dbpedia.org/sparql', 1, 29 ] for l in r]\n",
    "## rl = [[l[0], 'http://dbpedia.org/ontology/almaMater', l[1], 'https://dbpedia.org/sparql', 1, 31 ] for l in r]\n",
    "## rl = [[l[0], 'http://www.w3.org/2003/01/geo/wgs84_pos#long', l[1], 'https://dbpedia.org/sparql', 1, 28 ] for l in r]\n",
    "## rl = [[l[0], 'http://www.w3.org/2003/01/geo/wgs84_pos#lat', l[1], 'https://dbpedia.org/sparql', 1, 34 ] for l in r]\n",
    "## rl = [[l[0], 'http://dbpedia.org/ontology/influenced', l[1], 'https://dbpedia.org/sparql', 1, 36 ] for l in r]\n",
    "rl = [[l[0], 'http://dbpedia.org/ontology/influenced', l[1], 'https://dbpedia.org/sparql', 1, 37 ] for l in r]\n",
    "\n",
    "\n",
    "# -> (uri_entity, property, value, additional_property_1, value_1, source, quality, fk_query_as_source) VALUES (?,?,?,?,?,?,?,?)\n",
    "## rl = [[l[0], 'http://dbpedia.org/property/nationality', l[2], 'lang', l[1], 'https://dbpedia.org/sparql', 1, 13 ] for l in r]\n",
    "## rl = [[l[0], 'http://dbpedia.org/ontology/nationality', l[2], 'lang', l[1], 'https://dbpedia.org/sparql', 1, 14 ] for l in r]\n",
    "\n",
    "\n",
    "\n",
    "\n",
    "print(len(rl))\n",
    "rl[4:8]"
   ]
  },
  {
   "cell_type": "code",
   "execution_count": 63,
   "id": "southern-stationery",
   "metadata": {
    "tags": []
   },
   "outputs": [],
   "source": [
    "### OPTIONNEL : si souhaité, stocker la réponse du point d'accès SPARQL dans la table 'result' de la base de données \n",
    "\n",
    "cn = sql.connect(db)\n",
    "c = cn.cursor()\n",
    "\n",
    "# Insérer les données\n",
    "c.executemany(\"INSERT OR IGNORE INTO property (uri_entity, property, value, source, quality, fk_query_as_source) VALUES (?,?,?,?,?,?)\", rl)\n",
    "\n",
    "# valider l'insertion et fermer la base de données\n",
    "## DESACTIVÉ !!! cn.commit()\n",
    "\n",
    "cn.close()"
   ]
  },
  {
   "cell_type": "markdown",
   "id": "color-extraction",
   "metadata": {},
   "source": [
    "### Inspecter le résultat d'une requête après insertion, une fois l'insert ci-dessus effectué"
   ]
  },
  {
   "cell_type": "code",
   "execution_count": 54,
   "id": "everyday-investing",
   "metadata": {
    "scrolled": true,
    "tags": []
   },
   "outputs": [
    {
     "data": {
      "text/plain": [
       "[(6111, 'http://dbpedia.org/ontology/birthPlace'),\n",
       " (5246, 'http://dbpedia.org/ontology/almaMater'),\n",
       " (4562, 'http://dbpedia.org/ontology/birthYear'),\n",
       " (3837, 'http://dbpedia.org/ontology/birthDate'),\n",
       " (3093, 'http://www.w3.org/2003/01/geo/wgs84_pos#long'),\n",
       " (3093, 'http://www.w3.org/2003/01/geo/wgs84_pos#lat'),\n",
       " (2655, 'http://dbpedia.org/property/nationality'),\n",
       " (2301, 'http://www.w3.org/1999/02/22-rdf-syntax-ns#type'),\n",
       " (2280, 'http://dbpedia.org/property/field'),\n",
       " (2104, 'http://dbpedia.org/ontology/influenced'),\n",
       " (1897, 'http://dbpedia.org/property/birthDate'),\n",
       " (1869, 'http://dbpedia.org/ontology/field'),\n",
       " (1809, 'http://dbpedia.org/property/occupation'),\n",
       " (1773, 'http://dbpedia.org/ontology/nationality'),\n",
       " (1736, 'http://dbpedia.org/ontology/occupation'),\n",
       " (620, 'http://dbpedia.org/ontology/profession')]"
      ]
     },
     "execution_count": 54,
     "metadata": {},
     "output_type": "execute_result"
    }
   ],
   "source": [
    "# connnexion à la base de données\n",
    "cn = sql.connect(db)\n",
    "c = cn.cursor()\n",
    "\n",
    "### exécuter la requëte sur la base de donées SQLite pour récupérer les valeurs que contient la ligne\n",
    "c.execute('SELECT count(*) AS eff, property FROM property GROUP BY property ORDER BY eff DESC')\n",
    "result_q = c.fetchall()\n",
    "\n",
    "# fermer la connexion\n",
    "cn.close()\n",
    "result_q[:30]"
   ]
  },
  {
   "cell_type": "markdown",
   "id": "manufactured-invention",
   "metadata": {},
   "source": [
    "### Quelles propriétés utiliser ?\n",
    "\n",
    "Comme indiqué dans le carnet _dbpedia_exploration_ la question se pose de l'articulation entre les propriétés issues de la première méthode d'extraction des données de DBPedia (_http://dbpedia.org/property/..._) et celles de la nouvelle méthode basée sur une ontologie décrite explicititement (_http://dbpedia.org/ontology/..._). Voire les explications fort utiles de cette page:\n",
    "\n",
    "https://wiki.dbpedia.org/services-resources/ontology\n",
    "\n",
    "Il faut explorer les données pour comprendre l'information qu'elles contiennent et évaluer son utilité pour répondre aux questionnements."
   ]
  },
  {
   "cell_type": "code",
   "execution_count": null,
   "id": "unique-poultry",
   "metadata": {},
   "outputs": [],
   "source": []
  },
  {
   "cell_type": "code",
   "execution_count": null,
   "id": "stone-terror",
   "metadata": {},
   "outputs": [],
   "source": []
  },
  {
   "cell_type": "markdown",
   "id": "honey-baking",
   "metadata": {},
   "source": [
    "## Ajout des années de naissance retravaillées\n",
    "\n",
    "* Dans cette partie, une année de naissance est ajoutée à chaque personne en la calculant à partir des informations disponibles.\n",
    "* L'année de naissance est stockée dans une propriété existante tout en indiquant sa source: \n"
   ]
  },
  {
   "cell_type": "code",
   "execution_count": 278,
   "id": "occupational-spread",
   "metadata": {},
   "outputs": [],
   "source": [
    "db = 'data/sparql_queries.db'"
   ]
  },
  {
   "cell_type": "code",
   "execution_count": 279,
   "id": "finite-certificate",
   "metadata": {
    "scrolled": true,
    "tags": []
   },
   "outputs": [
    {
     "name": "stdout",
     "output_type": "stream",
     "text": [
      "3870\n"
     ]
    },
    {
     "data": {
      "text/plain": [
       "[(',1941-02-21,,1941-02-21',\n",
       "  'http://dbpedia.org/resource/Laurel_Lunt_Prussing',\n",
       "  4),\n",
       " ('1952-05-27,Tokyo Japan,1952-05-27,Tokyo Japan',\n",
       "  'http://dbpedia.org/resource/Makoto_Yano',\n",
       "  4),\n",
       " (',1940-09-03,,1940-09-03',\n",
       "  'http://dbpedia.org/resource/Robert_J._Gordon',\n",
       "  4),\n",
       " ('1899-01-17,1899,1899-01-17',\n",
       "  'http://dbpedia.org/resource/Abram_Lincoln_Harris',\n",
       "  3),\n",
       " ('--06-16,1723-06-05,1723', 'http://dbpedia.org/resource/Adam_Smith', 3)]"
      ]
     },
     "execution_count": 279,
     "metadata": {},
     "output_type": "execute_result"
    }
   ],
   "source": [
    "### Inspecter le résultat d'une requête après insertion, une fois l'insert ci-dessus effectué\n",
    "\n",
    "\n",
    "# noter la logique du regroupement : résultat souhaité = une ligne par personne (URI)\n",
    "\n",
    "query = \"\"\"\n",
    "SELECT GROUP_CONCAT(value), uri_entity, count(*) as eff\n",
    "FROM property p\n",
    "WHERE p.property LIKE '%birthD%' OR p.property LIKE '%birthY%'\n",
    "GROUP BY uri_entity\n",
    "ORDER BY eff DESC ;\n",
    "\n",
    "\"\"\"\n",
    "\n",
    "# connnexion à la base de données\n",
    "cn = sql.connect(db)\n",
    "c = cn.cursor()\n",
    "\n",
    "### exécuter la requëte sur la base de donées SQLite pour récupérer les valeurs que contient la ligne\n",
    "c.execute(query)\n",
    "result_q = []\n",
    "result_q = c.fetchall()\n",
    "\n",
    "# fermer la connexion\n",
    "cn.close()\n",
    "print(len(result_q))\n",
    "result_q[:5]"
   ]
  },
  {
   "cell_type": "code",
   "execution_count": 280,
   "id": "alone-douglas",
   "metadata": {
    "scrolled": true,
    "tags": []
   },
   "outputs": [
    {
     "name": "stdout",
     "output_type": "stream",
     "text": [
      "3870\n"
     ]
    },
    {
     "data": {
      "text/plain": [
       "[',--05-07,0007',\n",
       " ',1940-09-03,,1940-09-03',\n",
       " ',1941-02-21,,1941-02-21',\n",
       " ',1949-01-10',\n",
       " ',1955-12-14',\n",
       " ',1960-10-17',\n",
       " ',1962-03-20',\n",
       " ',1965-06-30',\n",
       " '--01-02',\n",
       " '--02-07,--02-07',\n",
       " '--02-14,1766-02-14,--02-14',\n",
       " '--04-21,--04-21',\n",
       " '--06-07,1959-06-07,--06-07',\n",
       " '--06-10',\n",
       " '--06-16,1723-06-05,1723',\n",
       " '--07-18,--07-18',\n",
       " '--08-02',\n",
       " '--09-03,1957-09-03,--09-03',\n",
       " '--10-29',\n",
       " '--11-05,--11-05',\n",
       " '--12-01',\n",
       " '1021-12-08',\n",
       " '1031',\n",
       " '1332-05-27',\n",
       " '1447,1447',\n",
       " '1473-02-19',\n",
       " '15,15',\n",
       " '1560,1560',\n",
       " '1571-06-17,1571-06-17',\n",
       " '1619-08-29',\n",
       " '1621-04-17',\n",
       " '1623-05-26,1623',\n",
       " '1632-08-29,1632',\n",
       " '1635-05-06',\n",
       " '1640,1640,1640',\n",
       " '1646-02-17,1646-02-17',\n",
       " '1648-09-14,1648',\n",
       " '1652-09-04,1652',\n",
       " '1653-07-05',\n",
       " '1657-03-24',\n",
       " '1670-11-15,1670',\n",
       " '1671-04-21,1671-04-21',\n",
       " '1675,1675',\n",
       " '1680.0,1680',\n",
       " '1694-06-04,1694',\n",
       " '1700-02-08',\n",
       " '1703,1703',\n",
       " '1711-11-19',\n",
       " '1712-10-21,1712',\n",
       " '1714-09-30,1714']"
      ]
     },
     "execution_count": 280,
     "metadata": {},
     "output_type": "execute_result"
    }
   ],
   "source": [
    "### inspecter le résultat\n",
    "ldn = [l[0] for l in result_q]\n",
    "print(len(ldn))\n",
    "ldn.sort()\n",
    "ldn[:50]"
   ]
  },
  {
   "cell_type": "code",
   "execution_count": 291,
   "id": "italian-diamond",
   "metadata": {},
   "outputs": [
    {
     "name": "stdout",
     "output_type": "stream",
     "text": [
      "3870\n"
     ]
    },
    {
     "data": {
      "text/plain": [
       "[[['1941', '1941'], 'http://dbpedia.org/resource/Laurel_Lunt_Prussing'],\n",
       " [['1952', '1952'], 'http://dbpedia.org/resource/Makoto_Yano'],\n",
       " [['1940', '1940'], 'http://dbpedia.org/resource/Robert_J._Gordon']]"
      ]
     },
     "execution_count": 291,
     "metadata": {},
     "output_type": "execute_result"
    }
   ],
   "source": [
    "## extraire seulement les années\n",
    "listeDateNaiss = []\n",
    "annee = re.compile(r'\\d{4}')\n",
    "\n",
    "for l in result_q:\n",
    "    listeDateNaiss.append([annee.findall(l[0]), l[1]])\n",
    "print(len(listeDateNaiss))\n",
    "listeDateNaiss[:3]"
   ]
  },
  {
   "cell_type": "code",
   "execution_count": 293,
   "id": "wrapped-recipe",
   "metadata": {
    "tags": []
   },
   "outputs": [
    {
     "name": "stdout",
     "output_type": "stream",
     "text": [
      "3870\n",
      "3849\n"
     ]
    },
    {
     "data": {
      "text/plain": [
       "[['http://dbpedia.org/resource/A._C._Cuza', 1857],\n",
       " ['http://dbpedia.org/resource/A._D._Roy', 1920],\n",
       " ['http://dbpedia.org/resource/A._K._Shiva_Kumar', 1956],\n",
       " ['http://dbpedia.org/resource/Aaron_Director', 1901],\n",
       " ['http://dbpedia.org/resource/Aaron_Farrugia', 1980]]"
      ]
     },
     "execution_count": 293,
     "metadata": {},
     "output_type": "execute_result"
    }
   ],
   "source": [
    "print(len(listeDateNaiss))\n",
    "\n",
    "#choix de codage: si plusieurs années par personne, retenir la date inférieure\n",
    "anneeNaiss = [[l[1],int(min(l[0]))] for l in listeDateNaiss if l[0]]\n",
    "print(len(anneeNaiss))\n",
    "\n",
    "#trier\n",
    "anneeNaiss.sort()\n",
    "anneeNaiss[:5]"
   ]
  },
  {
   "cell_type": "code",
   "execution_count": 302,
   "id": "digital-safety",
   "metadata": {
    "scrolled": true,
    "tags": []
   },
   "outputs": [
    {
     "name": "stdout",
     "output_type": "stream",
     "text": [
      "3849\n"
     ]
    },
    {
     "data": {
      "text/plain": [
       "[['http://dbpedia.org/resource/Aaron_Farrugia',\n",
       "  'http://dbpedia.org/ontology/birthYear',\n",
       "  1980,\n",
       "  'Produit avec script dans carnet dbpedia_production, 8 mai 2021',\n",
       "  1,\n",
       "  0],\n",
       " ['http://dbpedia.org/resource/Aat_van_Rhijn',\n",
       "  'http://dbpedia.org/ontology/birthYear',\n",
       "  1892,\n",
       "  'Produit avec script dans carnet dbpedia_production, 8 mai 2021',\n",
       "  1,\n",
       "  0]]"
      ]
     },
     "execution_count": 302,
     "metadata": {},
     "output_type": "execute_result"
    }
   ],
   "source": [
    "### Produit avec le script d'insertion ci-dessus\n",
    "\n",
    "rl = [[l[0], 'http://dbpedia.org/ontology/birthYear', l[1], 'Produit avec script dans carnet dbpedia_production, 8 mai 2021', 1, 0 ] for l in anneeNaiss]\n",
    "\n",
    "\n",
    "# INSERT OR IGNORE INTO property (uri_entity, property, value, source, quality, fk_query_as_source) VALUES (?,?,?,?,?,?)\n",
    "\n",
    "\n",
    "print(len(rl))\n",
    "rl[4:6]"
   ]
  },
  {
   "cell_type": "code",
   "execution_count": null,
   "id": "advanced-champion",
   "metadata": {},
   "outputs": [],
   "source": []
  },
  {
   "cell_type": "code",
   "execution_count": null,
   "id": "convenient-month",
   "metadata": {},
   "outputs": [],
   "source": []
  },
  {
   "cell_type": "code",
   "execution_count": null,
   "id": "greatest-counter",
   "metadata": {},
   "outputs": [],
   "source": []
  },
  {
   "cell_type": "code",
   "execution_count": null,
   "id": "flexible-habitat",
   "metadata": {},
   "outputs": [],
   "source": []
  },
  {
   "cell_type": "code",
   "execution_count": null,
   "id": "covered-sheet",
   "metadata": {},
   "outputs": [],
   "source": []
  },
  {
   "cell_type": "code",
   "execution_count": null,
   "id": "experimental-drinking",
   "metadata": {},
   "outputs": [],
   "source": []
  }
 ],
 "metadata": {
  "kernelspec": {
   "display_name": "Py 3.7 HN sparql",
   "language": "python",
   "name": "py37_hn_sparql"
  },
  "language_info": {
   "codemirror_mode": {
    "name": "ipython",
    "version": 3
   },
   "file_extension": ".py",
   "mimetype": "text/x-python",
   "name": "python",
   "nbconvert_exporter": "python",
   "pygments_lexer": "ipython3",
   "version": "3.7.10"
  }
 },
 "nbformat": 4,
 "nbformat_minor": 5
}
